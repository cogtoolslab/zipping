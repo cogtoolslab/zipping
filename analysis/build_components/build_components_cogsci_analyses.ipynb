{
 "cells": [
  {
   "cell_type": "markdown",
   "id": "47ccd73a",
   "metadata": {},
   "source": [
    "# Analysis for Build Components, CogSci 2024"
   ]
  },
  {
   "cell_type": "code",
   "execution_count": null,
   "id": "eb66b8e5",
   "metadata": {},
   "outputs": [],
   "source": [
    "import os\n",
    "import sys\n",
    "import urllib, io\n",
    "import pickle\n",
    "\n",
    "import random\n",
    "import numpy as np\n",
    "import scipy.stats as stats\n",
    "import pandas as pd\n",
    "from sklearn.metrics import euclidean_distances, jaccard_score, pairwise_distances, f1_score\n",
    "\n",
    "import pymongo as pm\n",
    "from collections import Counter\n",
    "import json\n",
    "import re\n",
    "import ast\n",
    "\n",
    "from PIL import Image, ImageOps, ImageDraw, ImageFont \n",
    "from IPython.core.display import HTML \n",
    "\n",
    "from io import BytesIO\n",
    "import base64\n",
    "import requests\n",
    "\n",
    "import  matplotlib\n",
    "from matplotlib import pylab, mlab, pyplot\n",
    "%matplotlib inline\n",
    "from IPython.core.pylabtools import figsize, getfigs\n",
    "plt = pyplot\n",
    "import matplotlib as mpl\n",
    "mpl.rcParams['pdf.fonttype'] = 42\n",
    "from matplotlib.colors import ListedColormap\n",
    "\n",
    "import seaborn as sns\n",
    "sns.set_context('talk')\n",
    "sns.set_style('darkgrid')\n",
    "\n",
    "from IPython.display import clear_output\n",
    "\n",
    "import warnings\n",
    "warnings.filterwarnings(\"ignore\", category=DeprecationWarning)\n",
    "warnings.filterwarnings(\"ignore\", message=\"numpy.dtype size changed\")\n",
    "warnings.filterwarnings(\"ignore\", message=\"numpy.ufunc size changed\")\n",
    "\n",
    "sys.path.append(\"../../stimuli/block_utils/\")\n",
    "import blockworld_utils as utils\n",
    "import domino_settings as dominoes\n",
    "import domino_settings_monochrome as mono_dominoes\n",
    "\n",
    "import importlib\n"
   ]
  },
  {
   "cell_type": "code",
   "execution_count": 2,
   "id": "4ff2f926",
   "metadata": {},
   "outputs": [],
   "source": [
    "experiment_name = 'build_components/cogsci24'\n",
    "\n",
    "## directory & file hierarchy\n",
    "proj_dir = os.path.abspath('../..')\n",
    "datavol_dir = os.path.join(proj_dir,'data')\n",
    "analysis_dir = os.path.abspath(os.path.join(os.getcwd(),'..'))\n",
    "results_dir = os.path.join(proj_dir,'results')\n",
    "\n",
    "# paths specific to this experiment\n",
    "experiment_results_dir = os.path.join(results_dir, experiment_name)\n",
    "plot_dir = os.path.join(experiment_results_dir,'plots/')\n",
    "# csv_dir = os.path.join(experiment_results_dir,'csv')\n",
    "\n",
    "## add helpers to python path\n",
    "if os.path.join(proj_dir,'stimuli') not in sys.path:\n",
    "    sys.path.append(os.path.join(proj_dir,'stimuli'))\n",
    "    \n",
    "# if not os.path.exists(results_dir):\n",
    "#     os.makedirs(results_dir)\n",
    "    \n",
    "# if not os.path.exists(plot_dir):\n",
    "#     os.makedirs(plot_dir)   \n",
    "    \n",
    "# if not os.path.exists(csv_dir):\n",
    "#     os.makedirs(csv_dir)       "
   ]
  },
  {
   "cell_type": "markdown",
   "id": "d069309a",
   "metadata": {},
   "source": [
    "## utils"
   ]
  },
  {
   "cell_type": "code",
   "execution_count": 3,
   "id": "f8952ea6",
   "metadata": {},
   "outputs": [],
   "source": [
    "def parallel_bootstrap(df, \n",
    "                        bootstrap_column = 'gameID',\n",
    "                        condition_column = 'condition',\n",
    "                        value_columns = ['response_correct'],\n",
    "                        n_iter = 1000,\n",
    "                        seed = 0,\n",
    "                        stat = np.mean):\n",
    "    '''\n",
    "    Bootstrap a distribution of means values for a given statistic while \n",
    "    keeping values of the bootstrapped column consistent across sample distributions.\n",
    "    This can be used to e.g. sample the same participants in each iteration number.\n",
    "    '''\n",
    "\n",
    "    random.seed(seed)\n",
    "    \n",
    "    dists = {}\n",
    "    empirical_stat = {}\n",
    "\n",
    "    if condition_column != None:\n",
    "        conditions = df[condition_column].unique()\n",
    "    else:\n",
    "        conditions = None\n",
    "\n",
    "    grouped = df.groupby([bootstrap_column] + [condition_column])\n",
    "    groups = df[bootstrap_column].unique()\n",
    "    n_groups = df[bootstrap_column].nunique()\n",
    "\n",
    "    grouped_stat = grouped[value_columns].apply(stat) \n",
    "\n",
    "    for condition in conditions:\n",
    "        dists[condition] = []\n",
    "        empirical_stat[condition] = np.mean(grouped_stat.loc[[(group, condition) for group in groups]])\n",
    "        \n",
    "\n",
    "    for i in range(n_iter):\n",
    "\n",
    "        sample = random.choices(groups, k=n_groups)\n",
    "\n",
    "        for condition in conditions:\n",
    "            sample_values = grouped_stat.loc[[(group, condition) for group in sample]]\n",
    "            sample_mean = np.mean(sample_values)\n",
    "            dists[condition].append(sample_mean)\n",
    "\n",
    "    \n",
    "    return dists, empirical_stat\n",
    "\n",
    "def bootstrap(df, bootstrap_column = 'gameID', condition_columns = ['condition'], value_columns = ['response'], n_iter = 1000, stat = np.mean):\n",
    "    '''\n",
    "    Bootstrap a distribution of means values for a given statistic.\n",
    "    '''\n",
    "    \n",
    "    aggregate_values = [] # list of means of statistic for each sample\n",
    "\n",
    "\n",
    "    df_build_dists_baseline_all = pd.DataFrame()\n",
    "    grouped = df.groupby([bootstrap_column] + condition_columns)\n",
    "    groups = df[bootstrap_column].unique()\n",
    "    grouped_stat = grouped[value_columns].apply(stat) # apply statistic to each group \n",
    "\n",
    "    for i in range(n_iter):\n",
    "        # sample groups to get list of statistics\n",
    "        sample = grouped_stat.sample(n=grouped.ngroups, replace=True).reset_index(drop=True)\n",
    "        \n",
    "        aggregate_values.append(np.mean(sample))\n",
    "    \n",
    "    return aggregate_values\n",
    "\n",
    "def bootstrapped_ci(data, conf_level=0.95):\n",
    "    lower_bound = np.percentile(data, 100*(1-conf_level)/2)\n",
    "    upper_bound = np.percentile(data, 100-100*(1-conf_level)/2)\n",
    "    return lower_bound, upper_bound\n",
    "\n",
    "def print_result(dist, empirical, conf_level=0.95):\n",
    "    ci = bootstrapped_ci(dist, conf_level=conf_level)\n",
    "    print('(${:.3g},\\ 95\\%\\ CI: [{:.3g},\\ {:.3g}]$)'.format(empirical, *ci))\n",
    "    \n",
    "\n",
    "def p_val(dist1, dist2):\n",
    "    \n",
    "    assert(len(dist1) == len(dist2))\n",
    "    \n",
    "    p = sum(np.array(dist1) < np.array(dist2)) / len(dist1)\n",
    "    \n",
    "    return p\n",
    "\n",
    "\n",
    "def ci_errorbar_values(dists, mean_dict, order = ['foil','build','view']):\n",
    "    \n",
    "    ci_lower = []\n",
    "    ci_upper = []\n",
    "    means = []\n",
    "    \n",
    "    for condition in order:\n",
    "        ci = bootstrapped_ci(dists[condition])\n",
    "        ci_lower.append(ci[0])\n",
    "        ci_upper.append(ci[1])\n",
    "    \n",
    "    means = [mean_dict[condition] for condition in order]\n",
    "    \n",
    "    ci_error = [[mean - lower for mean, lower in zip(means, ci_lower)],\n",
    "                [upper - mean for mean, upper in zip(means, ci_upper)]]\n",
    "    \n",
    "    \n",
    "    return {'means': means, 'error_diffs' : ci_error}\n",
    "\n",
    "\n",
    "# Calculate 95% CI for each group\n",
    "def create_ci(data, conf_level=0.95):\n",
    "    mean = np.mean(data)\n",
    "    sem = stats.sem(data)\n",
    "    ci = sem * stats.t.ppf((1 + conf_level) / 2, len(data) - 1)\n",
    "    \n",
    "#     print('[{:.3g}, {:.3g}]'.format(mean - ci, mean + ci))\n",
    "    \n",
    "    return mean - ci, mean + ci"
   ]
  },
  {
   "cell_type": "code",
   "execution_count": 4,
   "id": "c7bba2b7",
   "metadata": {},
   "outputs": [],
   "source": [
    "### Extra block utils\n",
    "\n",
    "def get_block_map(blocks):\n",
    "    return utils.worldify(ast.literal_eval(blocks)).block_map[2:,0:4]\n",
    "\n",
    "def mean_tower(group):\n",
    "    return np.mean(group['square_map'])"
   ]
  },
  {
   "cell_type": "code",
   "execution_count": 274,
   "id": "3076b7a9",
   "metadata": {},
   "outputs": [],
   "source": [
    "sns.set_style('whitegrid', {'font.family':'sans-serif', 'font.sans-serif':'Avenir'})\n",
    "import poster_plot_settings\n",
    "from poster_plot_settings import palette\n",
    "\n",
    "bar_width = 0.8\n",
    "plt.rcParams[\"font.size\"] = 12\n",
    "plt.rcParams[\"figure.figsize\"] = (4, 6)  # Width, Height in inches"
   ]
  },
  {
   "cell_type": "code",
   "execution_count": 6,
   "id": "d62670fe",
   "metadata": {},
   "outputs": [],
   "source": [
    "# import stim dataframes\n",
    "df_towers = pd.read_csv('../../stimuli/block_utils/ambiguous/ambiguous_composite_towers.csv')\n",
    "df_towers['tower_id'] = df_towers.tower_id_tall"
   ]
  },
  {
   "cell_type": "code",
   "execution_count": 7,
   "id": "0aaec000",
   "metadata": {},
   "outputs": [],
   "source": [
    "condition_order = ['foil','build','view']"
   ]
  },
  {
   "cell_type": "markdown",
   "id": "bb1f9ae4",
   "metadata": {},
   "source": [
    "# Experiment 1: Recognition"
   ]
  },
  {
   "cell_type": "code",
   "execution_count": 275,
   "id": "0d9144b2",
   "metadata": {},
   "outputs": [],
   "source": [
    "# which iteration name should we use?\n",
    "\n",
    "iteration_name = 'build_components_pilot_2'\n",
    "\n",
    "recog_results_dir = results_dir + '/recognition'\n",
    "\n",
    "### Load csvs from dataframe generator\n",
    "\n",
    "df_trial = pd.read_csv(recog_results_dir + '/csv/df_trial_{}.csv'.format(iteration_name))\n",
    "\n",
    "df_recog = df_trial[df_trial.trial_type == \"block-tower-old-new\"].reset_index().drop(columns=['index', 'Unnamed: 0'])\n",
    "\n",
    "df_encode = df_trial[~(df_trial.trial_type == \"block-tower-old-new\")].reset_index().drop(columns=['index', 'Unnamed: 0'])\n",
    "\n",
    "df_blocks = pd.read_csv(recog_results_dir + '/csv/df_blocks_{}.csv'.format(iteration_name))"
   ]
  },
  {
   "cell_type": "code",
   "execution_count": 276,
   "id": "cc51d03d",
   "metadata": {},
   "outputs": [],
   "source": [
    "df_recog = df_recog.merge(df_towers[['tower_id','stim_wide']], on = 'tower_id')\n",
    "df_recog['square_map'] = df_recog['stim_wide'].apply(lambda x: get_block_map(x))"
   ]
  },
  {
   "cell_type": "markdown",
   "id": "274520a6",
   "metadata": {},
   "source": [
    "### add columns"
   ]
  },
  {
   "cell_type": "code",
   "execution_count": 277,
   "id": "53dd13b1",
   "metadata": {},
   "outputs": [],
   "source": [
    "df_recog['novelty'] = ['new' if condition == 'foil' else 'old' for condition in df_recog.condition]"
   ]
  },
  {
   "cell_type": "code",
   "execution_count": 278,
   "id": "4052491f",
   "metadata": {},
   "outputs": [
    {
     "data": {
      "text/plain": [
       "True"
      ]
     },
     "execution_count": 278,
     "metadata": {},
     "output_type": "execute_result"
    }
   ],
   "source": [
    "# double check accuracy calculations\n",
    "df_recog['response_correct_recalc'] = ((df_recog.response_meaning == 'new') & (df_recog.condition == 'foil')) | \\\n",
    "                                       ((df_recog.response_meaning == 'old') & (df_recog.condition != 'foil'))\n",
    "\n",
    "df_recog['response_correct_recalc'].equals(df_recog['response_correct'].astype(bool))"
   ]
  },
  {
   "cell_type": "code",
   "execution_count": 279,
   "id": "e4ee8587",
   "metadata": {},
   "outputs": [],
   "source": [
    "df_recog['responded_old'] = df_recog.response_meaning.apply(lambda x: 1 if x=='old' else 0)"
   ]
  },
  {
   "cell_type": "code",
   "execution_count": 280,
   "id": "503a0ecf",
   "metadata": {},
   "outputs": [],
   "source": [
    "# Export for stats\n",
    "save = False\n",
    "\n",
    "if save:\n",
    "    filename = '../../../results/recognition/csv/df_recog_vss.csv'\n",
    "    df_recog.to_csv(filename)\n",
    "    print(filename)"
   ]
  },
  {
   "cell_type": "markdown",
   "id": "88f9fe43",
   "metadata": {},
   "source": [
    "### response/ recognition accuracy"
   ]
  },
  {
   "cell_type": "code",
   "execution_count": 281,
   "id": "2bbdbfce",
   "metadata": {},
   "outputs": [],
   "source": [
    "# bootstrap distributions of mean response\n",
    "# keeping participants' data together (i.e. sampled ppt n is the same across all distributions)\n",
    "response_dists, response_means = parallel_bootstrap(df_recog, \n",
    "                    bootstrap_column = 'gameID',\n",
    "                    condition_column = 'condition',\n",
    "                    value_columns = ['responded_old'],\n",
    "                    n_iter = 1000,\n",
    "                    stat = np.mean)"
   ]
  },
  {
   "cell_type": "code",
   "execution_count": 282,
   "id": "aa1141e5",
   "metadata": {},
   "outputs": [
    {
     "name": "stdout",
     "output_type": "stream",
     "text": [
      "foil ($0.33,\\ 95\\%\\ CI: [0.283,\\ 0.377]$)\n",
      "build ($0.59,\\ 95\\%\\ CI: [0.527,\\ 0.653]$)\n",
      "view ($0.743,\\ 95\\%\\ CI: [0.683,\\ 0.793]$)\n",
      "0.0\n",
      "0.0\n",
      "0.0\n"
     ]
    }
   ],
   "source": [
    "print('foil (${:.3g},\\ 95\\%\\ CI: [{:.3g},\\ {:.3g}]$)'.format(response_means['foil'], *bootstrapped_ci(response_dists['foil'])))\n",
    "print('build (${:.3g},\\ 95\\%\\ CI: [{:.3g},\\ {:.3g}]$)'.format(response_means['build'], *bootstrapped_ci(response_dists['build'])))\n",
    "print('view (${:.3g},\\ 95\\%\\ CI: [{:.3g},\\ {:.3g}]$)'.format(response_means['view'], *bootstrapped_ci(response_dists['view'])))\n",
    "\n",
    "\n",
    "# p_val(dists['view'], dists['build'])\n",
    "\n",
    "print(p_val(response_dists['view'], response_dists['build']))\n",
    "print(p_val(response_dists['build'], response_dists['foil']))\n",
    "print(p_val(response_dists['view'], response_dists['foil']))"
   ]
  },
  {
   "cell_type": "code",
   "execution_count": null,
   "id": "b72d35c5",
   "metadata": {
    "scrolled": true
   },
   "outputs": [],
   "source": []
  },
  {
   "cell_type": "code",
   "execution_count": 420,
   "id": "e7cbb50f",
   "metadata": {
    "scrolled": false
   },
   "outputs": [
    {
     "data": {
      "image/png": "[encoded data removed]",
      "text/plain": [
       "<Figure size 400x600 with 1 Axes>"
      ]
     },
     "metadata": {},
     "output_type": "display_data"
    }
   ],
   "source": [
    "fig = plt.figure()\n",
    "\n",
    "sns.barplot(data = df_recog, \n",
    "            y = \"responded_old\", \n",
    "            order = condition_order,\n",
    "            hue = \"condition\",\n",
    "            x = \"condition\",\n",
    "            errorbar=None,\n",
    "#             yerr = ci_error,\n",
    "            palette=palette)\n",
    "\n",
    "cis = ci_errorbar_values(response_dists, \n",
    "                         response_means, \n",
    "                         order = condition_order)\n",
    "\n",
    "plt.errorbar(y = cis['means'], \n",
    "             x = [0,1,2], \n",
    "             yerr= cis['error_diffs'],\n",
    "             ecolor = '#444444',\n",
    "             fmt='none')\n",
    "\n",
    "plt.ylim((0,1))\n",
    "plt.axhline(0.5, color = 'gray', linestyle = '--',)\n",
    "plt.ylabel('responded old')\n",
    "plt.xlabel('')\n",
    "\n",
    "\n",
    "for spine in fig.gca().spines.values():\n",
    "    spine.set_zorder(1)\n",
    "    spine.set_color('black')\n",
    "    \n",
    "plt.savefig(plot_dir + 'recog_response.pdf', bbox_inches='tight')\n",
    "\n",
    "# plt.show()"
   ]
  },
  {
   "cell_type": "markdown",
   "id": "ea36b4c2",
   "metadata": {},
   "source": [
    "#### old vs. new stimuli"
   ]
  },
  {
   "cell_type": "code",
   "execution_count": 284,
   "id": "a738956a",
   "metadata": {},
   "outputs": [
    {
     "name": "stdout",
     "output_type": "stream",
     "text": [
      "old ($0.667,\\ 95\\%\\ CI: [0.62,\\ 0.708]$)\n",
      "new ($0.33,\\ 95\\%\\ CI: [0.283,\\ 0.377]$)\n",
      "0.0\n"
     ]
    }
   ],
   "source": [
    "# bootstrap keeping participants' data together (i.e. sampled ppt n is the same across all distributions)\n",
    "response_dists_novelty, response_means_novelty = parallel_bootstrap(df_recog, \n",
    "                    bootstrap_column = 'gameID',\n",
    "                    condition_column = 'novelty',\n",
    "                    value_columns = ['responded_old'],\n",
    "                    n_iter = 1000,\n",
    "                    stat = np.mean)\n",
    "\n",
    "print('old (${:.3g},\\ 95\\%\\ CI: [{:.3g},\\ {:.3g}]$)'.format(response_means_novelty['old'], *bootstrapped_ci(response_dists_novelty['old'])))\n",
    "print('new (${:.3g},\\ 95\\%\\ CI: [{:.3g},\\ {:.3g}]$)'.format(response_means_novelty['new'], *bootstrapped_ci(response_dists_novelty['new'])))\n",
    "print(p_val(response_dists_novelty['old'], response_dists_novelty['new']))"
   ]
  },
  {
   "cell_type": "code",
   "execution_count": null,
   "id": "b5c271ad",
   "metadata": {},
   "outputs": [],
   "source": []
  },
  {
   "cell_type": "code",
   "execution_count": null,
   "id": "ee148c46",
   "metadata": {},
   "outputs": [],
   "source": []
  },
  {
   "cell_type": "code",
   "execution_count": null,
   "id": "6f5dfa45",
   "metadata": {},
   "outputs": [],
   "source": []
  },
  {
   "cell_type": "markdown",
   "id": "e541e357",
   "metadata": {},
   "source": [
    "### Encoding"
   ]
  },
  {
   "cell_type": "code",
   "execution_count": 285,
   "id": "4b560370",
   "metadata": {},
   "outputs": [
    {
     "name": "stdout",
     "output_type": "stream",
     "text": [
      "($61.1,\\ 95\\%\\ CI: [53.5,\\ 69.2]$)\n"
     ]
    }
   ],
   "source": [
    "# build time\n",
    "df_encode.loc[:,'relative_time_s'] = df_encode.relative_time / 1000\n",
    "\n",
    "time_dist, mean_time =  parallel_bootstrap(df_encode[df_encode.condition == 'build'],\n",
    "                                           condition_column='condition',\n",
    "                                           value_columns=['relative_time_s']\n",
    "                                          )\n",
    "\n",
    "print_result(time_dist['build'], mean_time['build'])"
   ]
  },
  {
   "cell_type": "markdown",
   "id": "1d5b43c0",
   "metadata": {},
   "source": [
    "# Experiment 2: Recall\n",
    "\n",
    "Some dataframe names are shared with previous section. Run entire section at a time."
   ]
  },
  {
   "cell_type": "code",
   "execution_count": 286,
   "id": "b78574e6",
   "metadata": {},
   "outputs": [],
   "source": [
    "iteration_name = 'build_components_build_recall_prolific_pilot_6_towers_2_rep'\n",
    "\n",
    "\n",
    "recall_results_dir = results_dir + '/recall'\n",
    "\n",
    "df_encode = pd.read_csv(recall_results_dir + '/df_learn_{}.csv'.format(iteration_name))\n",
    "df_trial = pd.read_csv(recall_results_dir + '/df_trial_{}.csv'.format(iteration_name))\n",
    "df_recall_trial = pd.read_csv(recall_results_dir + '/df_recall_trial_{}.csv'.format(iteration_name))\n",
    "df_recalled_towers = pd.read_csv(recall_results_dir + '/df_recalled_towers_{}.csv'.format(iteration_name))\n",
    "df_blocks = pd.read_csv(recall_results_dir + '/df_blocks_{}.csv'.format(iteration_name))"
   ]
  },
  {
   "cell_type": "code",
   "execution_count": 287,
   "id": "46b0ecf4",
   "metadata": {},
   "outputs": [],
   "source": [
    "df_encode = df_encode.merge(df_towers[['tower_id','stim_wide']], how='left', on = 'tower_id')\n",
    "df_encode['square_map'] = df_encode['stim_wide'].apply(lambda x: get_block_map(x))"
   ]
  },
  {
   "cell_type": "code",
   "execution_count": 288,
   "id": "0e3c51d3",
   "metadata": {},
   "outputs": [],
   "source": [
    "df_recalled_towers['tower_details'] = df_recalled_towers.towerDetails.apply(ast.literal_eval)\n",
    "df_recalled_towers['alignedTowerBlocks'] = df_recalled_towers.alignedTowerBlocks.apply(ast.literal_eval)\n",
    "df_encode['stimulus'] = df_encode.stimulus.apply(ast.literal_eval)"
   ]
  },
  {
   "cell_type": "code",
   "execution_count": 289,
   "id": "5de420d2",
   "metadata": {},
   "outputs": [
    {
     "name": "stdout",
     "output_type": "stream",
     "text": [
      "removed 7 duplicate towers\n"
     ]
    }
   ],
   "source": [
    "# remove duplicate towers\n",
    "\n",
    "# find block map aligned to left\n",
    "df_recalled_towers['alignedBlockMaps'] = \\\n",
    "    df_recalled_towers['alignedTowerBlocks'].apply(lambda x: utils.worldify(x, \n",
    "                                                                            world_width = 10,\n",
    "                                                                            world_height = 12).block_map)\n",
    "\n",
    "# make hashable\n",
    "df_recalled_towers['alignedBlockMapsHashable'] = df_recalled_towers['alignedBlockMaps'].apply\\\n",
    "                                                    (lambda block_map: tuple(tuple(row) for row in block_map))\n",
    "\n",
    "# consider towers the same if their corresponding block maps are identical\n",
    "df_recalled_towers_unique = df_recalled_towers.sort_values(['nTower']).groupby(['gameID', 'alignedBlockMapsHashable']).first().reset_index()\n",
    "\n",
    "print(\"removed {} duplicate towers\".format(len(df_recalled_towers) - len(df_recalled_towers_unique)))"
   ]
  },
  {
   "cell_type": "code",
   "execution_count": 290,
   "id": "95cf05d7",
   "metadata": {},
   "outputs": [
    {
     "name": "stdout",
     "output_type": "stream",
     "text": [
      "widest recalled tower is of width 7\n",
      "world for calculating max f1 score must 11 wide\n"
     ]
    }
   ],
   "source": [
    "def tower_width(block_map):\n",
    "    index = np.argmax(np.where(block_map.sum(0) > 0))\n",
    "    width = index + 1 # a little hacky- but should be fine\n",
    "    return width\n",
    "\n",
    "max_recall_width = df_recalled_towers_unique['alignedBlockMaps'].apply(tower_width).max()\n",
    "stim_width = 4\n",
    "\n",
    "print('widest recalled tower is of width ' + str(max_recall_width))\n",
    "print('world for calculating max f1 score must {} wide'.format(str(max_recall_width + stim_width)))"
   ]
  },
  {
   "cell_type": "code",
   "execution_count": 291,
   "id": "26cb0096",
   "metadata": {},
   "outputs": [
    {
     "name": "stdout",
     "output_type": "stream",
     "text": [
      "tallest recalled tower is of height 8\n",
      "world for calculating max f1 score must 14 wide\n"
     ]
    }
   ],
   "source": [
    "def tower_height(block_map):\n",
    "    index = np.argmax(np.where(block_map.sum(1) > 0))\n",
    "    height = index + 1\n",
    "#     height = index + 1 # a little hacky- but should be fine\n",
    "    return height\n",
    "\n",
    "max_recall_height = df_recalled_towers_unique['alignedBlockMaps'].apply(tower_height).max()\n",
    "stim_height = 6\n",
    "\n",
    "print('tallest recalled tower is of height ' + str(max_recall_height))\n",
    "print('world for calculating max f1 score must {} wide'.format(str(max_recall_height + stim_height)))"
   ]
  },
  {
   "cell_type": "code",
   "execution_count": 292,
   "id": "e8e1b5a7",
   "metadata": {},
   "outputs": [],
   "source": [
    "df_encode['alignedBlockMaps'] = df_encode['stimulus'].apply(lambda x: utils.worldify(x['blocks'], \n",
    "                                                   world_width = 10,\n",
    "                                                   world_height = 12).block_map)\n",
    "\n",
    "df_encode['alignedBlockMapsHashable'] = df_encode['alignedBlockMaps'].apply\\\n",
    "                                                    (lambda block_map: tuple(tuple(row) for row in block_map))"
   ]
  },
  {
   "cell_type": "code",
   "execution_count": 293,
   "id": "fbbd67f1",
   "metadata": {},
   "outputs": [],
   "source": [
    "def pad_array(arr, n_col, side=\"left\"):\n",
    "    # Number of rows in the array\n",
    "    n_rows = arr.shape[0]\n",
    "\n",
    "    # Create a column of 0s with the same number of rows\n",
    "    zeros_column = np.zeros((n_rows, n_col))\n",
    "\n",
    "    # Add the column of 0s to the right side of the array\n",
    "    if side ==\"left\":\n",
    "        new_arr = np.hstack((zeros_column, arr))\n",
    "    elif side ==\"right\":\n",
    "        new_arr = np.hstack((arr, zeros_column))\n",
    "    else:\n",
    "        raise(Exception)\n",
    "\n",
    "    return new_arr\n"
   ]
  },
  {
   "cell_type": "code",
   "execution_count": 294,
   "id": "8caea194",
   "metadata": {},
   "outputs": [],
   "source": [
    "# add padding to left (max width of recall)\n",
    "df_encode['paddedBlockMaps'] = df_encode['alignedBlockMaps'].apply(lambda x: pad_array(x, max_recall_width))\n",
    "\n",
    "# add padding to right (gap )\n",
    "right_padding = max(0, max_recall_width-6)\n",
    "df_encode['paddedBlockMaps'] = df_encode['paddedBlockMaps'].apply(lambda x: pad_array(x, right_padding, side=\"right\"))\n",
    "\n",
    "df_recalled_towers_unique['paddedBlockMaps'] = df_recalled_towers_unique['alignedBlockMaps'].apply\\\n",
    "                                                (lambda x: pad_array(x, max_recall_width + right_padding, side=\"right\"))"
   ]
  },
  {
   "cell_type": "code",
   "execution_count": 295,
   "id": "880d1b2b",
   "metadata": {},
   "outputs": [],
   "source": [
    "def translate_tower(arr, dx, dy, fill_value = 0):\n",
    "    \"\"\"\n",
    "    Translate a 2D NumPy array along the x and y axes.\n",
    "\n",
    "    Args:\n",
    "        arr (numpy.ndarray): 2D NumPy array.\n",
    "        dx (int): Number of positions to translate along the x-axis.\n",
    "        dy (int): Number of positions to translate along the y-axis.\n",
    "\n",
    "    Returns:\n",
    "        numpy.ndarray: Translated 2D NumPy array.\n",
    "    \"\"\"\n",
    "    rows, cols = arr.shape\n",
    "    translated_arr = np.full((rows, cols), fill_value)\n",
    "\n",
    "    x_start = max(0, dx)\n",
    "    x_end = cols + min(0, dx)\n",
    "    y_start = max(0, dy)\n",
    "    y_end = rows + min(0, dy)\n",
    "\n",
    "    src_x_start = max(0, -dx)\n",
    "    src_x_end = cols + min(0, -dx)\n",
    "    src_y_start = max(0, -dy)\n",
    "    src_y_end = rows + min(0, -dy)\n",
    "\n",
    "    translated_arr[y_start:y_end, x_start:x_end] = arr[src_y_start:src_y_end, src_x_start:src_x_end]\n",
    "\n",
    "    return translated_arr"
   ]
  },
  {
   "cell_type": "code",
   "execution_count": 296,
   "id": "02c1e6a3",
   "metadata": {},
   "outputs": [],
   "source": [
    "def f1(arr1, arr2):\n",
    "    assert arr1.shape == arr2.shape, \"The input arrays must have the same shape\"\n",
    "    return f1_score(arr1.ravel(), arr2.ravel())\n",
    "\n",
    "def iou(arr1, arr2):\n",
    "    assert arr1.shape == arr2.shape, \"The input arrays must have the same shape\"\n",
    "    return jaccard_score(arr1.ravel(), arr2.ravel())\n",
    "\n",
    "\n",
    "def best_score(target_tower, recalled_tower, scoring_fn = iou, render = False):\n",
    "    '''\n",
    "    Holds target_tower still, and tiles recalled_tower to find the best alignment that maximizes measure.\n",
    "    Args:\n",
    "        target_tower and recalled_tower: two arrays of equal dimensions\n",
    "    \n",
    "    Returns:\n",
    "        maximum f1 score\n",
    "    '''\n",
    "    \n",
    "    assert(np.array_equal(target_tower.shape, recalled_tower.shape))\n",
    "    \n",
    "    max_score = 0\n",
    "    best_transformed = None\n",
    "    overlay_map = None\n",
    "    best_dx, best_dy = None, None\n",
    "    \n",
    "    dy = 0 # only allows dx translation right now\n",
    "    \n",
    "    for dx in range(0, target_tower.shape[0]):\n",
    "        transformed_arr = translate_tower(recalled_tower, dx, dy)\n",
    "        score = scoring_fn(target_tower, transformed_arr)\n",
    "        if score > max_score:\n",
    "                max_score = score\n",
    "                best_transformed = transformed_arr\n",
    "                overlay_map = transformed_arr + target_tower*3\n",
    "                best_dx, best_dy = dx, dy\n",
    "\n",
    "    if render:\n",
    "        fig = plt.figure()\n",
    "        plt.imshow(overlay_map, cmap='inferno')\n",
    "        fig.gca().axis('off')\n",
    "\n",
    "                \n",
    "    return max_score, best_transformed, (best_dx, best_dy)\n",
    "\n",
    "\n",
    "def get_score_matrix(targets, recalls, distance_measure=best_score, render = False):\n",
    "    '''\n",
    "    Returns distance matrix between \n",
    "    '''\n",
    "\n",
    "    scores = targets.apply(lambda target: \n",
    "                recalls.apply(lambda recall: \n",
    "                    distance_measure(target['paddedBlockMaps'], recall['paddedBlockMaps'], render=render)[0], # just get score\n",
    "                    axis=1),\n",
    "                axis=1)\n",
    "\n",
    "    return scores\n",
    "\n",
    "def get_aligned_reconstructions(targets, recalls, distance_measure=best_score, render = False):\n",
    "    '''\n",
    "    Returns block maps of reconstructions aligned to stims\n",
    "    '''\n",
    "\n",
    "    scores = targets.apply(lambda target: \n",
    "                recalls.apply(lambda recall: \n",
    "                    distance_measure(target['paddedBlockMaps'], recall['paddedBlockMaps'], render=render)[1], # just get score\n",
    "                    axis=1),\n",
    "                axis=1)\n",
    "\n",
    "    return scores\n",
    "\n",
    "from scipy.optimize import linear_sum_assignment\n",
    "\n",
    "def maximal_mapping(distance_matrix):\n",
    "    '''\n",
    "    Takes a distance matrix and returns the assignment that maximizes the total score\n",
    "    '''\n",
    "    # returns a list, as long as the amount of columns, with each containing a row index\n",
    "    # i.e. this will find the mapping of columns (recalls) to rows (targets), though not every row need be assigned to a target\n",
    "    row_ind, col_ind = linear_sum_assignment(distance_matrix, maximize=True)\n",
    "#     sorted_matrix = distance_matrix[:, optimal_assignment]\n",
    "    return row_ind, col_ind\n",
    "\n",
    "# hack to store arrays as elements\n",
    "class AlignedBlockMap:\n",
    "    def __init__(self, arr):\n",
    "        self.arr = arr"
   ]
  },
  {
   "cell_type": "code",
   "execution_count": 297,
   "id": "ab8eb759",
   "metadata": {},
   "outputs": [],
   "source": [
    "df_recalled_towers_unique['bestMatch'] = 'unassigned'\n",
    "df_recalled_towers_unique['bestMatchScore'] = np.NaN\n",
    "df_recalled_towers_unique['bestMatchCondition'] = 'unassigned'\n",
    "df_recalled_towers_unique['bestMatchAlignment'] = 'unassigned'\n",
    "\n",
    "# df_recalled_towers_unique['bestMatchAlignment'] = df_recalled_towers_unique['bestMatchAlignment'].astype(object)"
   ]
  },
  {
   "cell_type": "code",
   "execution_count": 298,
   "id": "f3fd81c8",
   "metadata": {
    "scrolled": false
   },
   "outputs": [],
   "source": [
    "gameIDs = df_encode.gameID.unique()\n",
    "\n",
    "# for each participant\n",
    "for gameID in gameIDs:\n",
    "    \n",
    "    # find stimuli\n",
    "    df_ppt_learn = df_encode[(df_encode.gameID == gameID)].groupby('tower_id').first()\n",
    "    \n",
    "    assert(len(df_ppt_learn) == 6)\n",
    "    \n",
    "    # find recalled towers\n",
    "    df_ppt_recall = df_recalled_towers_unique[df_recalled_towers_unique.gameID == gameID].groupby(\"nTower\").first()\n",
    "    \n",
    "    ppt_scores = get_score_matrix(df_ppt_learn, df_ppt_recall)\n",
    "    ppt_maps = get_aligned_reconstructions(df_ppt_learn, df_ppt_recall)\n",
    "    \n",
    "    # calculate optimal assignment\n",
    "    row_ind, col_ind = maximal_mapping(ppt_scores)\n",
    "    \n",
    "    assignment_dict = dict(zip(df_ppt_recall.index[col_ind], ppt_scores.index[row_ind]))\n",
    "    \n",
    "    for i, (nTower, towerID) in enumerate(assignment_dict.items()):\n",
    "        df_recalled_towers_unique.loc[(df_recalled_towers_unique.gameID==gameID) & \n",
    "                                  (df_recalled_towers_unique.nTower==int(nTower)),'bestMatch'] = towerID\n",
    "        \n",
    "        df_recalled_towers_unique.loc[(df_recalled_towers_unique.gameID==gameID) & \n",
    "                                  (df_recalled_towers_unique.nTower==int(nTower)),'bestMatchScore'] = \\\n",
    "                        ppt_scores.loc[towerID,nTower]\n",
    "        \n",
    "        df_recalled_towers_unique.loc[(df_recalled_towers_unique.gameID==gameID) & \n",
    "                                  (df_recalled_towers_unique.nTower==int(nTower)),'bestMatchAlignment'] =\\\n",
    "                        AlignedBlockMap(ppt_maps.loc[towerID, nTower])\n",
    "\n",
    "        df_recalled_towers_unique.loc[(df_recalled_towers_unique.gameID==gameID) & \n",
    "                                  (df_recalled_towers_unique.nTower==int(nTower)),'bestMatchCondition'] = \\\n",
    "                        df_ppt_learn.loc[towerID,'condition']\n",
    "    "
   ]
  },
  {
   "cell_type": "code",
   "execution_count": 299,
   "id": "1cee0fbf",
   "metadata": {},
   "outputs": [],
   "source": [
    "df_recalled_towers_unique['bestMatchAlignment'] = df_recalled_towers_unique['bestMatchAlignment'].apply(lambda x: x.arr)"
   ]
  },
  {
   "cell_type": "code",
   "execution_count": 300,
   "id": "8bad0edf",
   "metadata": {},
   "outputs": [],
   "source": [
    "def showDiscreteMap(row, ax, vmax=None, **kwargs):\n",
    "#     world_maps = df.apply(lambda row: row)\n",
    "    n = row.shape[0]\n",
    "    av_map = np.add.reduce(np.array(row))/n\n",
    "#     av_map = np.add.reduce(np.array(row))\n",
    "#     av_map = np.rot90(av_map)/n\n",
    "    if ~(vmax==None):\n",
    "        ax.imshow(av_map, \n",
    "                  vmax= vmax,\n",
    "                **kwargs)\n",
    "    else:\n",
    "        ax.imshow(av_map,\n",
    "                **kwargs)"
   ]
  },
  {
   "cell_type": "code",
   "execution_count": 301,
   "id": "be2877d9",
   "metadata": {},
   "outputs": [],
   "source": [
    "stim_maps = df_encode.groupby('tower_id').first().reset_index()[['tower_id','paddedBlockMaps']]"
   ]
  },
  {
   "cell_type": "code",
   "execution_count": 302,
   "id": "7c227df5",
   "metadata": {},
   "outputs": [
    {
     "data": {
      "image/png": "[encoded data removed]",
      "text/plain": [
       "<Figure size 600x2000 with 36 Axes>"
      ]
     },
     "metadata": {},
     "output_type": "display_data"
    }
   ],
   "source": [
    "tower_ids = df_recalled_towers_unique.bestMatch.unique()\n",
    "\n",
    "fig, axs = plt.subplots(nrows=len(tower_ids), ncols=3, figsize=(6, 20))  \n",
    "\n",
    "for (i, tower_id) in enumerate(tower_ids):\n",
    "    axs[i,0].axis('off')\n",
    "    showDiscreteMap(stim_maps[(stim_maps.tower_id == tower_id)]['paddedBlockMaps'], \n",
    "                    axs[i, 0],\n",
    "                    cmap= 'hot',)\n",
    "\n",
    "for (j, condition) in enumerate(['build','view']):\n",
    "    for (i, tower_id) in enumerate(tower_ids):\n",
    "        subset = df_recalled_towers_unique[(df_recalled_towers_unique.bestMatch == tower_id) & \n",
    "                                                  (df_recalled_towers_unique.bestMatchCondition == condition)]['bestMatchAlignment']\n",
    "        axs[i,j+1].axis('off')\n",
    "        axs[i,j+1].set_title(condition + ': ' + str(len(subset)))\n",
    "        showDiscreteMap(subset, \n",
    "                        axs[i, j+1],\n",
    "                        cmap= 'hot',)\n",
    "\n",
    "plt.savefig('heatmaps.pdf', format='pdf')"
   ]
  },
  {
   "cell_type": "code",
   "execution_count": 303,
   "id": "b75dbdc3",
   "metadata": {},
   "outputs": [],
   "source": [
    "# group the DataFrame by 'gameID' and 'bestMatchCondition', and count the rows\n",
    "grouped = df_recalled_towers_unique.groupby(['gameID','bestMatchCondition']).agg({'experimentName':'count',\n",
    "                                                                                 'bestMatchScore':'mean'})\n",
    "# Get all unique values for each column\n",
    "gameIDs = df_recalled_towers_unique['gameID'].unique()\n",
    "conditions = df_recalled_towers_unique['bestMatchCondition'].unique()\n",
    "\n",
    "# Create a DataFrame with all possible combinations of the unique values\n",
    "all_combinations = pd.MultiIndex.from_product([gameIDs, conditions], names=['gameID', 'bestMatchCondition']).to_frame(index=False)\n",
    "\n",
    "# Merge the DataFrame with all combinations and the grouped DataFrame\n",
    "merged = all_combinations.merge(grouped, on=['gameID', 'bestMatchCondition'], how=\"left\")\n",
    "\n",
    "merged['experimentName'] = merged['experimentName'].fillna(0)\n",
    "merged['bestMatchScore'] = merged['bestMatchScore'].fillna(np.NaN)\n",
    "merged = merged.rename(columns={'experimentName':'nMatched',\n",
    "                       'bestMatchScore':'bestMatchScoreMean'})\n",
    "\n",
    "bestMatchConditionCounts = merged"
   ]
  },
  {
   "cell_type": "code",
   "execution_count": 304,
   "id": "6b1f4d41",
   "metadata": {},
   "outputs": [],
   "source": [
    "# leave out participants who don't have at least one recall tower in each condition. find diff between f1. \n",
    "# Do paired t-test.\n",
    "\n",
    "def built_both(df):\n",
    "    built = df.loc[df.bestMatchCondition == 'build','nMatched'].iloc[0]\n",
    "    viewed = df.loc[df.bestMatchCondition == 'view','nMatched'].iloc[0]\n",
    "    \n",
    "    both = (built > 0) & (viewed > 0)\n",
    "    \n",
    "    return both\n",
    "\n",
    "built_both = bestMatchConditionCounts.groupby(['gameID']).apply(lambda group: built_both(group))\n",
    "\n",
    "bestMatchConditionCounts.loc[:,'built_both'] = bestMatchConditionCounts.gameID.isin(list(built_both[built_both].index))"
   ]
  },
  {
   "cell_type": "code",
   "execution_count": 305,
   "id": "d284212b",
   "metadata": {},
   "outputs": [
    {
     "data": {
      "text/html": [
       "<div>\n",
       "<style scoped>\n",
       "    .dataframe tbody tr th:only-of-type {\n",
       "        vertical-align: middle;\n",
       "    }\n",
       "\n",
       "    .dataframe tbody tr th {\n",
       "        vertical-align: top;\n",
       "    }\n",
       "\n",
       "    .dataframe thead th {\n",
       "        text-align: right;\n",
       "    }\n",
       "</style>\n",
       "<table border=\"1\" class=\"dataframe\">\n",
       "  <thead>\n",
       "    <tr style=\"text-align: right;\">\n",
       "      <th></th>\n",
       "      <th>gameID</th>\n",
       "      <th>bestMatchCondition</th>\n",
       "      <th>nMatched</th>\n",
       "      <th>bestMatchScoreMean</th>\n",
       "      <th>built_both</th>\n",
       "    </tr>\n",
       "  </thead>\n",
       "  <tbody>\n",
       "    <tr>\n",
       "      <th>0</th>\n",
       "      <td>0403-00b72085-5f9c-4337-bec4-04dd488251fa</td>\n",
       "      <td>build</td>\n",
       "      <td>3.0</td>\n",
       "      <td>0.925926</td>\n",
       "      <td>True</td>\n",
       "    </tr>\n",
       "    <tr>\n",
       "      <th>1</th>\n",
       "      <td>0403-00b72085-5f9c-4337-bec4-04dd488251fa</td>\n",
       "      <td>view</td>\n",
       "      <td>3.0</td>\n",
       "      <td>0.684848</td>\n",
       "      <td>True</td>\n",
       "    </tr>\n",
       "    <tr>\n",
       "      <th>2</th>\n",
       "      <td>0559-000a48f8-3af5-4489-a83b-7158b6fc5fb9</td>\n",
       "      <td>build</td>\n",
       "      <td>2.0</td>\n",
       "      <td>0.727273</td>\n",
       "      <td>True</td>\n",
       "    </tr>\n",
       "    <tr>\n",
       "      <th>3</th>\n",
       "      <td>0559-000a48f8-3af5-4489-a83b-7158b6fc5fb9</td>\n",
       "      <td>view</td>\n",
       "      <td>2.0</td>\n",
       "      <td>0.703081</td>\n",
       "      <td>True</td>\n",
       "    </tr>\n",
       "    <tr>\n",
       "      <th>4</th>\n",
       "      <td>0617-9ddb7997-5774-4c33-849a-ab70289df180</td>\n",
       "      <td>build</td>\n",
       "      <td>0.0</td>\n",
       "      <td>NaN</td>\n",
       "      <td>False</td>\n",
       "    </tr>\n",
       "    <tr>\n",
       "      <th>...</th>\n",
       "      <td>...</td>\n",
       "      <td>...</td>\n",
       "      <td>...</td>\n",
       "      <td>...</td>\n",
       "      <td>...</td>\n",
       "    </tr>\n",
       "    <tr>\n",
       "      <th>95</th>\n",
       "      <td>9343-013fb2db-94d6-4c42-b102-167d834d6e0b</td>\n",
       "      <td>view</td>\n",
       "      <td>1.0</td>\n",
       "      <td>1.000000</td>\n",
       "      <td>True</td>\n",
       "    </tr>\n",
       "    <tr>\n",
       "      <th>96</th>\n",
       "      <td>9537-a4cb8e30-2593-4f24-a368-351cffbe1004</td>\n",
       "      <td>build</td>\n",
       "      <td>3.0</td>\n",
       "      <td>0.661933</td>\n",
       "      <td>True</td>\n",
       "    </tr>\n",
       "    <tr>\n",
       "      <th>97</th>\n",
       "      <td>9537-a4cb8e30-2593-4f24-a368-351cffbe1004</td>\n",
       "      <td>view</td>\n",
       "      <td>3.0</td>\n",
       "      <td>0.707937</td>\n",
       "      <td>True</td>\n",
       "    </tr>\n",
       "    <tr>\n",
       "      <th>98</th>\n",
       "      <td>9894-b0bd18cd-ad29-426a-ba20-1c769711d5a6</td>\n",
       "      <td>build</td>\n",
       "      <td>2.0</td>\n",
       "      <td>0.684211</td>\n",
       "      <td>True</td>\n",
       "    </tr>\n",
       "    <tr>\n",
       "      <th>99</th>\n",
       "      <td>9894-b0bd18cd-ad29-426a-ba20-1c769711d5a6</td>\n",
       "      <td>view</td>\n",
       "      <td>1.0</td>\n",
       "      <td>0.777778</td>\n",
       "      <td>True</td>\n",
       "    </tr>\n",
       "  </tbody>\n",
       "</table>\n",
       "<p>100 rows × 5 columns</p>\n",
       "</div>"
      ],
      "text/plain": [
       "                                       gameID bestMatchCondition  nMatched   \n",
       "0   0403-00b72085-5f9c-4337-bec4-04dd488251fa              build       3.0  \\\n",
       "1   0403-00b72085-5f9c-4337-bec4-04dd488251fa               view       3.0   \n",
       "2   0559-000a48f8-3af5-4489-a83b-7158b6fc5fb9              build       2.0   \n",
       "3   0559-000a48f8-3af5-4489-a83b-7158b6fc5fb9               view       2.0   \n",
       "4   0617-9ddb7997-5774-4c33-849a-ab70289df180              build       0.0   \n",
       "..                                        ...                ...       ...   \n",
       "95  9343-013fb2db-94d6-4c42-b102-167d834d6e0b               view       1.0   \n",
       "96  9537-a4cb8e30-2593-4f24-a368-351cffbe1004              build       3.0   \n",
       "97  9537-a4cb8e30-2593-4f24-a368-351cffbe1004               view       3.0   \n",
       "98  9894-b0bd18cd-ad29-426a-ba20-1c769711d5a6              build       2.0   \n",
       "99  9894-b0bd18cd-ad29-426a-ba20-1c769711d5a6               view       1.0   \n",
       "\n",
       "    bestMatchScoreMean  built_both  \n",
       "0             0.925926        True  \n",
       "1             0.684848        True  \n",
       "2             0.727273        True  \n",
       "3             0.703081        True  \n",
       "4                  NaN       False  \n",
       "..                 ...         ...  \n",
       "95            1.000000        True  \n",
       "96            0.661933        True  \n",
       "97            0.707937        True  \n",
       "98            0.684211        True  \n",
       "99            0.777778        True  \n",
       "\n",
       "[100 rows x 5 columns]"
      ]
     },
     "execution_count": 305,
     "metadata": {},
     "output_type": "execute_result"
    }
   ],
   "source": [
    "bestMatchConditionCounts"
   ]
  },
  {
   "cell_type": "code",
   "execution_count": 306,
   "id": "8b729a63",
   "metadata": {},
   "outputs": [],
   "source": [
    "bestMatchConditionCounts.to_csv('{}/recall/csv/df_best_match_recalls_vss.csv'.format(results_dir))"
   ]
  },
  {
   "cell_type": "code",
   "execution_count": 307,
   "id": "267f11d3",
   "metadata": {},
   "outputs": [],
   "source": [
    "#### construct dataframe where each stimulus gets all the information about the best matching recall tower\n",
    "\n",
    "df_encode_unique = df_encode[df_encode.rep==1].reset_index(drop=True)\n",
    "df_encode_unique_paired = df_encode_unique.merge(df_recalled_towers_unique, \n",
    "                                               how='left', \n",
    "                                               left_on=['gameID','tower_id'], \n",
    "                                               right_on=['gameID','bestMatch']).reset_index(drop=True)\n",
    "                      \n",
    "default_values = {\n",
    "    'C_id': -1,     # default for C_id\n",
    "    'bestMatch': 'no_match',     # default for D_id\n",
    "    'bestMatchScore': 0,\n",
    "    'perfectMatch': False\n",
    "    \n",
    "#     'value2': 'default_value'  # default for value2\n",
    "}\n",
    "\n",
    "df_encode_unique_paired.fillna(value=default_values, inplace=True)\n",
    "\n",
    "for threshold in list(np.arange(0.1,1,0.05)):\n",
    "    df_encode_unique_paired.loc[:, f'matched_meeting_threshold_{threshold:.2f}'] = df_encode_unique_paired['bestMatchScore'] > threshold\n",
    "    \n",
    "df_encode_unique_paired.loc[:, 'matched_to_any'] = df_encode_unique_paired['bestMatchScore'] > 0"
   ]
  },
  {
   "cell_type": "code",
   "execution_count": 308,
   "id": "baf0a74b",
   "metadata": {},
   "outputs": [],
   "source": [
    "df_encode_unique_paired.loc[:,'perfectMatch'] = df_encode_unique_paired.bestMatchScore == 1\n",
    "df_encode_unique_paired.loc[:,'perfectly_recalled'] = df_encode_unique_paired.bestMatchScore == 1"
   ]
  },
  {
   "cell_type": "markdown",
   "id": "9d06c85c",
   "metadata": {},
   "source": [
    "### Stats on recall\n",
    "\n",
    "Linear models are run in the Rmd."
   ]
  },
  {
   "cell_type": "markdown",
   "id": "acc69f68",
   "metadata": {},
   "source": [
    "#### Number of matched towers"
   ]
  },
  {
   "cell_type": "code",
   "execution_count": 309,
   "id": "1f44d384",
   "metadata": {},
   "outputs": [],
   "source": [
    "# df_learn_unique_paired.to_csv('{}/df_learn_unique_paired.csv'.format(experiment_results_dir))\n",
    "df_encode_unique_paired.to_csv('{}/recall/csv/df_encode_with_recalls_vss.csv'.format(results_dir))"
   ]
  },
  {
   "cell_type": "code",
   "execution_count": 508,
   "id": "cfef7ff0",
   "metadata": {},
   "outputs": [
    {
     "name": "stdout",
     "output_type": "stream",
     "text": [
      "($4.2,\\ 95\\%\\ CI: [3.7,\\ 4.64]$)\n"
     ]
    }
   ],
   "source": [
    "# number of towers\n",
    "df_all_unique_recalls = df_encode_unique_paired.groupby(['condition','gameID'])['matched_to_any'].sum().reset_index()\n",
    "df_all_unique_recalls.loc[:,'all'] = 'all'\n",
    "\n",
    "all_recall_dist, all_recall_mean = parallel_bootstrap(df_all_unique_recalls,\n",
    "                   bootstrap_column = 'gameID',\n",
    "                   condition_column = 'all',\n",
    "                   value_columns = ['matched_to_any'],\n",
    "                   stat = np.sum\n",
    "                  )\n",
    "\n",
    "print('(${:.3g},\\ 95\\%\\ CI: [{:.3g},\\ {:.3g}]$)'.format(all_recall_mean['all'], *bootstrapped_ci(all_recall_dist['all'])))\n"
   ]
  },
  {
   "cell_type": "code",
   "execution_count": 512,
   "id": "f62b99fc",
   "metadata": {},
   "outputs": [
    {
     "name": "stdout",
     "output_type": "stream",
     "text": [
      "build ($2.1,\\ 95\\%\\ CI: [1.82,\\ 2.34]$)\n",
      "view ($2.1,\\ 95\\%\\ CI: [1.8,\\ 2.38]$)\n",
      "0.44\n"
     ]
    }
   ],
   "source": [
    "# number of towers by condition\n",
    "condition_recall_dist, condition_recall_mean = parallel_bootstrap(df_all_unique_recalls,\n",
    "                   bootstrap_column = 'gameID',\n",
    "                   condition_column = 'condition',\n",
    "                   value_columns = ['matched_to_any'],\n",
    "                   stat = np.sum,\n",
    "                   seed = 0\n",
    "                  )\n",
    "\n",
    "print('build (${:.3g},\\ 95\\%\\ CI: [{:.3g},\\ {:.3g}]$)'.format(condition_recall_mean['build'], *bootstrapped_ci(condition_recall_dist['build'])))\n",
    "print('view (${:.3g},\\ 95\\%\\ CI: [{:.3g},\\ {:.3g}]$)'.format(condition_recall_mean['view'], *bootstrapped_ci(condition_recall_dist['view'])))\n",
    "\n",
    "print(p_val(condition_recall_dist['view'], condition_recall_dist['build']))"
   ]
  },
  {
   "cell_type": "code",
   "execution_count": 321,
   "id": "a9215d0d",
   "metadata": {},
   "outputs": [
    {
     "data": {
      "image/png": "[encoded data removed]",
      "text/plain": [
       "<Figure size 250x600 with 1 Axes>"
      ]
     },
     "metadata": {},
     "output_type": "display_data"
    }
   ],
   "source": [
    "# sums of perfect reconstructions by condition\n",
    "\n",
    "fig = plt.figure(figsize=(2.5,6))\n",
    "\n",
    "sns.barplot(data = df_all_unique_recalls,\n",
    "                y = \"matched_to_any\",\n",
    "                x = \"condition\",\n",
    "                hue = \"condition\",\n",
    "                order = ['build','view'],\n",
    "                palette = palette,\n",
    "                errorbar=None,\n",
    "                width=bar_width\n",
    "#                 yerr = cis\n",
    "           )\n",
    "\n",
    "cis = ci_errorbar_values(condition_recall_dist, \n",
    "                         condition_recall_mean, \n",
    "                         order = ['build','view'])\n",
    "\n",
    "plt.errorbar(y = cis['means'], \n",
    "             x = [0,1], \n",
    "             yerr= cis['error_diffs'],\n",
    "             ecolor = '#444444',\n",
    "             fmt='none')\n",
    "\n",
    "# plt.title(\"number of perfect recalls\")\n",
    "plt.ylabel(\"quantity matched\")\n",
    "plt.xlabel(\"\")\n",
    "\n",
    "for spine in fig.gca().spines.values():\n",
    "    spine.set_linewidth(2)\n",
    "    spine.set_color('black')\n",
    "    spine.set_zorder(1)\n",
    "\n",
    "\n",
    "plt.legend([],[], frameon=False)\n",
    "\n",
    "plt.savefig(plot_dir + 'recall_n_matched_recalls.pdf', bbox_inches='tight')"
   ]
  },
  {
   "cell_type": "markdown",
   "id": "b9bf8844",
   "metadata": {},
   "source": [
    "#### Number of matched towers that were perfect reconstructions"
   ]
  },
  {
   "cell_type": "code",
   "execution_count": 537,
   "id": "ffe60c79",
   "metadata": {},
   "outputs": [],
   "source": [
    "df_all_perfs = df_encode_unique_paired.groupby(['gameID'])['perfectMatch'].sum().reset_index()\n",
    "df_all_perfs.loc[:,'all'] = 'all'"
   ]
  },
  {
   "cell_type": "code",
   "execution_count": 538,
   "id": "12f08251",
   "metadata": {},
   "outputs": [],
   "source": [
    "all_perfs_dist, all_perfs_mean = parallel_bootstrap(df_all_perfs,\n",
    "                   bootstrap_column = 'gameID',\n",
    "                   condition_column = 'all',\n",
    "                   value_columns = ['perfectMatch'],\n",
    "                   stat= np.sum,\n",
    "                   n_iter = 1000,\n",
    "                   seed = 0\n",
    "                  )"
   ]
  },
  {
   "cell_type": "code",
   "execution_count": 539,
   "id": "cc14f06f",
   "metadata": {},
   "outputs": [
    {
     "name": "stdout",
     "output_type": "stream",
     "text": [
      "both ($1.46, 95\\% CI: [1.06, 1.84]$)\n"
     ]
    }
   ],
   "source": [
    "print('both (${:.3g}, 95\\% CI: [{:.3g}, {:.3g}]$)'.format(all_perfs_mean['all'], *bootstrapped_ci(all_perfs_dist['all'])))\n"
   ]
  },
  {
   "cell_type": "code",
   "execution_count": 313,
   "id": "f036bff7",
   "metadata": {
    "scrolled": false
   },
   "outputs": [],
   "source": [
    "df_perfs = df_encode_unique_paired.groupby(['condition','gameID'])['perfectMatch'].sum().reset_index()\n",
    "df_perfs.loc[:,'all'] = 'all'"
   ]
  },
  {
   "cell_type": "code",
   "execution_count": 531,
   "id": "333276bc",
   "metadata": {},
   "outputs": [],
   "source": [
    "perfs_dist, perfs_mean = parallel_bootstrap(df_perfs,\n",
    "                   bootstrap_column = 'gameID',\n",
    "                   condition_column = 'condition',\n",
    "                   value_columns = ['perfectMatch'],\n",
    "                   stat= np.sum,\n",
    "                   n_iter = 1000,\n",
    "                   seed = 0\n",
    "                  )"
   ]
  },
  {
   "cell_type": "code",
   "execution_count": 532,
   "id": "7190645b",
   "metadata": {},
   "outputs": [
    {
     "name": "stdout",
     "output_type": "stream",
     "text": [
      "build ($0.56, 95\\% CI: [0.34, 0.78]$)\n",
      "view ($0.9, 95\\% CI: [0.62, 1.22]$)\n",
      "0.02\n"
     ]
    }
   ],
   "source": [
    "print('build (${:.3g}, 95\\% CI: [{:.3g}, {:.3g}]$)'.format(perfs_mean['build'], *bootstrapped_ci(perfs_dist['build'])))\n",
    "print('view (${:.3g}, 95\\% CI: [{:.3g}, {:.3g}]$)'.format(perfs_mean['view'], *bootstrapped_ci(perfs_dist['view'])))\n",
    "\n",
    "\n",
    "# p_val(dists['view'], dists['build'])\n",
    "\n",
    "print(p_val(perfs_dist['view'], perfs_dist['build']))"
   ]
  },
  {
   "cell_type": "code",
   "execution_count": 316,
   "id": "4e1cffdd",
   "metadata": {},
   "outputs": [
    {
     "data": {
      "text/plain": [
       "0.02"
      ]
     },
     "execution_count": 316,
     "metadata": {},
     "output_type": "execute_result"
    }
   ],
   "source": [
    "np.sum(np.array(perfs_dist['view']) - np.array(perfs_dist['build']) < 0)/1000"
   ]
  },
  {
   "cell_type": "code",
   "execution_count": 322,
   "id": "ea246e4f",
   "metadata": {},
   "outputs": [
    {
     "data": {
      "image/png": "[encoded data removed]",
      "text/plain": [
       "<Figure size 250x600 with 1 Axes>"
      ]
     },
     "metadata": {},
     "output_type": "display_data"
    }
   ],
   "source": [
    "# sums of perfect reconstructions by condition\n",
    "\n",
    "fig = plt.figure(figsize=(2.5,6))\n",
    "\n",
    "sns.barplot(data = df_perfs,\n",
    "                y = \"perfectMatch\",\n",
    "                x = \"condition\",\n",
    "                hue = \"condition\",\n",
    "                order = ['build','view'],\n",
    "                palette = palette,\n",
    "                errorbar=None,\n",
    "                width=bar_width\n",
    "#                 yerr = cis\n",
    "           )\n",
    "\n",
    "cis = ci_errorbar_values(perfs_dist, \n",
    "                         perfs_mean, \n",
    "                         order = ['build','view'])\n",
    "\n",
    "plt.errorbar(y = cis['means'], \n",
    "             x = [0,1], \n",
    "             yerr= cis['error_diffs'],\n",
    "             ecolor = '#444444',\n",
    "             fmt='none')\n",
    "\n",
    "# plt.title(\"number of perfect recalls\")\n",
    "plt.ylabel(\"number of perfect matches\")\n",
    "plt.xlabel(\"\")\n",
    "\n",
    "for spine in fig.gca().spines.values():\n",
    "    spine.set_linewidth(2)\n",
    "    spine.set_color('black')\n",
    "    spine.set_zorder(1)\n",
    "\n",
    "\n",
    "plt.legend([],[], frameon=False)\n",
    "\n",
    "plt.savefig(plot_dir + 'recall_n_perf_recalls.pdf', bbox_inches='tight')"
   ]
  },
  {
   "cell_type": "markdown",
   "id": "7134bf0d",
   "metadata": {},
   "source": [
    "#### Accuracy of matched towers (including 0 for non-recalls)"
   ]
  },
  {
   "cell_type": "code",
   "execution_count": 318,
   "id": "fbb31ebe",
   "metadata": {},
   "outputs": [],
   "source": [
    "matched_score_dist, matched_score_mean = \\\n",
    "                parallel_bootstrap(df_encode_unique_paired,\n",
    "                                   bootstrap_column = 'gameID',\n",
    "                                   condition_column = 'condition',\n",
    "                                   value_columns = ['bestMatchScore'],\n",
    "                                   n_iter = 1000,\n",
    "                                   seed = 0\n",
    "                                  )"
   ]
  },
  {
   "cell_type": "code",
   "execution_count": 319,
   "id": "389600d2",
   "metadata": {},
   "outputs": [
    {
     "name": "stdout",
     "output_type": "stream",
     "text": [
      "build ($0.508, 95\\% CI: [0.446, 0.569]$)\n",
      "view ($0.56, 95\\% CI: [0.469, 0.642]$)\n"
     ]
    }
   ],
   "source": [
    "print('build (${:.3g}, 95\\% CI: [{:.3g}, {:.3g}]$)'.format(matched_score_mean['build'], *bootstrapped_ci(matched_score_dist['build'])))\n",
    "print('view (${:.3g}, 95\\% CI: [{:.3g}, {:.3g}]$)'.format(matched_score_mean['view'], *bootstrapped_ci(matched_score_dist['view'])))"
   ]
  },
  {
   "cell_type": "code",
   "execution_count": 456,
   "id": "630bb6f1",
   "metadata": {
    "scrolled": false
   },
   "outputs": [
    {
     "data": {
      "image/png": "[encoded data removed]",
      "text/plain": [
       "<Figure size 250x600 with 1 Axes>"
      ]
     },
     "metadata": {},
     "output_type": "display_data"
    }
   ],
   "source": [
    "# sums of perfect reconstructions by condition\n",
    "\n",
    "fig = plt.figure(figsize=(2.5,6))\n",
    "\n",
    "sns.barplot(data = df_encode_unique_paired,\n",
    "                y = \"bestMatchScore\",\n",
    "                x = \"condition\",\n",
    "                hue = \"condition\",\n",
    "                order = ['build','view'],\n",
    "                palette = palette,\n",
    "                errorbar=None,\n",
    "                width=bar_width\n",
    "#                 yerr = cis\n",
    "           )\n",
    "\n",
    "cis = ci_errorbar_values(matched_score_dist, \n",
    "                         matched_score_mean, \n",
    "                         order = ['build','view'])\n",
    "\n",
    "plt.errorbar(y = cis['means'], \n",
    "             x = [0,1], \n",
    "             yerr= cis['error_diffs'],\n",
    "             ecolor = '#444444',\n",
    "             fmt='none')\n",
    "\n",
    "plt.ylabel(\"reconstruction accuracy (IoU)\")\n",
    "plt.xlabel(\"\")\n",
    "\n",
    "for spine in fig.gca().spines.values():\n",
    "    spine.set_linewidth(2)\n",
    "    spine.set_color('black')\n",
    "    spine.set_zorder(1)\n",
    "\n",
    "\n",
    "plt.legend([],[], frameon=False)\n",
    "\n",
    "plt.savefig(plot_dir + 'recall_accuracy_recalls.pdf', bbox_inches='tight')"
   ]
  },
  {
   "cell_type": "markdown",
   "id": "254ab922",
   "metadata": {},
   "source": [
    "#### Accuracy of matched towers meaned within participant, excluding participants who didn't build at least one of each tower"
   ]
  },
  {
   "cell_type": "code",
   "execution_count": 344,
   "id": "a66ef09f",
   "metadata": {},
   "outputs": [],
   "source": [
    "matched_mean_score_dist, matched_mean_score_mean = \\\n",
    "                parallel_bootstrap(bestMatchConditionCounts[bestMatchConditionCounts['built_both']],\n",
    "                                   bootstrap_column = 'gameID',\n",
    "                                   condition_column = 'bestMatchCondition',\n",
    "                                   value_columns = ['bestMatchScoreMean'],\n",
    "                                   n_iter = 1000,\n",
    "                                   seed = 0\n",
    "                                  )"
   ]
  },
  {
   "cell_type": "code",
   "execution_count": 458,
   "id": "00a9943d",
   "metadata": {
    "scrolled": false
   },
   "outputs": [
    {
     "name": "stderr",
     "output_type": "stream",
     "text": [
      "/var/folders/4y/_czpmr7d3gb8b80x7wh36g1c0000gn/T/ipykernel_30998/4145125674.py:27: UserWarning: \n",
      "The palette list has fewer values (1) than needed (50) and will cycle, which may produce an uninterpretable plot.\n",
      "  sns.pointplot(data = bestMatchConditionCounts,\n"
     ]
    },
    {
     "data": {
      "image/png": "[encoded data removed]",
      "text/plain": [
       "<Figure size 250x600 with 1 Axes>"
      ]
     },
     "metadata": {},
     "output_type": "display_data"
    }
   ],
   "source": [
    "# sums of perfect reconstructions by condition\n",
    "\n",
    "fig = plt.figure(figsize=(2.5,6))\n",
    "\n",
    "sns.barplot(data = bestMatchConditionCounts[bestMatchConditionCounts['built_both']],\n",
    "                y = \"bestMatchScoreMean\",\n",
    "                x = \"bestMatchCondition\",\n",
    "                hue = \"bestMatchCondition\",\n",
    "                order = ['build','view'],\n",
    "                palette = palette,\n",
    "                errorbar=None,\n",
    "                width=bar_width\n",
    "#                 yerr = cis\n",
    "           )\n",
    "\n",
    "cis = ci_errorbar_values(matched_mean_score_dist, \n",
    "                         matched_mean_score_mean, \n",
    "                         order = ['build','view'])\n",
    "\n",
    "plt.errorbar(y = cis['means'], \n",
    "             x = [0,1], \n",
    "             yerr= cis['error_diffs'],\n",
    "             ecolor = '#444444',\n",
    "             fmt='none')\n",
    "\n",
    "\n",
    "sns.pointplot(data = bestMatchConditionCounts,\n",
    "                y = \"bestMatchScoreMean\",\n",
    "                x = \"bestMatchCondition\",\n",
    "                hue = \"gameID\",\n",
    "                order = ['build','view'],\n",
    "                markers='',\n",
    "                linewidth=0.8,\n",
    "#                 linecolor='grey'\n",
    "                palette = ['#444444'],\n",
    "                alpha = 0.5,\n",
    "#                 yerr = cis\n",
    "           )\n",
    "\n",
    "plt.ylabel(\"mean accuracy (IoU)\")\n",
    "plt.xlabel(\"\")\n",
    "\n",
    "for spine in fig.gca().spines.values():\n",
    "    spine.set_linewidth(2)\n",
    "    spine.set_color('black')\n",
    "    spine.set_zorder(1)\n",
    "\n",
    "\n",
    "plt.legend([],[], frameon=False)\n",
    "\n",
    "plt.savefig(plot_dir + 'recall_mean_accuracy_recalls.pdf', bbox_inches='tight')"
   ]
  },
  {
   "cell_type": "markdown",
   "id": "e4e63c68",
   "metadata": {},
   "source": [
    "# Experiment 3 + 4 read in data"
   ]
  },
  {
   "cell_type": "code",
   "execution_count": 20,
   "id": "06dc6115",
   "metadata": {},
   "outputs": [
    {
     "data": {
      "text/plain": [
       "'/Users/will/zipping/results/build_components/cogsci24'"
      ]
     },
     "execution_count": 20,
     "metadata": {},
     "output_type": "execute_result"
    }
   ],
   "source": [
    "# final iteration names are suffixes of csvs\n",
    "\n",
    "csv_ids = {\n",
    "    \"ve_on\" : \"build_components_cogsci_ve_old_new_prolific_pilot_0\",\n",
    "    \"ve_re\": \"build_components_cogsci_ve_recall_prolific_pilot_0\",\n",
    "    \"wm_on\" : \"build_components_cogsci_wm_old_new_prolific_pilot_0\",\n",
    "    \"wm_re\": \"build_components_cogsci_wm_recall_prolific_pilot_0\"\n",
    "}\n",
    "\n",
    "experiment_results_dir"
   ]
  },
  {
   "cell_type": "code",
   "execution_count": 21,
   "id": "0722a1ff",
   "metadata": {},
   "outputs": [],
   "source": [
    "# read in all dataframes\n",
    "\n",
    "dfs = {}\n",
    "\n",
    "for i, (k, v) in enumerate(csv_ids.items()):\n",
    "    dfs[k] = {}\n",
    "    dfs[k]['encode'] = pd.read_csv(experiment_results_dir + '/df_encode_{}.csv'.format(v))\n",
    "    dfs[k]['decode'] = pd.read_csv(experiment_results_dir + '/df_decode_{}.csv'.format(v))\n",
    "    dfs[k]['block'] = pd.read_csv(experiment_results_dir + '/df_block_{}.csv'.format(v))\n",
    "    dfs[k]['construct'] = pd.read_csv(experiment_results_dir + '/df_construction_procedure_{}.csv'.format(v))\n",
    "    \n",
    "dfs['ve_re']['recalls'] = pd.read_csv(experiment_results_dir + \n",
    "                                '/df_recalled_towers_{}.csv'.format(csv_ids['ve_re']))\n",
    "dfs['wm_re']['recalls'] = pd.read_csv(experiment_results_dir + \n",
    "                                '/df_recalled_towers_{}.csv'.format(csv_ids['wm_re']))"
   ]
  },
  {
   "cell_type": "code",
   "execution_count": 22,
   "id": "80b80b03",
   "metadata": {},
   "outputs": [],
   "source": [
    "def exclude_ppts(dfg, excluded):\n",
    "    dfg['encode'] = dfg['encode'][~dfg['encode'].gameID.isin(excluded)].reset_index()\n",
    "    dfg['decode'] = dfg['decode'][~dfg['decode'].gameID.isin(excluded)].reset_index()\n",
    "    dfg['block'] = dfg['block'][~dfg['block'].gameID.isin(excluded)].reset_index()\n",
    "    dfg['construct'] =dfg['construct'][~dfg['construct'].gameID.isin(excluded)].reset_index()"
   ]
  },
  {
   "cell_type": "code",
   "execution_count": 23,
   "id": "168541ce",
   "metadata": {},
   "outputs": [],
   "source": [
    "dfs['ve_on']['decode'].loc[:, 'responded_old'] = dfs['ve_on']['decode'].response_meaning == 'old'\n",
    "dfs['wm_on']['decode'].loc[:, 'responded_old'] = dfs['wm_on']['decode'].response_meaning == 'old'"
   ]
  },
  {
   "cell_type": "markdown",
   "id": "8ea8afb9",
   "metadata": {},
   "source": [
    "# Experiment 3: Encoding type for recognition"
   ]
  },
  {
   "cell_type": "code",
   "execution_count": 24,
   "id": "fa1d779f",
   "metadata": {},
   "outputs": [
    {
     "name": "stdout",
     "output_type": "stream",
     "text": [
      "56 ppts to start with\n",
      "6 ppts removed for incomplete encoding phase\n",
      "0 ppts removed for incomplete decoding phase\n",
      "0 ppts removed for key mashing\n",
      "0 ppts removed for waiting too long between phases\n",
      "50 ppts remaining\n"
     ]
    }
   ],
   "source": [
    "# appply exclusion criteria\n",
    "df = dfs['ve_on']\n",
    "\n",
    "print('{} ppts to start with'.format(df['encode'].gameID.nunique()))\n",
    "\n",
    "excluded = []\n",
    "\n",
    "# didn't complete all encoding trials\n",
    "incomplete = df['encode'].groupby('gameID').apply(len) < 12\n",
    "excluded += list(set(incomplete.index[incomplete]))\n",
    "print('{} ppts removed for incomplete encoding phase'.format(len(list(incomplete.index[incomplete]))))\n",
    "\n",
    "# didn't complete all decode trials\n",
    "incomplete_decode = df['decode'].groupby('gameID').apply(len) < 12\n",
    "excluded += list(incomplete_decode.index[incomplete_decode])\n",
    "print('{} ppts removed for incomplete decoding phase'.format(len(list(incomplete_decode.index[incomplete_decode]))))\n",
    "\n",
    "# >90% response with same key\n",
    "response_mean = df['decode'].groupby('gameID').apply(lambda g: np.mean(g.responded_old))\n",
    "key_mashing = (response_mean > 0.9) | (response_mean < 0.1)\n",
    "excluded += list(key_mashing.index[key_mashing])\n",
    "print('{} ppts removed for key mashing'.format(len(list(key_mashing.index[key_mashing]))))\n",
    "\n",
    "# 10 mins between end of encode and start of decode\n",
    "e_time = df['encode'].groupby('gameID').last().reset_index()[['gameID','timeAbsolute']]\n",
    "d_time = df['decode'].groupby('gameID').first().reset_index()[['gameID','trial_start_time']]\n",
    "time_diff = e_time.merge(d_time, on = 'gameID', how = 'outer')\n",
    "time_diff = time_diff[~(time_diff.timeAbsolute.isna() | time_diff.trial_start_time.isna())]\n",
    "time_diff.loc[:, 'between_phase_time'] = (time_diff.trial_start_time-time_diff.timeAbsolute)/60000\n",
    "big_wait = (time_diff.loc[:, 'between_phase_time'] > 10)\n",
    "excluded += list(set((big_wait.index[big_wait])))\n",
    "print('{} ppts removed for waiting too long between phases'.format(len(list(big_wait.index[big_wait]))))\n",
    "\n",
    "print('{} ppts remaining'.format(df['encode'][~df['encode'].gameID.isin(excluded)].gameID.nunique()))\n",
    "exclude_ppts(df, excluded)"
   ]
  },
  {
   "cell_type": "code",
   "execution_count": 25,
   "id": "5d0a794c",
   "metadata": {},
   "outputs": [
    {
     "name": "stdout",
     "output_type": "stream",
     "text": [
      "55 ppts to start with\n",
      "5 ppts removed for incomplete encoding phase\n",
      "0 ppts removed for incomplete decoding phase\n",
      "1 ppts removed for waiting too long between phases\n",
      "50 ppts remaining\n"
     ]
    }
   ],
   "source": [
    "# appply exclusion criteria\n",
    "df = dfs['ve_re']\n",
    "\n",
    "print('{} ppts to start with'.format(df['encode'].gameID.nunique()))\n",
    "\n",
    "excluded = []\n",
    "\n",
    "# didn't complete all encoding trials\n",
    "incomplete = df['encode'].groupby('gameID').apply(len) < 12\n",
    "excluded += list(set(incomplete.index[incomplete]))\n",
    "print('{} ppts removed for incomplete encoding phase'.format(len(list(incomplete.index[incomplete]))))\n",
    "\n",
    "# didn't complete all decode trials\n",
    "incomplete_decode = df['decode'].groupby('gameID').apply(len) < 1\n",
    "excluded += list(incomplete_decode.index[incomplete_decode])\n",
    "print('{} ppts removed for incomplete decoding phase'.format(len(list(incomplete_decode.index[incomplete_decode]))))\n",
    "\n",
    "# 10 mins between end of encode and start of decode\n",
    "e_time = df['encode'].groupby('gameID').last().reset_index()[['gameID','timeAbsolute']]\n",
    "d_time = df['decode'].groupby('gameID').first().reset_index()[['gameID','trial_start_time']]\n",
    "time_diff = e_time.merge(d_time, on = 'gameID', how = 'outer')\n",
    "time_diff = time_diff[~(time_diff.timeAbsolute.isna() | time_diff.trial_start_time.isna())]\n",
    "time_diff.loc[:, 'between_phase_time'] = (time_diff.trial_start_time-time_diff.timeAbsolute)/60000\n",
    "big_wait = (time_diff.loc[:, 'between_phase_time'] > 10)\n",
    "excluded += list(set((big_wait.index[big_wait])))\n",
    "print('{} ppts removed for waiting too long between phases'.format(len(list(big_wait.index[big_wait]))))\n",
    "\n",
    "print('{} ppts remaining'.format(df['encode'][~df['encode'].gameID.isin(excluded)].gameID.nunique()))\n",
    "exclude_ppts(df, excluded)"
   ]
  },
  {
   "cell_type": "markdown",
   "id": "c3c65f03",
   "metadata": {},
   "source": [
    "## visual exposure"
   ]
  },
  {
   "cell_type": "code",
   "execution_count": 26,
   "id": "82c986aa",
   "metadata": {},
   "outputs": [],
   "source": [
    "dfs['ve_on']['decode']['novelty'] = ['new' if condition == 'foil' else 'old' for condition in dfs['ve_on']['decode'].condition]"
   ]
  },
  {
   "cell_type": "code",
   "execution_count": 27,
   "id": "21b22029",
   "metadata": {},
   "outputs": [],
   "source": [
    "# bootstrap keeping participants' data together (i.e. sampled ppt n is the same across all distributions)\n",
    "ve_response_dists, ve_response_means = parallel_bootstrap(dfs['ve_on']['decode'], \n",
    "                                                    bootstrap_column = 'gameID',\n",
    "                                                    condition_column = 'condition',\n",
    "                                                    value_columns = ['responded_old'],\n",
    "                                                    n_iter = 1000,\n",
    "                                                    stat = np.mean)"
   ]
  },
  {
   "cell_type": "code",
   "execution_count": 28,
   "id": "efceb3b4",
   "metadata": {},
   "outputs": [
    {
     "name": "stdout",
     "output_type": "stream",
     "text": [
      "foil ($0.29,\\ 95\\%\\ CI: [0.243,\\ 0.34]$)\n",
      "build ($0.78,\\ 95\\%\\ CI: [0.713,\\ 0.847]$)\n",
      "view ($0.833,\\ 95\\%\\ CI: [0.753,\\ 0.9]$)\n",
      "0.173\n",
      "0.0\n",
      "0.0\n"
     ]
    }
   ],
   "source": [
    "print('foil (${:.3g},\\ 95\\%\\ CI: [{:.3g},\\ {:.3g}]$)'.format(ve_response_means['foil'], *bootstrapped_ci(ve_response_dists['foil'])))\n",
    "print('build (${:.3g},\\ 95\\%\\ CI: [{:.3g},\\ {:.3g}]$)'.format(ve_response_means['build'], *bootstrapped_ci(ve_response_dists['build'])))\n",
    "print('view (${:.3g},\\ 95\\%\\ CI: [{:.3g},\\ {:.3g}]$)'.format(ve_response_means['view'], *bootstrapped_ci(ve_response_dists['view'])))\n",
    "\n",
    "print(p_val(ve_response_dists['view'], ve_response_dists['build']))\n",
    "print(p_val(ve_response_dists['build'], ve_response_dists['foil']))\n",
    "print(p_val(ve_response_dists['view'], ve_response_dists['foil']))"
   ]
  },
  {
   "cell_type": "code",
   "execution_count": 419,
   "id": "9859934e",
   "metadata": {},
   "outputs": [
    {
     "data": {
      "image/png": "[encoded data removed]",
      "text/plain": [
       "<Figure size 400x600 with 1 Axes>"
      ]
     },
     "metadata": {},
     "output_type": "display_data"
    }
   ],
   "source": [
    "fig = plt.figure()\n",
    "\n",
    "sns.barplot(data = dfs['ve_on']['decode'], \n",
    "            y = \"responded_old\", \n",
    "            order = condition_order,\n",
    "            hue = \"condition\",\n",
    "            x = \"condition\",\n",
    "            errorbar=None,\n",
    "            palette=palette)\n",
    "\n",
    "cis = ci_errorbar_values(ve_response_dists, \n",
    "                         ve_response_means, \n",
    "                         order = condition_order)\n",
    "\n",
    "plt.errorbar(y = cis['means'], \n",
    "             x = [0,1,2], \n",
    "             yerr= cis['error_diffs'],\n",
    "             ecolor = '#444444',\n",
    "             fmt='none')\n",
    "\n",
    "plt.ylim((0,1))\n",
    "plt.axhline(0.5, color = 'gray', linestyle = '--',)\n",
    "plt.ylabel('responded old')\n",
    "plt.xlabel('')\n",
    "\n",
    "\n",
    "for spine in fig.gca().spines.values():\n",
    "    spine.set_zorder(1)\n",
    "    spine.set_color('black')\n",
    "\n",
    "plt.savefig(plot_dir + 'encode_ve_recog_response.pdf', bbox_inches='tight')\n",
    "\n",
    "plt.show()"
   ]
  },
  {
   "cell_type": "code",
   "execution_count": 30,
   "id": "a707a4c4",
   "metadata": {},
   "outputs": [
    {
     "name": "stdout",
     "output_type": "stream",
     "text": [
      "old ($0.807,\\ 95\\%\\ CI: [0.76,\\ 0.853]$)\n",
      "new ($0.29,\\ 95\\%\\ CI: [0.243,\\ 0.34]$)\n",
      "0.0\n"
     ]
    }
   ],
   "source": [
    "# bootstrap keeping participants' data together (i.e. sampled ppt n is the same across all distributions)\n",
    "ve_response_dists_novelty, ve_response_means_novelty = parallel_bootstrap(dfs['ve_on']['decode'], \n",
    "                    bootstrap_column = 'gameID',\n",
    "                    condition_column = 'novelty',\n",
    "                    value_columns = ['responded_old'],\n",
    "                    n_iter = 1000,\n",
    "                    stat = np.mean)\n",
    "\n",
    "print('old (${:.3g},\\ 95\\%\\ CI: [{:.3g},\\ {:.3g}]$)'.format(ve_response_means_novelty['old'], *bootstrapped_ci(ve_response_dists_novelty['old'])))\n",
    "print('new (${:.3g},\\ 95\\%\\ CI: [{:.3g},\\ {:.3g}]$)'.format(ve_response_means_novelty['new'], *bootstrapped_ci(ve_response_dists_novelty['new'])))\n",
    "\n",
    "# p_val(dists['view'], dists['build'])\n",
    "\n",
    "print(p_val(ve_response_dists_novelty['old'], ve_response_dists_novelty['new']))\n",
    "\n",
    "# df_recog.novelty"
   ]
  },
  {
   "cell_type": "code",
   "execution_count": null,
   "id": "d5ffd8ae",
   "metadata": {},
   "outputs": [],
   "source": []
  },
  {
   "cell_type": "markdown",
   "id": "b7998665",
   "metadata": {},
   "source": [
    "### working memory"
   ]
  },
  {
   "cell_type": "code",
   "execution_count": 445,
   "id": "30764387",
   "metadata": {},
   "outputs": [],
   "source": [
    "dfs['wm_on']['decode']['novelty'] = ['new' if condition == 'foil' else 'old' for condition in dfs['wm_on']['decode'].condition]"
   ]
  },
  {
   "cell_type": "code",
   "execution_count": 446,
   "id": "7288b139",
   "metadata": {},
   "outputs": [],
   "source": [
    "# bootstrap keeping participants' data together (i.e. sampled ppt n is the same across all distributions)\n",
    "wm_response_dists, wm_response_means = parallel_bootstrap(dfs['wm_on']['decode'], \n",
    "                                                    bootstrap_column = 'gameID',\n",
    "                                                    condition_column = 'condition',\n",
    "                                                    value_columns = ['responded_old'],\n",
    "                                                    n_iter = 1000,\n",
    "                                                    stat = np.mean)"
   ]
  },
  {
   "cell_type": "code",
   "execution_count": 447,
   "id": "b630a958",
   "metadata": {},
   "outputs": [
    {
     "name": "stdout",
     "output_type": "stream",
     "text": [
      "foil ($0.275,\\ 95\\%\\ CI: [0.222,\\ 0.33]$)\n",
      "build ($0.876,\\ 95\\%\\ CI: [0.824,\\ 0.922]$)\n",
      "view ($0.876,\\ 95\\%\\ CI: [0.83,\\ 0.915]$)\n",
      "0.498\n",
      "0.0\n",
      "0.0\n"
     ]
    }
   ],
   "source": [
    "print('foil (${:.3g},\\ 95\\%\\ CI: [{:.3g},\\ {:.3g}]$)'.format(wm_response_means['foil'], *bootstrapped_ci(wm_response_dists['foil'])))\n",
    "print('build (${:.3g},\\ 95\\%\\ CI: [{:.3g},\\ {:.3g}]$)'.format(wm_response_means['build'], *bootstrapped_ci(wm_response_dists['build'])))\n",
    "print('view (${:.3g},\\ 95\\%\\ CI: [{:.3g},\\ {:.3g}]$)'.format(wm_response_means['view'], *bootstrapped_ci(wm_response_dists['view'])))\n",
    "\n",
    "print(p_val(wm_response_dists['view'], wm_response_dists['build']))\n",
    "print(p_val(wm_response_dists['build'], wm_response_dists['foil']))\n",
    "print(p_val(wm_response_dists['view'], wm_response_dists['foil']))"
   ]
  },
  {
   "cell_type": "code",
   "execution_count": 448,
   "id": "9bbd62ab",
   "metadata": {},
   "outputs": [
    {
     "data": {
      "image/png": "[encoded data removed]",
      "text/plain": [
       "<Figure size 400x600 with 1 Axes>"
      ]
     },
     "metadata": {},
     "output_type": "display_data"
    }
   ],
   "source": [
    "fig = plt.figure()\n",
    "\n",
    "sns.barplot(data = dfs['wm_on']['decode'], \n",
    "            y = \"responded_old\", \n",
    "            order = condition_order,\n",
    "            hue = \"condition\",\n",
    "            x = \"condition\",\n",
    "            errorbar=None,\n",
    "            palette=palette)\n",
    "\n",
    "cis = ci_errorbar_values(wm_response_dists, \n",
    "                         wm_response_means, \n",
    "                         order = condition_order)\n",
    "\n",
    "plt.errorbar(y = cis['means'], \n",
    "             x = [0,1,2], \n",
    "             yerr= cis['error_diffs'],\n",
    "             ecolor = '#444444',\n",
    "             fmt='none')\n",
    "\n",
    "plt.ylim((0,1))\n",
    "plt.axhline(0.5, color = 'gray', linestyle = '--',)\n",
    "plt.ylabel('responded old')\n",
    "plt.xlabel('')\n",
    "\n",
    "\n",
    "for spine in fig.gca().spines.values():\n",
    "    spine.set_zorder(1)\n",
    "    spine.set_color('black')\n",
    "\n",
    "plt.savefig(plot_dir + 'encode_wm_recog_response.pdf', bbox_inches='tight')\n",
    "\n",
    "plt.show()"
   ]
  },
  {
   "cell_type": "code",
   "execution_count": 449,
   "id": "ab8cb965",
   "metadata": {},
   "outputs": [
    {
     "name": "stdout",
     "output_type": "stream",
     "text": [
      "old ($0.876,\\ 95\\%\\ CI: [0.843,\\ 0.908]$)\n",
      "new ($0.275,\\ 95\\%\\ CI: [0.222,\\ 0.33]$)\n",
      "0.0\n"
     ]
    }
   ],
   "source": [
    "# bootstrap keeping participants' data together (i.e. sampled ppt n is the same across all distributions)\n",
    "wm_response_dists_novelty, wm_response_means_novelty = parallel_bootstrap(dfs['wm_on']['decode'], \n",
    "                    bootstrap_column = 'gameID',\n",
    "                    condition_column = 'novelty',\n",
    "                    value_columns = ['responded_old'],\n",
    "                    n_iter = 1000,\n",
    "                    stat = np.mean)\n",
    "\n",
    "print('old (${:.3g},\\ 95\\%\\ CI: [{:.3g},\\ {:.3g}]$)'.format(wm_response_means_novelty['old'], *bootstrapped_ci(wm_response_dists_novelty['old'])))\n",
    "print('new (${:.3g},\\ 95\\%\\ CI: [{:.3g},\\ {:.3g}]$)'.format(wm_response_means_novelty['new'], *bootstrapped_ci(wm_response_dists_novelty['new'])))\n",
    "\n",
    "# p_val(dists['view'], dists['build'])\n",
    "\n",
    "print(p_val(wm_response_dists_novelty['old'], wm_response_dists_novelty['new']))\n",
    "\n",
    "# df_recog.nowmlty"
   ]
  },
  {
   "cell_type": "markdown",
   "id": "5508a63b",
   "metadata": {},
   "source": [
    "### Was performance higher in working memory condition?"
   ]
  },
  {
   "cell_type": "markdown",
   "id": "61741b52",
   "metadata": {},
   "source": [
    "#### compare overall accuracy across encoding types"
   ]
  },
  {
   "cell_type": "code",
   "execution_count": null,
   "id": "e84f170c",
   "metadata": {},
   "outputs": [],
   "source": [
    "ve_recog_accuracy_dists, ve_recog_accuracy_means = parallel_bootstrap(dfs['ve_on']['decode'], \n",
    "                    bootstrap_column = 'gameID',\n",
    "                    condition_column = 'encode_type',\n",
    "                    value_columns = ['response_correct'],\n",
    "                    n_iter = 1000,\n",
    "                    stat = np.mean)\n",
    "\n",
    "wm_recog_accuracy_dists, wm_recog_accuracy_means = parallel_bootstrap(dfs['wm_on']['decode'], \n",
    "                    bootstrap_column = 'gameID',\n",
    "                    condition_column = 'encode_type',\n",
    "                    value_columns = ['response_correct'],\n",
    "                    n_iter = 1000,\n",
    "                    stat = np.mean)"
   ]
  },
  {
   "cell_type": "code",
   "execution_count": null,
   "id": "f2e78ef7",
   "metadata": {
    "scrolled": true
   },
   "outputs": [],
   "source": [
    "print('Visual Exposure (${:.3g},\\ 95\\%\\ CI: [{:.3g},\\ {:.3g}]$)'.format(ve_recog_accuracy_means['ve'], *bootstrapped_ci(ve_recog_accuracy_dists['ve'])))\n",
    "print('Working Memory (${:.3g},\\ 95\\%\\ CI: [{:.3g},\\ {:.3g}]$)'.format(wm_recog_accuracy_means['wm'], *bootstrapped_ci(wm_recog_accuracy_dists['wm'])))"
   ]
  },
  {
   "cell_type": "code",
   "execution_count": null,
   "id": "0b3b4144",
   "metadata": {
    "scrolled": true
   },
   "outputs": [],
   "source": [
    "np.sum((np.array(wm_recog_accuracy_diffs['wm']) - np.array(ve_recog_accuracy_diffs['ve'])) < 0)/1000"
   ]
  },
  {
   "cell_type": "markdown",
   "id": "27a516b2",
   "metadata": {},
   "source": [
    "#### compare differences in response in each condition (not used in paper)"
   ]
  },
  {
   "cell_type": "code",
   "execution_count": null,
   "id": "33567969",
   "metadata": {},
   "outputs": [],
   "source": [
    "response_diffs_dist = {}\n",
    "response_diffs_means = {}\n",
    "\n",
    "for i, (condition, v) in enumerate(wm_response_dists.items()):\n",
    "    response_diffs_dist[condition] = [wm_mean - ve_mean for (wm_mean, ve_mean) in\\\n",
    "                                 zip(wm_response_dists[condition], ve_response_dists[condition])]\n",
    "    \n",
    "    response_diffs_means[condition] = wm_response_means[condition] - ve_response_means[condition]"
   ]
  },
  {
   "cell_type": "code",
   "execution_count": null,
   "id": "10a6cd81",
   "metadata": {},
   "outputs": [],
   "source": [
    "np.sum(np.array(response_diffs_dist['foil']) < 0)/1000"
   ]
  },
  {
   "cell_type": "code",
   "execution_count": null,
   "id": "d0619988",
   "metadata": {},
   "outputs": [],
   "source": [
    "np.sum(np.array(response_diffs_dist['build']) < 0)/1000"
   ]
  },
  {
   "cell_type": "code",
   "execution_count": null,
   "id": "2c809ac7",
   "metadata": {},
   "outputs": [],
   "source": [
    "np.sum(np.array(response_diffs_dist['view']) < 0)/1000"
   ]
  },
  {
   "cell_type": "code",
   "execution_count": null,
   "id": "f5baf4cb",
   "metadata": {},
   "outputs": [],
   "source": [
    "dfs['ve_on']['decode'].loc[:,'encode_type'] = 've'\n",
    "dfs['wm_on']['decode'].loc[:,'encode_type'] = 'wm'\n",
    "\n",
    "df_recog_both = pd.concat([dfs['ve_on']['decode'], dfs['wm_on']['decode']], ignore_index=True)\n",
    "df_recog_both.to_csv(experiment_results_dir + '/df_recog_both.csv')"
   ]
  },
  {
   "cell_type": "markdown",
   "id": "611ad3c9",
   "metadata": {},
   "source": [
    "# Experiment 4: Encoding type for recall"
   ]
  },
  {
   "cell_type": "code",
   "execution_count": 362,
   "id": "853fb023",
   "metadata": {},
   "outputs": [
    {
     "name": "stdout",
     "output_type": "stream",
     "text": [
      "55 ppts to start with\n",
      "4 ppts removed for incomplete encoding phase\n",
      "0 ppts removed for incomplete decoding phase\n",
      "0 ppts removed for key mashing\n",
      "0 ppts removed for waiting too long between phases\n",
      "51 ppts remaining\n"
     ]
    }
   ],
   "source": [
    "# appply exclusion criteria\n",
    "df = dfs['wm_on']\n",
    "\n",
    "print('{} ppts to start with'.format(df['encode'].gameID.nunique()))\n",
    "\n",
    "excluded = []\n",
    "\n",
    "# didn't complete all encoding trials\n",
    "incomplete = df['encode'].groupby('gameID').apply(len) < 24\n",
    "excluded += list(set(incomplete.index[incomplete]))\n",
    "print('{} ppts removed for incomplete encoding phase'.format(len(list(incomplete.index[incomplete]))))\n",
    "\n",
    "# didn't complete all decode trials\n",
    "incomplete_decode = df['decode'].groupby('gameID').apply(len) < 12\n",
    "excluded += list(incomplete_decode.index[incomplete_decode])\n",
    "print('{} ppts removed for incomplete decoding phase'.format(len(list(incomplete_decode.index[incomplete_decode]))))\n",
    "\n",
    "# >90% response with same key\n",
    "response_mean = df['decode'].groupby('gameID').apply(lambda g: np.mean(g.responded_old))\n",
    "key_mashing = (response_mean > 0.9) | (response_mean < 0.1)\n",
    "excluded += list(key_mashing.index[key_mashing])\n",
    "print('{} ppts removed for key mashing'.format(len(list(key_mashing.index[key_mashing]))))\n",
    "\n",
    "# 10 mins between end of encode and start of decode\n",
    "e_time = df['encode'].groupby('gameID').last().reset_index()[['gameID','timeAbsolute']]\n",
    "d_time = df['decode'].groupby('gameID').first().reset_index()[['gameID','trial_start_time']]\n",
    "time_diff = e_time.merge(d_time, on = 'gameID', how = 'outer')\n",
    "time_diff = time_diff[~(time_diff.timeAbsolute.isna() | time_diff.trial_start_time.isna())]\n",
    "time_diff.loc[:, 'between_phase_time'] = (time_diff.trial_start_time-time_diff.timeAbsolute)/60000\n",
    "big_wait = (time_diff.loc[:, 'between_phase_time'] > 10)\n",
    "excluded += list(set((big_wait.index[big_wait])))\n",
    "print('{} ppts removed for waiting too long between phases'.format(len(list(big_wait.index[big_wait]))))\n",
    "\n",
    "print('{} ppts remaining'.format(df['encode'][~df['encode'].gameID.isin(excluded)].gameID.nunique()))\n",
    "exclude_ppts(df, excluded)"
   ]
  },
  {
   "cell_type": "code",
   "execution_count": 363,
   "id": "8931cbf7",
   "metadata": {},
   "outputs": [
    {
     "name": "stdout",
     "output_type": "stream",
     "text": [
      "51 ppts to start with\n",
      "1 ppts removed for incomplete encoding phase\n",
      "0 ppts removed for incomplete decoding phase\n",
      "0 ppts removed for waiting too long between phases\n",
      "50 ppts remaining\n"
     ]
    }
   ],
   "source": [
    "# appply exclusion criteria\n",
    "df = dfs['wm_re']\n",
    "\n",
    "print('{} ppts to start with'.format(df['encode'].gameID.nunique()))\n",
    "\n",
    "excluded = []\n",
    "\n",
    "# didn't complete all encoding trials\n",
    "incomplete = df['encode'].groupby('gameID').apply(len) < 24\n",
    "excluded += list(set(incomplete.index[incomplete]))\n",
    "print('{} ppts removed for incomplete encoding phase'.format(len(list(incomplete.index[incomplete]))))\n",
    "\n",
    "# didn't complete all decode trials\n",
    "incomplete_decode = df['decode'].groupby('gameID').apply(len) < 1\n",
    "excluded += list(incomplete_decode.index[incomplete_decode])\n",
    "print('{} ppts removed for incomplete decoding phase'.format(len(list(incomplete_decode.index[incomplete_decode]))))\n",
    "\n",
    "# 10 mins between end of encode and start of decode\n",
    "e_time = df['encode'].groupby('gameID').last().reset_index()[['gameID','timeAbsolute']]\n",
    "d_time = df['decode'].groupby('gameID').first().reset_index()[['gameID','trial_start_time']]\n",
    "time_diff = e_time.merge(d_time, on = 'gameID', how = 'outer')\n",
    "time_diff = time_diff[~(time_diff.timeAbsolute.isna() | time_diff.trial_start_time.isna())]\n",
    "time_diff.loc[:, 'between_phase_time'] = (time_diff.trial_start_time-time_diff.timeAbsolute)/60000\n",
    "big_wait = (time_diff.loc[:, 'between_phase_time'] > 10)\n",
    "excluded += list(set((big_wait.index[big_wait])))\n",
    "print('{} ppts removed for waiting too long between phases'.format(len(list(big_wait.index[big_wait]))))\n",
    "\n",
    "print('{} ppts remaining'.format(df['encode'][~df['encode'].gameID.isin(excluded)].gameID.nunique()))\n",
    "exclude_ppts(df, excluded)"
   ]
  },
  {
   "cell_type": "code",
   "execution_count": 370,
   "id": "64ce976b",
   "metadata": {},
   "outputs": [],
   "source": [
    "def leftmost_x(blocks):\n",
    "    return min([block['x'] for block in blocks])\n",
    "\n",
    "def translate_tower_x(blocks, n):\n",
    "    new_blocks = [{'x': block['x'] + n, 'y': block['y'], 'width': block['width'], 'height': block['height']} for block in blocks]\n",
    "    return new_blocks\n",
    "\n",
    "def align_tower_left(blocks):\n",
    "    min_x = leftmost_x(blocks)\n",
    "    new_blocks = translate_tower_x(blocks, -min_x)\n",
    "    assert leftmost_x(new_blocks) == 0\n",
    "    return new_blocks\n"
   ]
  },
  {
   "cell_type": "markdown",
   "id": "64dd62e3",
   "metadata": {},
   "source": [
    "#### create accuracy score for WM encode type "
   ]
  },
  {
   "cell_type": "code",
   "execution_count": 477,
   "id": "27840fef",
   "metadata": {},
   "outputs": [],
   "source": [
    "df_recalls_ve = dfs['ve_re']['recalls'].query('endReason != \"give-up\"').copy()\n",
    "df_recalls_ve.loc[:,'nTower'] = df_recalls_ve.trial_index-16"
   ]
  },
  {
   "cell_type": "code",
   "execution_count": 478,
   "id": "e3541f91",
   "metadata": {},
   "outputs": [],
   "source": [
    "df_recalls_ve.loc[:,'alignedTowerBlocks'] = df_recalls_ve['blocks'].apply(ast.literal_eval).apply(align_tower_left)"
   ]
  },
  {
   "cell_type": "code",
   "execution_count": 479,
   "id": "79fcce68",
   "metadata": {},
   "outputs": [],
   "source": [
    "# find block map aligned to left\n",
    "df_recalls_ve.loc[:,'alignedRecallMap'] = \\\n",
    "    df_recalls_ve['alignedTowerBlocks'].apply(lambda x: utils.worldify(x, \n",
    "                                                                            world_width = 10,\n",
    "                                                                            world_height = 12).block_map)\n",
    "\n",
    "# make hashable\n",
    "df_recalls_ve.loc[:,'alignedRecallMapHashable'] = df_recalls_ve['alignedRecallMap'].apply\\\n",
    "                                                    (lambda block_map: tuple(tuple(row) for row in block_map))\n"
   ]
  },
  {
   "cell_type": "code",
   "execution_count": 480,
   "id": "cc8344da",
   "metadata": {},
   "outputs": [
    {
     "name": "stdout",
     "output_type": "stream",
     "text": [
      "widest recalled tower is of width 8\n",
      "world for calculating max f1 score must 12 wide\n",
      "tallest recalled tower is of height 8\n",
      "world for calculating max f1 score must 14 high\n"
     ]
    }
   ],
   "source": [
    "# pad towers with zeros so we can maximize F1 score\n",
    "max_recall_width = df_recalls_ve['alignedRecallMap'].apply(tower_width).max()\n",
    "stim_width = 4\n",
    "\n",
    "print('widest recalled tower is of width ' + str(max_recall_width))\n",
    "print('world for calculating max f1 score must {} wide'.format(str(max_recall_width + stim_width)))\n",
    "\n",
    "right_padding = max(0, max_recall_width-6)\n",
    "\n",
    "\n",
    "max_recall_height = df_recalls_ve['alignedRecallMap'].apply(tower_height).max()\n",
    "stim_height = 6\n",
    "\n",
    "print('tallest recalled tower is of height ' + str(max_recall_height))\n",
    "print('world for calculating max f1 score must {} high'.format(str(max_recall_height + stim_height)))\n",
    "\n",
    "# remove duplicate towers\n",
    "remove_duplicates = False\n",
    "\n",
    "if remove_duplicates:\n",
    "    # consider towers the same if their corresponding block maps are identical\n",
    "    df_recalls_ve_unique = df_recalls_ve.sort_values(['nTower']).groupby(['gameID', 'alignedRecallMapHashable']).first().reset_index()\n",
    "\n",
    "    print(\"removed {} duplicate towers\".format(len(df_recalls_ve) - len(df_recalls_ve_unique)))\n",
    "\n",
    "    \n",
    "\n",
    "df_recalls_ve.loc[:,'paddedRecallMap'] = df_recalls_ve['alignedRecallMap'].apply\\\n",
    "                                                (lambda x: pad_array(x, max_recall_width + right_padding, side=\"right\"))\n"
   ]
  },
  {
   "cell_type": "code",
   "execution_count": 481,
   "id": "1c4623a9",
   "metadata": {},
   "outputs": [],
   "source": [
    "df_learn_ve_re = dfs['ve_re']['encode']"
   ]
  },
  {
   "cell_type": "code",
   "execution_count": 482,
   "id": "d0f6c2cd",
   "metadata": {},
   "outputs": [],
   "source": [
    "# center and pad stimuli\n",
    "df_learn_ve_re.loc[:,'alignedStimulusMap'] = df_learn_ve_re['stimulus']\\\n",
    "                                                .apply(ast.literal_eval)\\\n",
    "                                                .apply(lambda x: utils.worldify(x['blocks'], \n",
    "                                                   world_width = 10,\n",
    "                                                   world_height = 12).block_map)\n",
    "\n",
    "df_learn_ve_re.loc[:,'alignedStimulusMapHashable'] = df_learn_ve_re['alignedStimulusMap'].apply\\\n",
    "                                                    (lambda block_map: tuple(tuple(row) for row in block_map))\n",
    "\n",
    "# pad horizontally with zeros  \n",
    "\n",
    "# add padding to left (max width of recall)\n",
    "df_learn_ve_re.loc[:,'paddedStimulusMap'] = df_learn_ve_re['alignedStimulusMap'].apply(lambda x: pad_array(x, max_recall_width))\n",
    "\n",
    "# add padding to right (gap)\n",
    "df_learn_ve_re.loc[:,'paddedStimulusMap'] = df_learn_ve_re['paddedStimulusMap'].apply(lambda x: pad_array(x, right_padding, side=\"right\"))"
   ]
  },
  {
   "cell_type": "code",
   "execution_count": 483,
   "id": "9427c80d",
   "metadata": {},
   "outputs": [],
   "source": [
    "# find stimulus of matching color\n",
    "df_recalls_ve.loc[:,'color_str'] = df_recalls_ve.color.apply(str)\n",
    "df_learn_ve_re.loc[:,'color_str'] = df_learn_ve_re.towerColor.apply(str)\n",
    "\n",
    "df_learn_last_trial_ve = df_learn_ve_re.groupby(['gameID','tower_id_tall']).last().reset_index()\n",
    "\n",
    "df_color_matched_ve = df_learn_last_trial_ve.merge(df_recalls_ve, \n",
    "                                                   how='left', \n",
    "                                                   on = ['gameID','color_str'], \n",
    "                                                   suffixes=['_learn','_recalled'])\n",
    "\n",
    "df_color_matched_ve.loc[:,'score'] = 0\n",
    "\n",
    "df_color_matched_ve.loc[~df_color_matched_ve.paddedRecallMap.isna(), 'score'] = \\\n",
    "    df_color_matched_ve.loc[~df_color_matched_ve.paddedRecallMap.isna()].apply(\\\n",
    "            lambda row: best_score(row['paddedStimulusMap'], row['paddedRecallMap'])[0], \n",
    "            axis=1)"
   ]
  },
  {
   "cell_type": "code",
   "execution_count": 485,
   "id": "47625a03",
   "metadata": {},
   "outputs": [
    {
     "data": {
      "image/png": "[encoded data removed]",
      "text/plain": [
       "<Figure size 400x600 with 1 Axes>"
      ]
     },
     "metadata": {},
     "output_type": "display_data"
    }
   ],
   "source": [
    "fig = plt.figure(figsize=(4,6))\n",
    "\n",
    "sns.barplot(df_color_matched_ve,\n",
    "            x = 'condition',\n",
    "            hue='condition',\n",
    "            hue_order = ['build','view'],\n",
    "            order = ['build','view'],\n",
    "            palette=palette,\n",
    "            y = 'score')\n",
    "\n",
    "for spine in fig.gca().spines.values():\n",
    "    spine.set_zorder(1)\n",
    "    spine.set_color('black')\n",
    "\n",
    "plt.ylim((0,0.7))\n",
    "plt.title('')\n",
    "plt.ylabel('reconstruction accuracy (IoU)')\n",
    "plt.xlabel('')\n",
    "\n",
    "plt.savefig(plot_dir + 'encode_ve_recall_match_score.pdf', bbox_inches='tight')"
   ]
  },
  {
   "cell_type": "code",
   "execution_count": 486,
   "id": "d4c02190",
   "metadata": {},
   "outputs": [],
   "source": [
    "df_color_matched_ve.loc[:,'attempted_recall'] = ~df_color_matched_ve.nTower.isna()\n",
    "df_color_matched_ve.loc[:,'perfectly_recalled'] = df_color_matched_ve.score == 1"
   ]
  },
  {
   "cell_type": "code",
   "execution_count": 487,
   "id": "f7b192b0",
   "metadata": {},
   "outputs": [],
   "source": [
    "df_encode_with_recalls_ve = df_color_matched_ve\n",
    "df_encode_with_recalls_ve.loc[:,'encode_type'] = 've'\n",
    "df_encode_with_recalls_ve.to_csv(experiment_results_dir + '/df_encode_with_recalls_ve.csv')"
   ]
  },
  {
   "cell_type": "code",
   "execution_count": 497,
   "id": "bc3ce0fa",
   "metadata": {},
   "outputs": [
    {
     "data": {
      "text/plain": [
       "0      False\n",
       "1       True\n",
       "2      False\n",
       "3       True\n",
       "4       True\n",
       "       ...  \n",
       "295     True\n",
       "296    False\n",
       "297    False\n",
       "298    False\n",
       "299    False\n",
       "Name: attempted_recall, Length: 300, dtype: bool"
      ]
     },
     "execution_count": 497,
     "metadata": {},
     "output_type": "execute_result"
    }
   ],
   "source": [
    "df_color_matched_ve.loc[:,'attempted_recall']"
   ]
  },
  {
   "cell_type": "code",
   "execution_count": 540,
   "id": "de99424a",
   "metadata": {},
   "outputs": [
    {
     "name": "stdout",
     "output_type": "stream",
     "text": [
      "attempted: ($3.7,\\ 95\\%\\ CI: [3.22,\\ 4.16]$)\n"
     ]
    }
   ],
   "source": [
    "ve_all_recall_dist, ve_all_recall_mean = parallel_bootstrap(df_color_matched_ve,\n",
    "                   bootstrap_column = 'gameID',\n",
    "                   condition_column = 'encode_type',\n",
    "                   value_columns = ['attempted_recall'],\n",
    "                   stat = np.sum\n",
    "                  )\n",
    "\n",
    "print('attempted: (${:.3g},\\ 95\\%\\ CI: [{:.3g},\\ {:.3g}]$)'.format(ve_all_recall_mean['ve'], *bootstrapped_ci(ve_all_recall_dist['ve'])))\n"
   ]
  },
  {
   "cell_type": "code",
   "execution_count": 551,
   "id": "17d85d50",
   "metadata": {},
   "outputs": [
    {
     "name": "stdout",
     "output_type": "stream",
     "text": [
      "perfect: ($1.1,\\ 95\\%\\ CI: [0.78,\\ 1.46]$)\n"
     ]
    }
   ],
   "source": [
    "ve_all_perfect_recall_dist, ve_all_perfect_recall_mean = parallel_bootstrap(df_color_matched_ve,\n",
    "                   bootstrap_column = 'gameID',\n",
    "                   condition_column = 'encode_type',\n",
    "                   value_columns = ['perfectly_recalled'],\n",
    "                   stat = np.sum\n",
    "                  )\n",
    "\n",
    "print('perfect: (${:.3g},\\ 95\\%\\ CI: [{:.3g},\\ {:.3g}]$)'.format(ve_all_perfect_recall_mean['ve'], *bootstrapped_ci(ve_all_perfect_recall_dist['ve'])))\n"
   ]
  },
  {
   "cell_type": "markdown",
   "id": "39659234",
   "metadata": {},
   "source": [
    "#### create accuracy score for WM encode type"
   ]
  },
  {
   "cell_type": "code",
   "execution_count": 488,
   "id": "b025b296",
   "metadata": {},
   "outputs": [],
   "source": [
    "df_recalls_wm = dfs['wm_re']['recalls'].query('endReason != \"give-up\"').copy()\n",
    "df_recalls_wm.loc[:,'nTower'] = df_recalls_wm.trial_index-28"
   ]
  },
  {
   "cell_type": "code",
   "execution_count": 489,
   "id": "fde0f044",
   "metadata": {},
   "outputs": [],
   "source": [
    "df_recalls_wm.loc[:,'alignedTowerBlocks'] = df_recalls_wm['blocks'].apply(ast.literal_eval).apply(align_tower_left)"
   ]
  },
  {
   "cell_type": "code",
   "execution_count": 490,
   "id": "00b1b957",
   "metadata": {},
   "outputs": [],
   "source": [
    "# find block map aligned to left\n",
    "df_recalls_wm.loc[:,'alignedRecallMap'] = \\\n",
    "    df_recalls_wm['alignedTowerBlocks'].apply(lambda x: utils.worldify(x, \n",
    "                                                                            world_width = 10,\n",
    "                                                                            world_height = 12).block_map)\n",
    "\n",
    "# make hashable\n",
    "df_recalls_wm.loc[:,'alignedRecallMapHashable'] = df_recalls_wm['alignedRecallMap'].apply\\\n",
    "                                                    (lambda block_map: tuple(tuple(row) for row in block_map))\n"
   ]
  },
  {
   "cell_type": "code",
   "execution_count": 491,
   "id": "b7d22473",
   "metadata": {},
   "outputs": [
    {
     "name": "stdout",
     "output_type": "stream",
     "text": [
      "widest recalled tower is of width 7\n",
      "world for calculating max score must 11 wide\n",
      "tallest recalled tower is of height 8\n",
      "world for calculating max score must 14 high\n"
     ]
    }
   ],
   "source": [
    "# pad towers with zeros so we can maximize score\n",
    "max_recall_width = df_recalls_wm['alignedRecallMap'].apply(tower_width).max()\n",
    "stim_width = 4\n",
    "\n",
    "print('widest recalled tower is of width ' + str(max_recall_width))\n",
    "print('world for calculating max score must {} wide'.format(str(max_recall_width + stim_width)))\n",
    "\n",
    "right_padding = max(0, max_recall_width-6)\n",
    "\n",
    "\n",
    "max_recall_height = df_recalls_wm['alignedRecallMap'].apply(tower_height).max()\n",
    "stim_height = 6\n",
    "\n",
    "print('tallest recalled tower is of height ' + str(max_recall_height))\n",
    "print('world for calculating max score must {} high'.format(str(max_recall_height + stim_height)))\n",
    "\n",
    "# remove duplicate towers\n",
    "remove_duplicates = False\n",
    "\n",
    "if remove_duplicates:\n",
    "    # consider towers the same if their corresponding block maps are identical\n",
    "    df_recalls_wm_unique = df_recalls_wm.sort_values(['nTower']).groupby(['gameID', 'alignedRecallMapHashable']).first().reset_index()\n",
    "\n",
    "    print(\"removed {} duplicate towers\".format(len(df_recalls_wm) - len(df_recalls_wm_unique)))\n",
    "\n",
    "    \n",
    "\n",
    "df_recalls_wm.loc[:,'paddedRecallMap'] = df_recalls_wm['alignedRecallMap'].apply\\\n",
    "                                                (lambda x: pad_array(x, max_recall_width + right_padding, side=\"right\"))\n"
   ]
  },
  {
   "cell_type": "code",
   "execution_count": 492,
   "id": "8481f238",
   "metadata": {},
   "outputs": [],
   "source": [
    "df_learn_wm_re = dfs['wm_re']['encode']"
   ]
  },
  {
   "cell_type": "code",
   "execution_count": 493,
   "id": "92cca64f",
   "metadata": {},
   "outputs": [],
   "source": [
    "# center and pad stimuli\n",
    "df_learn_wm_re.loc[:,'alignedStimulusMap'] = df_learn_wm_re['stimulus']\\\n",
    "                                                .apply(ast.literal_eval)\\\n",
    "                                                .apply(lambda x: utils.worldify(x['blocks'], \n",
    "                                                   world_width = 10,\n",
    "                                                   world_height = 12).block_map)\n",
    "\n",
    "df_learn_wm_re.loc[:,'alignedStimulusMapHashable'] = df_learn_wm_re['alignedStimulusMap'].apply\\\n",
    "                                                    (lambda block_map: tuple(tuple(row) for row in block_map))\n",
    "\n",
    "# pad horizontally with zeros  \n",
    "\n",
    "# add padding to left (max width of recall)\n",
    "df_learn_wm_re.loc[:,'paddedStimulusMap'] = df_learn_wm_re['alignedStimulusMap'].apply(lambda x: pad_array(x, max_recall_width))\n",
    "\n",
    "# add padding to right (gap)\n",
    "df_learn_wm_re.loc[:,'paddedStimulusMap'] = df_learn_wm_re['paddedStimulusMap'].apply(lambda x: pad_array(x, right_padding, side=\"right\"))"
   ]
  },
  {
   "cell_type": "code",
   "execution_count": 494,
   "id": "73025dc4",
   "metadata": {},
   "outputs": [
    {
     "data": {
      "image/png": "[encoded data removed]",
      "text/plain": [
       "<Figure size 400x600 with 1 Axes>"
      ]
     },
     "metadata": {},
     "output_type": "display_data"
    }
   ],
   "source": [
    "# find stimulus of matching color\n",
    "df_recalls_wm.loc[:,'color_str'] = df_recalls_wm.color.apply(str)\n",
    "df_learn_wm_re.loc[:,'color_str'] = df_learn_wm_re.towerColor.apply(str)\n",
    "\n",
    "df_learn_last_trial_wm = df_learn_wm_re.groupby(['gameID','tower_id_tall']).last().reset_index()\n",
    "\n",
    "df_color_matched_wm = df_learn_last_trial_wm.merge(df_recalls_wm, \n",
    "                                                   how='left', \n",
    "                                                   on = ['gameID','color_str'], \n",
    "                                                   suffixes=['_learn','_recalled'])\n",
    "\n",
    "#df_color_matched.rename(columns= {'alignedBlockMaps':'target_block_map'})\n",
    "\n",
    "df_color_matched_wm.loc[:,'score'] = 0\n",
    "fig = plt.figure(figsize=(4,6))\n",
    "\n",
    "sns.barplot(df_color_matched_wm,\n",
    "            x = 'condition',\n",
    "            hue='condition',\n",
    "            palette=palette,\n",
    "            y = 'score')\n",
    "\n",
    "for spine in fig.gca().spines.values():\n",
    "    spine.set_zorder(1)\n",
    "    spine.set_color('black')\n",
    "\n",
    "plt.title('average score')\n",
    "df_color_matched_wm.loc[~df_color_matched_wm.paddedRecallMap.isna(), 'score'] = \\\n",
    "    df_color_matched_wm.loc[~df_color_matched_wm.paddedRecallMap.isna()].apply(\\\n",
    "            lambda row: best_score(row['paddedStimulusMap'], row['paddedRecallMap'])[0], \n",
    "            axis=1)"
   ]
  },
  {
   "cell_type": "code",
   "execution_count": 495,
   "id": "303ef128",
   "metadata": {},
   "outputs": [
    {
     "data": {
      "image/png": "[encoded data removed]",
      "text/plain": [
       "<Figure size 400x600 with 1 Axes>"
      ]
     },
     "metadata": {},
     "output_type": "display_data"
    }
   ],
   "source": [
    "fig = plt.figure(figsize=(4,6))\n",
    "\n",
    "sns.barplot(df_color_matched_wm,\n",
    "            x = 'condition',\n",
    "            hue='condition',\n",
    "            hue_order = ['build','view'],\n",
    "            order = ['build','view'],\n",
    "            palette=palette,\n",
    "            y = 'score')\n",
    "\n",
    "for spine in fig.gca().spines.values():\n",
    "    spine.set_zorder(1)\n",
    "    spine.set_color('black')\n",
    "\n",
    "plt.ylim((0,0.7))\n",
    "    \n",
    "plt.title('')\n",
    "plt.ylabel('reconstruction accuracy (IoU)')\n",
    "plt.xlabel('')\n",
    "\n",
    "plt.savefig(plot_dir + 'encode_wm_recall_match_score.pdf', bbox_inches='tight')"
   ]
  },
  {
   "cell_type": "code",
   "execution_count": 496,
   "id": "418c2605",
   "metadata": {},
   "outputs": [],
   "source": [
    "# diff between condition,\n",
    "\n",
    "\n",
    "# sns.pointplot(data = df_color_matched_wm,\n",
    "#                 y = \"score\",\n",
    "#                 x = \"condition\",\n",
    "#                 hue = \"gameID\",\n",
    "#                 order=[\"view\",\"build\"],\n",
    "#                 alpha=0.3\n",
    "#              )\n",
    "\n",
    "# plt.title('score between condition, by participant')\n",
    "\n",
    "# plt.legend([],[], frameon=False)"
   ]
  },
  {
   "cell_type": "code",
   "execution_count": 547,
   "id": "dd6168a3",
   "metadata": {},
   "outputs": [],
   "source": [
    "df_color_matched_wm.loc[:,'attempted_recall'] = ~df_color_matched_wm.nTower.isna()\n",
    "df_color_matched_wm.loc[:,'perfectly_recalled'] = df_color_matched_wm.score == 1"
   ]
  },
  {
   "cell_type": "code",
   "execution_count": 548,
   "id": "b16853c4",
   "metadata": {},
   "outputs": [],
   "source": [
    "df_encode_with_recalls_wm = df_color_matched_wm\n",
    "df_encode_with_recalls_wm.loc[:,'encode_type'] = 'wm'\n",
    "df_encode_with_recalls_wm.to_csv(experiment_results_dir + '/df_encode_with_recalls_wm.csv')"
   ]
  },
  {
   "cell_type": "code",
   "execution_count": 550,
   "id": "2f76c8de",
   "metadata": {},
   "outputs": [
    {
     "name": "stdout",
     "output_type": "stream",
     "text": [
      "attempted: ($3.86,\\ 95\\%\\ CI: [3.34,\\ 4.38]$)\n"
     ]
    }
   ],
   "source": [
    "wm_all_recall_dist, wm_all_recall_mean = parallel_bootstrap(df_color_matched_wm,\n",
    "                   bootstrap_column = 'gameID',\n",
    "                   condition_column = 'encode_type',\n",
    "                   value_columns = ['attempted_recall'],\n",
    "                   stat = np.sum\n",
    "                  )\n",
    "\n",
    "print('attempted: (${:.3g},\\ 95\\%\\ CI: [{:.3g},\\ {:.3g}]$)'.format(wm_all_recall_mean['wm'], *bootstrapped_ci(wm_all_recall_dist['wm'])))\n"
   ]
  },
  {
   "cell_type": "code",
   "execution_count": 549,
   "id": "b035336b",
   "metadata": {},
   "outputs": [
    {
     "name": "stdout",
     "output_type": "stream",
     "text": [
      "perfect: ($1.28,\\ 95\\%\\ CI: [0.86,\\ 1.7]$)\n"
     ]
    }
   ],
   "source": [
    "wm_all_perfect_recall_dist, wm_all_perfect_recall_mean = parallel_bootstrap(df_color_matched_wm,\n",
    "                   bootstrap_column = 'gameID',\n",
    "                   condition_column = 'encode_type',\n",
    "                   value_columns = ['perfectly_recalled'],\n",
    "                   stat = np.sum\n",
    "                  )\n",
    "\n",
    "print('perfect: (${:.3g},\\ 95\\%\\ CI: [{:.3g},\\ {:.3g}]$)'.format(wm_all_perfect_recall_mean['wm'], *bootstrapped_ci(wm_all_perfect_recall_dist['wm'])))\n"
   ]
  },
  {
   "cell_type": "markdown",
   "id": "5b55fc45",
   "metadata": {},
   "source": [
    "### combine data from VE and WM"
   ]
  },
  {
   "cell_type": "code",
   "execution_count": 558,
   "id": "580d6079",
   "metadata": {},
   "outputs": [
    {
     "name": "stdout",
     "output_type": "stream",
     "text": [
      "attempted: ($3.78,\\ 95\\%\\ CI: [3.44,\\ 4.11]$)\n"
     ]
    }
   ],
   "source": [
    "df_encode_with_recalls_both.loc[:,'all'] = 'all'\n",
    "wm_both_perfect_recall_dist, wm_both_perfect_recall_mean = parallel_bootstrap(df_encode_with_recalls_both,\n",
    "                   bootstrap_column = 'gameID',\n",
    "                   condition_column = 'all',\n",
    "                   value_columns = ['attempted_recall'],\n",
    "                   stat = np.sum\n",
    "                  )\n",
    "\n",
    "print('attempted: (${:.3g},\\ 95\\%\\ CI: [{:.3g},\\ {:.3g}]$)'.format(wm_both_perfect_recall_mean['all'], *bootstrapped_ci(wm_both_perfect_recall_dist['all'])))\n",
    "# print('perfect: (${:.3g},\\ 95\\%\\ CI: [{:.3g},\\ {:.3g}]$)'.format(wm_both_perfect_recall_mean['wm'], *bootstrapped_ci(wm_both_perfect_recall_dist['wm'])))"
   ]
  },
  {
   "cell_type": "code",
   "execution_count": 474,
   "id": "23444ea8",
   "metadata": {},
   "outputs": [],
   "source": [
    "df_encode_with_recalls_both = pd.concat([df_encode_with_recalls_wm, df_encode_with_recalls_ve], ignore_index=True)\n",
    "df_encode_with_recalls_both.to_csv(experiment_results_dir + '/df_encode_with_recalls_both.csv')"
   ]
  },
  {
   "cell_type": "code",
   "execution_count": 475,
   "id": "cc3fae28",
   "metadata": {},
   "outputs": [
    {
     "data": {
      "image/png": "[encoded data removed]",
      "text/plain": [
       "<Figure size 600x500 with 2 Axes>"
      ]
     },
     "metadata": {},
     "output_type": "display_data"
    }
   ],
   "source": [
    "# fig = plt.figure(figsize=(4,6))\n",
    "\n",
    "fac = sns.catplot(df_encode_with_recalls_both,\n",
    "            col = 'encode_type',\n",
    "            x = 'condition',\n",
    "            hue='condition',\n",
    "            y = 'attempted_recall',\n",
    "            palette=palette,\n",
    "            kind = 'bar',\n",
    "            aspect = 0.6,\n",
    "            legend = None\n",
    "           )\n",
    "\n",
    "\n",
    "# for ax in fac.axes.flat:\n",
    "#     for spine in ax.spines.values():\n",
    "#         spine.set_zorder(1)\n",
    "#         spine.set_color('black')\n"
   ]
  },
  {
   "cell_type": "markdown",
   "id": "f07ca13f",
   "metadata": {},
   "source": [
    "## Working memory task performance"
   ]
  },
  {
   "cell_type": "markdown",
   "id": "d1b66601",
   "metadata": {},
   "source": [
    "#### match-to-sample"
   ]
  },
  {
   "cell_type": "code",
   "execution_count": 666,
   "id": "fc9bd03b",
   "metadata": {},
   "outputs": [],
   "source": [
    "dfs['wm_on']['encode'].loc[:,'decode_type'] = 'recog'\n",
    "dfs['wm_re']['encode'].loc[:,'decode_type'] = 'recall'"
   ]
  },
  {
   "cell_type": "code",
   "execution_count": 667,
   "id": "42bad6d0",
   "metadata": {},
   "outputs": [],
   "source": [
    "df_m2s = pd.concat([dfs['wm_on']['encode'].query('trial_type == \"block-tower-match-to-sample\"'),\n",
    "                    dfs['wm_re']['encode'].query('trial_type == \"block-tower-match-to-sample\"')],\n",
    "                    ignore_index = True)"
   ]
  },
  {
   "cell_type": "code",
   "execution_count": 668,
   "id": "3c512712",
   "metadata": {},
   "outputs": [],
   "source": [
    "df_m2s.loc[:,'all'] = 'all'"
   ]
  },
  {
   "cell_type": "code",
   "execution_count": 669,
   "id": "4e2c5e75",
   "metadata": {},
   "outputs": [
    {
     "name": "stdout",
     "output_type": "stream",
     "text": [
      "($0.891,\\ 95\\%\\ CI: [0.856,\\ 0.926]$)\n"
     ]
    }
   ],
   "source": [
    "m2s_acc_dist, m2s_acc_mean = parallel_bootstrap(df_m2s,\n",
    "                   bootstrap_column = 'gameID',\n",
    "                   condition_column = 'all',\n",
    "                   value_columns = ['correct'],\n",
    "                   stat = np.mean\n",
    "                  )\n",
    "\n",
    "print('(${:.3g},\\ 95\\%\\ CI: [{:.3g},\\ {:.3g}]$)'.format(m2s_acc_mean['all'], *bootstrapped_ci(m2s_acc_dist['all'])))\n",
    "# print('perfect: (${:.3g},\\ 95\\%\\ CI: [{:.3g},\\ {:.3g}]$)'.format(wm_both_perfect_recall_mean['wm'], *bootstrapped_ci(wm_both_perfect_recall_dist['wm'])))"
   ]
  },
  {
   "cell_type": "code",
   "execution_count": 670,
   "id": "fdafc998",
   "metadata": {},
   "outputs": [
    {
     "name": "stdout",
     "output_type": "stream",
     "text": [
      "recog ($0.915,\\ 95\\%\\ CI: [0.863,\\ 0.958]$)\n"
     ]
    }
   ],
   "source": [
    "m2s_acc_dist_ve, m2s_acc_mean_ve = parallel_bootstrap(df_m2s.query('decode_type == \"recog\"'),\n",
    "                   bootstrap_column = 'gameID',\n",
    "                   condition_column = 'all',\n",
    "                   value_columns = ['correct'],\n",
    "                   stat = np.mean\n",
    "                  )\n",
    "\n",
    "print('recog (${:.3g},\\ 95\\%\\ CI: [{:.3g},\\ {:.3g}]$)'.format(m2s_acc_mean_ve['all'], *bootstrapped_ci(m2s_acc_dist_ve['all'])))\n",
    "# print('wm (${:.3g},\\ 95\\%\\ CI: [{:.3g},\\ {:.3g}]$)'.format(m2s_acc_mean['wm *bootstrapped_ci(m2s_acc_dist['wm'])))\n",
    "# print('perfect: (${:.3g},\\ 95\\%\\ CI: [{:.3g},\\ {:.3g}]$)'.format(wm_both_perfect_recall_mean['wm'], *bootstrapped_ci(wm_both_perfect_recall_dist['wm'])))"
   ]
  },
  {
   "cell_type": "code",
   "execution_count": 671,
   "id": "02879448",
   "metadata": {},
   "outputs": [
    {
     "name": "stdout",
     "output_type": "stream",
     "text": [
      "recall ($0.867,\\ 95\\%\\ CI: [0.813,\\ 0.917]$)\n"
     ]
    }
   ],
   "source": [
    "m2s_acc_dist_wm, m2s_acc_mean_wm = parallel_bootstrap(df_m2s.query('decode_type == \"recall\"'),\n",
    "                   bootstrap_column = 'gameID',\n",
    "                   condition_column = 'all',\n",
    "                   value_columns = ['correct'],\n",
    "                   stat = np.mean\n",
    "                  )\n",
    "\n",
    "print('recall (${:.3g},\\ 95\\%\\ CI: [{:.3g},\\ {:.3g}]$)'.format(m2s_acc_mean_wm['all'], *bootstrapped_ci(m2s_acc_dist_wm['all'])))\n",
    "# print('wm (${:.3g},\\ 95\\%\\ CI: [{:.3g},\\ {:.3g}]$)'.format(m2s_acc_mean['wm *bootstrapped_ci(m2s_acc_dist['wm'])))\n",
    "# print('perfect: (${:.3g},\\ 95\\%\\ CI: [{:.3g},\\ {:.3g}]$)'.format(wm_both_perfect_recall_mean['wm'], *bootstrapped_ci(wm_both_perfect_recall_dist['wm'])))"
   ]
  },
  {
   "cell_type": "code",
   "execution_count": 607,
   "id": "02d5719b",
   "metadata": {},
   "outputs": [
    {
     "data": {
      "text/plain": [
       "<Axes: xlabel='decode_type', ylabel='correct'>"
      ]
     },
     "execution_count": 607,
     "metadata": {},
     "output_type": "execute_result"
    },
    {
     "data": {
      "image/png": "[encoded data removed]",
      "text/plain": [
       "<Figure size 400x600 with 1 Axes>"
      ]
     },
     "metadata": {},
     "output_type": "display_data"
    }
   ],
   "source": [
    "sns.barplot(df_m2s,\n",
    "           y='correct',\n",
    "           x='decode_type')"
   ]
  },
  {
   "cell_type": "markdown",
   "id": "b26e23b1",
   "metadata": {},
   "source": [
    "#### compare M2S accuracy with recog accuracy"
   ]
  },
  {
   "cell_type": "code",
   "execution_count": null,
   "id": "e9087d9f",
   "metadata": {},
   "outputs": [],
   "source": []
  },
  {
   "cell_type": "markdown",
   "id": "ceeeeef1",
   "metadata": {},
   "source": [
    "#### compare M2S accuracy with recall accuracy"
   ]
  },
  {
   "cell_type": "code",
   "execution_count": null,
   "id": "7635df7f",
   "metadata": {},
   "outputs": [],
   "source": []
  },
  {
   "cell_type": "markdown",
   "id": "1a2af04e",
   "metadata": {},
   "source": [
    "#### Build from memory"
   ]
  },
  {
   "cell_type": "code",
   "execution_count": null,
   "id": "f11a0d64",
   "metadata": {},
   "outputs": [],
   "source": [
    "# need to calculate accuracy as not saved"
   ]
  },
  {
   "cell_type": "code",
   "execution_count": 678,
   "id": "9c27064b",
   "metadata": {},
   "outputs": [],
   "source": [
    "df_bfm = pd.concat([dfs['wm_on']['encode'].query('trial_type == \"block-tower-building-undo-nostim\"'),\n",
    "                    dfs['wm_re']['encode'].query('trial_type == \"block-tower-building-undo-nostim\"')],\n",
    "                    ignore_index = True)\n",
    "df_bfm['all'] = 'all'"
   ]
  },
  {
   "cell_type": "code",
   "execution_count": 679,
   "id": "243cd7b9",
   "metadata": {},
   "outputs": [],
   "source": [
    "def build_from_memory_score(row):\n",
    "    target = utils.worldify(ast.literal_eval(row.stimulus)['blocks']).block_map\n",
    "    reconstruction = 1-np.rot90((np.array(ast.literal_eval(row.discreteWorld))*1))\n",
    "\n",
    "    pad_right = reconstruction.shape[1] - target.shape[1]\n",
    "    pad_top = reconstruction.shape[0] - target.shape[0]\n",
    "    \n",
    "    padded_target = np.pad(target, ((pad_top, 0), (0, pad_right)), mode='constant')\n",
    "    \n",
    "    return best_score(reconstruction, padded_target)[0]"
   ]
  },
  {
   "cell_type": "code",
   "execution_count": 680,
   "id": "fb0c8251",
   "metadata": {},
   "outputs": [],
   "source": [
    "df_bfm['bfm_score'] = df_bfm.apply(build_from_memory_score, axis = 1)"
   ]
  },
  {
   "cell_type": "code",
   "execution_count": 681,
   "id": "88fdc9b1",
   "metadata": {},
   "outputs": [
    {
     "data": {
      "text/plain": [
       "<Axes: xlabel='decode_type', ylabel='bfm_score'>"
      ]
     },
     "execution_count": 681,
     "metadata": {},
     "output_type": "execute_result"
    },
    {
     "data": {
      "image/png": "[encoded data removed]",
      "text/plain": [
       "<Figure size 400x600 with 1 Axes>"
      ]
     },
     "metadata": {},
     "output_type": "display_data"
    }
   ],
   "source": [
    "sns.barplot(df_bfm,\n",
    "           y='bfm_score',\n",
    "           x='decode_type')"
   ]
  },
  {
   "cell_type": "code",
   "execution_count": 682,
   "id": "2dfb378f",
   "metadata": {},
   "outputs": [
    {
     "name": "stdout",
     "output_type": "stream",
     "text": [
      "recog ($0.733,\\ 95\\%\\ CI: [0.688,\\ 0.774]$)\n"
     ]
    }
   ],
   "source": [
    "m2s_acc_dist_ve, m2s_acc_mean_ve = parallel_bootstrap(df_bfm.query('decode_type == \"recog\"'),\n",
    "                   bootstrap_column = 'gameID',\n",
    "                   condition_column = 'all',\n",
    "                   value_columns = ['bfm_score'],\n",
    "                   stat = np.mean\n",
    "                  )\n",
    "\n",
    "print('recog (${:.3g},\\ 95\\%\\ CI: [{:.3g},\\ {:.3g}]$)'.format(m2s_acc_mean_ve['all'], *bootstrapped_ci(m2s_acc_dist_ve['all'])))\n",
    "# print('wm (${:.3g},\\ 95\\%\\ CI: [{:.3g},\\ {:.3g}]$)'.format(m2s_acc_mean['wm *bootstrapped_ci(m2s_acc_dist['wm'])))\n",
    "# print('perfect: (${:.3g},\\ 95\\%\\ CI: [{:.3g},\\ {:.3g}]$)'.format(wm_both_perfect_recall_mean['wm'], *bootstrapped_ci(wm_both_perfect_recall_dist['wm'])))"
   ]
  },
  {
   "cell_type": "code",
   "execution_count": 683,
   "id": "4bbf36b4",
   "metadata": {},
   "outputs": [
    {
     "name": "stdout",
     "output_type": "stream",
     "text": [
      "recall ($0.739,\\ 95\\%\\ CI: [0.7,\\ 0.778]$)\n"
     ]
    }
   ],
   "source": [
    "m2s_acc_dist_wm, m2s_acc_mean_wm = parallel_bootstrap(df_bfm.query('decode_type == \"recall\"'),\n",
    "                   bootstrap_column = 'gameID',\n",
    "                   condition_column = 'all',\n",
    "                   value_columns = ['bfm_score'],\n",
    "                   stat = np.mean\n",
    "                  )\n",
    "\n",
    "print('recall (${:.3g},\\ 95\\%\\ CI: [{:.3g},\\ {:.3g}]$)'.format(m2s_acc_mean_wm['all'], *bootstrapped_ci(m2s_acc_dist_wm['all'])))\n",
    "# print('wm (${:.3g},\\ 95\\%\\ CI: [{:.3g},\\ {:.3g}]$)'.format(m2s_acc_mean['wm *bootstrapped_ci(m2s_acc_dist['wm'])))\n",
    "# print('perfect: (${:.3g},\\ 95\\%\\ CI: [{:.3g},\\ {:.3g}]$)'.format(wm_both_perfect_recall_mean['wm'], *bootstrapped_ci(wm_both_perfect_recall_dist['wm'])))"
   ]
  },
  {
   "cell_type": "code",
   "execution_count": 687,
   "id": "e297ace0",
   "metadata": {},
   "outputs": [
    {
     "name": "stdout",
     "output_type": "stream",
     "text": [
      "rep 1 ($0.68,\\ 95\\%\\ CI: [0.635,\\ 0.724]$)\n",
      "rep 2 ($0.785,\\ 95\\%\\ CI: [0.736,\\ 0.831]$)\n",
      "1.0\n"
     ]
    }
   ],
   "source": [
    "m2s_acc_dist_ve_reps, m2s_acc_mean_ve_reps = parallel_bootstrap(df_bfm.query('decode_type == \"recog\"'),\n",
    "                   bootstrap_column = 'gameID',\n",
    "                   condition_column = 'rep',\n",
    "                   value_columns = ['bfm_score'],\n",
    "                   stat = np.mean\n",
    "                  )\n",
    "\n",
    "print('rep 1 (${:.3g},\\ 95\\%\\ CI: [{:.3g},\\ {:.3g}]$)'.format(m2s_acc_mean_ve_reps[1.0], *bootstrapped_ci(m2s_acc_dist_ve_reps[1.0])))\n",
    "print('rep 2 (${:.3g},\\ 95\\%\\ CI: [{:.3g},\\ {:.3g}]$)'.format(m2s_acc_mean_ve_reps[2.0], *bootstrapped_ci(m2s_acc_dist_ve_reps[2.0])))\n",
    "print(p_val(m2s_acc_dist_ve_reps[1.0], m2s_acc_dist_ve_reps[2.0]))"
   ]
  },
  {
   "cell_type": "markdown",
   "id": "4aa37ed6",
   "metadata": {},
   "source": [
    "#### compare bfm accuracy with recog accuracy"
   ]
  },
  {
   "cell_type": "code",
   "execution_count": null,
   "id": "2362819f",
   "metadata": {},
   "outputs": [],
   "source": []
  },
  {
   "cell_type": "markdown",
   "id": "96a27419",
   "metadata": {},
   "source": [
    "#### compare bfm accuracy with recall accuracy"
   ]
  },
  {
   "cell_type": "code",
   "execution_count": null,
   "id": "c43a50c2",
   "metadata": {},
   "outputs": [],
   "source": []
  },
  {
   "cell_type": "code",
   "execution_count": null,
   "id": "9c36c0ce",
   "metadata": {},
   "outputs": [],
   "source": []
  }
 ],
 "metadata": {
  "kernelspec": {
   "display_name": "Python 3 (ipykernel)",
   "language": "python",
   "name": "python3"
  },
  "language_info": {
   "codemirror_mode": {
    "name": "ipython",
    "version": 3
   },
   "file_extension": ".py",
   "mimetype": "text/x-python",
   "name": "python",
   "nbconvert_exporter": "python",
   "pygments_lexer": "ipython3",
   "version": "3.9.16"
  }
 },
 "nbformat": 4,
 "nbformat_minor": 5
}

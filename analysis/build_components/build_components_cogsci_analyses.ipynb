{
 "cells": [
  {
   "cell_type": "markdown",
   "id": "f822e596",
   "metadata": {},
   "source": [
    "# Analysis for Build Components, CogSci 2024"
   ]
  },
  {
   "cell_type": "code",
   "execution_count": 1,
   "id": "63f17c70",
   "metadata": {},
   "outputs": [
    {
     "name": "stderr",
     "output_type": "stream",
     "text": [
      "/Users/will/opt/miniconda3/lib/python3.9/site-packages/scipy/__init__.py:146: UserWarning: A NumPy version >=1.16.5 and <1.23.0 is required for this version of SciPy (detected version 1.26.3\n",
      "  warnings.warn(f\"A NumPy version >={np_minversion} and <{np_maxversion}\"\n"
     ]
    }
   ],
   "source": [
    "import os\n",
    "import sys\n",
    "import urllib, io\n",
    "import pickle\n",
    "\n",
    "import random\n",
    "import numpy as np\n",
    "import scipy.stats as stats\n",
    "import pandas as pd\n",
    "from sklearn.metrics import euclidean_distances, jaccard_score, pairwise_distances\n",
    "\n",
    "import pymongo as pm\n",
    "from collections import Counter\n",
    "import json\n",
    "import re\n",
    "import ast\n",
    "\n",
    "from PIL import Image, ImageOps, ImageDraw, ImageFont \n",
    "from IPython.core.display import HTML \n",
    "\n",
    "from io import BytesIO\n",
    "import base64\n",
    "import requests\n",
    "\n",
    "import  matplotlib\n",
    "from matplotlib import pylab, mlab, pyplot\n",
    "%matplotlib inline\n",
    "from IPython.core.pylabtools import figsize, getfigs\n",
    "plt = pyplot\n",
    "import matplotlib as mpl\n",
    "mpl.rcParams['pdf.fonttype'] = 42\n",
    "from matplotlib.colors import ListedColormap\n",
    "\n",
    "import seaborn as sns\n",
    "sns.set_context('talk')\n",
    "sns.set_style('darkgrid')\n",
    "\n",
    "from IPython.display import clear_output\n",
    "\n",
    "import warnings\n",
    "warnings.filterwarnings(\"ignore\", category=DeprecationWarning)\n",
    "warnings.filterwarnings(\"ignore\", message=\"numpy.dtype size changed\")\n",
    "warnings.filterwarnings(\"ignore\", message=\"numpy.ufunc size changed\")\n",
    "\n",
    "sys.path.append(\"../../stimuli/block_utils/\")\n",
    "import blockworld_utils as utils\n",
    "import domino_settings as dominoes\n",
    "import domino_settings_monochrome as mono_dominoes\n",
    "\n",
    "import importlib\n"
   ]
  },
  {
   "cell_type": "code",
   "execution_count": 2,
   "id": "e6c4769c",
   "metadata": {},
   "outputs": [],
   "source": [
    "experiment_name = 'build_components/cogsci24'\n",
    "\n",
    "## directory & file hierarchy\n",
    "proj_dir = os.path.abspath('../..')\n",
    "datavol_dir = os.path.join(proj_dir,'data')\n",
    "analysis_dir = os.path.abspath(os.path.join(os.getcwd(),'..'))\n",
    "results_dir = os.path.join(proj_dir,'results')\n",
    "\n",
    "# paths specific to this experiment\n",
    "experiment_results_dir = os.path.join(results_dir, experiment_name)\n",
    "plot_dir = os.path.join(experiment_results_dir,'plots/')\n",
    "# csv_dir = os.path.join(experiment_results_dir,'csv')\n",
    "\n",
    "## add helpers to python path\n",
    "if os.path.join(proj_dir,'stimuli') not in sys.path:\n",
    "    sys.path.append(os.path.join(proj_dir,'stimuli'))\n",
    "    \n",
    "# if not os.path.exists(results_dir):\n",
    "#     os.makedirs(results_dir)\n",
    "    \n",
    "# if not os.path.exists(plot_dir):\n",
    "#     os.makedirs(plot_dir)   \n",
    "    \n",
    "# if not os.path.exists(csv_dir):\n",
    "#     os.makedirs(csv_dir)       "
   ]
  },
  {
   "cell_type": "markdown",
   "id": "9a1ee3a7",
   "metadata": {},
   "source": [
    "## utils"
   ]
  },
  {
   "cell_type": "code",
   "execution_count": 3,
   "id": "c855d75b",
   "metadata": {},
   "outputs": [],
   "source": [
    "def parallel_bootstrap(df, \n",
    "                        bootstrap_column = 'gameID',\n",
    "                        condition_column = 'condition',\n",
    "                        value_columns = ['response_correct'],\n",
    "                        n_iter = 1000,\n",
    "                        seed = 0,\n",
    "                        stat = np.mean):\n",
    "    '''\n",
    "    Bootstrap a distribution of means values for a given statistic while \n",
    "    keeping values of the bootstrapped column consistent across sample distributions.\n",
    "    This can be used to e.g. sample the same participants in each iteration number.\n",
    "    '''\n",
    "\n",
    "    random.seed(seed)\n",
    "    \n",
    "    dists = {}\n",
    "    empirical_stat = {}\n",
    "\n",
    "    if condition_column != None:\n",
    "        conditions = df[condition_column].unique()\n",
    "    else:\n",
    "        conditions = None\n",
    "\n",
    "    grouped = df.groupby([bootstrap_column] + [condition_column])\n",
    "    groups = df[bootstrap_column].unique()\n",
    "    n_groups = df[bootstrap_column].nunique()\n",
    "\n",
    "    grouped_stat = grouped[value_columns].apply(stat) \n",
    "\n",
    "    for condition in conditions:\n",
    "        dists[condition] = []\n",
    "        empirical_stat[condition] = np.mean(grouped_stat.loc[[(group, condition) for group in groups]])\n",
    "        \n",
    "\n",
    "    for i in range(n_iter):\n",
    "\n",
    "        sample = random.choices(groups, k=n_groups)\n",
    "\n",
    "        for condition in conditions:\n",
    "            sample_values = grouped_stat.loc[[(group, condition) for group in sample]]\n",
    "            sample_mean = np.mean(sample_values)\n",
    "            dists[condition].append(sample_mean)\n",
    "\n",
    "    \n",
    "    return dists, empirical_stat\n",
    "\n",
    "def bootstrap(df, bootstrap_column = 'gameID', condition_columns = ['condition'], value_columns = ['response'], n_iter = 1000, stat = np.mean):\n",
    "    '''\n",
    "    Bootstrap a distribution of means values for a given statistic.\n",
    "    '''\n",
    "    \n",
    "    aggregate_values = [] # list of means of statistic for each sample\n",
    "\n",
    "\n",
    "    df_build_dists_baseline_all = pd.DataFrame()\n",
    "    grouped = df.groupby([bootstrap_column] + condition_columns)\n",
    "    groups = df[bootstrap_column].unique()\n",
    "    grouped_stat = grouped[value_columns].apply(stat) # apply statistic to each group \n",
    "\n",
    "    for i in range(n_iter):\n",
    "        # sample groups to get list of statistics\n",
    "        sample = grouped_stat.sample(n=grouped.ngroups, replace=True).reset_index(drop=True)\n",
    "        \n",
    "        aggregate_values.append(np.mean(sample))\n",
    "    \n",
    "    return aggregate_values\n",
    "\n",
    "def bootstrapped_ci(data, conf_level=0.95):\n",
    "    lower_bound = np.percentile(data, 100*(1-conf_level)/2)\n",
    "    upper_bound = np.percentile(data, 100-100*(1-conf_level)/2)\n",
    "    return lower_bound, upper_bound\n",
    "\n",
    "def print_result(dist, empirical, conf_level=0.95):\n",
    "    ci = bootstrapped_cis(dist, conf_level=conf_level)\n",
    "    print('(${:.3g},\\ 95\\%\\ CI: [{:.3g},\\ {:.3g}]$)'.format(empirical, *ci))\n",
    "    \n",
    "\n",
    "def p_val(dist1, dist2):\n",
    "    \n",
    "    assert(len(dist1) == len(dist2))\n",
    "    \n",
    "    p = sum(np.array(dist1) < np.array(dist2)) / len(dist1)\n",
    "    \n",
    "    return p\n",
    "\n",
    "\n",
    "def ci_errorbar_values(dists, mean_dict, order = ['foil','build','view']):\n",
    "    \n",
    "    ci_lower = []\n",
    "    ci_upper = []\n",
    "    means = []\n",
    "    \n",
    "    for condition in order:\n",
    "        ci = bootstrapped_ci(dists[condition])\n",
    "        ci_lower.append(ci[0])\n",
    "        ci_upper.append(ci[1])\n",
    "    \n",
    "    means = [mean_dict[condition] for condition in order]\n",
    "    \n",
    "    ci_error = [[mean - lower for mean, lower in zip(means, ci_lower)],\n",
    "                [upper - mean for mean, upper in zip(means, ci_upper)]]\n",
    "    \n",
    "    \n",
    "    return {'means': means, 'error_diffs' : ci_error}\n",
    "\n",
    "\n",
    "# Calculate 95% CI for each group\n",
    "def create_ci(data, conf_level=0.95):\n",
    "    mean = np.mean(data)\n",
    "    sem = stats.sem(data)\n",
    "    ci = sem * stats.t.ppf((1 + conf_level) / 2, len(data) - 1)\n",
    "    \n",
    "#     print('[{:.3g}, {:.3g}]'.format(mean - ci, mean + ci))\n",
    "    \n",
    "    return mean - ci, mean + ci"
   ]
  },
  {
   "cell_type": "code",
   "execution_count": 4,
   "id": "5fe3e08e",
   "metadata": {},
   "outputs": [],
   "source": [
    "### Extra block utils\n",
    "\n",
    "def get_block_map(blocks):\n",
    "    return utils.worldify(ast.literal_eval(blocks)).block_map[2:,0:4]\n",
    "\n",
    "def mean_tower(group):\n",
    "    return np.mean(group['square_map'])"
   ]
  },
  {
   "cell_type": "code",
   "execution_count": 5,
   "id": "118c7315",
   "metadata": {},
   "outputs": [],
   "source": [
    "sns.set_style('whitegrid', {'font.family':'sans-serif', 'font.sans-serif':'Avenir'})\n",
    "import poster_plot_settings\n",
    "from poster_plot_settings import palette"
   ]
  },
  {
   "cell_type": "code",
   "execution_count": 6,
   "id": "7e0e20b4",
   "metadata": {},
   "outputs": [],
   "source": [
    "# import stim dataframes\n",
    "df_towers = pd.read_csv('../../stimuli/block_utils/ambiguous/ambiguous_composite_towers.csv')\n",
    "df_towers['tower_id'] = df_towers.tower_id_tall"
   ]
  },
  {
   "cell_type": "code",
   "execution_count": 7,
   "id": "65408af5",
   "metadata": {},
   "outputs": [],
   "source": [
    "condition_order = ['foil','build','view']"
   ]
  },
  {
   "cell_type": "markdown",
   "id": "f137f38d",
   "metadata": {},
   "source": [
    "# Experiment 1: Recognition"
   ]
  },
  {
   "cell_type": "code",
   "execution_count": 8,
   "id": "768c4f56",
   "metadata": {},
   "outputs": [],
   "source": [
    "# which iteration name should we use?\n",
    "subfolder = 'recognition'\n",
    "\n",
    "iteration_name = 'build_components_pilot_2'\n",
    "\n",
    "### Load csvs from dataframe generator\n",
    "\n",
    "df_trial = pd.read_csv(results_dir + '/' + subfolder + '/csv/df_trial_{}.csv'.format(iteration_name))\n",
    "\n",
    "df_recog = df_trial[df_trial.trial_type == \"block-tower-old-new\"].reset_index().drop(columns=['index', 'Unnamed: 0'])\n",
    "\n",
    "df_encode = df_trial[~(df_trial.trial_type == \"block-tower-old-new\")].reset_index().drop(columns=['index', 'Unnamed: 0'])\n",
    "\n",
    "df_blocks = pd.read_csv(results_dir + '/' + subfolder + '/csv/df_blocks_{}.csv'.format(iteration_name))"
   ]
  },
  {
   "cell_type": "code",
   "execution_count": 9,
   "id": "28249429",
   "metadata": {},
   "outputs": [],
   "source": [
    "df_recog = df_recog.merge(df_towers[['tower_id','stim_wide']], on = 'tower_id')\n",
    "df_recog['square_map'] = df_recog['stim_wide'].apply(lambda x: get_block_map(x))"
   ]
  },
  {
   "cell_type": "markdown",
   "id": "52d4662c",
   "metadata": {},
   "source": [
    "### add columns"
   ]
  },
  {
   "cell_type": "code",
   "execution_count": 10,
   "id": "53dd13b1",
   "metadata": {},
   "outputs": [],
   "source": [
    "df_recog['novelty'] = ['new' if condition == 'foil' else 'old' for condition in df_recog.condition]"
   ]
  },
  {
   "cell_type": "code",
   "execution_count": 11,
   "id": "4052491f",
   "metadata": {},
   "outputs": [
    {
     "data": {
      "text/plain": [
       "True"
      ]
     },
     "execution_count": 11,
     "metadata": {},
     "output_type": "execute_result"
    }
   ],
   "source": [
    "# double check accuracy calculations\n",
    "df_recog['response_correct_recalc'] = ((df_recog.response_meaning == 'new') & (df_recog.condition == 'foil')) | \\\n",
    "                                       ((df_recog.response_meaning == 'old') & (df_recog.condition != 'foil'))\n",
    "\n",
    "df_recog['response_correct_recalc'].equals(df_recog['response_correct'].astype(bool))"
   ]
  },
  {
   "cell_type": "code",
   "execution_count": 12,
   "id": "e4ee8587",
   "metadata": {},
   "outputs": [],
   "source": [
    "df_recog['responded_old'] = df_recog.response_meaning.apply(lambda x: 1 if x=='old' else 0)"
   ]
  },
  {
   "cell_type": "code",
   "execution_count": 13,
   "id": "db22708f",
   "metadata": {},
   "outputs": [],
   "source": [
    "# Export for stats\n",
    "save = False\n",
    "\n",
    "if save:\n",
    "    filename = '../../../results/recognition/csv/df_recog_vss.csv'\n",
    "    df_recog.to_csv(filename)\n",
    "    print(filename)"
   ]
  },
  {
   "cell_type": "markdown",
   "id": "d4220beb",
   "metadata": {},
   "source": [
    "### response/ recognition accuracy"
   ]
  },
  {
   "cell_type": "code",
   "execution_count": 14,
   "id": "b3a09dcb",
   "metadata": {},
   "outputs": [],
   "source": [
    "# bootstrap distributions of mean response\n",
    "# keeping participants' data together (i.e. sampled ppt n is the same across all distributions)\n",
    "response_dists, response_means = parallel_bootstrap(df_recog, \n",
    "                    bootstrap_column = 'gameID',\n",
    "                    condition_column = 'condition',\n",
    "                    value_columns = ['responded_old'],\n",
    "                    n_iter = 1000,\n",
    "                    stat = np.mean)"
   ]
  },
  {
   "cell_type": "code",
   "execution_count": 15,
   "id": "99de37fd",
   "metadata": {},
   "outputs": [
    {
     "name": "stdout",
     "output_type": "stream",
     "text": [
      "foil ($0.33,\\ 95\\%\\ CI: [0.283,\\ 0.377]$)\n",
      "build ($0.59,\\ 95\\%\\ CI: [0.527,\\ 0.653]$)\n",
      "view ($0.743,\\ 95\\%\\ CI: [0.683,\\ 0.793]$)\n",
      "0.0\n",
      "0.0\n",
      "0.0\n"
     ]
    }
   ],
   "source": [
    "print('foil (${:.3g},\\ 95\\%\\ CI: [{:.3g},\\ {:.3g}]$)'.format(response_means['foil'], *bootstrapped_ci(response_dists['foil'])))\n",
    "print('build (${:.3g},\\ 95\\%\\ CI: [{:.3g},\\ {:.3g}]$)'.format(response_means['build'], *bootstrapped_ci(response_dists['build'])))\n",
    "print('view (${:.3g},\\ 95\\%\\ CI: [{:.3g},\\ {:.3g}]$)'.format(response_means['view'], *bootstrapped_ci(response_dists['view'])))\n",
    "\n",
    "\n",
    "# p_val(dists['view'], dists['build'])\n",
    "\n",
    "print(p_val(response_dists['view'], response_dists['build']))\n",
    "print(p_val(response_dists['build'], response_dists['foil']))\n",
    "print(p_val(response_dists['view'], response_dists['foil']))"
   ]
  },
  {
   "cell_type": "code",
   "execution_count": null,
   "id": "a323822c",
   "metadata": {
    "scrolled": true
   },
   "outputs": [],
   "source": []
  },
  {
   "cell_type": "code",
   "execution_count": 16,
   "id": "91ff99de",
   "metadata": {
    "scrolled": false
   },
   "outputs": [
    {
     "data": {
      "image/png": "[encoded data removed]",
      "text/plain": [
       "<Figure size 400x600 with 1 Axes>"
      ]
     },
     "metadata": {},
     "output_type": "display_data"
    }
   ],
   "source": [
    "fig = plt.figure()\n",
    "\n",
    "sns.barplot(data = df_recog, \n",
    "            y = \"responded_old\", \n",
    "            order = condition_order,\n",
    "            hue = \"condition\",\n",
    "            x = \"condition\",\n",
    "            errorbar=None,\n",
    "#             yerr = ci_error,\n",
    "            palette=palette)\n",
    "\n",
    "cis = ci_errorbar_values(response_dists, \n",
    "                         response_means, \n",
    "                         order = condition_order)\n",
    "\n",
    "plt.errorbar(y = cis['means'], \n",
    "             x = [0,1,2], \n",
    "             yerr= cis['error_diffs'],\n",
    "             ecolor = '#444444',\n",
    "             fmt='none')\n",
    "\n",
    "plt.ylim((0,1))\n",
    "plt.axhline(0.5, color = 'gray', linestyle = '--',)\n",
    "plt.ylabel('responded old')\n",
    "plt.xlabel('')\n",
    "\n",
    "\n",
    "for spine in fig.gca().spines.values():\n",
    "    spine.set_zorder(1)\n",
    "    spine.set_color('black')\n",
    "    \n",
    "plt.savefig(plot_dir + 'recog_response.pdf', bbox_inches='tight')\n",
    "\n",
    "# plt.show()"
   ]
  },
  {
   "cell_type": "markdown",
   "id": "92207496",
   "metadata": {},
   "source": [
    "#### old vs. new stimuli"
   ]
  },
  {
   "cell_type": "code",
   "execution_count": 17,
   "id": "2c1461a7",
   "metadata": {},
   "outputs": [
    {
     "name": "stdout",
     "output_type": "stream",
     "text": [
      "old ($0.667,\\ 95\\%\\ CI: [0.62,\\ 0.708]$)\n",
      "new ($0.33,\\ 95\\%\\ CI: [0.283,\\ 0.377]$)\n",
      "0.0\n"
     ]
    }
   ],
   "source": [
    "# bootstrap keeping participants' data together (i.e. sampled ppt n is the same across all distributions)\n",
    "response_dists_novelty, response_means_novelty = parallel_bootstrap(df_recog, \n",
    "                    bootstrap_column = 'gameID',\n",
    "                    condition_column = 'novelty',\n",
    "                    value_columns = ['responded_old'],\n",
    "                    n_iter = 1000,\n",
    "                    stat = np.mean)\n",
    "\n",
    "print('old (${:.3g},\\ 95\\%\\ CI: [{:.3g},\\ {:.3g}]$)'.format(response_means_novelty['old'], *bootstrapped_ci(response_dists_novelty['old'])))\n",
    "print('new (${:.3g},\\ 95\\%\\ CI: [{:.3g},\\ {:.3g}]$)'.format(response_means_novelty['new'], *bootstrapped_ci(response_dists_novelty['new'])))\n",
    "print(p_val(response_dists_novelty['old'], response_dists_novelty['new']))"
   ]
  },
  {
   "cell_type": "code",
   "execution_count": null,
   "id": "d478cb85",
   "metadata": {},
   "outputs": [],
   "source": []
  },
  {
   "cell_type": "markdown",
   "id": "88a93a3e",
   "metadata": {},
   "source": [
    "# Experiment 2: Recall"
   ]
  },
  {
   "cell_type": "code",
   "execution_count": null,
   "id": "c7f1bfc8",
   "metadata": {},
   "outputs": [],
   "source": []
  },
  {
   "cell_type": "code",
   "execution_count": null,
   "id": "91b48f25",
   "metadata": {},
   "outputs": [],
   "source": []
  },
  {
   "cell_type": "markdown",
   "id": "dec5ac0f",
   "metadata": {},
   "source": [
    "# Experiment 3 + 4 read in data"
   ]
  },
  {
   "cell_type": "code",
   "execution_count": 18,
   "id": "2c7de9b2",
   "metadata": {},
   "outputs": [
    {
     "data": {
      "text/plain": [
       "'/Users/will/zipping/results/build_components/cogsci24'"
      ]
     },
     "execution_count": 18,
     "metadata": {},
     "output_type": "execute_result"
    }
   ],
   "source": [
    "# final iteration names are suffixes of csvs\n",
    "\n",
    "csv_ids = {\n",
    "    \"ve_on\" : \"build_components_cogsci_ve_old_new_prolific_pilot_0\",\n",
    "    \"ve_re\": \"build_components_cogsci_ve_recall_prolific_pilot_0\",\n",
    "    \"wm_on\" : \"build_components_cogsci_wm_old_new_prolific_pilot_0\",\n",
    "    \"wm_re\": \"build_components_cogsci_wm_recall_prolific_pilot_0\"\n",
    "}\n",
    "\n",
    "experiment_results_dir"
   ]
  },
  {
   "cell_type": "code",
   "execution_count": 19,
   "id": "c77232ae",
   "metadata": {},
   "outputs": [],
   "source": [
    "# read in all dataframes\n",
    "\n",
    "dfs = {}\n",
    "\n",
    "for i, (k, v) in enumerate(csv_ids.items()):\n",
    "    dfs[k] = {}\n",
    "    dfs[k]['encode'] = pd.read_csv(experiment_results_dir + '/df_encode_{}.csv'.format(v))\n",
    "    dfs[k]['decode'] = pd.read_csv(experiment_results_dir + '/df_decode_{}.csv'.format(v))\n",
    "    dfs[k]['block'] = pd.read_csv(experiment_results_dir + '/df_block_{}.csv'.format(v))\n",
    "    dfs[k]['construct'] = pd.read_csv(experiment_results_dir + '/df_construction_procedure_{}.csv'.format(v))\n",
    "    \n",
    "dfs['ve_re']['recalls'] = pd.read_csv(experiment_results_dir + \n",
    "                                '/df_recalled_towers_{}.csv'.format(csv_ids['ve_re']))\n",
    "dfs['wm_re']['recalls'] = pd.read_csv(experiment_results_dir + \n",
    "                                '/df_recalled_towers_{}.csv'.format(csv_ids['wm_re']))"
   ]
  },
  {
   "cell_type": "code",
   "execution_count": 20,
   "id": "e02741dc",
   "metadata": {},
   "outputs": [],
   "source": [
    "def exclude_ppts(dfg, excluded):\n",
    "    dfg['encode'] = dfg['encode'][~dfg['encode'].gameID.isin(excluded)].reset_index()\n",
    "    dfg['decode'] = dfg['decode'][~dfg['decode'].gameID.isin(excluded)].reset_index()\n",
    "    dfg['block'] = dfg['block'][~dfg['block'].gameID.isin(excluded)].reset_index()\n",
    "    dfg['construct'] =dfg['construct'][~dfg['construct'].gameID.isin(excluded)].reset_index()"
   ]
  },
  {
   "cell_type": "code",
   "execution_count": 21,
   "id": "c41b6ca6",
   "metadata": {},
   "outputs": [],
   "source": [
    "dfs['ve_on']['decode'].loc[:, 'responded_old'] = dfs['ve_on']['decode'].response_meaning == 'old'\n",
    "dfs['wm_on']['decode'].loc[:, 'responded_old'] = dfs['wm_on']['decode'].response_meaning == 'old'"
   ]
  },
  {
   "cell_type": "markdown",
   "id": "03761827",
   "metadata": {},
   "source": [
    "# Experiment 3: Encoding type for recognition"
   ]
  },
  {
   "cell_type": "code",
   "execution_count": 22,
   "id": "f5c8bc41",
   "metadata": {},
   "outputs": [
    {
     "name": "stdout",
     "output_type": "stream",
     "text": [
      "56 ppts to start with\n",
      "6 ppts removed for incomplete encoding phase\n",
      "0 ppts removed for incomplete decoding phase\n",
      "0 ppts removed for key mashing\n",
      "0 ppts removed for waiting too long between phases\n",
      "50 ppts remaining\n"
     ]
    }
   ],
   "source": [
    "# appply exclusion criteria\n",
    "df = dfs['ve_on']\n",
    "\n",
    "print('{} ppts to start with'.format(df['encode'].gameID.nunique()))\n",
    "\n",
    "excluded = []\n",
    "\n",
    "# didn't complete all encoding trials\n",
    "incomplete = df['encode'].groupby('gameID').apply(len) < 12\n",
    "excluded += list(set(incomplete.index[incomplete]))\n",
    "print('{} ppts removed for incomplete encoding phase'.format(len(list(incomplete.index[incomplete]))))\n",
    "\n",
    "# didn't complete all decode trials\n",
    "incomplete_decode = df['decode'].groupby('gameID').apply(len) < 12\n",
    "excluded += list(incomplete_decode.index[incomplete_decode])\n",
    "print('{} ppts removed for incomplete decoding phase'.format(len(list(incomplete_decode.index[incomplete_decode]))))\n",
    "\n",
    "# >90% response with same key\n",
    "response_mean = df['decode'].groupby('gameID').apply(lambda g: np.mean(g.responded_old))\n",
    "key_mashing = (response_mean > 0.9) | (response_mean < 0.1)\n",
    "excluded += list(key_mashing.index[key_mashing])\n",
    "print('{} ppts removed for key mashing'.format(len(list(key_mashing.index[key_mashing]))))\n",
    "\n",
    "# 10 mins between end of encode and start of decode\n",
    "e_time = df['encode'].groupby('gameID').last().reset_index()[['gameID','timeAbsolute']]\n",
    "d_time = df['decode'].groupby('gameID').first().reset_index()[['gameID','trial_start_time']]\n",
    "time_diff = e_time.merge(d_time, on = 'gameID', how = 'outer')\n",
    "time_diff = time_diff[~(time_diff.timeAbsolute.isna() | time_diff.trial_start_time.isna())]\n",
    "time_diff.loc[:, 'between_phase_time'] = (time_diff.trial_start_time-time_diff.timeAbsolute)/60000\n",
    "big_wait = (time_diff.loc[:, 'between_phase_time'] > 10)\n",
    "excluded += list(set((big_wait.index[big_wait])))\n",
    "print('{} ppts removed for waiting too long between phases'.format(len(list(big_wait.index[big_wait]))))\n",
    "\n",
    "print('{} ppts remaining'.format(df['encode'][~df['encode'].gameID.isin(excluded)].gameID.nunique()))\n",
    "exclude_ppts(df, excluded)"
   ]
  },
  {
   "cell_type": "code",
   "execution_count": 23,
   "id": "78315700",
   "metadata": {},
   "outputs": [
    {
     "name": "stdout",
     "output_type": "stream",
     "text": [
      "55 ppts to start with\n",
      "5 ppts removed for incomplete encoding phase\n",
      "0 ppts removed for incomplete decoding phase\n",
      "1 ppts removed for waiting too long between phases\n",
      "50 ppts remaining\n"
     ]
    }
   ],
   "source": [
    "# appply exclusion criteria\n",
    "df = dfs['ve_re']\n",
    "\n",
    "print('{} ppts to start with'.format(df['encode'].gameID.nunique()))\n",
    "\n",
    "excluded = []\n",
    "\n",
    "# didn't complete all encoding trials\n",
    "incomplete = df['encode'].groupby('gameID').apply(len) < 12\n",
    "excluded += list(set(incomplete.index[incomplete]))\n",
    "print('{} ppts removed for incomplete encoding phase'.format(len(list(incomplete.index[incomplete]))))\n",
    "\n",
    "# didn't complete all decode trials\n",
    "incomplete_decode = df['decode'].groupby('gameID').apply(len) < 1\n",
    "excluded += list(incomplete_decode.index[incomplete_decode])\n",
    "print('{} ppts removed for incomplete decoding phase'.format(len(list(incomplete_decode.index[incomplete_decode]))))\n",
    "\n",
    "# 10 mins between end of encode and start of decode\n",
    "e_time = df['encode'].groupby('gameID').last().reset_index()[['gameID','timeAbsolute']]\n",
    "d_time = df['decode'].groupby('gameID').first().reset_index()[['gameID','trial_start_time']]\n",
    "time_diff = e_time.merge(d_time, on = 'gameID', how = 'outer')\n",
    "time_diff = time_diff[~(time_diff.timeAbsolute.isna() | time_diff.trial_start_time.isna())]\n",
    "time_diff.loc[:, 'between_phase_time'] = (time_diff.trial_start_time-time_diff.timeAbsolute)/60000\n",
    "big_wait = (time_diff.loc[:, 'between_phase_time'] > 10)\n",
    "excluded += list(set((big_wait.index[big_wait])))\n",
    "print('{} ppts removed for waiting too long between phases'.format(len(list(big_wait.index[big_wait]))))\n",
    "\n",
    "print('{} ppts remaining'.format(df['encode'][~df['encode'].gameID.isin(excluded)].gameID.nunique()))\n",
    "exclude_ppts(df, excluded)"
   ]
  },
  {
   "cell_type": "markdown",
   "id": "b2ac4151",
   "metadata": {},
   "source": [
    "## visual exposure"
   ]
  },
  {
   "cell_type": "code",
   "execution_count": 24,
   "id": "6c410e70",
   "metadata": {},
   "outputs": [],
   "source": [
    "dfs['ve_on']['decode']['novelty'] = ['new' if condition == 'foil' else 'old' for condition in dfs['ve_on']['decode'].condition]"
   ]
  },
  {
   "cell_type": "code",
   "execution_count": 25,
   "id": "86e83a55",
   "metadata": {},
   "outputs": [],
   "source": [
    "# bootstrap keeping participants' data together (i.e. sampled ppt n is the same across all distributions)\n",
    "ve_response_dists, ve_response_means = parallel_bootstrap(dfs['ve_on']['decode'], \n",
    "                                                    bootstrap_column = 'gameID',\n",
    "                                                    condition_column = 'condition',\n",
    "                                                    value_columns = ['responded_old'],\n",
    "                                                    n_iter = 1000,\n",
    "                                                    stat = np.mean)"
   ]
  },
  {
   "cell_type": "code",
   "execution_count": 26,
   "id": "76a3e704",
   "metadata": {},
   "outputs": [
    {
     "name": "stdout",
     "output_type": "stream",
     "text": [
      "foil ($0.29,\\ 95\\%\\ CI: [0.243,\\ 0.34]$)\n",
      "build ($0.78,\\ 95\\%\\ CI: [0.713,\\ 0.847]$)\n",
      "view ($0.833,\\ 95\\%\\ CI: [0.753,\\ 0.9]$)\n",
      "0.173\n",
      "0.0\n",
      "0.0\n"
     ]
    }
   ],
   "source": [
    "print('foil (${:.3g},\\ 95\\%\\ CI: [{:.3g},\\ {:.3g}]$)'.format(ve_response_means['foil'], *bootstrapped_ci(ve_response_dists['foil'])))\n",
    "print('build (${:.3g},\\ 95\\%\\ CI: [{:.3g},\\ {:.3g}]$)'.format(ve_response_means['build'], *bootstrapped_ci(ve_response_dists['build'])))\n",
    "print('view (${:.3g},\\ 95\\%\\ CI: [{:.3g},\\ {:.3g}]$)'.format(ve_response_means['view'], *bootstrapped_ci(ve_response_dists['view'])))\n",
    "\n",
    "print(p_val(ve_response_dists['view'], ve_response_dists['build']))\n",
    "print(p_val(ve_response_dists['build'], ve_response_dists['foil']))\n",
    "print(p_val(ve_response_dists['view'], ve_response_dists['foil']))"
   ]
  },
  {
   "cell_type": "code",
   "execution_count": 27,
   "id": "33e1c7ab",
   "metadata": {},
   "outputs": [
    {
     "data": {
      "image/png": "[encoded data removed]",
      "text/plain": [
       "<Figure size 400x600 with 1 Axes>"
      ]
     },
     "metadata": {},
     "output_type": "display_data"
    }
   ],
   "source": [
    "fig = plt.figure()\n",
    "\n",
    "sns.barplot(data = dfs['ve_on']['decode'], \n",
    "            y = \"responded_old\", \n",
    "            order = condition_order,\n",
    "            hue = \"condition\",\n",
    "            x = \"condition\",\n",
    "            errorbar=None,\n",
    "            palette=palette)\n",
    "\n",
    "cis = ci_errorbar_values(ve_response_dists, \n",
    "                         ve_response_means, \n",
    "                         order = condition_order)\n",
    "\n",
    "plt.errorbar(y = cis['means'], \n",
    "             x = [0,1,2], \n",
    "             yerr= cis['error_diffs'],\n",
    "             ecolor = '#444444',\n",
    "             fmt='none')\n",
    "\n",
    "plt.ylim((0,1))\n",
    "plt.axhline(0.5, color = 'gray', linestyle = '--',)\n",
    "plt.ylabel('responded old')\n",
    "plt.xlabel('')\n",
    "\n",
    "\n",
    "for spine in fig.gca().spines.values():\n",
    "    spine.set_zorder(1)\n",
    "    spine.set_color('black')\n",
    "\n",
    "plt.savefig(plot_dir + 'encode_ve_recog_response.pdf', bbox_inches='tight')\n",
    "\n",
    "plt.show()"
   ]
  },
  {
   "cell_type": "code",
   "execution_count": 28,
   "id": "39cb3bbc",
   "metadata": {},
   "outputs": [
    {
     "name": "stdout",
     "output_type": "stream",
     "text": [
      "old ($0.807,\\ 95\\%\\ CI: [0.76,\\ 0.853]$)\n",
      "new ($0.29,\\ 95\\%\\ CI: [0.243,\\ 0.34]$)\n",
      "0.0\n"
     ]
    }
   ],
   "source": [
    "# bootstrap keeping participants' data together (i.e. sampled ppt n is the same across all distributions)\n",
    "ve_response_dists_novelty, ve_response_means_novelty = parallel_bootstrap(dfs['ve_on']['decode'], \n",
    "                    bootstrap_column = 'gameID',\n",
    "                    condition_column = 'novelty',\n",
    "                    value_columns = ['responded_old'],\n",
    "                    n_iter = 1000,\n",
    "                    stat = np.mean)\n",
    "\n",
    "print('old (${:.3g},\\ 95\\%\\ CI: [{:.3g},\\ {:.3g}]$)'.format(ve_response_means_novelty['old'], *bootstrapped_ci(ve_response_dists_novelty['old'])))\n",
    "print('new (${:.3g},\\ 95\\%\\ CI: [{:.3g},\\ {:.3g}]$)'.format(ve_response_means_novelty['new'], *bootstrapped_ci(ve_response_dists_novelty['new'])))\n",
    "\n",
    "# p_val(dists['view'], dists['build'])\n",
    "\n",
    "print(p_val(ve_response_dists_novelty['old'], ve_response_dists_novelty['new']))\n",
    "\n",
    "# df_recog.novelty"
   ]
  },
  {
   "cell_type": "markdown",
   "id": "5ba77c65",
   "metadata": {},
   "source": [
    "### working memory"
   ]
  },
  {
   "cell_type": "code",
   "execution_count": 29,
   "id": "13e9d29e",
   "metadata": {},
   "outputs": [],
   "source": [
    "dfs['wm_on']['decode']['novelty'] = ['new' if condition == 'foil' else 'old' for condition in dfs['wm_on']['decode'].condition]"
   ]
  },
  {
   "cell_type": "code",
   "execution_count": 30,
   "id": "5dac7ce1",
   "metadata": {},
   "outputs": [],
   "source": [
    "# bootstrap keeping participants' data together (i.e. sampled ppt n is the same across all distributions)\n",
    "wm_response_dists, wm_response_means = parallel_bootstrap(dfs['wm_on']['decode'], \n",
    "                                                    bootstrap_column = 'gameID',\n",
    "                                                    condition_column = 'condition',\n",
    "                                                    value_columns = ['responded_old'],\n",
    "                                                    n_iter = 1000,\n",
    "                                                    stat = np.mean)"
   ]
  },
  {
   "cell_type": "code",
   "execution_count": 31,
   "id": "3410b641",
   "metadata": {},
   "outputs": [
    {
     "name": "stdout",
     "output_type": "stream",
     "text": [
      "foil ($0.275,\\ 95\\%\\ CI: [0.222,\\ 0.33]$)\n",
      "build ($0.876,\\ 95\\%\\ CI: [0.824,\\ 0.922]$)\n",
      "view ($0.876,\\ 95\\%\\ CI: [0.83,\\ 0.915]$)\n",
      "0.498\n",
      "0.0\n",
      "0.0\n"
     ]
    }
   ],
   "source": [
    "print('foil (${:.3g},\\ 95\\%\\ CI: [{:.3g},\\ {:.3g}]$)'.format(wm_response_means['foil'], *bootstrapped_ci(wm_response_dists['foil'])))\n",
    "print('build (${:.3g},\\ 95\\%\\ CI: [{:.3g},\\ {:.3g}]$)'.format(wm_response_means['build'], *bootstrapped_ci(wm_response_dists['build'])))\n",
    "print('view (${:.3g},\\ 95\\%\\ CI: [{:.3g},\\ {:.3g}]$)'.format(wm_response_means['view'], *bootstrapped_ci(wm_response_dists['view'])))\n",
    "\n",
    "print(p_val(wm_response_dists['view'], wm_response_dists['build']))\n",
    "print(p_val(wm_response_dists['build'], wm_response_dists['foil']))\n",
    "print(p_val(wm_response_dists['view'], wm_response_dists['foil']))"
   ]
  },
  {
   "cell_type": "code",
   "execution_count": 32,
   "id": "5b476bd9",
   "metadata": {},
   "outputs": [
    {
     "data": {
      "image/png": "[encoded data removed]",
      "text/plain": [
       "<Figure size 400x600 with 1 Axes>"
      ]
     },
     "metadata": {},
     "output_type": "display_data"
    }
   ],
   "source": [
    "fig = plt.figure()\n",
    "\n",
    "sns.barplot(data = dfs['wm_on']['decode'], \n",
    "            y = \"responded_old\", \n",
    "            order = condition_order,\n",
    "            hue = \"condition\",\n",
    "            x = \"condition\",\n",
    "            errorbar=None,\n",
    "            palette=palette)\n",
    "\n",
    "cis = ci_errorbar_values(wm_response_dists, \n",
    "                         wm_response_means, \n",
    "                         order = condition_order)\n",
    "\n",
    "plt.errorbar(y = cis['means'], \n",
    "             x = [0,1,2], \n",
    "             yerr= cis['error_diffs'],\n",
    "             ecolor = '#444444',\n",
    "             fmt='none')\n",
    "\n",
    "plt.ylim((0,1))\n",
    "plt.axhline(0.5, color = 'gray', linestyle = '--',)\n",
    "plt.ylabel('responded old')\n",
    "plt.xlabel('')\n",
    "\n",
    "\n",
    "for spine in fig.gca().spines.values():\n",
    "    spine.set_zorder(1)\n",
    "    spine.set_color('black')\n",
    "\n",
    "plt.savefig(plot_dir + 'encode_wm_recog_response.pdf', bbox_inches='tight')\n",
    "\n",
    "plt.show()"
   ]
  },
  {
   "cell_type": "code",
   "execution_count": 33,
   "id": "df2ed4af",
   "metadata": {},
   "outputs": [
    {
     "name": "stdout",
     "output_type": "stream",
     "text": [
      "old ($0.876,\\ 95\\%\\ CI: [0.843,\\ 0.908]$)\n",
      "new ($0.275,\\ 95\\%\\ CI: [0.222,\\ 0.33]$)\n",
      "0.0\n"
     ]
    }
   ],
   "source": [
    "# bootstrap keeping participants' data together (i.e. sampled ppt n is the same across all distributions)\n",
    "wm_response_dists_novelty, wm_response_means_novelty = parallel_bootstrap(dfs['wm_on']['decode'], \n",
    "                    bootstrap_column = 'gameID',\n",
    "                    condition_column = 'novelty',\n",
    "                    value_columns = ['responded_old'],\n",
    "                    n_iter = 1000,\n",
    "                    stat = np.mean)\n",
    "\n",
    "print('old (${:.3g},\\ 95\\%\\ CI: [{:.3g},\\ {:.3g}]$)'.format(wm_response_means_novelty['old'], *bootstrapped_ci(wm_response_dists_novelty['old'])))\n",
    "print('new (${:.3g},\\ 95\\%\\ CI: [{:.3g},\\ {:.3g}]$)'.format(wm_response_means_novelty['new'], *bootstrapped_ci(wm_response_dists_novelty['new'])))\n",
    "\n",
    "# p_val(dists['view'], dists['build'])\n",
    "\n",
    "print(p_val(wm_response_dists_novelty['old'], wm_response_dists_novelty['new']))\n",
    "\n",
    "# df_recog.nowmlty"
   ]
  },
  {
   "cell_type": "code",
   "execution_count": null,
   "id": "78e3f2b3",
   "metadata": {},
   "outputs": [],
   "source": []
  },
  {
   "cell_type": "code",
   "execution_count": null,
   "id": "d5337ea6",
   "metadata": {},
   "outputs": [],
   "source": []
  },
  {
   "cell_type": "markdown",
   "id": "b05d79a5",
   "metadata": {},
   "source": [
    "# Experiment 4: Encoding type for recall"
   ]
  },
  {
   "cell_type": "code",
   "execution_count": 34,
   "id": "a3a55e3f",
   "metadata": {},
   "outputs": [
    {
     "name": "stdout",
     "output_type": "stream",
     "text": [
      "55 ppts to start with\n",
      "4 ppts removed for incomplete encoding phase\n",
      "0 ppts removed for incomplete decoding phase\n",
      "0 ppts removed for key mashing\n",
      "0 ppts removed for waiting too long between phases\n",
      "51 ppts remaining\n"
     ]
    }
   ],
   "source": [
    "# appply exclusion criteria\n",
    "df = dfs['wm_on']\n",
    "\n",
    "print('{} ppts to start with'.format(df['encode'].gameID.nunique()))\n",
    "\n",
    "excluded = []\n",
    "\n",
    "# didn't complete all encoding trials\n",
    "incomplete = df['encode'].groupby('gameID').apply(len) < 24\n",
    "excluded += list(set(incomplete.index[incomplete]))\n",
    "print('{} ppts removed for incomplete encoding phase'.format(len(list(incomplete.index[incomplete]))))\n",
    "\n",
    "# didn't complete all decode trials\n",
    "incomplete_decode = df['decode'].groupby('gameID').apply(len) < 12\n",
    "excluded += list(incomplete_decode.index[incomplete_decode])\n",
    "print('{} ppts removed for incomplete decoding phase'.format(len(list(incomplete_decode.index[incomplete_decode]))))\n",
    "\n",
    "# >90% response with same key\n",
    "response_mean = df['decode'].groupby('gameID').apply(lambda g: np.mean(g.responded_old))\n",
    "key_mashing = (response_mean > 0.9) | (response_mean < 0.1)\n",
    "excluded += list(key_mashing.index[key_mashing])\n",
    "print('{} ppts removed for key mashing'.format(len(list(key_mashing.index[key_mashing]))))\n",
    "\n",
    "# 10 mins between end of encode and start of decode\n",
    "e_time = df['encode'].groupby('gameID').last().reset_index()[['gameID','timeAbsolute']]\n",
    "d_time = df['decode'].groupby('gameID').first().reset_index()[['gameID','trial_start_time']]\n",
    "time_diff = e_time.merge(d_time, on = 'gameID', how = 'outer')\n",
    "time_diff = time_diff[~(time_diff.timeAbsolute.isna() | time_diff.trial_start_time.isna())]\n",
    "time_diff.loc[:, 'between_phase_time'] = (time_diff.trial_start_time-time_diff.timeAbsolute)/60000\n",
    "big_wait = (time_diff.loc[:, 'between_phase_time'] > 10)\n",
    "excluded += list(set((big_wait.index[big_wait])))\n",
    "print('{} ppts removed for waiting too long between phases'.format(len(list(big_wait.index[big_wait]))))\n",
    "\n",
    "print('{} ppts remaining'.format(df['encode'][~df['encode'].gameID.isin(excluded)].gameID.nunique()))\n",
    "exclude_ppts(df, excluded)"
   ]
  },
  {
   "cell_type": "code",
   "execution_count": 35,
   "id": "de3f41e9",
   "metadata": {},
   "outputs": [
    {
     "name": "stdout",
     "output_type": "stream",
     "text": [
      "51 ppts to start with\n",
      "1 ppts removed for incomplete encoding phase\n",
      "0 ppts removed for incomplete decoding phase\n",
      "0 ppts removed for waiting too long between phases\n",
      "50 ppts remaining\n"
     ]
    }
   ],
   "source": [
    "# appply exclusion criteria\n",
    "df = dfs['wm_re']\n",
    "\n",
    "print('{} ppts to start with'.format(df['encode'].gameID.nunique()))\n",
    "\n",
    "excluded = []\n",
    "\n",
    "# didn't complete all encoding trials\n",
    "incomplete = df['encode'].groupby('gameID').apply(len) < 24\n",
    "excluded += list(set(incomplete.index[incomplete]))\n",
    "print('{} ppts removed for incomplete encoding phase'.format(len(list(incomplete.index[incomplete]))))\n",
    "\n",
    "# didn't complete all decode trials\n",
    "incomplete_decode = df['decode'].groupby('gameID').apply(len) < 1\n",
    "excluded += list(incomplete_decode.index[incomplete_decode])\n",
    "print('{} ppts removed for incomplete decoding phase'.format(len(list(incomplete_decode.index[incomplete_decode]))))\n",
    "\n",
    "# 10 mins between end of encode and start of decode\n",
    "e_time = df['encode'].groupby('gameID').last().reset_index()[['gameID','timeAbsolute']]\n",
    "d_time = df['decode'].groupby('gameID').first().reset_index()[['gameID','trial_start_time']]\n",
    "time_diff = e_time.merge(d_time, on = 'gameID', how = 'outer')\n",
    "time_diff = time_diff[~(time_diff.timeAbsolute.isna() | time_diff.trial_start_time.isna())]\n",
    "time_diff.loc[:, 'between_phase_time'] = (time_diff.trial_start_time-time_diff.timeAbsolute)/60000\n",
    "big_wait = (time_diff.loc[:, 'between_phase_time'] > 10)\n",
    "excluded += list(set((big_wait.index[big_wait])))\n",
    "print('{} ppts removed for waiting too long between phases'.format(len(list(big_wait.index[big_wait]))))\n",
    "\n",
    "print('{} ppts remaining'.format(df['encode'][~df['encode'].gameID.isin(excluded)].gameID.nunique()))\n",
    "exclude_ppts(df, excluded)"
   ]
  },
  {
   "cell_type": "code",
   "execution_count": null,
   "id": "8f457597",
   "metadata": {},
   "outputs": [],
   "source": []
  }
 ],
 "metadata": {
  "kernelspec": {
   "display_name": "Python 3 (ipykernel)",
   "language": "python",
   "name": "python3"
  },
  "language_info": {
   "codemirror_mode": {
    "name": "ipython",
    "version": 3
   },
   "file_extension": ".py",
   "mimetype": "text/x-python",
   "name": "python",
   "nbconvert_exporter": "python",
   "pygments_lexer": "ipython3",
   "version": "3.9.16"
  }
 },
 "nbformat": 4,
 "nbformat_minor": 5
}

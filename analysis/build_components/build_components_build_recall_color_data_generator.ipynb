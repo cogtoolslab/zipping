{
 "cells": [
  {
   "cell_type": "code",
   "execution_count": 226,
   "id": "48a76ce9",
   "metadata": {},
   "outputs": [],
   "source": [
    "import os\n",
    "import sys\n",
    "import urllib, io\n",
    "import pickle\n",
    "\n",
    "import numpy as np\n",
    "import scipy.stats as stats\n",
    "import pandas as pd\n",
    "from sklearn.metrics import euclidean_distances, jaccard_score, pairwise_distances\n",
    "\n",
    "import pymongo as pm\n",
    "from collections import Counter\n",
    "import json\n",
    "import re\n",
    "import ast\n",
    "\n",
    "from PIL import Image, ImageOps, ImageDraw, ImageFont \n",
    "from IPython.core.display import HTML \n",
    "\n",
    "from io import BytesIO\n",
    "import base64\n",
    "import requests\n",
    "\n",
    "import  matplotlib\n",
    "from matplotlib import pylab, mlab, pyplot\n",
    "%matplotlib inline\n",
    "from IPython.core.pylabtools import figsize, getfigs\n",
    "plt = pyplot\n",
    "import matplotlib as mpl\n",
    "mpl.rcParams['pdf.fonttype'] = 42\n",
    "\n",
    "import seaborn as sns\n",
    "sns.set_context('talk')\n",
    "sns.set_style('darkgrid')\n",
    "\n",
    "from IPython.display import clear_output\n",
    "\n",
    "import warnings\n",
    "warnings.filterwarnings(\"ignore\", category=DeprecationWarning)\n",
    "warnings.filterwarnings(\"ignore\", message=\"numpy.dtype size changed\")\n",
    "warnings.filterwarnings(\"ignore\", message=\"numpy.ufunc size changed\")\n",
    "\n",
    "sys.path.append(\"../../stimuli/block_utils/\")\n",
    "import blockworld_utils as utils"
   ]
  },
  {
   "cell_type": "code",
   "execution_count": 227,
   "id": "42cbae1a",
   "metadata": {},
   "outputs": [],
   "source": [
    "experiment_name = 'build_recall'\n",
    "\n",
    "## directory & file hierarchy\n",
    "proj_dir = os.path.abspath('../..')\n",
    "datavol_dir = os.path.join(proj_dir,'data')\n",
    "analysis_dir = os.path.abspath(os.path.join(os.getcwd(),'..'))\n",
    "results_dir = os.path.join(proj_dir,'results')\n",
    "\n",
    "# paths specific to this experiment\n",
    "experiment_results_dir = os.path.join(results_dir, experiment_name)\n",
    "plot_dir = os.path.join(experiment_results_dir,'plots')\n",
    "csv_dir = os.path.join(experiment_results_dir,'csv')\n",
    "json_dir = os.path.join(experiment_results_dir,'json')\n",
    "\n",
    "png_dir = os.path.abspath(os.path.join(datavol_dir,'png'))\n",
    "jefan_dir = os.path.join(analysis_dir,'jefan')\n",
    "will_dir = os.path.join(analysis_dir,'will')\n",
    "\n",
    "## add helpers to python path\n",
    "if os.path.join(proj_dir,'stimuli') not in sys.path:\n",
    "    sys.path.append(os.path.join(proj_dir,'stimuli'))\n",
    "    \n",
    "if not os.path.exists(results_dir):\n",
    "    os.makedirs(results_dir)\n",
    "    \n",
    "if not os.path.exists(plot_dir):\n",
    "    os.makedirs(plot_dir)   \n",
    "    \n",
    "if not os.path.exists(csv_dir):\n",
    "    os.makedirs(csv_dir)       "
   ]
  },
  {
   "cell_type": "code",
   "execution_count": 228,
   "id": "82df79fd",
   "metadata": {},
   "outputs": [],
   "source": [
    "# set vars \n",
    "auth = pd.read_csv(os.path.join(proj_dir, 'auth.txt'), header = None) # this auth.txt file contains the password for the sketchloop user\n",
    "pswd = auth.values[0][0]\n",
    "user = 'sketchloop'\n",
    "host = 'cogtoolslab.org' ## cocolab ip address\n",
    "\n",
    "# have to fix this to be able to analyze from local\n",
    "import pymongo as pm\n",
    "conn = pm.MongoClient('mongodb://sketchloop:' + pswd + '@127.0.0.1')\n",
    "db = conn['block_construction']\n",
    "coll = db['build_components']\n",
    "\n",
    "# which iteration name should we use?\n",
    "# iteration_name = 'build_components_build_recall_prolific_pilot_12_towers'\n",
    "# iteration_name = 'build_components_build_recall_prolific_pilot_6_towers_2_rep'\n",
    "# iteration_name = 'build_components_build_recall_6_towers_3_rep_color_sona_pilot_0'\n",
    "# iteration_name = 'build_components_build_recall_6_towers_3_rep_color_sona_pilot_1'\n",
    "iteration_name = 'build_components_build_recall_6_towers_3_rep_color_sona_pilot_1_datatest'\n",
    "iteration_names = [iteration_name]"
   ]
  },
  {
   "cell_type": "code",
   "execution_count": 229,
   "id": "f06d9c08",
   "metadata": {},
   "outputs": [
    {
     "name": "stdout",
     "output_type": "stream",
     "text": [
      "zsh:1: command not found: tunnel_cogtoolslab\r\n"
     ]
    }
   ],
   "source": [
    "! tunnel_cogtoolslab"
   ]
  },
  {
   "cell_type": "code",
   "execution_count": 236,
   "id": "fcbe340e",
   "metadata": {},
   "outputs": [
    {
     "name": "stdout",
     "output_type": "stream",
     "text": [
      "21422\n"
     ]
    }
   ],
   "source": [
    "# all data\n",
    "query = coll.find({\"$and\":[\n",
    "                        {'iterationName': { '$in': iteration_names }},\n",
    "                        ]})\n",
    "df_all = pd.DataFrame(query)\n",
    "print(len(df_all))"
   ]
  },
  {
   "cell_type": "code",
   "execution_count": 237,
   "id": "7264509c",
   "metadata": {},
   "outputs": [
    {
     "data": {
      "text/plain": [
       "Index(['_id', 'rt', 'url', 'trial_type', 'trial_index', 'time_elapsed',\n",
       "       'internal_node_id', 'experimentName', 'iterationName', 'workerID',\n",
       "       'gameID', 'studyLocation', 'datatype', 'view_history',\n",
       "       'trial_start_time', 'trial_finish_time', 'condition', 'stimulus',\n",
       "       'response', 'trial_num', 'towerColor', 'block_str', 'tower_id',\n",
       "       'tower_A_tall_id', 'tower_A_wide_id', 'tower_B_tall_id',\n",
       "       'tower_B_wide_id', 'tower_id_tall', 'composite_id',\n",
       "       'n_blocks_when_reset', 'absolute_time', 'relative_time', 'n_block',\n",
       "       'n_resets', 'timeAbsolute', 'timeRelative', 'blocks', 'discreteWorld',\n",
       "       'eventType', 'block', 'endReason', 'rep', 'assignmentID', 'trials',\n",
       "       'composite_url_stem', 'numGames', 'games', 'response_key_list',\n",
       "       'response_key_dict', 'response_key_invert', 'color', 'correct',\n",
       "       'locations', 'target_present', 'set_size', 'success', 'timeout',\n",
       "       'failed_images', 'failed_audio', 'failed_video', 'img_src',\n",
       "       'img_position', 'target', 'distractor_imgs', 'target_img', 'stim',\n",
       "       'response_kind', 'distractor_kinds'],\n",
       "      dtype='object')"
      ]
     },
     "execution_count": 237,
     "metadata": {},
     "output_type": "execute_result"
    }
   ],
   "source": [
    "df_all.columns"
   ]
  },
  {
   "cell_type": "code",
   "execution_count": 238,
   "id": "8d232934",
   "metadata": {},
   "outputs": [
    {
     "data": {
      "text/plain": [
       "array([None, '37960', '50860', '45884', '45420', '50249', '45055',\n",
       "       '45727', '49988', '45185', '46175', '48742', '45871', '42146',\n",
       "       '50844', '42031', '45176', '44439', '45702', '37407', '49109',\n",
       "       '36378', '49840', '50875', '45909', '41363', '50878', '50195',\n",
       "       '41280', '42206', '46412', '45549', '49837', '49978', '40994',\n",
       "       '45728', '50730', '45439', '50640', '49789', '49919', '45349',\n",
       "       '50657', '43205', '43259', '46526', '27389', '44033', '47837',\n",
       "       '42188', '49777', '46813', '50647', '49149', '46923', '41165',\n",
       "       '38523', '42002', '49731', '42065', '50870', '42526', '42716',\n",
       "       '43488', '48439', '46089', '45551', '42725', '36196', '50424',\n",
       "       '45445', '50237', '50722', '44787', '45028', '46481', '45458',\n",
       "       '47816', '41437', '48501', '42788', '43349', '47270', '37523',\n",
       "       '45071', '50282', '40969', '43490', '42980', '49450', '46270',\n",
       "       '41524', '41187', '46087', '41815', '45336', '44423', '43753',\n",
       "       '45152', '35914', '42045', '47107', '37058'], dtype=object)"
      ]
     },
     "execution_count": 238,
     "metadata": {},
     "output_type": "execute_result"
    }
   ],
   "source": [
    "df_all.workerID.unique()"
   ]
  },
  {
   "cell_type": "code",
   "execution_count": 239,
   "id": "1878694f",
   "metadata": {},
   "outputs": [
    {
     "name": "stdout",
     "output_type": "stream",
     "text": [
      "5\n"
     ]
    }
   ],
   "source": [
    "# load metadata\n",
    "query = coll.find({\"$and\":[\n",
    "                        {'datatype':'metadata'},\n",
    "                        {'iterationName': { '$in': iteration_names }},\n",
    "                        ]})\n",
    "df_meta = pd.DataFrame(query)\n",
    "print(len(df_meta))"
   ]
  },
  {
   "cell_type": "code",
   "execution_count": 240,
   "id": "392c1092",
   "metadata": {},
   "outputs": [
    {
     "data": {
      "text/plain": [
       "array(['external-html', 'instructions', 'block-tower-viewing', nan,\n",
       "       'block-tower-building-undo',\n",
       "       'block-tower-building-recall-choose-color', 'survey-text',\n",
       "       'block-tower-match-to-sample', 'preload',\n",
       "       'block-tower-building-undo-nostim'], dtype=object)"
      ]
     },
     "execution_count": 240,
     "metadata": {},
     "output_type": "execute_result"
    }
   ],
   "source": [
    "df_all.trial_type.unique()"
   ]
  },
  {
   "cell_type": "code",
   "execution_count": 241,
   "id": "f6380862",
   "metadata": {},
   "outputs": [
    {
     "name": "stdout",
     "output_type": "stream",
     "text": [
      "2021\n"
     ]
    }
   ],
   "source": [
    "# learning/ exposure trials\n",
    "learn_conditions = ['block-tower-viewing','block-tower-building-undo']\n",
    "\n",
    "query = coll.find({\"$and\":[\n",
    "                        {'iterationName': { '$in': iteration_names }},\n",
    "                        {'trial_type':{ '$in': learn_conditions }},\n",
    "                        ]})\n",
    "df_learn = pd.DataFrame(query)\n",
    "print(len(df_learn))"
   ]
  },
  {
   "cell_type": "code",
   "execution_count": 242,
   "id": "bfad814e",
   "metadata": {},
   "outputs": [
    {
     "data": {
      "text/plain": [
       "array([None, '37960', '50860', '45884', '50249', '45420', '45055',\n",
       "       '45727', '49988', '45185', '46175', '48742', '45871', '50844',\n",
       "       '42031', '45176', '44439', '45702', '37407', '49109', '49840',\n",
       "       '50875', '45909', '41363', '50878', '50195', '42206', '46412',\n",
       "       '49837', '49978', '40994', '45728', '50730', '45439', '50640',\n",
       "       '49789', '49919', '45349', '50657', '43205', '43259', '27389',\n",
       "       '46526', '44033', '47837', '42188', '49777', '46813', '50647',\n",
       "       '49149', '46923', '41165', '38523', '42002', '49731', '42065',\n",
       "       '50870', '42526', '42716', '43488', '48439', '46089', '45551',\n",
       "       '42725', '36196', '50424', '45445', '50237', '50722', '44787',\n",
       "       '45028', '46481', '47816', '41437', '45458', '48501', '42788',\n",
       "       '43349', '47270', '45071', '41280', '50282', '37523', '40969',\n",
       "       '43490', '42980', '46270', '41524', '41187', '46087', '41815',\n",
       "       '45336', '44423', '43753', '45152', '35914', '42045', '47107',\n",
       "       '37058'], dtype=object)"
      ]
     },
     "execution_count": 242,
     "metadata": {},
     "output_type": "execute_result"
    }
   ],
   "source": [
    "df_learn.workerID.unique()"
   ]
  },
  {
   "cell_type": "code",
   "execution_count": 243,
   "id": "9f9a0442",
   "metadata": {},
   "outputs": [
    {
     "data": {
      "text/plain": [
       "array(['trial_end', 'reset', 'block_placement', 'block_undo_placement',\n",
       "       'block_redo_placement', 'metadata'], dtype=object)"
      ]
     },
     "execution_count": 243,
     "metadata": {},
     "output_type": "execute_result"
    }
   ],
   "source": [
    "df_all.datatype.unique()"
   ]
  },
  {
   "cell_type": "code",
   "execution_count": 244,
   "id": "2b6b8ce6",
   "metadata": {},
   "outputs": [
    {
     "name": "stdout",
     "output_type": "stream",
     "text": [
      "13427\n"
     ]
    }
   ],
   "source": [
    "# block placements\n",
    "query = coll.find({\"$and\":[\n",
    "                        {'datatype':'block_placement'},\n",
    "                        {'iterationName': { '$in': iteration_names }},\n",
    "                        ]})\n",
    "df_blocks = pd.DataFrame(query)\n",
    "print(len(df_blocks))"
   ]
  },
  {
   "cell_type": "code",
   "execution_count": 245,
   "id": "adc16567",
   "metadata": {},
   "outputs": [
    {
     "name": "stdout",
     "output_type": "stream",
     "text": [
      "0\n"
     ]
    }
   ],
   "source": [
    "# old-new judgements\n",
    "query = coll.find({\"$and\":[\n",
    "                        {'iterationName': { '$in': iteration_names }},\n",
    "                        {'trial_type':'block-tower-build-recall'},\n",
    "                        ]})\n",
    "df_recall_trial = pd.DataFrame(query)\n",
    "print(len(df_recall_trial))"
   ]
  },
  {
   "cell_type": "code",
   "execution_count": 297,
   "id": "578e5b31",
   "metadata": {},
   "outputs": [
    {
     "name": "stdout",
     "output_type": "stream",
     "text": [
      "0\n"
     ]
    }
   ],
   "source": [
    "# recalled towers one by one (in single recall trial)\n",
    "query = coll.find({\"$and\":[\n",
    "                        {'iterationName': { '$in': iteration_names }},\n",
    "                        {'datatype':'recalled_tower'},\n",
    "                        ]})\n",
    "df_recalled_towers = pd.DataFrame(query)\n",
    "print(len(df_recalled_towers))"
   ]
  },
  {
   "cell_type": "code",
   "execution_count": null,
   "id": "abad5b52",
   "metadata": {},
   "outputs": [],
   "source": [
    "# recalled towers one by one (in single recall trial)\n",
    "query = coll.find({\"$and\":[\n",
    "                        {'iterationName': { '$in': iteration_names }},\n",
    "                        {'datatype':'recalled_tower'},\n",
    "                        ]})\n",
    "df_recalled_towers = pd.DataFrame(query)\n",
    "print(len(df_recalled_towers))"
   ]
  },
  {
   "cell_type": "code",
   "execution_count": 298,
   "id": "224c1a83",
   "metadata": {},
   "outputs": [
    {
     "name": "stdout",
     "output_type": "stream",
     "text": [
      "367\n"
     ]
    }
   ],
   "source": [
    "# recalled towers one by one (across multiple recall trials i.e. in color experiments onwards)\n",
    "query = coll.find({\"$and\":[\n",
    "                        {'iterationName': { '$in': iteration_names }},\n",
    "                        {'trial_type':'block-tower-building-recall-choose-color'},\n",
    "                        ]})\n",
    "df_recalled_towers = pd.DataFrame(query)\n",
    "print(len(df_recalled_towers))"
   ]
  },
  {
   "cell_type": "code",
   "execution_count": 292,
   "id": "abce0440",
   "metadata": {},
   "outputs": [
    {
     "name": "stdout",
     "output_type": "stream",
     "text": [
      "3371\n"
     ]
    }
   ],
   "source": [
    "# old-new judgements\n",
    "query = coll.find({\"$and\":[\n",
    "                        {'iterationName': { '$in': iteration_names }},\n",
    "                        {'datatype':'trial_end'},\n",
    "                        ]})\n",
    "df_trial = pd.DataFrame(query)\n",
    "print(len(df_trial))"
   ]
  },
  {
   "cell_type": "code",
   "execution_count": 293,
   "id": "d4843417",
   "metadata": {
    "scrolled": true
   },
   "outputs": [
    {
     "data": {
      "text/plain": [
       "array(['4556-7e9c8edf-bbd0-44b6-9f89-b21361ceb53c',\n",
       "       '6525-db5412b9-d241-4bcf-9463-e6707c31c28f',\n",
       "       '9665-9c58ab74-d5c3-4d6e-a591-c2f607a54b09',\n",
       "       '7964-a5ab7abf-a666-4126-98ff-a7785fa7a731',\n",
       "       '6521-a049169b-8804-42ce-b5f8-e91c89758945',\n",
       "       '7705-2bc0b2fc-aed0-4f6c-9ea2-2fb696f981a4',\n",
       "       '8911-ae732694-7d10-4cc3-b7e7-4e71057643aa',\n",
       "       '7308-dfdf2245-1106-4d94-9755-76ce8dda4aa8',\n",
       "       '9247-b28189bb-2eb1-4251-bb4b-523f6a39f684',\n",
       "       '0155-7398e78b-a50c-4b8f-8f2e-08a316ed78ad',\n",
       "       '7609-cce722e4-03f7-40b3-ab8a-3ab6ec45d12f',\n",
       "       '1707-a6217f8a-bca3-4842-8bf8-915d8c7cd236',\n",
       "       '9858-65075ac1-7823-4d74-84ec-44ed1c707d45',\n",
       "       '9970-fdc12eac-e82c-4279-be68-32bc80a5fee0',\n",
       "       '9268-9be5c30f-a7a5-48c5-a302-cb51c4d6f674',\n",
       "       '1063-7e8e88e1-403c-42ef-b118-ecd867c5ed65',\n",
       "       '8961-5cde4260-466c-49af-a7cb-f0366f338c1d',\n",
       "       '3214-49411240-c1d2-46fa-9c13-6f329a8a8024',\n",
       "       '0740-faef273b-4e29-43c2-975e-0b71aa1ff416',\n",
       "       '6455-30b654f0-81af-41ab-b7b4-dda51dc97874',\n",
       "       '6375-e7f71baf-42b6-428f-9102-d70cdca85953',\n",
       "       '6391-d50c617f-192f-4602-9b8b-b95b3910f229',\n",
       "       '2193-8a770980-eacc-460a-83bf-3901e77fcc82',\n",
       "       '9890-eef0b3d4-33d7-4c68-9eaa-7a27843c27ee',\n",
       "       '9609-d081f41d-fb10-404c-a0c7-275258a02c60',\n",
       "       '5479-7a072602-8aaa-49e1-aca4-797bf4df540a',\n",
       "       '0571-3e448d12-83df-4379-8b91-993227b87c9a',\n",
       "       '4854-6c124915-2c2b-4997-8ff1-bfd409f619f1',\n",
       "       '8041-458478f8-775b-477c-b51b-e097ed897fc3',\n",
       "       '7447-9ae74a37-656f-4d1a-99df-8ce3df5ac054',\n",
       "       '7479-463604fc-9228-48c3-ae9d-725e3ed7023b',\n",
       "       '7075-8a32299e-9974-482e-aeb2-af42bb45ff5f',\n",
       "       '5795-4fba619f-60bb-491a-86f2-eac6d8120c99',\n",
       "       '4558-94176c4f-f591-4acc-945c-5292e1d49eb9',\n",
       "       '0677-1f18fe7c-aff1-4d7c-89ab-84e08304aa3c',\n",
       "       '1634-9de6daae-b5aa-4aa1-86a8-26f60a4ca294',\n",
       "       '1212-a4a92736-673f-4827-b973-2f1586b8dab0',\n",
       "       '7416-7ceb9e5a-1f7b-4670-b56b-4207645cc8d3',\n",
       "       '5705-a45e3686-3fc5-4b0f-af7f-e000a2d21c88',\n",
       "       '1728-7398f4a2-6bda-4791-a5bf-4755c43b4b06',\n",
       "       '0597-37949a74-29db-40f8-bdc7-b0f131583438',\n",
       "       '1417-00e5442c-2f7c-44c1-8a85-296d590812dc',\n",
       "       '5497-2ff53258-31d7-47d1-98ab-4f0a2d52282d',\n",
       "       '1043-aea5d509-2f6a-4bb7-9449-33bf5119332e',\n",
       "       '4122-1925fec3-9135-4db9-ace3-097e5e7dc917',\n",
       "       '6640-75c80903-7445-4a16-b0c4-46091ba40f29',\n",
       "       '8972-af0716ff-46b0-4bd5-8150-d8879d9a613c',\n",
       "       '5969-092bd409-ad3b-4bf9-8a49-79f01036ced3',\n",
       "       '2637-573a63ba-f225-435b-9901-4c39335057b7',\n",
       "       '5110-b1cb0e1a-390b-4669-a0dd-345585a8cf85',\n",
       "       '1295-19205017-582e-4d33-a847-0d9fc5a34a4e',\n",
       "       '9285-3ae3ca0a-5ebd-4075-9526-cf3bd901c22b',\n",
       "       '5980-ba782ae7-9887-4f4a-87e0-414032b36289',\n",
       "       '3183-386ea88e-dd35-4742-9599-b887aee6ced2',\n",
       "       '9107-7e30dc12-03e2-44d9-976b-e507bf296390',\n",
       "       '5492-5e6b9075-9782-4a9a-9811-a02ba4e1777d',\n",
       "       '9778-250d3509-f8bb-4375-ab3b-306e204178bc',\n",
       "       '1309-bdb7d756-5f11-4f6e-8a68-3e578dad7ac8',\n",
       "       '1220-49ccaa81-d05f-446c-93a5-faebe48c4ba3',\n",
       "       '5985-ea86ae37-17f3-4582-a978-cfbd7bac471b',\n",
       "       '5899-69541636-7039-49ad-9f88-2125831579fd',\n",
       "       '7786-10b5db92-ff37-4b39-8038-88878d805a53',\n",
       "       '8619-cd5ea75b-b2c6-4797-975a-7f899a11722d',\n",
       "       '3980-7ca98241-769d-46e7-98b6-31995e03d330',\n",
       "       '2679-51841bab-9229-4584-8daa-bf1accd78d02',\n",
       "       '0818-d23ad0d0-71e7-4437-a5b0-b77efc57b484',\n",
       "       '1491-da371aee-e164-4292-845d-2d65eced03f4',\n",
       "       '6574-0682b11c-8523-49b6-8acf-fbfe17ed992e',\n",
       "       '8236-5b12a983-3334-4885-bc63-258e89ae0b0a',\n",
       "       '0662-44c1b8e9-b47c-4b0f-855f-4039dff6ba59',\n",
       "       '9363-73d6b82c-6126-41ed-a728-2ce4a818c7f9',\n",
       "       '8434-f33aacad-72a2-4ae6-b5b7-b018f93f4b40',\n",
       "       '1294-91d7c507-fafc-4913-91ee-f06325e9bc3d',\n",
       "       '6526-0895ef1f-4fe6-4915-acf5-e3934f98ba65',\n",
       "       '1786-bfe53838-e04a-48bc-818c-3c1421729e9a',\n",
       "       '5412-c8d90c17-078c-490a-9398-0a0c03816838',\n",
       "       '7757-94f27cc9-6504-4ac6-9608-d8a9663fb516',\n",
       "       '3339-78f9f0b9-3612-4431-919b-8b1aebc596ca',\n",
       "       '8041-36459f2e-c372-4ead-a334-068e99022e51',\n",
       "       '5215-dc2ae167-c3c1-417b-b168-fbea18bbaaa1',\n",
       "       '0476-56b003f6-ca6f-426f-a549-5f028420281b',\n",
       "       '6449-9620572d-2a07-49fc-8a76-3d155c12515c',\n",
       "       '4788-47980626-2624-43a1-ab01-270c802290f8',\n",
       "       '8805-f4c7b43f-2c81-4cd0-a092-70c1b2769eab',\n",
       "       '1739-403d5482-b20b-4e8c-997a-5d59bbb3ea1c',\n",
       "       '1663-586861c7-ec1d-419f-9bd2-ba98095c7fff',\n",
       "       '4436-16c03e6a-8ec4-4f6b-8314-084ad84bd0af',\n",
       "       '9999-e4260746-911e-430f-87cf-4f8b063c96c8',\n",
       "       '0904-f3e3c744-bb2d-45ee-84fc-4e15bb51936c',\n",
       "       '5938-bbc1e85b-9755-4f90-bbd9-2ed9b6d4d32e',\n",
       "       '9863-74243a65-d9bb-458d-80f3-07df85cb7ffb',\n",
       "       '5344-c7956d15-e491-49d0-b995-176800f1b867',\n",
       "       '9166-c7dcc32c-683c-41d3-b785-b50481703467'], dtype=object)"
      ]
     },
     "execution_count": 293,
     "metadata": {},
     "output_type": "execute_result"
    }
   ],
   "source": [
    "df_trial[df_trial['trial_type'] == 'block-tower-building-recall-choose-color'].gameID.unique()"
   ]
  },
  {
   "cell_type": "code",
   "execution_count": 294,
   "id": "25731281",
   "metadata": {},
   "outputs": [
    {
     "data": {
      "text/plain": [
       "75       765012\n",
       "76       799207\n",
       "77       834372\n",
       "78       866809\n",
       "79       896487\n",
       "         ...   \n",
       "3195     991263\n",
       "3196    1081457\n",
       "3197    1091462\n",
       "3199     842228\n",
       "3200     857004\n",
       "Name: time_elapsed, Length: 367, dtype: int64"
      ]
     },
     "execution_count": 294,
     "metadata": {},
     "output_type": "execute_result"
    }
   ],
   "source": [
    "df_trial[df_trial['trial_type'] == 'block-tower-building-recall-choose-color'].time_elapsed"
   ]
  },
  {
   "cell_type": "code",
   "execution_count": 295,
   "id": "26e9390c",
   "metadata": {},
   "outputs": [
    {
     "data": {
      "text/plain": [
       "Index(['_id', 'rt', 'url', 'trial_type', 'trial_index', 'time_elapsed',\n",
       "       'internal_node_id', 'experimentName', 'iterationName', 'workerID',\n",
       "       'gameID', 'studyLocation', 'datatype', 'view_history',\n",
       "       'trial_start_time', 'trial_finish_time', 'condition', 'stimulus',\n",
       "       'response', 'trial_num', 'towerColor', 'block_str', 'tower_id',\n",
       "       'tower_A_tall_id', 'tower_A_wide_id', 'tower_B_tall_id',\n",
       "       'tower_B_wide_id', 'tower_id_tall', 'composite_id', 'timeAbsolute',\n",
       "       'timeRelative', 'blocks', 'discreteWorld', 'eventType', 'endReason',\n",
       "       'relative_time', 'rep', 'n_resets', 'color', 'correct', 'locations',\n",
       "       'target_present', 'set_size', 'success', 'timeout', 'failed_images',\n",
       "       'failed_audio', 'failed_video', 'img_src', 'img_position', 'target',\n",
       "       'absolute_time', 'distractor_imgs', 'target_img', 'stim',\n",
       "       'response_kind', 'distractor_kinds'],\n",
       "      dtype='object')"
      ]
     },
     "execution_count": 295,
     "metadata": {},
     "output_type": "execute_result"
    }
   ],
   "source": [
    "df_trial[df_trial['trial_type'] == 'block-tower-building-recall-choose-color'].columns"
   ]
  },
  {
   "cell_type": "code",
   "execution_count": 296,
   "id": "f908b78a",
   "metadata": {},
   "outputs": [
    {
     "data": {
      "text/plain": [
       "[{'technical': 'no',\n",
       "  'confused': 'no',\n",
       "  'comments': 'it was very hard to remember the shapes '},\n",
       " {'technical': 'No',\n",
       "  'confused': 'I found it harder to maneuver some of the building blocks as well as found it hard remembering a good amount of the towers. ',\n",
       "  'comments': 'The experiment was pretty creative and fun. '},\n",
       " {'technical': 'no', 'confused': 'no', 'comments': 'no'},\n",
       " {'technical': '', 'confused': '', 'comments': ''},\n",
       " {'technical': 'no', 'confused': '', 'comments': ''},\n",
       " {'technical': 'None ',\n",
       "  'confused': 'None',\n",
       "  'comments': 'final challenge was hard'},\n",
       " {'technical': 'Yes', 'confused': 'A little confused', 'comments': 'n/a'},\n",
       " {'technical': 'no', 'confused': 'no ', 'comments': 'no'},\n",
       " {'technical': 'no', 'confused': 'yes', 'comments': 'no'},\n",
       " {'technical': '',\n",
       "  'confused': '',\n",
       "  'comments': 'It was hard to figure out the puzzle and that made me forget the pattern for other towers even if I did remember it before attempting the puzzle. '},\n",
       " {'technical': 'no', 'confused': 'no', 'comments': 'no'},\n",
       " {'technical': 'no', 'confused': 'no confusion ', 'comments': 'no '},\n",
       " {'technical': 'No.', 'confused': 'No.', 'comments': 'No.'},\n",
       " {'technical': 'no', 'confused': 'no', 'comments': 'no'},\n",
       " {'technical': 'N/A', 'confused': 'N/A', 'comments': 'N/A'},\n",
       " {'technical': 'no', 'confused': 'no', 'comments': 'no'},\n",
       " {'technical': 'no', 'confused': 'no', 'comments': 'no'},\n",
       " {'technical': 'no',\n",
       "  'confused': 'no',\n",
       "  'comments': 'how many did i remember correctly? lol'},\n",
       " {'technical': '', 'confused': '', 'comments': ''},\n",
       " {'technical': 'no', 'confused': 'no', 'comments': 'no'},\n",
       " {'technical': 'no', 'confused': 'no', 'comments': 'no'},\n",
       " {'technical': '', 'confused': '', 'comments': ''},\n",
       " {'technical': '', 'confused': '', 'comments': ''},\n",
       " {'technical': 'no', 'confused': 'no', 'comments': ''},\n",
       " {'technical': 'No', 'confused': 'No', 'comments': 'No'},\n",
       " {'technical': '', 'confused': '', 'comments': ''},\n",
       " {'technical': 'No', 'confused': 'No', 'comments': 'No'},\n",
       " {'technical': 'yes I struggled to navigate the block building ',\n",
       "  'confused': \"wasn't confusing \",\n",
       "  'comments': \"Sorry I couldn't construct any in the last trial\"},\n",
       " {'technical': 'no', 'confused': 'no', 'comments': 'no'},\n",
       " {'technical': 'no', 'confused': 'no', 'comments': 'no'},\n",
       " {'technical': 'no', 'confused': 'no', 'comments': 'no'},\n",
       " {'technical': 'no', 'confused': 'no', 'comments': 'no'},\n",
       " {'technical': '', 'confused': '', 'comments': ''},\n",
       " {'technical': 'no',\n",
       "  'confused': 'i was confused on the look',\n",
       "  'comments': 'the building is it based on how long it takes'},\n",
       " {'technical': 'No', 'confused': 'Not really', 'comments': 'N/A'},\n",
       " {'technical': 'No',\n",
       "  'confused': 'No',\n",
       "  'comments': 'Fun game, enjoyed trying to remember what colors matched with each shape and connecting the dots'},\n",
       " {'technical': 'no', 'confused': 'no', 'comments': 'no'},\n",
       " {'technical': 'No',\n",
       "  'confused': 'Block building rules - but figured it out quickly',\n",
       "  'comments': ''},\n",
       " {'technical': 'no, I used Chrome, it was good',\n",
       "  'confused': 'no. but i do have some hard time remembering things',\n",
       "  'comments': ':)'},\n",
       " {'technical': 'none',\n",
       "  'confused': 'No it was easy and straightforward to understand',\n",
       "  'comments': ''},\n",
       " {'technical': 'no',\n",
       "  'confused': 'I was only confused at the beginning because I didnt realize that we ahd to stack them on top of one another, I thought that we could just place blocks anywehre on the grid',\n",
       "  'comments': 'no'},\n",
       " {'technical': 'none', 'confused': 'no', 'comments': 'no'},\n",
       " {'technical': '', 'confused': '', 'comments': ''},\n",
       " {'technical': 'no', 'confused': 'no', 'comments': 'n/a'},\n",
       " {'technical': 'no',\n",
       "  'confused': 'yes i was confused when i couldnt put the blocks where i wanted ',\n",
       "  'comments': 'none'},\n",
       " {'technical': '', 'confused': '', 'comments': ''},\n",
       " {'technical': '', 'confused': '', 'comments': ''},\n",
       " {'technical': 'No', 'confused': 'No, I was not confused', 'comments': ''},\n",
       " {'technical': 'no', 'confused': 'no', 'comments': 'n/a'},\n",
       " {'technical': 'no ', 'confused': 'No ', 'comments': 'No'},\n",
       " {'technical': '', 'confused': '', 'comments': ''},\n",
       " {'technical': 'no', 'confused': 'no i was not confused', 'comments': 'no'},\n",
       " {'technical': 'no', 'confused': 'no', 'comments': 'no'},\n",
       " {'technical': 'no',\n",
       "  'confused': 'no',\n",
       "  'comments': 'it was har to mameorize the block color when trying to remeber the shape'},\n",
       " {'technical': 'no', 'confused': 'n/a', 'comments': 'n/a'},\n",
       " {'technical': 'no', 'confused': 'no', 'comments': 'no'},\n",
       " {'technical': 'no', 'confused': 'nothing', 'comments': 'no'},\n",
       " {'technical': 'none', 'confused': 'no ', 'comments': ''},\n",
       " {'technical': '', 'confused': '', 'comments': ''},\n",
       " {'technical': 'no', 'confused': 'no', 'comments': 'no'},\n",
       " {'technical': 'no', 'confused': 'no', 'comments': ''},\n",
       " {'technical': 'No',\n",
       "  'confused': 'There was nothing confusing about this experiment',\n",
       "  'comments': 'This was a fun experiment'},\n",
       " {'technical': 'none',\n",
       "  'confused': 'no, directions where pretty straight forward',\n",
       "  'comments': 'it was a fun and challenging experiment. '},\n",
       " {'technical': 'no', 'confused': 'no', 'comments': 'no'},\n",
       " {'technical': '', 'confused': '', 'comments': ''},\n",
       " {'technical': 'No', 'confused': 'No', 'comments': 'No'},\n",
       " {'technical': 'No',\n",
       "  'confused': 'The directions were clear. ',\n",
       "  'comments': ''},\n",
       " {'technical': 'No technical difficulties.',\n",
       "  'confused': 'I was initially confused on the build part. I did not realize I had to build it exact in order to move on including the proper proportions. ',\n",
       "  'comments': 'N/A'},\n",
       " {'technical': 'NO', 'confused': 'NO', 'comments': 'NO'},\n",
       " {'technical': 'it was kind of laggy', 'confused': 'no', 'comments': 'no '},\n",
       " {'technical': 'no', 'confused': 'no', 'comments': 'no'},\n",
       " {'technical': 'No',\n",
       "  'confused': 'At first I was confused on whether or not I had to look or build',\n",
       "  'comments': ''},\n",
       " {'technical': 'no', 'confused': 'no', 'comments': 'no'},\n",
       " {'technical': 'no', 'confused': 'no', 'comments': ''},\n",
       " {'technical': 'I dont think so',\n",
       "  'confused': 'Honestly, I did not remember anything. I am not sure why ',\n",
       "  'comments': 'probably do the test with a memorization fragment inbetween'},\n",
       " {'technical': 'no ', 'confused': 'no', 'comments': 'Super fun task! '},\n",
       " {'technical': 'No', 'confused': 'Nothing', 'comments': 'no'},\n",
       " {'technical': 'No', 'confused': 'No', 'comments': 'No'},\n",
       " {'technical': 'No',\n",
       "  'confused': \"At first I could not figure out hoe to build the towers because I didn't realize that the blocks would fall\",\n",
       "  'comments': ''},\n",
       " {'technical': 'None', 'confused': 'No', 'comments': 'No'},\n",
       " {'technical': 'NO', 'confused': 'NO', 'comments': 'NO'},\n",
       " {'technical': '', 'confused': '', 'comments': ''},\n",
       " {'technical': 'no', 'confused': 'not really', 'comments': ''},\n",
       " {'technical': 'no',\n",
       "  'confused': '',\n",
       "  'comments': 'it was fun building them! i just couldnt remember the building shapes for the life of me, only the colors'},\n",
       " {'technical': 'None',\n",
       "  'confused': 'I was not confused at all',\n",
       "  'comments': 'This was fun!'},\n",
       " {'technical': 'no', 'confused': 'no', 'comments': 'no'},\n",
       " {'technical': '', 'confused': '', 'comments': ''},\n",
       " {'technical': 'no', 'confused': '', 'comments': ''},\n",
       " {'technical': 'no', 'confused': 'no', 'comments': ''},\n",
       " {'technical': 'I did not.',\n",
       "  'confused': 'The first tower I had to build I thought we were going to be timed and the job was to get as close as we can to the tower presented but realized I had to match the tower to continue on so I took longer to complete the build the first tower. ',\n",
       "  'comments': 'N/A'},\n",
       " {'technical': 'No', 'confused': 'No', 'comments': 'No'},\n",
       " {'technical': '', 'confused': '', 'comments': ''},\n",
       " {'technical': 'no', 'confused': 'no', 'comments': 'no'}]"
      ]
     },
     "execution_count": 296,
     "metadata": {},
     "output_type": "execute_result"
    }
   ],
   "source": [
    "# look at survey responses\n",
    "list(df_all[df_all.trial_type == 'survey-text']['response'])"
   ]
  },
  {
   "cell_type": "code",
   "execution_count": null,
   "id": "bd020068",
   "metadata": {},
   "outputs": [],
   "source": [
    "df_recalled_towers"
   ]
  },
  {
   "cell_type": "markdown",
   "id": "6be8ccd0",
   "metadata": {},
   "source": [
    "### Exclusion criteria"
   ]
  },
  {
   "cell_type": "code",
   "execution_count": 253,
   "id": "5020c1bc",
   "metadata": {},
   "outputs": [],
   "source": [
    "df_all_trial = pd.concat([df_learn, df_recalled_towers], ignore_index=True)"
   ]
  },
  {
   "cell_type": "code",
   "execution_count": 254,
   "id": "2d90d2bc",
   "metadata": {},
   "outputs": [],
   "source": [
    "# remove experimenter data\n",
    "remove_tests = False\n",
    "\n",
    "if remove_tests:\n",
    "    df_build = df_build[~df_build.workerID.isna()]\n",
    "    df_survey = df_survey[~df_survey.workerID.isna()]\n",
    "    df_learn = df_learn[~df_learn.workerID.isna()]\n",
    "    df_recall = df_recall[~df_recall.workerID.isna()]"
   ]
  },
  {
   "cell_type": "code",
   "execution_count": 256,
   "id": "6fbb9560",
   "metadata": {},
   "outputs": [
    {
     "name": "stdout",
     "output_type": "stream",
     "text": [
      "162 ppts removed for incomplete data\n",
      "94 ppts left\n"
     ]
    }
   ],
   "source": [
    "# remove incomplete datasets (build recall)\n",
    "remove_incomplete_datasets = True\n",
    "n_expected_learn_trials = 18\n",
    "\n",
    "if remove_incomplete_datasets:\n",
    "    a = df_learn.groupby('gameID').apply(len) == n_expected_learn_trials\n",
    "    complete_zipping_set_gameIDs = list(a[a].index)\n",
    "    df_trials = df_all_trial[df_all_trial.gameID.isin(complete_zipping_set_gameIDs)]\n",
    "    df_learn = df_learn[df_learn.gameID.isin(complete_zipping_set_gameIDs)]\n",
    "    df_recalled_towers = df_recalled_towers[df_recalled_towers.gameID.isin(complete_zipping_set_gameIDs)]\n",
    "    \n",
    "    incomplete_zipping_set_gameIDs = list(a[~a].index)\n",
    "    print(str(len(incomplete_zipping_set_gameIDs)) + ' ppts removed for incomplete data')\n",
    "    print(str(len(complete_zipping_set_gameIDs)) + ' ppts left')\n",
    "else: \n",
    "    print('No ppts removed')"
   ]
  },
  {
   "cell_type": "code",
   "execution_count": 308,
   "id": "af6691fa",
   "metadata": {},
   "outputs": [],
   "source": [
    "times = df_trials.sort_values(['workerID','trial_start_time']).groupby(['workerID'])\\\n",
    "            .first().reset_index()[['workerID','trial_start_time']]\n",
    "\n",
    "\n"
   ]
  },
  {
   "cell_type": "code",
   "execution_count": 309,
   "id": "329916b2",
   "metadata": {},
   "outputs": [
    {
     "data": {
      "text/plain": [
       "22      1.700683e+12\n",
       "26      1.700683e+12\n",
       "28      1.700683e+12\n",
       "31      1.700683e+12\n",
       "33      1.700683e+12\n",
       "            ...     \n",
       "2383    1.701407e+12\n",
       "2384    1.701407e+12\n",
       "2385    1.701407e+12\n",
       "2386    1.701407e+12\n",
       "2387    1.701407e+12\n",
       "Name: trial_start_time, Length: 2059, dtype: float64"
      ]
     },
     "execution_count": 309,
     "metadata": {},
     "output_type": "execute_result"
    }
   ],
   "source": [
    "df_trials.trial_start_time"
   ]
  },
  {
   "cell_type": "code",
   "execution_count": 315,
   "id": "f474fa31",
   "metadata": {},
   "outputs": [
    {
     "data": {
      "text/plain": [
       "(array([ 4.,  2.,  4.,  2.,  0.,  2.,  1.,  0.,  0.,  1.,  0.,  0.,  1.,\n",
       "         3.,  2.,  2.,  0.,  0.,  2.,  4.,  3.,  1.,  0.,  2.,  9.,  6.,\n",
       "         4.,  1.,  1.,  7.,  6.,  0.,  1.,  0.,  0.,  0.,  2.,  0.,  0.,\n",
       "         0.,  0.,  0.,  2.,  0.,  3.,  1.,  0.,  1.,  3., 10.]),\n",
       " array([1.70068282e+12, 1.70069729e+12, 1.70071176e+12, 1.70072623e+12,\n",
       "        1.70074070e+12, 1.70075517e+12, 1.70076964e+12, 1.70078411e+12,\n",
       "        1.70079858e+12, 1.70081306e+12, 1.70082753e+12, 1.70084200e+12,\n",
       "        1.70085647e+12, 1.70087094e+12, 1.70088541e+12, 1.70089988e+12,\n",
       "        1.70091435e+12, 1.70092882e+12, 1.70094329e+12, 1.70095776e+12,\n",
       "        1.70097223e+12, 1.70098670e+12, 1.70100117e+12, 1.70101564e+12,\n",
       "        1.70103011e+12, 1.70104459e+12, 1.70105906e+12, 1.70107353e+12,\n",
       "        1.70108800e+12, 1.70110247e+12, 1.70111694e+12, 1.70113141e+12,\n",
       "        1.70114588e+12, 1.70116035e+12, 1.70117482e+12, 1.70118929e+12,\n",
       "        1.70120376e+12, 1.70121823e+12, 1.70123270e+12, 1.70124717e+12,\n",
       "        1.70126164e+12, 1.70127612e+12, 1.70129059e+12, 1.70130506e+12,\n",
       "        1.70131953e+12, 1.70133400e+12, 1.70134847e+12, 1.70136294e+12,\n",
       "        1.70137741e+12, 1.70139188e+12, 1.70140635e+12]),\n",
       " <BarContainer object of 50 artists>)"
      ]
     },
     "execution_count": 315,
     "metadata": {},
     "output_type": "execute_result"
    },
    {
     "data": {
      "image/png": "[encoded data removed]",
      "text/plain": [
       "<Figure size 640x480 with 1 Axes>"
      ]
     },
     "metadata": {},
     "output_type": "display_data"
    }
   ],
   "source": [
    "plt.hist(times.trial_start_time, bins=50)"
   ]
  },
  {
   "cell_type": "markdown",
   "id": "8795589b",
   "metadata": {},
   "source": [
    "#### Flag potentially weird behaviors\n",
    "\n",
    "Flag:\n",
    "- < 50% accuracy?\n",
    "- button bashing on recall trials?\n",
    "- fast rts on recall trials?"
   ]
  },
  {
   "cell_type": "markdown",
   "id": "5292084c",
   "metadata": {},
   "source": [
    "### Save data to csv"
   ]
  },
  {
   "cell_type": "code",
   "execution_count": 318,
   "id": "78639f42",
   "metadata": {},
   "outputs": [],
   "source": [
    "iteration_name = 'build_components_build_recall_6_towers_3_rep_color_sona_2'"
   ]
  },
  {
   "cell_type": "code",
   "execution_count": 319,
   "id": "8ef8cf57",
   "metadata": {},
   "outputs": [],
   "source": [
    "df_learn.to_csv(experiment_results_dir + '/df_learn_{}.csv'.format(iteration_name))\n",
    "# df_trial.to_csv(experiment_results_dir + '/df_trial_{}.csv'.format(iteration_name))\n",
    "df_recall_trial.to_csv(experiment_results_dir + '/df_recall_trial_{}.csv'.format(iteration_name))\n",
    "df_recalled_towers.to_csv(experiment_results_dir + '/df_recalled_towers_{}.csv'.format(iteration_name))\n",
    "df_blocks.to_csv(experiment_results_dir + '/df_blocks_{}.csv'.format(iteration_name))"
   ]
  },
  {
   "cell_type": "code",
   "execution_count": 175,
   "id": "0d06db93",
   "metadata": {},
   "outputs": [
    {
     "data": {
      "text/plain": [
       "'/Users/will/zipping/results/build_recall/df_blocks_build_components_build_recall_6_towers_3_rep_color_sona_pilot_0.csv'"
      ]
     },
     "execution_count": 175,
     "metadata": {},
     "output_type": "execute_result"
    }
   ],
   "source": [
    "experiment_results_dir + '/df_blocks_{}.csv'.format(iteration_name)"
   ]
  },
  {
   "cell_type": "code",
   "execution_count": 53,
   "id": "5cc883de",
   "metadata": {},
   "outputs": [
    {
     "data": {
      "text/html": [
       "<div>\n",
       "<style scoped>\n",
       "    .dataframe tbody tr th:only-of-type {\n",
       "        vertical-align: middle;\n",
       "    }\n",
       "\n",
       "    .dataframe tbody tr th {\n",
       "        vertical-align: top;\n",
       "    }\n",
       "\n",
       "    .dataframe thead th {\n",
       "        text-align: right;\n",
       "    }\n",
       "</style>\n",
       "<table border=\"1\" class=\"dataframe\">\n",
       "  <thead>\n",
       "    <tr style=\"text-align: right;\">\n",
       "      <th></th>\n",
       "      <th>Unnamed: 0</th>\n",
       "      <th>_id</th>\n",
       "      <th>trial_start_time</th>\n",
       "      <th>trial_finish_time</th>\n",
       "      <th>condition</th>\n",
       "      <th>stimulus</th>\n",
       "      <th>response</th>\n",
       "      <th>trial_num</th>\n",
       "      <th>block_str</th>\n",
       "      <th>tower_id</th>\n",
       "      <th>...</th>\n",
       "      <th>eventType</th>\n",
       "      <th>endReason</th>\n",
       "      <th>relative_time</th>\n",
       "      <th>rep</th>\n",
       "      <th>n_resets</th>\n",
       "      <th>absolute_time</th>\n",
       "      <th>total_recall_time</th>\n",
       "      <th>submitted_towers</th>\n",
       "      <th>concatenated_towers</th>\n",
       "      <th>n_towers</th>\n",
       "    </tr>\n",
       "  </thead>\n",
       "  <tbody>\n",
       "    <tr>\n",
       "      <th>0</th>\n",
       "      <td>0</td>\n",
       "      <td>64274b0ee158fd5aa12435c5</td>\n",
       "      <td>1.680297e+12</td>\n",
       "      <td>1.680297e+12</td>\n",
       "      <td>view</td>\n",
       "      <td>{'blocks': [{'x': 0, 'y': 0, 'height': 1, 'wid...</td>\n",
       "      <td>NaN</td>\n",
       "      <td>1</td>\n",
       "      <td>0000000000000000101000001010000011110000100100...</td>\n",
       "      <td>talls_114_111</td>\n",
       "      <td>...</td>\n",
       "      <td>NaN</td>\n",
       "      <td>NaN</td>\n",
       "      <td>NaN</td>\n",
       "      <td>NaN</td>\n",
       "      <td>NaN</td>\n",
       "      <td>NaN</td>\n",
       "      <td>NaN</td>\n",
       "      <td>NaN</td>\n",
       "      <td>NaN</td>\n",
       "      <td>NaN</td>\n",
       "    </tr>\n",
       "    <tr>\n",
       "      <th>1</th>\n",
       "      <td>1</td>\n",
       "      <td>64274b4ee158fd5aa12435d2</td>\n",
       "      <td>1.680297e+12</td>\n",
       "      <td>NaN</td>\n",
       "      <td>build</td>\n",
       "      <td>{'blocks': [{'x': 0, 'y': 0, 'height': 1, 'wid...</td>\n",
       "      <td>NaN</td>\n",
       "      <td>2</td>\n",
       "      <td>0000000000000000010100000101000011110000011000...</td>\n",
       "      <td>talls_097_100</td>\n",
       "      <td>...</td>\n",
       "      <td>trial_end</td>\n",
       "      <td>perfect-reconstruction-translation</td>\n",
       "      <td>59538.0</td>\n",
       "      <td>1.0</td>\n",
       "      <td>1.0</td>\n",
       "      <td>NaN</td>\n",
       "      <td>NaN</td>\n",
       "      <td>NaN</td>\n",
       "      <td>NaN</td>\n",
       "      <td>NaN</td>\n",
       "    </tr>\n",
       "    <tr>\n",
       "      <th>2</th>\n",
       "      <td>2</td>\n",
       "      <td>64274b5ee158fd5aa12435d3</td>\n",
       "      <td>1.680297e+12</td>\n",
       "      <td>1.680297e+12</td>\n",
       "      <td>view</td>\n",
       "      <td>{'blocks': [{'x': 1, 'y': 0, 'height': 2, 'wid...</td>\n",
       "      <td>NaN</td>\n",
       "      <td>3</td>\n",
       "      <td>0000000000000000110100000101000001110000111100...</td>\n",
       "      <td>talls_121_101</td>\n",
       "      <td>...</td>\n",
       "      <td>NaN</td>\n",
       "      <td>NaN</td>\n",
       "      <td>NaN</td>\n",
       "      <td>NaN</td>\n",
       "      <td>NaN</td>\n",
       "      <td>NaN</td>\n",
       "      <td>NaN</td>\n",
       "      <td>NaN</td>\n",
       "      <td>NaN</td>\n",
       "      <td>NaN</td>\n",
       "    </tr>\n",
       "    <tr>\n",
       "      <th>3</th>\n",
       "      <td>3</td>\n",
       "      <td>64274b6fe158fd5aa12435d4</td>\n",
       "      <td>1.680297e+12</td>\n",
       "      <td>1.680297e+12</td>\n",
       "      <td>view</td>\n",
       "      <td>{'blocks': [{'x': 0, 'y': 0, 'height': 2, 'wid...</td>\n",
       "      <td>NaN</td>\n",
       "      <td>4</td>\n",
       "      <td>0000000000000000011100000110000011100000111100...</td>\n",
       "      <td>talls_102_126</td>\n",
       "      <td>...</td>\n",
       "      <td>NaN</td>\n",
       "      <td>NaN</td>\n",
       "      <td>NaN</td>\n",
       "      <td>NaN</td>\n",
       "      <td>NaN</td>\n",
       "      <td>NaN</td>\n",
       "      <td>NaN</td>\n",
       "      <td>NaN</td>\n",
       "      <td>NaN</td>\n",
       "      <td>NaN</td>\n",
       "    </tr>\n",
       "    <tr>\n",
       "      <th>4</th>\n",
       "      <td>4</td>\n",
       "      <td>64274b96e158fd5aa12435e8</td>\n",
       "      <td>1.680297e+12</td>\n",
       "      <td>NaN</td>\n",
       "      <td>build</td>\n",
       "      <td>{'blocks': [{'x': 0, 'y': 0, 'height': 1, 'wid...</td>\n",
       "      <td>NaN</td>\n",
       "      <td>5</td>\n",
       "      <td>0000000000000000111000000110000001110000011000...</td>\n",
       "      <td>talls_118_114</td>\n",
       "      <td>...</td>\n",
       "      <td>trial_end</td>\n",
       "      <td>perfect-reconstruction-translation</td>\n",
       "      <td>34840.0</td>\n",
       "      <td>1.0</td>\n",
       "      <td>0.0</td>\n",
       "      <td>NaN</td>\n",
       "      <td>NaN</td>\n",
       "      <td>NaN</td>\n",
       "      <td>NaN</td>\n",
       "      <td>NaN</td>\n",
       "    </tr>\n",
       "    <tr>\n",
       "      <th>...</th>\n",
       "      <td>...</td>\n",
       "      <td>...</td>\n",
       "      <td>...</td>\n",
       "      <td>...</td>\n",
       "      <td>...</td>\n",
       "      <td>...</td>\n",
       "      <td>...</td>\n",
       "      <td>...</td>\n",
       "      <td>...</td>\n",
       "      <td>...</td>\n",
       "      <td>...</td>\n",
       "      <td>...</td>\n",
       "      <td>...</td>\n",
       "      <td>...</td>\n",
       "      <td>...</td>\n",
       "      <td>...</td>\n",
       "      <td>...</td>\n",
       "      <td>...</td>\n",
       "      <td>...</td>\n",
       "      <td>...</td>\n",
       "      <td>...</td>\n",
       "    </tr>\n",
       "    <tr>\n",
       "      <th>645</th>\n",
       "      <td>645</td>\n",
       "      <td>6446e103da7c3649c9c2a376</td>\n",
       "      <td>1.682366e+12</td>\n",
       "      <td>NaN</td>\n",
       "      <td>NaN</td>\n",
       "      <td>NaN</td>\n",
       "      <td>NaN</td>\n",
       "      <td>13</td>\n",
       "      <td>NaN</td>\n",
       "      <td>NaN</td>\n",
       "      <td>...</td>\n",
       "      <td>NaN</td>\n",
       "      <td>NaN</td>\n",
       "      <td>NaN</td>\n",
       "      <td>NaN</td>\n",
       "      <td>1.0</td>\n",
       "      <td>1.682367e+12</td>\n",
       "      <td>492318.0</td>\n",
       "      <td>[{'towerDetails': {'blocks': [{'x': 4, 'y': 0,...</td>\n",
       "      <td>[{'height': 2, 'width': 1, 'x': 0, 'y': 0}, {'...</td>\n",
       "      <td>6.0</td>\n",
       "    </tr>\n",
       "    <tr>\n",
       "      <th>646</th>\n",
       "      <td>646</td>\n",
       "      <td>6446e20fda7c3649c9c2a419</td>\n",
       "      <td>1.682367e+12</td>\n",
       "      <td>NaN</td>\n",
       "      <td>NaN</td>\n",
       "      <td>NaN</td>\n",
       "      <td>NaN</td>\n",
       "      <td>61</td>\n",
       "      <td>NaN</td>\n",
       "      <td>NaN</td>\n",
       "      <td>...</td>\n",
       "      <td>NaN</td>\n",
       "      <td>NaN</td>\n",
       "      <td>NaN</td>\n",
       "      <td>NaN</td>\n",
       "      <td>1.0</td>\n",
       "      <td>1.682367e+12</td>\n",
       "      <td>283988.0</td>\n",
       "      <td>[{'towerDetails': {'blocks': [{'x': 3, 'y': 0,...</td>\n",
       "      <td>[{'height': 1, 'width': 2, 'x': 0, 'y': 0}, {'...</td>\n",
       "      <td>4.0</td>\n",
       "    </tr>\n",
       "    <tr>\n",
       "      <th>647</th>\n",
       "      <td>647</td>\n",
       "      <td>6446e36bda7c3649c9c2a47a</td>\n",
       "      <td>1.682367e+12</td>\n",
       "      <td>NaN</td>\n",
       "      <td>NaN</td>\n",
       "      <td>NaN</td>\n",
       "      <td>NaN</td>\n",
       "      <td>13</td>\n",
       "      <td>NaN</td>\n",
       "      <td>NaN</td>\n",
       "      <td>...</td>\n",
       "      <td>NaN</td>\n",
       "      <td>NaN</td>\n",
       "      <td>NaN</td>\n",
       "      <td>NaN</td>\n",
       "      <td>1.0</td>\n",
       "      <td>1.682367e+12</td>\n",
       "      <td>733328.0</td>\n",
       "      <td>[{'towerDetails': {'blocks': [{'x': 4, 'y': 0,...</td>\n",
       "      <td>[{'height': 2, 'width': 1, 'x': 1, 'y': 0}, {'...</td>\n",
       "      <td>6.0</td>\n",
       "    </tr>\n",
       "    <tr>\n",
       "      <th>648</th>\n",
       "      <td>648</td>\n",
       "      <td>6446e395da7c3649c9c2a485</td>\n",
       "      <td>1.682367e+12</td>\n",
       "      <td>NaN</td>\n",
       "      <td>NaN</td>\n",
       "      <td>NaN</td>\n",
       "      <td>NaN</td>\n",
       "      <td>13</td>\n",
       "      <td>NaN</td>\n",
       "      <td>NaN</td>\n",
       "      <td>...</td>\n",
       "      <td>NaN</td>\n",
       "      <td>NaN</td>\n",
       "      <td>NaN</td>\n",
       "      <td>NaN</td>\n",
       "      <td>0.0</td>\n",
       "      <td>1.682367e+12</td>\n",
       "      <td>135673.0</td>\n",
       "      <td>[{'towerDetails': {'blocks': [{'x': 4, 'y': 0,...</td>\n",
       "      <td>[{'height': 2, 'width': 1, 'x': 1, 'y': 0}, {'...</td>\n",
       "      <td>4.0</td>\n",
       "    </tr>\n",
       "    <tr>\n",
       "      <th>649</th>\n",
       "      <td>649</td>\n",
       "      <td>6446eb8cda7c3649c9c2a535</td>\n",
       "      <td>1.682369e+12</td>\n",
       "      <td>NaN</td>\n",
       "      <td>NaN</td>\n",
       "      <td>NaN</td>\n",
       "      <td>NaN</td>\n",
       "      <td>13</td>\n",
       "      <td>NaN</td>\n",
       "      <td>NaN</td>\n",
       "      <td>...</td>\n",
       "      <td>NaN</td>\n",
       "      <td>NaN</td>\n",
       "      <td>NaN</td>\n",
       "      <td>NaN</td>\n",
       "      <td>3.0</td>\n",
       "      <td>1.682369e+12</td>\n",
       "      <td>170796.0</td>\n",
       "      <td>[{'towerDetails': {'blocks': [{'x': 6, 'y': 0,...</td>\n",
       "      <td>[{'height': 2, 'width': 1, 'x': 4, 'y': 0}, {'...</td>\n",
       "      <td>6.0</td>\n",
       "    </tr>\n",
       "  </tbody>\n",
       "</table>\n",
       "<p>650 rows × 40 columns</p>\n",
       "</div>"
      ],
      "text/plain": [
       "     Unnamed: 0                       _id  trial_start_time   \n",
       "0             0  64274b0ee158fd5aa12435c5      1.680297e+12  \\\n",
       "1             1  64274b4ee158fd5aa12435d2      1.680297e+12   \n",
       "2             2  64274b5ee158fd5aa12435d3      1.680297e+12   \n",
       "3             3  64274b6fe158fd5aa12435d4      1.680297e+12   \n",
       "4             4  64274b96e158fd5aa12435e8      1.680297e+12   \n",
       "..          ...                       ...               ...   \n",
       "645         645  6446e103da7c3649c9c2a376      1.682366e+12   \n",
       "646         646  6446e20fda7c3649c9c2a419      1.682367e+12   \n",
       "647         647  6446e36bda7c3649c9c2a47a      1.682367e+12   \n",
       "648         648  6446e395da7c3649c9c2a485      1.682367e+12   \n",
       "649         649  6446eb8cda7c3649c9c2a535      1.682369e+12   \n",
       "\n",
       "     trial_finish_time condition   \n",
       "0         1.680297e+12      view  \\\n",
       "1                  NaN     build   \n",
       "2         1.680297e+12      view   \n",
       "3         1.680297e+12      view   \n",
       "4                  NaN     build   \n",
       "..                 ...       ...   \n",
       "645                NaN       NaN   \n",
       "646                NaN       NaN   \n",
       "647                NaN       NaN   \n",
       "648                NaN       NaN   \n",
       "649                NaN       NaN   \n",
       "\n",
       "                                              stimulus  response  trial_num   \n",
       "0    {'blocks': [{'x': 0, 'y': 0, 'height': 1, 'wid...       NaN          1  \\\n",
       "1    {'blocks': [{'x': 0, 'y': 0, 'height': 1, 'wid...       NaN          2   \n",
       "2    {'blocks': [{'x': 1, 'y': 0, 'height': 2, 'wid...       NaN          3   \n",
       "3    {'blocks': [{'x': 0, 'y': 0, 'height': 2, 'wid...       NaN          4   \n",
       "4    {'blocks': [{'x': 0, 'y': 0, 'height': 1, 'wid...       NaN          5   \n",
       "..                                                 ...       ...        ...   \n",
       "645                                                NaN       NaN         13   \n",
       "646                                                NaN       NaN         61   \n",
       "647                                                NaN       NaN         13   \n",
       "648                                                NaN       NaN         13   \n",
       "649                                                NaN       NaN         13   \n",
       "\n",
       "                                             block_str       tower_id  ...   \n",
       "0    0000000000000000101000001010000011110000100100...  talls_114_111  ...  \\\n",
       "1    0000000000000000010100000101000011110000011000...  talls_097_100  ...   \n",
       "2    0000000000000000110100000101000001110000111100...  talls_121_101  ...   \n",
       "3    0000000000000000011100000110000011100000111100...  talls_102_126  ...   \n",
       "4    0000000000000000111000000110000001110000011000...  talls_118_114  ...   \n",
       "..                                                 ...            ...  ...   \n",
       "645                                                NaN            NaN  ...   \n",
       "646                                                NaN            NaN  ...   \n",
       "647                                                NaN            NaN  ...   \n",
       "648                                                NaN            NaN  ...   \n",
       "649                                                NaN            NaN  ...   \n",
       "\n",
       "     eventType                           endReason relative_time  rep   \n",
       "0          NaN                                 NaN           NaN  NaN  \\\n",
       "1    trial_end  perfect-reconstruction-translation       59538.0  1.0   \n",
       "2          NaN                                 NaN           NaN  NaN   \n",
       "3          NaN                                 NaN           NaN  NaN   \n",
       "4    trial_end  perfect-reconstruction-translation       34840.0  1.0   \n",
       "..         ...                                 ...           ...  ...   \n",
       "645        NaN                                 NaN           NaN  NaN   \n",
       "646        NaN                                 NaN           NaN  NaN   \n",
       "647        NaN                                 NaN           NaN  NaN   \n",
       "648        NaN                                 NaN           NaN  NaN   \n",
       "649        NaN                                 NaN           NaN  NaN   \n",
       "\n",
       "    n_resets absolute_time total_recall_time   \n",
       "0        NaN           NaN               NaN  \\\n",
       "1        1.0           NaN               NaN   \n",
       "2        NaN           NaN               NaN   \n",
       "3        NaN           NaN               NaN   \n",
       "4        0.0           NaN               NaN   \n",
       "..       ...           ...               ...   \n",
       "645      1.0  1.682367e+12          492318.0   \n",
       "646      1.0  1.682367e+12          283988.0   \n",
       "647      1.0  1.682367e+12          733328.0   \n",
       "648      0.0  1.682367e+12          135673.0   \n",
       "649      3.0  1.682369e+12          170796.0   \n",
       "\n",
       "                                      submitted_towers   \n",
       "0                                                  NaN  \\\n",
       "1                                                  NaN   \n",
       "2                                                  NaN   \n",
       "3                                                  NaN   \n",
       "4                                                  NaN   \n",
       "..                                                 ...   \n",
       "645  [{'towerDetails': {'blocks': [{'x': 4, 'y': 0,...   \n",
       "646  [{'towerDetails': {'blocks': [{'x': 3, 'y': 0,...   \n",
       "647  [{'towerDetails': {'blocks': [{'x': 4, 'y': 0,...   \n",
       "648  [{'towerDetails': {'blocks': [{'x': 4, 'y': 0,...   \n",
       "649  [{'towerDetails': {'blocks': [{'x': 6, 'y': 0,...   \n",
       "\n",
       "                                   concatenated_towers n_towers  \n",
       "0                                                  NaN      NaN  \n",
       "1                                                  NaN      NaN  \n",
       "2                                                  NaN      NaN  \n",
       "3                                                  NaN      NaN  \n",
       "4                                                  NaN      NaN  \n",
       "..                                                 ...      ...  \n",
       "645  [{'height': 2, 'width': 1, 'x': 0, 'y': 0}, {'...      6.0  \n",
       "646  [{'height': 1, 'width': 2, 'x': 0, 'y': 0}, {'...      4.0  \n",
       "647  [{'height': 2, 'width': 1, 'x': 1, 'y': 0}, {'...      6.0  \n",
       "648  [{'height': 2, 'width': 1, 'x': 1, 'y': 0}, {'...      4.0  \n",
       "649  [{'height': 2, 'width': 1, 'x': 4, 'y': 0}, {'...      6.0  \n",
       "\n",
       "[650 rows x 40 columns]"
      ]
     },
     "execution_count": 53,
     "metadata": {},
     "output_type": "execute_result"
    }
   ],
   "source": [
    "# df_trial = pd.read_csv(experiment_results_dir + '/df_trial_{}.csv'.format(iteration_name))\n",
    "# df_trial"
   ]
  },
  {
   "cell_type": "code",
   "execution_count": null,
   "id": "903119c5",
   "metadata": {},
   "outputs": [],
   "source": []
  }
 ],
 "metadata": {
  "kernelspec": {
   "display_name": "Python 3 (ipykernel)",
   "language": "python",
   "name": "python3"
  },
  "language_info": {
   "codemirror_mode": {
    "name": "ipython",
    "version": 3
   },
   "file_extension": ".py",
   "mimetype": "text/x-python",
   "name": "python",
   "nbconvert_exporter": "python",
   "pygments_lexer": "ipython3",
   "version": "3.9.16"
  }
 },
 "nbformat": 4,
 "nbformat_minor": 5
}

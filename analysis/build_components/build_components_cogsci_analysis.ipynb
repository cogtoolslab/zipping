{
 "cells": [
  {
   "cell_type": "markdown",
   "id": "d34874c8",
   "metadata": {},
   "source": [
    "# Analysis for Build Components, CogSci 2024"
   ]
  },
  {
   "cell_type": "code",
   "execution_count": 6,
   "id": "13388978",
   "metadata": {},
   "outputs": [],
   "source": [
    "import os\n",
    "import sys\n",
    "import urllib, io\n",
    "import pickle\n",
    "\n",
    "import random\n",
    "import numpy as np\n",
    "import scipy.stats as stats\n",
    "import pandas as pd\n",
    "from sklearn.metrics import euclidean_distances, jaccard_score, pairwise_distances\n",
    "\n",
    "import pymongo as pm\n",
    "from collections import Counter\n",
    "import json\n",
    "import re\n",
    "import ast\n",
    "\n",
    "from PIL import Image, ImageOps, ImageDraw, ImageFont \n",
    "from IPython.core.display import HTML \n",
    "\n",
    "from io import BytesIO\n",
    "import base64\n",
    "import requests\n",
    "\n",
    "import  matplotlib\n",
    "from matplotlib import pylab, mlab, pyplot\n",
    "%matplotlib inline\n",
    "from IPython.core.pylabtools import figsize, getfigs\n",
    "plt = pyplot\n",
    "import matplotlib as mpl\n",
    "mpl.rcParams['pdf.fonttype'] = 42\n",
    "from matplotlib.colors import ListedColormap\n",
    "\n",
    "import seaborn as sns\n",
    "sns.set_context('talk')\n",
    "sns.set_style('darkgrid')\n",
    "\n",
    "from IPython.display import clear_output\n",
    "\n",
    "import warnings\n",
    "warnings.filterwarnings(\"ignore\", category=DeprecationWarning)\n",
    "warnings.filterwarnings(\"ignore\", message=\"numpy.dtype size changed\")\n",
    "warnings.filterwarnings(\"ignore\", message=\"numpy.ufunc size changed\")\n",
    "\n",
    "sys.path.append(\"../../stimuli/block_utils/\")\n",
    "import blockworld_utils as utils\n",
    "import domino_settings as dominoes\n",
    "import domino_settings_monochrome as mono_dominoes\n",
    "\n",
    "import importlib\n"
   ]
  },
  {
   "cell_type": "code",
   "execution_count": 17,
   "id": "041f04b0",
   "metadata": {},
   "outputs": [],
   "source": [
    "experiment_name = 'build_components/cogsci24'\n",
    "\n",
    "## directory & file hierarchy\n",
    "proj_dir = os.path.abspath('../..')\n",
    "datavol_dir = os.path.join(proj_dir,'data')\n",
    "analysis_dir = os.path.abspath(os.path.join(os.getcwd(),'..'))\n",
    "results_dir = os.path.join(proj_dir,'results')\n",
    "\n",
    "# paths specific to this experiment\n",
    "experiment_results_dir = os.path.join(results_dir, experiment_name)\n",
    "plot_dir = os.path.join(experiment_results_dir,'plots')\n",
    "csv_dir = os.path.join(experiment_results_dir,'csv')\n",
    "\n",
    "## add helpers to python path\n",
    "if os.path.join(proj_dir,'stimuli') not in sys.path:\n",
    "    sys.path.append(os.path.join(proj_dir,'stimuli'))\n",
    "    \n",
    "if not os.path.exists(results_dir):\n",
    "    os.makedirs(results_dir)\n",
    "    \n",
    "if not os.path.exists(plot_dir):\n",
    "    os.makedirs(plot_dir)   \n",
    "    \n",
    "if not os.path.exists(csv_dir):\n",
    "    os.makedirs(csv_dir)       "
   ]
  },
  {
   "cell_type": "code",
   "execution_count": 13,
   "id": "bb30e31a",
   "metadata": {},
   "outputs": [],
   "source": [
    "# plot settings\n",
    "\n",
    "monochrome = True\n",
    "block_settings = mono_dominoes if monochrome else dominoes\n",
    "importlib.reload(block_settings)\n",
    "\n",
    "block_dims = block_settings.block_dims\n",
    "block_colors = block_settings.block_colors\n",
    "world_width = block_settings.world_width\n",
    "world_height = block_settings.world_height\n",
    "world_center = block_settings.world_center\n",
    "black = ['#000000','#000000'] # used to display silhouettes\n",
    "grey = ['#333333','#333333']"
   ]
  },
  {
   "cell_type": "code",
   "execution_count": 14,
   "id": "df5529ac",
   "metadata": {},
   "outputs": [],
   "source": [
    "# sns.set_context('poster')\n",
    "# sns.set(font_scale=1.2)\n",
    "sns.set_style('whitegrid', {'font.family':'sans-serif', 'font.sans-serif':'Avenir'})\n",
    "import poster_plot_settings\n",
    "from poster_plot_settings import palette"
   ]
  },
  {
   "cell_type": "markdown",
   "id": "1c7884ac",
   "metadata": {},
   "source": [
    "## read in data\n",
    "\n",
    "We read in data from 4 sets of csvs, consisting of:  \n",
    "- 2 encoding conditions: **Visual Exposure (ve)** and **Working Memory (wm)**.  \n",
    "- 2 decoding conditions: **Recognition/ old-new (on)** and **Building Recall (re)**.  \n",
    "\n",
    "\"Experiments\" reported in our paper contain both decoding conditions for each encoding condition i.e. Experiment 1 is VE and Experiment 2 is WM."
   ]
  },
  {
   "cell_type": "code",
   "execution_count": 33,
   "id": "2dc00c2b",
   "metadata": {},
   "outputs": [],
   "source": [
    "# final iteration names are suffixes of csvs\n",
    "\n",
    "csv_ids = {\n",
    "    \"ve_on\" : \"build_components_cogsci_ve_old_new_prolific_pilot_0\",\n",
    "    \"ve_re\": \"build_components_cogsci_ve_recall_prolific_pilot_0\",\n",
    "    \"wm_on\" : \"build_components_cogsci_wm_old_new_prolific_pilot_0\",\n",
    "    \"wm_re\": \"build_components_cogsci_wm_recall_prolific_pilot_0\"\n",
    "}"
   ]
  },
  {
   "cell_type": "code",
   "execution_count": 34,
   "id": "de53b226",
   "metadata": {},
   "outputs": [],
   "source": [
    "# read in all dataframes\n",
    "\n",
    "dfs = {}\n",
    "\n",
    "for i, (k, v) in enumerate(csv_ids.items()):\n",
    "    dfs[k] = {}\n",
    "    dfs[k]['encode'] = pd.read_csv(experiment_results_dir + '/df_encode_{}.csv'.format(v))\n",
    "    dfs[k]['decode'] = pd.read_csv(experiment_results_dir + '/df_decode_{}.csv'.format(v))\n",
    "    dfs[k]['block'] = pd.read_csv(experiment_results_dir + '/df_block_{}.csv'.format(v))\n",
    "    dfs[k]['construct'] = pd.read_csv(experiment_results_dir + '/df_construction_procedure_{}.csv'.format(v))\n",
    "    \n",
    "dfs['ve_re']['recalls'] = pd.read_csv(experiment_results_dir + \n",
    "                                '/df_recalled_towers_{}.csv'.format(csv_ids['ve_re']))\n",
    "dfs['wm_re']['recalls'] = pd.read_csv(experiment_results_dir + \n",
    "                                '/df_recalled_towers_{}.csv'.format(csv_ids['wm_re']))"
   ]
  },
  {
   "cell_type": "code",
   "execution_count": null,
   "id": "9f68fdd7",
   "metadata": {},
   "outputs": [],
   "source": []
  },
  {
   "cell_type": "markdown",
   "id": "8b381bfa",
   "metadata": {},
   "source": [
    "# Visual Exposure Experiment"
   ]
  },
  {
   "cell_type": "code",
   "execution_count": null,
   "id": "57bb2eb2",
   "metadata": {},
   "outputs": [],
   "source": []
  },
  {
   "cell_type": "code",
   "execution_count": null,
   "id": "ff158a41",
   "metadata": {},
   "outputs": [],
   "source": []
  },
  {
   "cell_type": "code",
   "execution_count": null,
   "id": "9408c1bd",
   "metadata": {},
   "outputs": [],
   "source": []
  },
  {
   "cell_type": "markdown",
   "id": "1b1fcd7d",
   "metadata": {},
   "source": [
    "# Working Memory Experiment"
   ]
  },
  {
   "cell_type": "code",
   "execution_count": null,
   "id": "fe3615ae",
   "metadata": {},
   "outputs": [],
   "source": []
  },
  {
   "cell_type": "code",
   "execution_count": null,
   "id": "5ef1789e",
   "metadata": {},
   "outputs": [],
   "source": []
  },
  {
   "cell_type": "code",
   "execution_count": null,
   "id": "a511cc9d",
   "metadata": {},
   "outputs": [],
   "source": []
  }
 ],
 "metadata": {
  "kernelspec": {
   "display_name": "Python 3 (ipykernel)",
   "language": "python",
   "name": "python3"
  },
  "language_info": {
   "codemirror_mode": {
    "name": "ipython",
    "version": 3
   },
   "file_extension": ".py",
   "mimetype": "text/x-python",
   "name": "python",
   "nbconvert_exporter": "python",
   "pygments_lexer": "ipython3",
   "version": "3.9.16"
  }
 },
 "nbformat": 4,
 "nbformat_minor": 5
}

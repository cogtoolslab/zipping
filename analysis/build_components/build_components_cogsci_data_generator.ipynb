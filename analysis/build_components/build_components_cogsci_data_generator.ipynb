{
 "cells": [
  {
   "cell_type": "code",
   "execution_count": 865,
   "id": "48a76ce9",
   "metadata": {},
   "outputs": [],
   "source": [
    "import os\n",
    "import sys\n",
    "import urllib, io\n",
    "import pickle\n",
    "\n",
    "import numpy as np\n",
    "import scipy.stats as stats\n",
    "import pandas as pd\n",
    "from sklearn.metrics import euclidean_distances, jaccard_score, pairwise_distances\n",
    "\n",
    "import pymongo as pm\n",
    "from collections import Counter\n",
    "import json\n",
    "import re\n",
    "import ast\n",
    "\n",
    "from PIL import Image, ImageOps, ImageDraw, ImageFont \n",
    "from IPython.core.display import HTML \n",
    "\n",
    "from io import BytesIO\n",
    "import base64\n",
    "import requests\n",
    "\n",
    "import  matplotlib\n",
    "from matplotlib import pylab, mlab, pyplot\n",
    "%matplotlib inline\n",
    "from IPython.core.pylabtools import figsize, getfigs\n",
    "plt = pyplot\n",
    "import matplotlib as mpl\n",
    "mpl.rcParams['pdf.fonttype'] = 42\n",
    "\n",
    "import seaborn as sns\n",
    "sns.set_context('talk')\n",
    "sns.set_style('darkgrid')\n",
    "\n",
    "from IPython.display import clear_output\n",
    "\n",
    "import warnings\n",
    "warnings.filterwarnings(\"ignore\", category=DeprecationWarning)\n",
    "warnings.filterwarnings(\"ignore\", message=\"numpy.dtype size changed\")\n",
    "warnings.filterwarnings(\"ignore\", message=\"numpy.ufunc size changed\")\n",
    "\n",
    "sys.path.append(\"../../stimuli/block_utils/\")\n",
    "import blockworld_utils as utils"
   ]
  },
  {
   "cell_type": "code",
   "execution_count": 866,
   "id": "42cbae1a",
   "metadata": {},
   "outputs": [],
   "source": [
    "experiment_name = 'build_components'\n",
    "\n",
    "## directory & file hierarchy\n",
    "proj_dir = os.path.abspath('../..')\n",
    "datavol_dir = os.path.join(proj_dir,'data')\n",
    "analysis_dir = os.path.abspath(os.path.join(os.getcwd(),'..'))\n",
    "results_dir = os.path.join(proj_dir,'results')\n",
    "\n",
    "# paths specific to this experiment\n",
    "experiment_results_dir = os.path.join(results_dir, experiment_name)\n",
    "plot_dir = os.path.join(experiment_results_dir,'plots')\n",
    "csv_dir = os.path.join(experiment_results_dir,'csv')\n",
    "json_dir = os.path.join(experiment_results_dir,'json')\n",
    "\n",
    "png_dir = os.path.abspath(os.path.join(datavol_dir,'png'))\n",
    "jefan_dir = os.path.join(analysis_dir,'jefan')\n",
    "will_dir = os.path.join(analysis_dir,'will')\n",
    "\n",
    "## add helpers to python path\n",
    "if os.path.join(proj_dir,'stimuli') not in sys.path:\n",
    "    sys.path.append(os.path.join(proj_dir,'stimuli'))\n",
    "    \n",
    "if not os.path.exists(results_dir):\n",
    "    os.makedirs(results_dir)\n",
    "    \n",
    "if not os.path.exists(plot_dir):\n",
    "    os.makedirs(plot_dir)   \n",
    "    \n",
    "if not os.path.exists(csv_dir):\n",
    "    os.makedirs(csv_dir)       "
   ]
  },
  {
   "cell_type": "code",
   "execution_count": 867,
   "id": "82df79fd",
   "metadata": {},
   "outputs": [],
   "source": [
    "# set vars \n",
    "auth = pd.read_csv(os.path.join(proj_dir, 'auth.txt'), header = None) # this auth.txt file contains the password for the sketchloop user\n",
    "pswd = auth.values[0][0]\n",
    "user = 'sketchloop'\n",
    "host = 'cogtoolslab.org' ## cocolab ip address\n",
    "\n",
    "# have to fix this to be able to analyze from local\n",
    "import pymongo as pm\n",
    "conn = pm.MongoClient('mongodb://sketchloop:' + pswd + '@127.0.0.1')\n",
    "db = conn['block_construction']\n",
    "coll = db['build_components']"
   ]
  },
  {
   "cell_type": "code",
   "execution_count": 1184,
   "id": "28daa900",
   "metadata": {},
   "outputs": [],
   "source": [
    "# plugin names ({'datatype': 'trial_end'} & {'trial_type': xxxxxxxx})\n",
    "\n",
    "# encode\n",
    "BUILD_COPY = 'block-tower-building-undo'\n",
    "TOWER_VIEWING = 'block-tower-viewing'\n",
    "MATCH = 'block-tower-match-to-sample'\n",
    "BUILD_WM = 'block-tower-building-undo-nostim'\n",
    "\n",
    "ENCODE_TASKS = [BUILD_COPY, TOWER_VIEWING, MATCH, BUILD_WM]\n",
    "\n",
    "# decode \n",
    "OLD_NEW = 'block-tower-old-new-img'\n",
    "BUILD_RECALL = 'block-tower-building-recall-choose-color'\n",
    "\n",
    "DECODE_TASKS = [OLD_NEW, BUILD_RECALL]\n",
    "\n",
    "# additional data types ({'datatype': xxxxxx})\n",
    "BLOCK = 'block_placement' # check that this is saved from all building plugins (BUILD_COPY, BUILD_WM, BUILD_RECALL)\n",
    "RESET = 'reset' # check that this is saved from all building plugins (BUILD_COPY, BUILD_WM, BUILD_RECALL)\n",
    "UNDO = 'block_undo_placement' # check that this is saved from all building plugins (BUILD_COPY, BUILD_WM, BUILD_RECALL)\n",
    "REDO = 'block_redo_placement' # check that this is saved from all building plugins (BUILD_COPY, BUILD_WM, BUILD_RECALL)"
   ]
  },
  {
   "cell_type": "code",
   "execution_count": 1185,
   "id": "75cb15d9",
   "metadata": {},
   "outputs": [],
   "source": [
    "# iteration names\n",
    "\n",
    "# iteration_name = 'build_components_cogsci_ve_old_new_data_run_through_2'\n",
    "# iteration_name = 'build_components_cogsci_ve_recall_data_run_through'\n",
    "# iteration_name = 'build_components_cogsci_wm_old_new_data_run_through'\n",
    "# iteration_name = 'build_components_cogsci_wm_recall_data_run_through'\n",
    "\n",
    "\n",
    "# iteration_name = \"build_components_cogsci_ve_old_new_prolific_pilot_0\"\n",
    "# iteration_name = \"build_components_cogsci_ve_recall_prolific_pilot_0\"\n",
    "iteration_name = \"build_components_cogsci_wm_old_new_prolific_pilot_0\"\n",
    "# iteration_name = \"build_components_cogsci_wm_recall_prolific_pilot_0\"\n",
    "\n",
    "\n",
    "iteration_names = [iteration_name]"
   ]
  },
  {
   "cell_type": "markdown",
   "id": "4ffa8d4c",
   "metadata": {},
   "source": [
    "# dataframe plan\n",
    "\n",
    "df_encode: encode phase from all iterations\n",
    "\n",
    "df_encode_ve: all visual exposure trials\n",
    "df_encode_wm: all working memory trials\n",
    "\n",
    "df_recall: recall only \n",
    "df_recog: old-new only\n",
    "\n",
    "\n",
    "We rarely compare between VE and WM.\n",
    "It's more important for us to compare conditions within recog and within recall\n"
   ]
  },
  {
   "cell_type": "code",
   "execution_count": 1186,
   "id": "fcbe340e",
   "metadata": {},
   "outputs": [
    {
     "name": "stdout",
     "output_type": "stream",
     "text": [
      "6771\n"
     ]
    }
   ],
   "source": [
    "# all data\n",
    "query = coll.find({\"$and\":[\n",
    "                        {'iterationName': { '$in': iteration_names }},\n",
    "                        ]})\n",
    "df_all = pd.DataFrame(query)\n",
    "print(len(df_all))"
   ]
  },
  {
   "cell_type": "code",
   "execution_count": 1187,
   "id": "7264509c",
   "metadata": {},
   "outputs": [
    {
     "data": {
      "text/plain": [
       "Index(['_id', 'rt', 'url', 'trial_type', 'trial_index', 'time_elapsed',\n",
       "       'internal_node_id', 'experimentName', 'iterationName', 'workerID',\n",
       "       'gameID', 'studyLocation', 'datatype', 'view_history', 'success',\n",
       "       'timeout', 'failed_images', 'failed_audio', 'failed_video',\n",
       "       'trial_start_time', 'trial_finish_time', 'relative_time', 'rep',\n",
       "       'condition', 'stimulus', 'response', 'trial_num', 'towerColor',\n",
       "       'block_str', 'tower_id', 'tower_A_tall_id', 'tower_A_wide_id',\n",
       "       'tower_B_tall_id', 'tower_B_wide_id', 'tower_id_tall', 'composite_id',\n",
       "       'n_blocks_when_reset', 'absolute_time', 'n_block', 'n_resets',\n",
       "       'timeAbsolute', 'timeRelative', 'blocks', 'discreteWorld', 'eventType',\n",
       "       'block', 'img_src', 'img_position', 'correct', 'response_kind',\n",
       "       'locations', 'set_size', 'distractor_imgs', 'target_img', 'stim',\n",
       "       'distractor_kinds', 'endReason', 'novelty', 'response_meaning',\n",
       "       'response_correct', 'key_presses', 'distractorKind'],\n",
       "      dtype='object')"
      ]
     },
     "execution_count": 1187,
     "metadata": {},
     "output_type": "execute_result"
    }
   ],
   "source": [
    "df_all.columns"
   ]
  },
  {
   "cell_type": "code",
   "execution_count": 1188,
   "id": "392c1092",
   "metadata": {},
   "outputs": [
    {
     "data": {
      "text/plain": [
       "array(['external-html', 'instructions', 'preload', 'block-tower-viewing',\n",
       "       'block-tower-building-undo-nostim', 'block-tower-match-to-sample',\n",
       "       'block-tower-old-new-img', 'survey-text'], dtype=object)"
      ]
     },
     "execution_count": 1188,
     "metadata": {},
     "output_type": "execute_result"
    }
   ],
   "source": [
    "df_all.trial_type.unique()"
   ]
  },
  {
   "cell_type": "code",
   "execution_count": 1189,
   "id": "1878694f",
   "metadata": {},
   "outputs": [
    {
     "name": "stdout",
     "output_type": "stream",
     "text": [
      "0\n"
     ]
    }
   ],
   "source": [
    "# I don't think metadata is saved anywhere.\n",
    "query = coll.find({\"$and\":[\n",
    "                        {'datatype':'metadata'},\n",
    "                        {'iterationName': { '$in': iteration_names }},\n",
    "                        ]})\n",
    "df_meta = pd.DataFrame(query)\n",
    "print(len(df_meta))"
   ]
  },
  {
   "cell_type": "code",
   "execution_count": 1190,
   "id": "b13f1793",
   "metadata": {},
   "outputs": [
    {
     "name": "stdout",
     "output_type": "stream",
     "text": [
      "51\n",
      "{'technical': 'No', 'confused': 'Movement of bricks in the build puzzles took getting used to', 'comments': ''}\n",
      "{'technical': 'None at all!', 'confused': \"No, it wasn't confusing at all.\", 'comments': 'Nothing!'}\n",
      "{'technical': 'No', 'confused': 'It was more difficult to figure out how to build the shapes in my brain with the two block restrictions than it was to remember the shapes. If I could have placed blocks anywhere on the screen without building up, it would have been easier to recreate what was in my brain. ', 'comments': 'No :)'}\n",
      "{'technical': 'No', 'confused': 'Instructions were clear', 'comments': 'Interesting and enjoyable study! Thank you and good luck with your research!'}\n",
      "{'technical': 'no', 'confused': 'fisrt how to drop the cubes but quickly figured it out.', 'comments': ''}\n",
      "{'technical': 'no', 'confused': 'no', 'comments': 'none'}\n",
      "{'technical': 'no', 'confused': 'all instructions were clear', 'comments': 'one practice round would have been helpful'}\n",
      "{'technical': 'None', 'confused': 'Found it hard to use the builder at first.', 'comments': ''}\n",
      "{'technical': 'No', 'confused': 'Not confused but surprisingly difficult to remember how to build.', 'comments': ''}\n",
      "{'technical': 'n/a', 'confused': 'not confusing but found \"build\" very difficult', 'comments': 'n/a'}\n",
      "{'technical': '', 'confused': '', 'comments': ''}\n",
      "{'technical': 'no', 'confused': 'nothing was confusing', 'comments': 'no comments'}\n",
      "{'technical': 'no', 'confused': 'it was very straight forward', 'comments': 'no'}\n",
      "{'technical': 'None, everything went smoothly!', 'confused': 'No.', 'comments': 'I think there should be a practice run of placing blocks at the start, alongside the instructions. Everything else was great, thank you!'}\n",
      "{'technical': 'No', 'confused': 'No', 'comments': 'The blocks were hard to place'}\n",
      "{'technical': 'No', 'confused': 'No', 'comments': ''}\n",
      "{'technical': 'no', 'confused': 'no', 'comments': 'no'}\n",
      "{'technical': 'No', 'confused': 'Nothing was confusing', 'comments': 'It was hard but fun'}\n",
      "{'technical': 'no', 'confused': 'no', 'comments': 'no'}\n",
      "{'technical': '', 'confused': '', 'comments': ''}\n",
      "{'technical': 'no', 'confused': 'no', 'comments': 'none'}\n",
      "{'technical': 'no', 'confused': 'no', 'comments': ''}\n",
      "{'technical': 'No', 'confused': 'No', 'comments': 'Interesting study'}\n",
      "{'technical': 'No', 'confused': 'I find it very hsr to build the towers. I tried to reproduce the shapes but I could not figure out how to place the blocks.', 'comments': 'Even though it was hard for me to complete the study, I really enjoyed it.'}\n",
      "{'technical': 'No', 'confused': 'Not at all', 'comments': 'None'}\n",
      "{'technical': 'No', 'confused': 'no', 'comments': ''}\n",
      "{'technical': 'NO', 'confused': 'NO', 'comments': 'NO'}\n",
      "{'technical': 'NO', 'confused': \"Maybe the colour element wasn't clear enough, it was very much second to be the block building\", 'comments': \"The block builder was a little frustrating, it would've been easier if I could've just 'drawn' the shape or at least had a practise with it; the first one would've been right if I'd've appreciated how the builder worked when I was viewing the tower as I would've remember it by the 2x1 blocks rather than overall shape. \"}\n",
      "{'technical': \"was hard to place the blocks where I wanted them, positioning wouldn't go up or down\", 'confused': 'no', 'comments': 'interesting! I would lose the image of the blocks the more frustrated I became with building'}\n",
      "{'technical': 'No', 'confused': 'No', 'comments': ''}\n",
      "{'technical': 'I had no issues.', 'confused': 'No.', 'comments': 'I have nothing to add.'}\n",
      "{'technical': 'No difficulties.', 'confused': 'Nothing was confusing.', 'comments': 'No comments.'}\n",
      "{'technical': 'No', 'confused': 'No', 'comments': 'No'}\n",
      "{'technical': '', 'confused': '', 'comments': 'Tough to remember the towers! Not sure that some of them could be recreated with the blocks?'}\n",
      "{'technical': 'no i didnt', 'confused': 'no was pretty easy to understand ', 'comments': ''}\n",
      "{'technical': 'No', 'confused': 'No confusion, just difficutly remembering,', 'comments': ''}\n",
      "{'technical': 'no', 'confused': 'no', 'comments': 'the building section was very challenging'}\n",
      "{'technical': 'No', 'confused': 'No', 'comments': 'Nothing I can think of!'}\n",
      "{'technical': 'no', 'confused': 'no', 'comments': ''}\n",
      "{'technical': '', 'confused': '', 'comments': ''}\n",
      "{'technical': '', 'confused': '', 'comments': ''}\n",
      "{'technical': 'NONE', 'confused': 'NONE', 'comments': ''}\n",
      "{'technical': 'N/A', 'confused': 'No', 'comments': 'N/A'}\n",
      "{'technical': '', 'confused': '', 'comments': ''}\n",
      "{'technical': \"Yes! On the build part, it wouldn't let me place the blocks where I wanted them and by the time I did place them, I'd forgotten where they should go!\", 'confused': \"No. I knew what I had to do. I just couldn't place the blocks where I wanted them.\", 'comments': \"A fun experiment, but very frustrating that I couldn't build how I wanted to.\"}\n",
      "{'technical': 'no', 'confused': 'no', 'comments': 'no'}\n",
      "{'technical': 'It would take a while to place down the first initial block during the \"BUILD\" phases, which caused me to forget the objects.', 'confused': 'Straightforward!', 'comments': 'Enjoyable study :)'}\n",
      "{'technical': 'no', 'confused': 'no', 'comments': 'none'}\n",
      "{'technical': 'No', 'confused': 'I found it very hard to place the bricks & figure out how to make the towers', 'comments': 'That was fun - thanks :)'}\n",
      "{'technical': 'no', 'confused': 'nope', 'comments': 'the building game is so hard!'}\n",
      "{'technical': 'No', 'confused': 'No, straightforward', 'comments': 'Thank you for the opportunity'}\n"
     ]
    }
   ],
   "source": [
    "# exit survey responses\n",
    "query = coll.find({\"$and\":[\n",
    "                        {'iterationName': { '$in': iteration_names }},\n",
    "                        {'trial_type': {'$in': ['survey-text']}}\n",
    "                        ]})\n",
    "df_survey = pd.DataFrame(query)\n",
    "print(len(df_survey))\n",
    "_ = [print(response) for response in df_survey.response]"
   ]
  },
  {
   "cell_type": "markdown",
   "id": "90ec668c",
   "metadata": {},
   "source": [
    "# trial end data"
   ]
  },
  {
   "cell_type": "code",
   "execution_count": 1191,
   "id": "eb2d8ec5",
   "metadata": {},
   "outputs": [
    {
     "data": {
      "text/html": [
       "<div>\n",
       "<style scoped>\n",
       "    .dataframe tbody tr th:only-of-type {\n",
       "        vertical-align: middle;\n",
       "    }\n",
       "\n",
       "    .dataframe tbody tr th {\n",
       "        vertical-align: top;\n",
       "    }\n",
       "\n",
       "    .dataframe thead th {\n",
       "        text-align: right;\n",
       "    }\n",
       "</style>\n",
       "<table border=\"1\" class=\"dataframe\">\n",
       "  <thead>\n",
       "    <tr style=\"text-align: right;\">\n",
       "      <th></th>\n",
       "      <th>_id</th>\n",
       "      <th>trial_start_time</th>\n",
       "      <th>trial_finish_time</th>\n",
       "      <th>relative_time</th>\n",
       "      <th>rep</th>\n",
       "      <th>condition</th>\n",
       "      <th>stimulus</th>\n",
       "      <th>response</th>\n",
       "      <th>trial_num</th>\n",
       "      <th>towerColor</th>\n",
       "      <th>...</th>\n",
       "      <th>studyLocation</th>\n",
       "      <th>datatype</th>\n",
       "      <th>timeAbsolute</th>\n",
       "      <th>timeRelative</th>\n",
       "      <th>blocks</th>\n",
       "      <th>discreteWorld</th>\n",
       "      <th>eventType</th>\n",
       "      <th>endReason</th>\n",
       "      <th>n_resets</th>\n",
       "      <th>color</th>\n",
       "    </tr>\n",
       "  </thead>\n",
       "  <tbody>\n",
       "    <tr>\n",
       "      <th>0</th>\n",
       "      <td>659cb6b7c5c2296bd578d285</td>\n",
       "      <td>1.704769e+12</td>\n",
       "      <td>1.704769e+12</td>\n",
       "      <td>15025</td>\n",
       "      <td>1</td>\n",
       "      <td>view</td>\n",
       "      <td>{'blocks': [{'x': 1, 'y': 0, 'height': 2, 'wid...</td>\n",
       "      <td>NaN</td>\n",
       "      <td>1</td>\n",
       "      <td>[214, 19, 87, 255]</td>\n",
       "      <td>...</td>\n",
       "      <td>Prolific</td>\n",
       "      <td>trial_end</td>\n",
       "      <td>NaN</td>\n",
       "      <td>NaN</td>\n",
       "      <td>NaN</td>\n",
       "      <td>NaN</td>\n",
       "      <td>NaN</td>\n",
       "      <td>NaN</td>\n",
       "      <td>NaN</td>\n",
       "      <td>NaN</td>\n",
       "    </tr>\n",
       "    <tr>\n",
       "      <th>1</th>\n",
       "      <td>659cb6fcc5c2296bd578d2ab</td>\n",
       "      <td>1.704769e+12</td>\n",
       "      <td>1.704769e+12</td>\n",
       "      <td>15027</td>\n",
       "      <td>1</td>\n",
       "      <td>view</td>\n",
       "      <td>{'blocks': [{'x': 0, 'y': 0, 'height': 1, 'wid...</td>\n",
       "      <td>NaN</td>\n",
       "      <td>1</td>\n",
       "      <td>[214, 186, 241, 255]</td>\n",
       "      <td>...</td>\n",
       "      <td>Prolific</td>\n",
       "      <td>trial_end</td>\n",
       "      <td>NaN</td>\n",
       "      <td>NaN</td>\n",
       "      <td>NaN</td>\n",
       "      <td>NaN</td>\n",
       "      <td>NaN</td>\n",
       "      <td>NaN</td>\n",
       "      <td>NaN</td>\n",
       "      <td>NaN</td>\n",
       "    </tr>\n",
       "    <tr>\n",
       "      <th>2</th>\n",
       "      <td>659cb707c5c2296bd578d2b8</td>\n",
       "      <td>1.704769e+12</td>\n",
       "      <td>1.704769e+12</td>\n",
       "      <td>74690</td>\n",
       "      <td>1</td>\n",
       "      <td>build</td>\n",
       "      <td>{'blocks': [{'x': 0, 'y': 0, 'height': 1, 'wid...</td>\n",
       "      <td>NaN</td>\n",
       "      <td>2</td>\n",
       "      <td>[214, 186, 241, 255]</td>\n",
       "      <td>...</td>\n",
       "      <td>Prolific</td>\n",
       "      <td>trial_end</td>\n",
       "      <td>1.704769e+12</td>\n",
       "      <td>217851.0</td>\n",
       "      <td>[{'x': 4, 'y': 0, 'width': 2, 'height': 1}, {'...</td>\n",
       "      <td>[[True, True, True, True, True, True, True, Tr...</td>\n",
       "      <td>trial_end</td>\n",
       "      <td>perfect-reconstruction-translation</td>\n",
       "      <td>2.0</td>\n",
       "      <td>NaN</td>\n",
       "    </tr>\n",
       "    <tr>\n",
       "      <th>3</th>\n",
       "      <td>659cb709c5c2296bd578d2bc</td>\n",
       "      <td>1.704769e+12</td>\n",
       "      <td>1.704769e+12</td>\n",
       "      <td>15042</td>\n",
       "      <td>1</td>\n",
       "      <td>view</td>\n",
       "      <td>{'blocks': [{'x': 0, 'y': 0, 'height': 2, 'wid...</td>\n",
       "      <td>NaN</td>\n",
       "      <td>1</td>\n",
       "      <td>[214, 186, 241, 255]</td>\n",
       "      <td>...</td>\n",
       "      <td>Prolific</td>\n",
       "      <td>trial_end</td>\n",
       "      <td>NaN</td>\n",
       "      <td>NaN</td>\n",
       "      <td>NaN</td>\n",
       "      <td>NaN</td>\n",
       "      <td>NaN</td>\n",
       "      <td>NaN</td>\n",
       "      <td>NaN</td>\n",
       "      <td>NaN</td>\n",
       "    </tr>\n",
       "    <tr>\n",
       "      <th>4</th>\n",
       "      <td>659cb723c5c2296bd578d2dd</td>\n",
       "      <td>1.704769e+12</td>\n",
       "      <td>1.704769e+12</td>\n",
       "      <td>33925</td>\n",
       "      <td>1</td>\n",
       "      <td>build</td>\n",
       "      <td>{'blocks': [{'x': 0, 'y': 0, 'height': 2, 'wid...</td>\n",
       "      <td>NaN</td>\n",
       "      <td>2</td>\n",
       "      <td>[101, 101, 101, 255]</td>\n",
       "      <td>...</td>\n",
       "      <td>Prolific</td>\n",
       "      <td>trial_end</td>\n",
       "      <td>1.704769e+12</td>\n",
       "      <td>137270.0</td>\n",
       "      <td>[{'x': 4, 'y': 0, 'width': 1, 'height': 2}, {'...</td>\n",
       "      <td>[[True, True, True, True, True, True, True, Tr...</td>\n",
       "      <td>trial_end</td>\n",
       "      <td>perfect-reconstruction-translation</td>\n",
       "      <td>0.0</td>\n",
       "      <td>NaN</td>\n",
       "    </tr>\n",
       "    <tr>\n",
       "      <th>...</th>\n",
       "      <td>...</td>\n",
       "      <td>...</td>\n",
       "      <td>...</td>\n",
       "      <td>...</td>\n",
       "      <td>...</td>\n",
       "      <td>...</td>\n",
       "      <td>...</td>\n",
       "      <td>...</td>\n",
       "      <td>...</td>\n",
       "      <td>...</td>\n",
       "      <td>...</td>\n",
       "      <td>...</td>\n",
       "      <td>...</td>\n",
       "      <td>...</td>\n",
       "      <td>...</td>\n",
       "      <td>...</td>\n",
       "      <td>...</td>\n",
       "      <td>...</td>\n",
       "      <td>...</td>\n",
       "      <td>...</td>\n",
       "      <td>...</td>\n",
       "    </tr>\n",
       "    <tr>\n",
       "      <th>841</th>\n",
       "      <td>659f51c6c5c2296bd5794d69</td>\n",
       "      <td>1.704940e+12</td>\n",
       "      <td>1.704940e+12</td>\n",
       "      <td>53082</td>\n",
       "      <td>2</td>\n",
       "      <td>build</td>\n",
       "      <td>{'blocks': [{'x': 0, 'y': 0, 'height': 1, 'wid...</td>\n",
       "      <td>NaN</td>\n",
       "      <td>12</td>\n",
       "      <td>[214, 186, 241, 255]</td>\n",
       "      <td>...</td>\n",
       "      <td>Prolific</td>\n",
       "      <td>trial_end</td>\n",
       "      <td>1.704940e+12</td>\n",
       "      <td>699892.0</td>\n",
       "      <td>[{'x': 4, 'y': 0, 'width': 2, 'height': 1}, {'...</td>\n",
       "      <td>[[True, True, True, True, True, True, True, Tr...</td>\n",
       "      <td>trial_end</td>\n",
       "      <td>perfect-reconstruction-translation</td>\n",
       "      <td>1.0</td>\n",
       "      <td>NaN</td>\n",
       "    </tr>\n",
       "    <tr>\n",
       "      <th>842</th>\n",
       "      <td>659f5233c5c2296bd5794d76</td>\n",
       "      <td>1.704940e+12</td>\n",
       "      <td>NaN</td>\n",
       "      <td>75132</td>\n",
       "      <td>0</td>\n",
       "      <td>NaN</td>\n",
       "      <td>NaN</td>\n",
       "      <td>NaN</td>\n",
       "      <td>13</td>\n",
       "      <td>NaN</td>\n",
       "      <td>...</td>\n",
       "      <td>Prolific</td>\n",
       "      <td>trial_end</td>\n",
       "      <td>1.704940e+12</td>\n",
       "      <td>811856.0</td>\n",
       "      <td>[{'x': 4, 'y': 0, 'width': 1, 'height': 2}, {'...</td>\n",
       "      <td>[[True, True, True, True, True, True, True, Tr...</td>\n",
       "      <td>trial_end</td>\n",
       "      <td>submit-pressed</td>\n",
       "      <td>2.0</td>\n",
       "      <td>[145, 220, 39, 255]</td>\n",
       "    </tr>\n",
       "    <tr>\n",
       "      <th>843</th>\n",
       "      <td>659f527fc5c2296bd5794d86</td>\n",
       "      <td>1.704940e+12</td>\n",
       "      <td>NaN</td>\n",
       "      <td>74357</td>\n",
       "      <td>0</td>\n",
       "      <td>NaN</td>\n",
       "      <td>NaN</td>\n",
       "      <td>NaN</td>\n",
       "      <td>14</td>\n",
       "      <td>NaN</td>\n",
       "      <td>...</td>\n",
       "      <td>Prolific</td>\n",
       "      <td>trial_end</td>\n",
       "      <td>1.704940e+12</td>\n",
       "      <td>888113.0</td>\n",
       "      <td>[{'x': 7, 'y': 0, 'width': 2, 'height': 1}, {'...</td>\n",
       "      <td>[[True, True, True, True, True, True, True, Tr...</td>\n",
       "      <td>trial_end</td>\n",
       "      <td>submit-pressed</td>\n",
       "      <td>4.0</td>\n",
       "      <td>[101, 101, 101, 255]</td>\n",
       "    </tr>\n",
       "    <tr>\n",
       "      <th>844</th>\n",
       "      <td>659f52bdc5c2296bd5794d92</td>\n",
       "      <td>1.704940e+12</td>\n",
       "      <td>NaN</td>\n",
       "      <td>59622</td>\n",
       "      <td>0</td>\n",
       "      <td>NaN</td>\n",
       "      <td>NaN</td>\n",
       "      <td>NaN</td>\n",
       "      <td>15</td>\n",
       "      <td>NaN</td>\n",
       "      <td>...</td>\n",
       "      <td>Prolific</td>\n",
       "      <td>trial_end</td>\n",
       "      <td>1.704940e+12</td>\n",
       "      <td>949693.0</td>\n",
       "      <td>[{'x': 4, 'y': 0, 'width': 2, 'height': 1}, {'...</td>\n",
       "      <td>[[True, True, True, True, True, True, True, Tr...</td>\n",
       "      <td>trial_end</td>\n",
       "      <td>submit-pressed</td>\n",
       "      <td>2.0</td>\n",
       "      <td>[150, 243, 227, 255]</td>\n",
       "    </tr>\n",
       "    <tr>\n",
       "      <th>845</th>\n",
       "      <td>659f52c1c5c2296bd5794d95</td>\n",
       "      <td>1.704940e+12</td>\n",
       "      <td>NaN</td>\n",
       "      <td>2591</td>\n",
       "      <td>0</td>\n",
       "      <td>NaN</td>\n",
       "      <td>NaN</td>\n",
       "      <td>NaN</td>\n",
       "      <td>16</td>\n",
       "      <td>NaN</td>\n",
       "      <td>...</td>\n",
       "      <td>Prolific</td>\n",
       "      <td>trial_end</td>\n",
       "      <td>NaN</td>\n",
       "      <td>NaN</td>\n",
       "      <td>NaN</td>\n",
       "      <td>NaN</td>\n",
       "      <td>NaN</td>\n",
       "      <td>give-up</td>\n",
       "      <td>1.0</td>\n",
       "      <td>[214, 186, 241, 255]</td>\n",
       "    </tr>\n",
       "  </tbody>\n",
       "</table>\n",
       "<p>846 rows × 36 columns</p>\n",
       "</div>"
      ],
      "text/plain": [
       "                          _id  trial_start_time  trial_finish_time   \n",
       "0    659cb6b7c5c2296bd578d285      1.704769e+12       1.704769e+12  \\\n",
       "1    659cb6fcc5c2296bd578d2ab      1.704769e+12       1.704769e+12   \n",
       "2    659cb707c5c2296bd578d2b8      1.704769e+12       1.704769e+12   \n",
       "3    659cb709c5c2296bd578d2bc      1.704769e+12       1.704769e+12   \n",
       "4    659cb723c5c2296bd578d2dd      1.704769e+12       1.704769e+12   \n",
       "..                        ...               ...                ...   \n",
       "841  659f51c6c5c2296bd5794d69      1.704940e+12       1.704940e+12   \n",
       "842  659f5233c5c2296bd5794d76      1.704940e+12                NaN   \n",
       "843  659f527fc5c2296bd5794d86      1.704940e+12                NaN   \n",
       "844  659f52bdc5c2296bd5794d92      1.704940e+12                NaN   \n",
       "845  659f52c1c5c2296bd5794d95      1.704940e+12                NaN   \n",
       "\n",
       "     relative_time  rep condition   \n",
       "0            15025    1      view  \\\n",
       "1            15027    1      view   \n",
       "2            74690    1     build   \n",
       "3            15042    1      view   \n",
       "4            33925    1     build   \n",
       "..             ...  ...       ...   \n",
       "841          53082    2     build   \n",
       "842          75132    0       NaN   \n",
       "843          74357    0       NaN   \n",
       "844          59622    0       NaN   \n",
       "845           2591    0       NaN   \n",
       "\n",
       "                                              stimulus  response  trial_num   \n",
       "0    {'blocks': [{'x': 1, 'y': 0, 'height': 2, 'wid...       NaN          1  \\\n",
       "1    {'blocks': [{'x': 0, 'y': 0, 'height': 1, 'wid...       NaN          1   \n",
       "2    {'blocks': [{'x': 0, 'y': 0, 'height': 1, 'wid...       NaN          2   \n",
       "3    {'blocks': [{'x': 0, 'y': 0, 'height': 2, 'wid...       NaN          1   \n",
       "4    {'blocks': [{'x': 0, 'y': 0, 'height': 2, 'wid...       NaN          2   \n",
       "..                                                 ...       ...        ...   \n",
       "841  {'blocks': [{'x': 0, 'y': 0, 'height': 1, 'wid...       NaN         12   \n",
       "842                                                NaN       NaN         13   \n",
       "843                                                NaN       NaN         14   \n",
       "844                                                NaN       NaN         15   \n",
       "845                                                NaN       NaN         16   \n",
       "\n",
       "               towerColor  ... studyLocation   datatype  timeAbsolute   \n",
       "0      [214, 19, 87, 255]  ...      Prolific  trial_end           NaN  \\\n",
       "1    [214, 186, 241, 255]  ...      Prolific  trial_end           NaN   \n",
       "2    [214, 186, 241, 255]  ...      Prolific  trial_end  1.704769e+12   \n",
       "3    [214, 186, 241, 255]  ...      Prolific  trial_end           NaN   \n",
       "4    [101, 101, 101, 255]  ...      Prolific  trial_end  1.704769e+12   \n",
       "..                    ...  ...           ...        ...           ...   \n",
       "841  [214, 186, 241, 255]  ...      Prolific  trial_end  1.704940e+12   \n",
       "842                   NaN  ...      Prolific  trial_end  1.704940e+12   \n",
       "843                   NaN  ...      Prolific  trial_end  1.704940e+12   \n",
       "844                   NaN  ...      Prolific  trial_end  1.704940e+12   \n",
       "845                   NaN  ...      Prolific  trial_end           NaN   \n",
       "\n",
       "    timeRelative                                             blocks   \n",
       "0            NaN                                                NaN  \\\n",
       "1            NaN                                                NaN   \n",
       "2       217851.0  [{'x': 4, 'y': 0, 'width': 2, 'height': 1}, {'...   \n",
       "3            NaN                                                NaN   \n",
       "4       137270.0  [{'x': 4, 'y': 0, 'width': 1, 'height': 2}, {'...   \n",
       "..           ...                                                ...   \n",
       "841     699892.0  [{'x': 4, 'y': 0, 'width': 2, 'height': 1}, {'...   \n",
       "842     811856.0  [{'x': 4, 'y': 0, 'width': 1, 'height': 2}, {'...   \n",
       "843     888113.0  [{'x': 7, 'y': 0, 'width': 2, 'height': 1}, {'...   \n",
       "844     949693.0  [{'x': 4, 'y': 0, 'width': 2, 'height': 1}, {'...   \n",
       "845          NaN                                                NaN   \n",
       "\n",
       "                                         discreteWorld  eventType   \n",
       "0                                                  NaN        NaN  \\\n",
       "1                                                  NaN        NaN   \n",
       "2    [[True, True, True, True, True, True, True, Tr...  trial_end   \n",
       "3                                                  NaN        NaN   \n",
       "4    [[True, True, True, True, True, True, True, Tr...  trial_end   \n",
       "..                                                 ...        ...   \n",
       "841  [[True, True, True, True, True, True, True, Tr...  trial_end   \n",
       "842  [[True, True, True, True, True, True, True, Tr...  trial_end   \n",
       "843  [[True, True, True, True, True, True, True, Tr...  trial_end   \n",
       "844  [[True, True, True, True, True, True, True, Tr...  trial_end   \n",
       "845                                                NaN        NaN   \n",
       "\n",
       "                              endReason n_resets                 color  \n",
       "0                                   NaN      NaN                   NaN  \n",
       "1                                   NaN      NaN                   NaN  \n",
       "2    perfect-reconstruction-translation      2.0                   NaN  \n",
       "3                                   NaN      NaN                   NaN  \n",
       "4    perfect-reconstruction-translation      0.0                   NaN  \n",
       "..                                  ...      ...                   ...  \n",
       "841  perfect-reconstruction-translation      1.0                   NaN  \n",
       "842                      submit-pressed      2.0   [145, 220, 39, 255]  \n",
       "843                      submit-pressed      4.0  [101, 101, 101, 255]  \n",
       "844                      submit-pressed      2.0  [150, 243, 227, 255]  \n",
       "845                             give-up      1.0  [214, 186, 241, 255]  \n",
       "\n",
       "[846 rows x 36 columns]"
      ]
     },
     "execution_count": 1191,
     "metadata": {},
     "output_type": "execute_result"
    }
   ],
   "source": [
    "df_trial"
   ]
  },
  {
   "cell_type": "code",
   "execution_count": 1192,
   "id": "abce0440",
   "metadata": {},
   "outputs": [
    {
     "name": "stdout",
     "output_type": "stream",
     "text": [
      "1850\n"
     ]
    }
   ],
   "source": [
    "# trial-end\n",
    "query = coll.find({\"$and\":[\n",
    "                        {'iterationName': { '$in': iteration_names }},\n",
    "                        {'datatype':'trial_end'},\n",
    "                        {'trial_type': {'$nin': ['instructions','preload','external-html','survey-text']}}\n",
    "                        ]})\n",
    "df_trial = pd.DataFrame(query)\n",
    "print(len(df_trial))"
   ]
  },
  {
   "cell_type": "code",
   "execution_count": 1193,
   "id": "6195b739",
   "metadata": {},
   "outputs": [
    {
     "data": {
      "text/plain": [
       "0       8029\n",
       "1       8013\n",
       "2       8016\n",
       "3       8832\n",
       "4       8004\n",
       "        ... \n",
       "1845    1767\n",
       "1846    2028\n",
       "1847    1954\n",
       "1848    2399\n",
       "1849    1565\n",
       "Name: relative_time, Length: 1850, dtype: int64"
      ]
     },
     "execution_count": 1193,
     "metadata": {},
     "output_type": "execute_result"
    }
   ],
   "source": [
    "df_trial.relative_time"
   ]
  },
  {
   "cell_type": "markdown",
   "id": "199488fe",
   "metadata": {},
   "source": [
    "## encode phase"
   ]
  },
  {
   "cell_type": "code",
   "execution_count": 1194,
   "id": "f6380862",
   "metadata": {},
   "outputs": [
    {
     "name": "stdout",
     "output_type": "stream",
     "text": [
      "1238\n",
      "encode trials found: ['block-tower-viewing', 'block-tower-match-to-sample', 'block-tower-building-undo-nostim']\n"
     ]
    }
   ],
   "source": [
    "# learning/ exposure trials\n",
    "\n",
    "query = coll.find({\"$and\":[\n",
    "                        {'iterationName': { '$in': iteration_names }},\n",
    "                        {'datatype': 'trial_end'},\n",
    "                        {'trial_type':{ '$in': ENCODE_TASKS }},\n",
    "                        ]})\n",
    "df_encode = pd.DataFrame(query)\n",
    "print(len(df_encode))\n",
    "if len(df_encode) > 0:\n",
    "    print('encode trials found:', list(df_encode.trial_type.unique()))"
   ]
  },
  {
   "cell_type": "code",
   "execution_count": 1195,
   "id": "93faee64",
   "metadata": {},
   "outputs": [],
   "source": [
    "# in the WM versions, 'block-tower-viewing' trials appear in both conditions as the 'STUDY' part of both tasks"
   ]
  },
  {
   "cell_type": "markdown",
   "id": "1dc5a2ab",
   "metadata": {},
   "source": [
    "## decode phase"
   ]
  },
  {
   "cell_type": "code",
   "execution_count": 1196,
   "id": "adc16567",
   "metadata": {},
   "outputs": [
    {
     "name": "stdout",
     "output_type": "stream",
     "text": [
      "612\n",
      "decode trials found: ['block-tower-old-new-img']\n"
     ]
    }
   ],
   "source": [
    "# old-new judgements\n",
    "query = coll.find({\"$and\":[\n",
    "                        {'iterationName': { '$in': iteration_names }},\n",
    "                        {'datatype': 'trial_end'},\n",
    "                        {'trial_type':{ '$in': DECODE_TASKS }},\n",
    "                        ]})\n",
    "df_decode = pd.DataFrame(query)\n",
    "print(len(df_decode))\n",
    "if len(df_decode) > 0:\n",
    "    print('decode trials found:', list(df_decode.trial_type.unique()))"
   ]
  },
  {
   "cell_type": "code",
   "execution_count": 1197,
   "id": "224c1a83",
   "metadata": {},
   "outputs": [
    {
     "name": "stdout",
     "output_type": "stream",
     "text": [
      "0\n"
     ]
    }
   ],
   "source": [
    "# recalled towers are saved one per trial, in up to 6 trials\n",
    "query = coll.find({\"$and\":[\n",
    "                        {'iterationName': { '$in': iteration_names }},\n",
    "                        {'datatype': 'trial_end'},\n",
    "                        {'trial_type': BUILD_RECALL},\n",
    "                        ]})\n",
    "df_recalled_towers = pd.DataFrame(query)\n",
    "print(len(df_recalled_towers))"
   ]
  },
  {
   "cell_type": "markdown",
   "id": "be88a164",
   "metadata": {},
   "source": [
    "## additional data"
   ]
  },
  {
   "cell_type": "code",
   "execution_count": 1198,
   "id": "2b6b8ce6",
   "metadata": {},
   "outputs": [
    {
     "name": "stdout",
     "output_type": "stream",
     "text": [
      "3463\n",
      "individual block data found in: ['block-tower-building-undo-nostim']\n"
     ]
    }
   ],
   "source": [
    "# block placements\n",
    "query = coll.find({\"$and\":[\n",
    "                        {'datatype': BLOCK},\n",
    "                        {'iterationName': { '$in': iteration_names }},\n",
    "                        ]})\n",
    "df_block = pd.DataFrame(query)\n",
    "print(len(df_block))\n",
    "print('individual block data found in:', list(df_block.trial_type.unique()))"
   ]
  },
  {
   "cell_type": "code",
   "execution_count": 1199,
   "id": "2cf74238",
   "metadata": {},
   "outputs": [
    {
     "name": "stdout",
     "output_type": "stream",
     "text": [
      "376\n",
      "reset data found in: ['block-tower-building-undo-nostim']\n"
     ]
    }
   ],
   "source": [
    "# resets\n",
    "query = coll.find({\"$and\":[\n",
    "                        {'datatype': RESET},\n",
    "                        {'iterationName': { '$in': iteration_names }},\n",
    "                        ]})\n",
    "df_reset = pd.DataFrame(query)\n",
    "print(len(df_reset))\n",
    "if len(df_reset) > 0:\n",
    "    print('reset data found in:', list(df_reset.trial_type.unique()))"
   ]
  },
  {
   "cell_type": "code",
   "execution_count": 1200,
   "id": "67514d7d",
   "metadata": {},
   "outputs": [
    {
     "name": "stdout",
     "output_type": "stream",
     "text": [
      "701\n",
      "undo data found in: ['block-tower-building-undo-nostim']\n"
     ]
    }
   ],
   "source": [
    "# undos\n",
    "query = coll.find({\"$and\":[\n",
    "                        {'datatype': UNDO},\n",
    "                        {'iterationName': { '$in': iteration_names }},\n",
    "                        ]})\n",
    "df_undo = pd.DataFrame(query)\n",
    "print(len(df_undo))\n",
    "if len(df_undo) > 0:\n",
    "    print('undo data found in:', list(df_undo.trial_type.unique()))"
   ]
  },
  {
   "cell_type": "code",
   "execution_count": 1201,
   "id": "9bd6d726",
   "metadata": {},
   "outputs": [
    {
     "name": "stdout",
     "output_type": "stream",
     "text": [
      "8\n",
      "redo data found in: ['block-tower-building-undo-nostim']\n"
     ]
    }
   ],
   "source": [
    "# redos\n",
    "query = coll.find({\"$and\":[\n",
    "                        {'datatype': REDO},\n",
    "                        {'iterationName': { '$in': iteration_names }},\n",
    "                        ]})\n",
    "df_redo = pd.DataFrame(query)\n",
    "print(len(df_redo))\n",
    "if len(df_redo) > 0:\n",
    "    print('redo data found in:', list(df_redo.trial_type.unique()))"
   ]
  },
  {
   "cell_type": "code",
   "execution_count": 1202,
   "id": "21728e36",
   "metadata": {},
   "outputs": [],
   "source": [
    "df_undo_redo = pd.concat([df_undo, df_redo], ignore_index=True)\n",
    "df_construction_procedure = pd.concat([df_block, df_undo, df_redo, df_reset], ignore_index=True)\\\n",
    "                              .sort_values(['gameID','trial_num','relative_time'], ascending=True).reset_index()"
   ]
  },
  {
   "cell_type": "code",
   "execution_count": 1203,
   "id": "4aac6045",
   "metadata": {},
   "outputs": [
    {
     "data": {
      "text/plain": [
       "array(['block-tower-viewing', 'block-tower-match-to-sample',\n",
       "       'block-tower-building-undo-nostim'], dtype=object)"
      ]
     },
     "execution_count": 1203,
     "metadata": {},
     "output_type": "execute_result"
    }
   ],
   "source": [
    "df_encode.trial_type.unique()"
   ]
  },
  {
   "cell_type": "code",
   "execution_count": 1204,
   "id": "13733419",
   "metadata": {},
   "outputs": [
    {
     "data": {
      "text/plain": [
       "array(['block-tower-old-new-img'], dtype=object)"
      ]
     },
     "execution_count": 1204,
     "metadata": {},
     "output_type": "execute_result"
    }
   ],
   "source": [
    "df_decode.trial_type.unique()"
   ]
  },
  {
   "cell_type": "code",
   "execution_count": 1205,
   "id": "233b5f27",
   "metadata": {},
   "outputs": [
    {
     "data": {
      "text/plain": [
       "array(['block-tower-building-undo-nostim'], dtype=object)"
      ]
     },
     "execution_count": 1205,
     "metadata": {},
     "output_type": "execute_result"
    }
   ],
   "source": [
    "df_block.trial_type.unique()"
   ]
  },
  {
   "cell_type": "code",
   "execution_count": 1206,
   "id": "76dbe570",
   "metadata": {},
   "outputs": [
    {
     "data": {
      "text/plain": [
       "array(['block-tower-building-undo-nostim'], dtype=object)"
      ]
     },
     "execution_count": 1206,
     "metadata": {},
     "output_type": "execute_result"
    }
   ],
   "source": [
    "df_reset.trial_type.unique()"
   ]
  },
  {
   "cell_type": "code",
   "execution_count": 1207,
   "id": "8c9ea679",
   "metadata": {},
   "outputs": [
    {
     "data": {
      "text/plain": [
       "array(['reset', 'block_placement', 'block_undo_placement',\n",
       "       'block_redo_placement'], dtype=object)"
      ]
     },
     "execution_count": 1207,
     "metadata": {},
     "output_type": "execute_result"
    }
   ],
   "source": [
    "df_construction_procedure.datatype.unique()"
   ]
  },
  {
   "cell_type": "code",
   "execution_count": 1208,
   "id": "1c5391de",
   "metadata": {},
   "outputs": [
    {
     "data": {
      "text/plain": [
       "array(['block-tower-building-undo-nostim'], dtype=object)"
      ]
     },
     "execution_count": 1208,
     "metadata": {},
     "output_type": "execute_result"
    }
   ],
   "source": [
    "df_construction_procedure.trial_type.unique()"
   ]
  },
  {
   "cell_type": "code",
   "execution_count": 1209,
   "id": "a7ff1ad5",
   "metadata": {},
   "outputs": [
    {
     "data": {
      "text/html": [
       "<div>\n",
       "<style scoped>\n",
       "    .dataframe tbody tr th:only-of-type {\n",
       "        vertical-align: middle;\n",
       "    }\n",
       "\n",
       "    .dataframe tbody tr th {\n",
       "        vertical-align: top;\n",
       "    }\n",
       "\n",
       "    .dataframe thead th {\n",
       "        text-align: right;\n",
       "    }\n",
       "</style>\n",
       "<table border=\"1\" class=\"dataframe\">\n",
       "  <thead>\n",
       "    <tr style=\"text-align: right;\">\n",
       "      <th></th>\n",
       "      <th>gameID</th>\n",
       "      <th>trial_num</th>\n",
       "      <th>relative_time</th>\n",
       "      <th>datatype</th>\n",
       "      <th>trial_type</th>\n",
       "    </tr>\n",
       "  </thead>\n",
       "  <tbody>\n",
       "    <tr>\n",
       "      <th>0</th>\n",
       "      <td>0036-4ea979bb-da79-40fa-ac6a-a0b12727124c</td>\n",
       "      <td>2</td>\n",
       "      <td>55</td>\n",
       "      <td>reset</td>\n",
       "      <td>block-tower-building-undo-nostim</td>\n",
       "    </tr>\n",
       "    <tr>\n",
       "      <th>1</th>\n",
       "      <td>0036-4ea979bb-da79-40fa-ac6a-a0b12727124c</td>\n",
       "      <td>2</td>\n",
       "      <td>6205</td>\n",
       "      <td>block_placement</td>\n",
       "      <td>block-tower-building-undo-nostim</td>\n",
       "    </tr>\n",
       "    <tr>\n",
       "      <th>2</th>\n",
       "      <td>0036-4ea979bb-da79-40fa-ac6a-a0b12727124c</td>\n",
       "      <td>2</td>\n",
       "      <td>8404</td>\n",
       "      <td>block_placement</td>\n",
       "      <td>block-tower-building-undo-nostim</td>\n",
       "    </tr>\n",
       "    <tr>\n",
       "      <th>3</th>\n",
       "      <td>0036-4ea979bb-da79-40fa-ac6a-a0b12727124c</td>\n",
       "      <td>2</td>\n",
       "      <td>10989</td>\n",
       "      <td>block_placement</td>\n",
       "      <td>block-tower-building-undo-nostim</td>\n",
       "    </tr>\n",
       "    <tr>\n",
       "      <th>4</th>\n",
       "      <td>0036-4ea979bb-da79-40fa-ac6a-a0b12727124c</td>\n",
       "      <td>2</td>\n",
       "      <td>15254</td>\n",
       "      <td>block_placement</td>\n",
       "      <td>block-tower-building-undo-nostim</td>\n",
       "    </tr>\n",
       "    <tr>\n",
       "      <th>...</th>\n",
       "      <td>...</td>\n",
       "      <td>...</td>\n",
       "      <td>...</td>\n",
       "      <td>...</td>\n",
       "      <td>...</td>\n",
       "    </tr>\n",
       "    <tr>\n",
       "      <th>4543</th>\n",
       "      <td>9909-c70842eb-aa50-4ca9-a4ea-bd529df6175e</td>\n",
       "      <td>11</td>\n",
       "      <td>10430</td>\n",
       "      <td>block_placement</td>\n",
       "      <td>block-tower-building-undo-nostim</td>\n",
       "    </tr>\n",
       "    <tr>\n",
       "      <th>4544</th>\n",
       "      <td>9909-c70842eb-aa50-4ca9-a4ea-bd529df6175e</td>\n",
       "      <td>11</td>\n",
       "      <td>11618</td>\n",
       "      <td>block_placement</td>\n",
       "      <td>block-tower-building-undo-nostim</td>\n",
       "    </tr>\n",
       "    <tr>\n",
       "      <th>4545</th>\n",
       "      <td>9909-c70842eb-aa50-4ca9-a4ea-bd529df6175e</td>\n",
       "      <td>11</td>\n",
       "      <td>13983</td>\n",
       "      <td>block_placement</td>\n",
       "      <td>block-tower-building-undo-nostim</td>\n",
       "    </tr>\n",
       "    <tr>\n",
       "      <th>4546</th>\n",
       "      <td>9909-c70842eb-aa50-4ca9-a4ea-bd529df6175e</td>\n",
       "      <td>11</td>\n",
       "      <td>15301</td>\n",
       "      <td>block_placement</td>\n",
       "      <td>block-tower-building-undo-nostim</td>\n",
       "    </tr>\n",
       "    <tr>\n",
       "      <th>4547</th>\n",
       "      <td>9909-c70842eb-aa50-4ca9-a4ea-bd529df6175e</td>\n",
       "      <td>11</td>\n",
       "      <td>17248</td>\n",
       "      <td>block_placement</td>\n",
       "      <td>block-tower-building-undo-nostim</td>\n",
       "    </tr>\n",
       "  </tbody>\n",
       "</table>\n",
       "<p>4548 rows × 5 columns</p>\n",
       "</div>"
      ],
      "text/plain": [
       "                                         gameID  trial_num  relative_time   \n",
       "0     0036-4ea979bb-da79-40fa-ac6a-a0b12727124c          2             55  \\\n",
       "1     0036-4ea979bb-da79-40fa-ac6a-a0b12727124c          2           6205   \n",
       "2     0036-4ea979bb-da79-40fa-ac6a-a0b12727124c          2           8404   \n",
       "3     0036-4ea979bb-da79-40fa-ac6a-a0b12727124c          2          10989   \n",
       "4     0036-4ea979bb-da79-40fa-ac6a-a0b12727124c          2          15254   \n",
       "...                                         ...        ...            ...   \n",
       "4543  9909-c70842eb-aa50-4ca9-a4ea-bd529df6175e         11          10430   \n",
       "4544  9909-c70842eb-aa50-4ca9-a4ea-bd529df6175e         11          11618   \n",
       "4545  9909-c70842eb-aa50-4ca9-a4ea-bd529df6175e         11          13983   \n",
       "4546  9909-c70842eb-aa50-4ca9-a4ea-bd529df6175e         11          15301   \n",
       "4547  9909-c70842eb-aa50-4ca9-a4ea-bd529df6175e         11          17248   \n",
       "\n",
       "             datatype                        trial_type  \n",
       "0               reset  block-tower-building-undo-nostim  \n",
       "1     block_placement  block-tower-building-undo-nostim  \n",
       "2     block_placement  block-tower-building-undo-nostim  \n",
       "3     block_placement  block-tower-building-undo-nostim  \n",
       "4     block_placement  block-tower-building-undo-nostim  \n",
       "...               ...                               ...  \n",
       "4543  block_placement  block-tower-building-undo-nostim  \n",
       "4544  block_placement  block-tower-building-undo-nostim  \n",
       "4545  block_placement  block-tower-building-undo-nostim  \n",
       "4546  block_placement  block-tower-building-undo-nostim  \n",
       "4547  block_placement  block-tower-building-undo-nostim  \n",
       "\n",
       "[4548 rows x 5 columns]"
      ]
     },
     "execution_count": 1209,
     "metadata": {},
     "output_type": "execute_result"
    }
   ],
   "source": [
    "df_construction_procedure[['gameID','trial_num','relative_time','datatype','trial_type']]"
   ]
  },
  {
   "cell_type": "markdown",
   "id": "cdae9ba7",
   "metadata": {},
   "source": [
    "## export data"
   ]
  },
  {
   "cell_type": "code",
   "execution_count": 1210,
   "id": "2dec6d56",
   "metadata": {},
   "outputs": [],
   "source": [
    "df_encode.to_csv(experiment_results_dir + '/cogsci24/df_encode_{}.csv'.format(iteration_name))\n",
    "df_decode.to_csv(experiment_results_dir + '/cogsci24/df_decode_{}.csv'.format(iteration_name))\n",
    "df_block.to_csv(experiment_results_dir + '/cogsci24/df_block_{}.csv'.format(iteration_name))\n",
    "df_reset.to_csv(experiment_results_dir + '/cogsci24/df_reset_{}.csv'.format(iteration_name))\n",
    "df_construction_procedure.to_csv(experiment_results_dir + '/cogsci24/df_construction_procedure_{}.csv'.format(iteration_name))\n",
    "if len(df_recalled_towers) > 0:\n",
    "    df_recalled_towers.to_csv(experiment_results_dir + '/cogsci24/df_recalled_towers_{}.csv'.format(iteration_name))"
   ]
  },
  {
   "cell_type": "code",
   "execution_count": 1211,
   "id": "4974e400",
   "metadata": {},
   "outputs": [],
   "source": [
    "! open ~/zipping/results/build_components/cogsci24/"
   ]
  },
  {
   "cell_type": "markdown",
   "id": "6be8ccd0",
   "metadata": {},
   "source": [
    "### Exclusion criteria (implement in analysis scripts)"
   ]
  },
  {
   "cell_type": "code",
   "execution_count": 1212,
   "id": "5020c1bc",
   "metadata": {},
   "outputs": [],
   "source": [
    "# df_all_trial = pd.concat([df_learn, df_recalled_towers], ignore_index=True)"
   ]
  },
  {
   "cell_type": "code",
   "execution_count": 1213,
   "id": "2d90d2bc",
   "metadata": {},
   "outputs": [],
   "source": [
    "# # remove experimenter data\n",
    "# remove_tests = False\n",
    "\n",
    "# if remove_tests:\n",
    "#     df_build = df_build[~df_build.workerID.isna()]\n",
    "#     df_survey = df_survey[~df_survey.workerID.isna()]\n",
    "#     df_learn = df_learn[~df_learn.workerID.isna()]\n",
    "#     df_recall = df_recall[~df_recall.workerID.isna()]"
   ]
  },
  {
   "cell_type": "code",
   "execution_count": 1214,
   "id": "9cc5c2f5",
   "metadata": {},
   "outputs": [],
   "source": [
    "# df_learn.groupby(['workerID','gameID']).apply(len)"
   ]
  },
  {
   "cell_type": "code",
   "execution_count": 1215,
   "id": "6fbb9560",
   "metadata": {},
   "outputs": [],
   "source": [
    "# # remove incomplete datasets (build recall)\n",
    "# remove_incomplete_datasets = True\n",
    "# n_expected_learn_trials = 18\n",
    "\n",
    "# if remove_incomplete_datasets:\n",
    "#     a = df_learn.groupby('gameID').apply(len) == n_expected_learn_trials\n",
    "#     complete_zipping_set_gameIDs = list(a[a].index)\n",
    "#     df_trials = df_all_trial[df_all_trial.gameID.isin(complete_zipping_set_gameIDs)]\n",
    "#     df_learn = df_learn[df_learn.gameID.isin(complete_zipping_set_gameIDs)]\n",
    "#     df_recalled_towers = df_recalled_towers[df_recalled_towers.gameID.isin(complete_zipping_set_gameIDs)]\n",
    "    \n",
    "#     incomplete_zipping_set_gameIDs = list(a[~a].index)\n",
    "#     print(str(len(incomplete_zipping_set_gameIDs)) + ' ppts removed for incomplete data')\n",
    "#     print(str(len(complete_zipping_set_gameIDs)) + ' ppts left')\n",
    "# else: \n",
    "#     print('No ppts removed')"
   ]
  },
  {
   "cell_type": "code",
   "execution_count": null,
   "id": "903119c5",
   "metadata": {},
   "outputs": [],
   "source": []
  }
 ],
 "metadata": {
  "kernelspec": {
   "display_name": "Python 3 (ipykernel)",
   "language": "python",
   "name": "python3"
  },
  "language_info": {
   "codemirror_mode": {
    "name": "ipython",
    "version": 3
   },
   "file_extension": ".py",
   "mimetype": "text/x-python",
   "name": "python",
   "nbconvert_exporter": "python",
   "pygments_lexer": "ipython3",
   "version": "3.9.16"
  }
 },
 "nbformat": 4,
 "nbformat_minor": 5
}

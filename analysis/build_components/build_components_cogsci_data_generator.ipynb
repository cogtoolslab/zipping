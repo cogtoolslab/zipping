{
 "cells": [
  {
   "cell_type": "code",
   "execution_count": 437,
   "id": "48a76ce9",
   "metadata": {},
   "outputs": [],
   "source": [
    "import os\n",
    "import sys\n",
    "import urllib, io\n",
    "import pickle\n",
    "\n",
    "import numpy as np\n",
    "import scipy.stats as stats\n",
    "import pandas as pd\n",
    "from sklearn.metrics import euclidean_distances, jaccard_score, pairwise_distances\n",
    "\n",
    "import pymongo as pm\n",
    "from collections import Counter\n",
    "import json\n",
    "import re\n",
    "import ast\n",
    "\n",
    "from PIL import Image, ImageOps, ImageDraw, ImageFont \n",
    "from IPython.core.display import HTML \n",
    "\n",
    "from io import BytesIO\n",
    "import base64\n",
    "import requests\n",
    "\n",
    "import  matplotlib\n",
    "from matplotlib import pylab, mlab, pyplot\n",
    "%matplotlib inline\n",
    "from IPython.core.pylabtools import figsize, getfigs\n",
    "plt = pyplot\n",
    "import matplotlib as mpl\n",
    "mpl.rcParams['pdf.fonttype'] = 42\n",
    "\n",
    "import seaborn as sns\n",
    "sns.set_context('talk')\n",
    "sns.set_style('darkgrid')\n",
    "\n",
    "from IPython.display import clear_output\n",
    "\n",
    "import warnings\n",
    "warnings.filterwarnings(\"ignore\", category=DeprecationWarning)\n",
    "warnings.filterwarnings(\"ignore\", message=\"numpy.dtype size changed\")\n",
    "warnings.filterwarnings(\"ignore\", message=\"numpy.ufunc size changed\")\n",
    "\n",
    "sys.path.append(\"../../stimuli/block_utils/\")\n",
    "import blockworld_utils as utils"
   ]
  },
  {
   "cell_type": "code",
   "execution_count": 533,
   "id": "42cbae1a",
   "metadata": {},
   "outputs": [],
   "source": [
    "experiment_name = 'build_components'\n",
    "\n",
    "## directory & file hierarchy\n",
    "proj_dir = os.path.abspath('../..')\n",
    "datavol_dir = os.path.join(proj_dir,'data')\n",
    "analysis_dir = os.path.abspath(os.path.join(os.getcwd(),'..'))\n",
    "results_dir = os.path.join(proj_dir,'results')\n",
    "\n",
    "# paths specific to this experiment\n",
    "experiment_results_dir = os.path.join(results_dir, experiment_name)\n",
    "plot_dir = os.path.join(experiment_results_dir,'plots')\n",
    "csv_dir = os.path.join(experiment_results_dir,'csv')\n",
    "json_dir = os.path.join(experiment_results_dir,'json')\n",
    "\n",
    "png_dir = os.path.abspath(os.path.join(datavol_dir,'png'))\n",
    "jefan_dir = os.path.join(analysis_dir,'jefan')\n",
    "will_dir = os.path.join(analysis_dir,'will')\n",
    "\n",
    "## add helpers to python path\n",
    "if os.path.join(proj_dir,'stimuli') not in sys.path:\n",
    "    sys.path.append(os.path.join(proj_dir,'stimuli'))\n",
    "    \n",
    "if not os.path.exists(results_dir):\n",
    "    os.makedirs(results_dir)\n",
    "    \n",
    "if not os.path.exists(plot_dir):\n",
    "    os.makedirs(plot_dir)   \n",
    "    \n",
    "if not os.path.exists(csv_dir):\n",
    "    os.makedirs(csv_dir)       "
   ]
  },
  {
   "cell_type": "code",
   "execution_count": 762,
   "id": "82df79fd",
   "metadata": {},
   "outputs": [],
   "source": [
    "# set vars \n",
    "auth = pd.read_csv(os.path.join(proj_dir, 'auth.txt'), header = None) # this auth.txt file contains the password for the sketchloop user\n",
    "pswd = auth.values[0][0]\n",
    "user = 'sketchloop'\n",
    "host = 'cogtoolslab.org' ## cocolab ip address\n",
    "\n",
    "# have to fix this to be able to analyze from local\n",
    "import pymongo as pm\n",
    "conn = pm.MongoClient('mongodb://sketchloop:' + pswd + '@127.0.0.1')\n",
    "db = conn['block_construction']\n",
    "coll = db['build_components']"
   ]
  },
  {
   "cell_type": "code",
   "execution_count": 827,
   "id": "c48c3379",
   "metadata": {},
   "outputs": [],
   "source": [
    "# plugin names ({'datatype': 'trial_end'} & {'trial_type': xxxxxxxx})\n",
    "\n",
    "# encode\n",
    "BUILD_COPY = 'block-tower-building-undo'\n",
    "TOWER_VIEWING = 'block-tower-viewing'\n",
    "MATCH = 'block-tower-match-to-sample'\n",
    "BUILD_WM = 'block-tower-building-undo-nostim'\n",
    "\n",
    "ENCODE_TASKS = [BUILD_COPY, TOWER_VIEWING, MATCH, BUILD_WM]\n",
    "\n",
    "# decode \n",
    "OLD_NEW = 'block-tower-old-new-img'\n",
    "BUILD_RECALL = 'block-tower-building-recall-choose-color'\n",
    "\n",
    "DECODE_TASKS = [OLD_NEW, BUILD_RECALL]\n",
    "\n",
    "# additional data types ({'datatype': xxxxxx})\n",
    "BLOCK = 'block_placement' # check that this is saved from all building plugins (BUILD_COPY, BUILD_WM, BUILD_RECALL)\n",
    "RESET = 'reset' # check that this is saved from all building plugins (BUILD_COPY, BUILD_WM, BUILD_RECALL)\n",
    "UNDO = 'block_undo_placement' # check that this is saved from all building plugins (BUILD_COPY, BUILD_WM, BUILD_RECALL)\n",
    "REDO = 'block_redo_placement' # check that this is saved from all building plugins (BUILD_COPY, BUILD_WM, BUILD_RECALL)"
   ]
  },
  {
   "cell_type": "code",
   "execution_count": 828,
   "id": "bc248d7d",
   "metadata": {},
   "outputs": [],
   "source": [
    "# iteration names\n",
    "\n",
    "# iteration_name = 'build_components_cogsci_ve_old_new_data_run_through_2'\n",
    "# iteration_name = 'build_components_cogsci_ve_recall_data_run_through'\n",
    "# iteration_name = 'build_components_cogsci_wm_old_new_data_run_through'\n",
    "# iteration_name = 'build_components_cogsci_wm_recall_data_run_through'\n",
    "\n",
    "\n",
    "iteration_name = \"build_components_cogsci_ve_old_new_prolific_pilot_0\"\n",
    "# iteration_name = \"build_components_cogsci_ve_recall_prolific_pilot_0\"\n",
    "# iteration_name = \"build_components_cogsci_wm_old_new_prolific_pilot_0\"\n",
    "# iteration_name = \"build_components_cogsci_wm_recall_prolific_pilot_0\"\n",
    "\n",
    "\n",
    "iteration_names = [iteration_name]"
   ]
  },
  {
   "cell_type": "markdown",
   "id": "57eaa334",
   "metadata": {},
   "source": [
    "# dataframe plan\n",
    "\n",
    "df_encode: encode phase from all iterations\n",
    "\n",
    "df_encode_ve: all visual exposure trials\n",
    "df_encode_wm: all working memory trials\n",
    "\n",
    "df_recall: recall only \n",
    "df_recog: old-new only\n",
    "\n",
    "\n",
    "We rarely compare between VE and WM.\n",
    "It's more important for us to compare conditions within recog and within recall\n"
   ]
  },
  {
   "cell_type": "code",
   "execution_count": 829,
   "id": "fcbe340e",
   "metadata": {},
   "outputs": [
    {
     "name": "stdout",
     "output_type": "stream",
     "text": [
      "517\n"
     ]
    }
   ],
   "source": [
    "# all data\n",
    "query = coll.find({\"$and\":[\n",
    "                        {'iterationName': { '$in': iteration_names }},\n",
    "                        ]})\n",
    "df_all = pd.DataFrame(query)\n",
    "print(len(df_all))"
   ]
  },
  {
   "cell_type": "code",
   "execution_count": 830,
   "id": "7264509c",
   "metadata": {},
   "outputs": [
    {
     "data": {
      "text/plain": [
       "Index(['_id', 'rt', 'url', 'trial_type', 'trial_index', 'time_elapsed',\n",
       "       'internal_node_id', 'experimentName', 'iterationName', 'workerID',\n",
       "       'gameID', 'studyLocation', 'datatype', 'view_history', 'success',\n",
       "       'timeout', 'failed_images', 'failed_audio', 'failed_video',\n",
       "       'n_blocks_when_reset', 'block_str', 'tower_id', 'tower_A_tall_id',\n",
       "       'tower_A_wide_id', 'tower_B_tall_id', 'tower_B_wide_id',\n",
       "       'tower_id_tall', 'composite_id', 'trial_num', 'absolute_time',\n",
       "       'trial_start_time', 'relative_time', 'stimulus', 'condition', 'n_block',\n",
       "       'n_resets', 'towerColor', 'timeAbsolute', 'timeRelative', 'blocks',\n",
       "       'discreteWorld', 'eventType', 'block', 'endReason', 'trial_finish_time',\n",
       "       'rep', 'response', 'novelty', 'response_meaning', 'response_correct',\n",
       "       'key_presses', 'distractorKind'],\n",
       "      dtype='object')"
      ]
     },
     "execution_count": 830,
     "metadata": {},
     "output_type": "execute_result"
    }
   ],
   "source": [
    "df_all.columns"
   ]
  },
  {
   "cell_type": "code",
   "execution_count": 831,
   "id": "392c1092",
   "metadata": {},
   "outputs": [
    {
     "data": {
      "text/plain": [
       "array(['external-html', 'instructions', 'preload',\n",
       "       'block-tower-building-undo', 'block-tower-viewing',\n",
       "       'block-tower-old-new-img', 'survey-text'], dtype=object)"
      ]
     },
     "execution_count": 831,
     "metadata": {},
     "output_type": "execute_result"
    }
   ],
   "source": [
    "df_all.trial_type.unique()"
   ]
  },
  {
   "cell_type": "code",
   "execution_count": 832,
   "id": "1878694f",
   "metadata": {},
   "outputs": [
    {
     "name": "stdout",
     "output_type": "stream",
     "text": [
      "0\n"
     ]
    }
   ],
   "source": [
    "# I don't think metadata is saved anywhere.\n",
    "query = coll.find({\"$and\":[\n",
    "                        {'datatype':'metadata'},\n",
    "                        {'iterationName': { '$in': iteration_names }},\n",
    "                        ]})\n",
    "df_meta = pd.DataFrame(query)\n",
    "print(len(df_meta))"
   ]
  },
  {
   "cell_type": "code",
   "execution_count": 833,
   "id": "feb2e333",
   "metadata": {},
   "outputs": [
    {
     "name": "stdout",
     "output_type": "stream",
     "text": [
      "5\n",
      "{'technical': 'No', 'confused': 'No', 'comments': 'Thank you'}\n",
      "{'technical': 'no', 'confused': 'no', 'comments': ''}\n",
      "{'technical': 'No', 'confused': 'No', 'comments': 'Very difficult!'}\n",
      "{'technical': 'no', 'confused': 'at the start but made more sense was i placed the blocks', 'comments': 'no'}\n",
      "{'technical': 'no', 'confused': 'no', 'comments': 'i found remembering the colors more difficult than remembering the shapes'}\n"
     ]
    }
   ],
   "source": [
    "# exit survey responses\n",
    "query = coll.find({\"$and\":[\n",
    "                        {'iterationName': { '$in': iteration_names }},\n",
    "                        {'trial_type': {'$in': ['survey-text']}}\n",
    "                        ]})\n",
    "df_survey = pd.DataFrame(query)\n",
    "print(len(df_survey))\n",
    "_ = [print(response) for response in df_survey.response]"
   ]
  },
  {
   "cell_type": "markdown",
   "id": "7034a6d7",
   "metadata": {},
   "source": [
    "# trial end data"
   ]
  },
  {
   "cell_type": "code",
   "execution_count": 834,
   "id": "97ada507",
   "metadata": {},
   "outputs": [
    {
     "data": {
      "text/html": [
       "<div>\n",
       "<style scoped>\n",
       "    .dataframe tbody tr th:only-of-type {\n",
       "        vertical-align: middle;\n",
       "    }\n",
       "\n",
       "    .dataframe tbody tr th {\n",
       "        vertical-align: top;\n",
       "    }\n",
       "\n",
       "    .dataframe thead th {\n",
       "        text-align: right;\n",
       "    }\n",
       "</style>\n",
       "<table border=\"1\" class=\"dataframe\">\n",
       "  <thead>\n",
       "    <tr style=\"text-align: right;\">\n",
       "      <th></th>\n",
       "      <th>_id</th>\n",
       "      <th>trial_start_time</th>\n",
       "      <th>trial_finish_time</th>\n",
       "      <th>relative_time</th>\n",
       "      <th>rep</th>\n",
       "      <th>condition</th>\n",
       "      <th>stimulus</th>\n",
       "      <th>response</th>\n",
       "      <th>trial_num</th>\n",
       "      <th>towerColor</th>\n",
       "      <th>...</th>\n",
       "      <th>studyLocation</th>\n",
       "      <th>datatype</th>\n",
       "      <th>timeAbsolute</th>\n",
       "      <th>timeRelative</th>\n",
       "      <th>blocks</th>\n",
       "      <th>discreteWorld</th>\n",
       "      <th>eventType</th>\n",
       "      <th>endReason</th>\n",
       "      <th>n_resets</th>\n",
       "      <th>color</th>\n",
       "    </tr>\n",
       "  </thead>\n",
       "  <tbody>\n",
       "    <tr>\n",
       "      <th>0</th>\n",
       "      <td>659cb6b7c5c2296bd578d285</td>\n",
       "      <td>1.704769e+12</td>\n",
       "      <td>1.704769e+12</td>\n",
       "      <td>15025</td>\n",
       "      <td>1</td>\n",
       "      <td>view</td>\n",
       "      <td>{'blocks': [{'x': 1, 'y': 0, 'height': 2, 'wid...</td>\n",
       "      <td>NaN</td>\n",
       "      <td>1</td>\n",
       "      <td>[214, 19, 87, 255]</td>\n",
       "      <td>...</td>\n",
       "      <td>Prolific</td>\n",
       "      <td>trial_end</td>\n",
       "      <td>NaN</td>\n",
       "      <td>NaN</td>\n",
       "      <td>NaN</td>\n",
       "      <td>NaN</td>\n",
       "      <td>NaN</td>\n",
       "      <td>NaN</td>\n",
       "      <td>NaN</td>\n",
       "      <td>NaN</td>\n",
       "    </tr>\n",
       "    <tr>\n",
       "      <th>1</th>\n",
       "      <td>659cb6fcc5c2296bd578d2ab</td>\n",
       "      <td>1.704769e+12</td>\n",
       "      <td>1.704769e+12</td>\n",
       "      <td>15027</td>\n",
       "      <td>1</td>\n",
       "      <td>view</td>\n",
       "      <td>{'blocks': [{'x': 0, 'y': 0, 'height': 1, 'wid...</td>\n",
       "      <td>NaN</td>\n",
       "      <td>1</td>\n",
       "      <td>[214, 186, 241, 255]</td>\n",
       "      <td>...</td>\n",
       "      <td>Prolific</td>\n",
       "      <td>trial_end</td>\n",
       "      <td>NaN</td>\n",
       "      <td>NaN</td>\n",
       "      <td>NaN</td>\n",
       "      <td>NaN</td>\n",
       "      <td>NaN</td>\n",
       "      <td>NaN</td>\n",
       "      <td>NaN</td>\n",
       "      <td>NaN</td>\n",
       "    </tr>\n",
       "    <tr>\n",
       "      <th>2</th>\n",
       "      <td>659cb707c5c2296bd578d2b8</td>\n",
       "      <td>1.704769e+12</td>\n",
       "      <td>1.704769e+12</td>\n",
       "      <td>74690</td>\n",
       "      <td>1</td>\n",
       "      <td>build</td>\n",
       "      <td>{'blocks': [{'x': 0, 'y': 0, 'height': 1, 'wid...</td>\n",
       "      <td>NaN</td>\n",
       "      <td>2</td>\n",
       "      <td>[214, 186, 241, 255]</td>\n",
       "      <td>...</td>\n",
       "      <td>Prolific</td>\n",
       "      <td>trial_end</td>\n",
       "      <td>1.704769e+12</td>\n",
       "      <td>217851.0</td>\n",
       "      <td>[{'x': 4, 'y': 0, 'width': 2, 'height': 1}, {'...</td>\n",
       "      <td>[[True, True, True, True, True, True, True, Tr...</td>\n",
       "      <td>trial_end</td>\n",
       "      <td>perfect-reconstruction-translation</td>\n",
       "      <td>2.0</td>\n",
       "      <td>NaN</td>\n",
       "    </tr>\n",
       "    <tr>\n",
       "      <th>3</th>\n",
       "      <td>659cb709c5c2296bd578d2bc</td>\n",
       "      <td>1.704769e+12</td>\n",
       "      <td>1.704769e+12</td>\n",
       "      <td>15042</td>\n",
       "      <td>1</td>\n",
       "      <td>view</td>\n",
       "      <td>{'blocks': [{'x': 0, 'y': 0, 'height': 2, 'wid...</td>\n",
       "      <td>NaN</td>\n",
       "      <td>1</td>\n",
       "      <td>[214, 186, 241, 255]</td>\n",
       "      <td>...</td>\n",
       "      <td>Prolific</td>\n",
       "      <td>trial_end</td>\n",
       "      <td>NaN</td>\n",
       "      <td>NaN</td>\n",
       "      <td>NaN</td>\n",
       "      <td>NaN</td>\n",
       "      <td>NaN</td>\n",
       "      <td>NaN</td>\n",
       "      <td>NaN</td>\n",
       "      <td>NaN</td>\n",
       "    </tr>\n",
       "    <tr>\n",
       "      <th>4</th>\n",
       "      <td>659cb723c5c2296bd578d2dd</td>\n",
       "      <td>1.704769e+12</td>\n",
       "      <td>1.704769e+12</td>\n",
       "      <td>33925</td>\n",
       "      <td>1</td>\n",
       "      <td>build</td>\n",
       "      <td>{'blocks': [{'x': 0, 'y': 0, 'height': 2, 'wid...</td>\n",
       "      <td>NaN</td>\n",
       "      <td>2</td>\n",
       "      <td>[101, 101, 101, 255]</td>\n",
       "      <td>...</td>\n",
       "      <td>Prolific</td>\n",
       "      <td>trial_end</td>\n",
       "      <td>1.704769e+12</td>\n",
       "      <td>137270.0</td>\n",
       "      <td>[{'x': 4, 'y': 0, 'width': 1, 'height': 2}, {'...</td>\n",
       "      <td>[[True, True, True, True, True, True, True, Tr...</td>\n",
       "      <td>trial_end</td>\n",
       "      <td>perfect-reconstruction-translation</td>\n",
       "      <td>0.0</td>\n",
       "      <td>NaN</td>\n",
       "    </tr>\n",
       "    <tr>\n",
       "      <th>...</th>\n",
       "      <td>...</td>\n",
       "      <td>...</td>\n",
       "      <td>...</td>\n",
       "      <td>...</td>\n",
       "      <td>...</td>\n",
       "      <td>...</td>\n",
       "      <td>...</td>\n",
       "      <td>...</td>\n",
       "      <td>...</td>\n",
       "      <td>...</td>\n",
       "      <td>...</td>\n",
       "      <td>...</td>\n",
       "      <td>...</td>\n",
       "      <td>...</td>\n",
       "      <td>...</td>\n",
       "      <td>...</td>\n",
       "      <td>...</td>\n",
       "      <td>...</td>\n",
       "      <td>...</td>\n",
       "      <td>...</td>\n",
       "      <td>...</td>\n",
       "    </tr>\n",
       "    <tr>\n",
       "      <th>78</th>\n",
       "      <td>659cb966c5c2296bd578d90f</td>\n",
       "      <td>1.704770e+12</td>\n",
       "      <td>NaN</td>\n",
       "      <td>40551</td>\n",
       "      <td>0</td>\n",
       "      <td>NaN</td>\n",
       "      <td>NaN</td>\n",
       "      <td>NaN</td>\n",
       "      <td>16</td>\n",
       "      <td>NaN</td>\n",
       "      <td>...</td>\n",
       "      <td>Prolific</td>\n",
       "      <td>trial_end</td>\n",
       "      <td>1.704770e+12</td>\n",
       "      <td>737000.0</td>\n",
       "      <td>[{'x': 4, 'y': 0, 'width': 1, 'height': 2}, {'...</td>\n",
       "      <td>[[True, True, True, True, True, True, True, Tr...</td>\n",
       "      <td>trial_end</td>\n",
       "      <td>submit-pressed</td>\n",
       "      <td>1.0</td>\n",
       "      <td>[214, 186, 241, 255]</td>\n",
       "    </tr>\n",
       "    <tr>\n",
       "      <th>79</th>\n",
       "      <td>659cb971c5c2296bd578d93b</td>\n",
       "      <td>1.704770e+12</td>\n",
       "      <td>NaN</td>\n",
       "      <td>8818</td>\n",
       "      <td>0</td>\n",
       "      <td>NaN</td>\n",
       "      <td>NaN</td>\n",
       "      <td>NaN</td>\n",
       "      <td>17</td>\n",
       "      <td>NaN</td>\n",
       "      <td>...</td>\n",
       "      <td>Prolific</td>\n",
       "      <td>trial_end</td>\n",
       "      <td>NaN</td>\n",
       "      <td>NaN</td>\n",
       "      <td>NaN</td>\n",
       "      <td>NaN</td>\n",
       "      <td>NaN</td>\n",
       "      <td>give-up</td>\n",
       "      <td>2.0</td>\n",
       "      <td>[85, 111, 243, 255]</td>\n",
       "    </tr>\n",
       "    <tr>\n",
       "      <th>80</th>\n",
       "      <td>659cb972c5c2296bd578d93f</td>\n",
       "      <td>1.704770e+12</td>\n",
       "      <td>NaN</td>\n",
       "      <td>46801</td>\n",
       "      <td>0</td>\n",
       "      <td>NaN</td>\n",
       "      <td>NaN</td>\n",
       "      <td>NaN</td>\n",
       "      <td>16</td>\n",
       "      <td>NaN</td>\n",
       "      <td>...</td>\n",
       "      <td>Prolific</td>\n",
       "      <td>trial_end</td>\n",
       "      <td>NaN</td>\n",
       "      <td>NaN</td>\n",
       "      <td>NaN</td>\n",
       "      <td>NaN</td>\n",
       "      <td>NaN</td>\n",
       "      <td>give-up</td>\n",
       "      <td>3.0</td>\n",
       "      <td>[85, 111, 243, 255]</td>\n",
       "    </tr>\n",
       "    <tr>\n",
       "      <th>81</th>\n",
       "      <td>659cb97bc5c2296bd578d957</td>\n",
       "      <td>1.704770e+12</td>\n",
       "      <td>NaN</td>\n",
       "      <td>32258</td>\n",
       "      <td>0</td>\n",
       "      <td>NaN</td>\n",
       "      <td>NaN</td>\n",
       "      <td>NaN</td>\n",
       "      <td>17</td>\n",
       "      <td>NaN</td>\n",
       "      <td>...</td>\n",
       "      <td>Prolific</td>\n",
       "      <td>trial_end</td>\n",
       "      <td>1.704770e+12</td>\n",
       "      <td>660893.0</td>\n",
       "      <td>[{'x': 4, 'y': 0, 'width': 2, 'height': 1}, {'...</td>\n",
       "      <td>[[True, True, True, True, True, True, True, Tr...</td>\n",
       "      <td>trial_end</td>\n",
       "      <td>submit-pressed</td>\n",
       "      <td>2.0</td>\n",
       "      <td>[101, 101, 101, 255]</td>\n",
       "    </tr>\n",
       "    <tr>\n",
       "      <th>82</th>\n",
       "      <td>659cb97ec5c2296bd578d95f</td>\n",
       "      <td>1.704770e+12</td>\n",
       "      <td>NaN</td>\n",
       "      <td>1180</td>\n",
       "      <td>0</td>\n",
       "      <td>NaN</td>\n",
       "      <td>NaN</td>\n",
       "      <td>NaN</td>\n",
       "      <td>18</td>\n",
       "      <td>NaN</td>\n",
       "      <td>...</td>\n",
       "      <td>Prolific</td>\n",
       "      <td>trial_end</td>\n",
       "      <td>NaN</td>\n",
       "      <td>NaN</td>\n",
       "      <td>NaN</td>\n",
       "      <td>NaN</td>\n",
       "      <td>NaN</td>\n",
       "      <td>give-up</td>\n",
       "      <td>1.0</td>\n",
       "      <td>[85, 111, 243, 255]</td>\n",
       "    </tr>\n",
       "  </tbody>\n",
       "</table>\n",
       "<p>83 rows × 36 columns</p>\n",
       "</div>"
      ],
      "text/plain": [
       "                         _id  trial_start_time  trial_finish_time   \n",
       "0   659cb6b7c5c2296bd578d285      1.704769e+12       1.704769e+12  \\\n",
       "1   659cb6fcc5c2296bd578d2ab      1.704769e+12       1.704769e+12   \n",
       "2   659cb707c5c2296bd578d2b8      1.704769e+12       1.704769e+12   \n",
       "3   659cb709c5c2296bd578d2bc      1.704769e+12       1.704769e+12   \n",
       "4   659cb723c5c2296bd578d2dd      1.704769e+12       1.704769e+12   \n",
       "..                       ...               ...                ...   \n",
       "78  659cb966c5c2296bd578d90f      1.704770e+12                NaN   \n",
       "79  659cb971c5c2296bd578d93b      1.704770e+12                NaN   \n",
       "80  659cb972c5c2296bd578d93f      1.704770e+12                NaN   \n",
       "81  659cb97bc5c2296bd578d957      1.704770e+12                NaN   \n",
       "82  659cb97ec5c2296bd578d95f      1.704770e+12                NaN   \n",
       "\n",
       "    relative_time  rep condition   \n",
       "0           15025    1      view  \\\n",
       "1           15027    1      view   \n",
       "2           74690    1     build   \n",
       "3           15042    1      view   \n",
       "4           33925    1     build   \n",
       "..            ...  ...       ...   \n",
       "78          40551    0       NaN   \n",
       "79           8818    0       NaN   \n",
       "80          46801    0       NaN   \n",
       "81          32258    0       NaN   \n",
       "82           1180    0       NaN   \n",
       "\n",
       "                                             stimulus  response  trial_num   \n",
       "0   {'blocks': [{'x': 1, 'y': 0, 'height': 2, 'wid...       NaN          1  \\\n",
       "1   {'blocks': [{'x': 0, 'y': 0, 'height': 1, 'wid...       NaN          1   \n",
       "2   {'blocks': [{'x': 0, 'y': 0, 'height': 1, 'wid...       NaN          2   \n",
       "3   {'blocks': [{'x': 0, 'y': 0, 'height': 2, 'wid...       NaN          1   \n",
       "4   {'blocks': [{'x': 0, 'y': 0, 'height': 2, 'wid...       NaN          2   \n",
       "..                                                ...       ...        ...   \n",
       "78                                                NaN       NaN         16   \n",
       "79                                                NaN       NaN         17   \n",
       "80                                                NaN       NaN         16   \n",
       "81                                                NaN       NaN         17   \n",
       "82                                                NaN       NaN         18   \n",
       "\n",
       "              towerColor  ... studyLocation   datatype  timeAbsolute   \n",
       "0     [214, 19, 87, 255]  ...      Prolific  trial_end           NaN  \\\n",
       "1   [214, 186, 241, 255]  ...      Prolific  trial_end           NaN   \n",
       "2   [214, 186, 241, 255]  ...      Prolific  trial_end  1.704769e+12   \n",
       "3   [214, 186, 241, 255]  ...      Prolific  trial_end           NaN   \n",
       "4   [101, 101, 101, 255]  ...      Prolific  trial_end  1.704769e+12   \n",
       "..                   ...  ...           ...        ...           ...   \n",
       "78                   NaN  ...      Prolific  trial_end  1.704770e+12   \n",
       "79                   NaN  ...      Prolific  trial_end           NaN   \n",
       "80                   NaN  ...      Prolific  trial_end           NaN   \n",
       "81                   NaN  ...      Prolific  trial_end  1.704770e+12   \n",
       "82                   NaN  ...      Prolific  trial_end           NaN   \n",
       "\n",
       "   timeRelative                                             blocks   \n",
       "0           NaN                                                NaN  \\\n",
       "1           NaN                                                NaN   \n",
       "2      217851.0  [{'x': 4, 'y': 0, 'width': 2, 'height': 1}, {'...   \n",
       "3           NaN                                                NaN   \n",
       "4      137270.0  [{'x': 4, 'y': 0, 'width': 1, 'height': 2}, {'...   \n",
       "..          ...                                                ...   \n",
       "78     737000.0  [{'x': 4, 'y': 0, 'width': 1, 'height': 2}, {'...   \n",
       "79          NaN                                                NaN   \n",
       "80          NaN                                                NaN   \n",
       "81     660893.0  [{'x': 4, 'y': 0, 'width': 2, 'height': 1}, {'...   \n",
       "82          NaN                                                NaN   \n",
       "\n",
       "                                        discreteWorld  eventType   \n",
       "0                                                 NaN        NaN  \\\n",
       "1                                                 NaN        NaN   \n",
       "2   [[True, True, True, True, True, True, True, Tr...  trial_end   \n",
       "3                                                 NaN        NaN   \n",
       "4   [[True, True, True, True, True, True, True, Tr...  trial_end   \n",
       "..                                                ...        ...   \n",
       "78  [[True, True, True, True, True, True, True, Tr...  trial_end   \n",
       "79                                                NaN        NaN   \n",
       "80                                                NaN        NaN   \n",
       "81  [[True, True, True, True, True, True, True, Tr...  trial_end   \n",
       "82                                                NaN        NaN   \n",
       "\n",
       "                             endReason n_resets                 color  \n",
       "0                                  NaN      NaN                   NaN  \n",
       "1                                  NaN      NaN                   NaN  \n",
       "2   perfect-reconstruction-translation      2.0                   NaN  \n",
       "3                                  NaN      NaN                   NaN  \n",
       "4   perfect-reconstruction-translation      0.0                   NaN  \n",
       "..                                 ...      ...                   ...  \n",
       "78                      submit-pressed      1.0  [214, 186, 241, 255]  \n",
       "79                             give-up      2.0   [85, 111, 243, 255]  \n",
       "80                             give-up      3.0   [85, 111, 243, 255]  \n",
       "81                      submit-pressed      2.0  [101, 101, 101, 255]  \n",
       "82                             give-up      1.0   [85, 111, 243, 255]  \n",
       "\n",
       "[83 rows x 36 columns]"
      ]
     },
     "execution_count": 834,
     "metadata": {},
     "output_type": "execute_result"
    }
   ],
   "source": [
    "df_trial"
   ]
  },
  {
   "cell_type": "code",
   "execution_count": 835,
   "id": "abce0440",
   "metadata": {},
   "outputs": [
    {
     "name": "stdout",
     "output_type": "stream",
     "text": [
      "120\n"
     ]
    }
   ],
   "source": [
    "# trial-end\n",
    "query = coll.find({\"$and\":[\n",
    "                        {'iterationName': { '$in': iteration_names }},\n",
    "                        {'datatype':'trial_end'},\n",
    "                        {'trial_type': {'$nin': ['instructions','preload','external-html','survey-text']}}\n",
    "                        ]})\n",
    "df_trial = pd.DataFrame(query)\n",
    "print(len(df_trial))"
   ]
  },
  {
   "cell_type": "code",
   "execution_count": 836,
   "id": "30f2d19d",
   "metadata": {},
   "outputs": [
    {
     "data": {
      "text/plain": [
       "0       76748\n",
       "1       15031\n",
       "2       35913\n",
       "3       40226\n",
       "4      105872\n",
       "        ...  \n",
       "115      2244\n",
       "116      4803\n",
       "117      4849\n",
       "118      1972\n",
       "119      2740\n",
       "Name: relative_time, Length: 120, dtype: int64"
      ]
     },
     "execution_count": 836,
     "metadata": {},
     "output_type": "execute_result"
    }
   ],
   "source": [
    "df_trial.relative_time"
   ]
  },
  {
   "cell_type": "markdown",
   "id": "37f0aeb7",
   "metadata": {},
   "source": [
    "## encode phase"
   ]
  },
  {
   "cell_type": "code",
   "execution_count": 837,
   "id": "f6380862",
   "metadata": {},
   "outputs": [
    {
     "name": "stdout",
     "output_type": "stream",
     "text": [
      "60\n",
      "encode trials found: ['block-tower-building-undo', 'block-tower-viewing']\n"
     ]
    }
   ],
   "source": [
    "# learning/ exposure trials\n",
    "\n",
    "query = coll.find({\"$and\":[\n",
    "                        {'iterationName': { '$in': iteration_names }},\n",
    "                        {'datatype': 'trial_end'},\n",
    "                        {'trial_type':{ '$in': ENCODE_TASKS }},\n",
    "                        ]})\n",
    "df_encode = pd.DataFrame(query)\n",
    "print(len(df_encode))\n",
    "if len(df_encode) > 0:\n",
    "    print('encode trials found:', list(df_encode.trial_type.unique()))"
   ]
  },
  {
   "cell_type": "code",
   "execution_count": 838,
   "id": "7b6d3c30",
   "metadata": {},
   "outputs": [],
   "source": [
    "# in the WM versions, 'block-tower-viewing' trials appear in both conditions as the 'STUDY' part of both tasks"
   ]
  },
  {
   "cell_type": "markdown",
   "id": "a02d8d99",
   "metadata": {},
   "source": [
    "## decode phase"
   ]
  },
  {
   "cell_type": "code",
   "execution_count": 839,
   "id": "adc16567",
   "metadata": {},
   "outputs": [
    {
     "name": "stdout",
     "output_type": "stream",
     "text": [
      "60\n",
      "decode trials found: ['block-tower-old-new-img']\n"
     ]
    }
   ],
   "source": [
    "# old-new judgements\n",
    "query = coll.find({\"$and\":[\n",
    "                        {'iterationName': { '$in': iteration_names }},\n",
    "                        {'datatype': 'trial_end'},\n",
    "                        {'trial_type':{ '$in': DECODE_TASKS }},\n",
    "                        ]})\n",
    "df_decode = pd.DataFrame(query)\n",
    "print(len(df_decode))\n",
    "if len(df_decode) > 0:\n",
    "    print('decode trials found:', list(df_decode.trial_type.unique()))"
   ]
  },
  {
   "cell_type": "code",
   "execution_count": 840,
   "id": "224c1a83",
   "metadata": {},
   "outputs": [
    {
     "name": "stdout",
     "output_type": "stream",
     "text": [
      "0\n"
     ]
    }
   ],
   "source": [
    "# recalled towers are saved one per trial, in up to 6 trials\n",
    "query = coll.find({\"$and\":[\n",
    "                        {'iterationName': { '$in': iteration_names }},\n",
    "                        {'datatype': 'trial_end'},\n",
    "                        {'trial_type': BUILD_RECALL},\n",
    "                        ]})\n",
    "df_recalled_towers = pd.DataFrame(query)\n",
    "print(len(df_recalled_towers))"
   ]
  },
  {
   "cell_type": "markdown",
   "id": "61bcce54",
   "metadata": {},
   "source": [
    "## additional data"
   ]
  },
  {
   "cell_type": "code",
   "execution_count": 841,
   "id": "2b6b8ce6",
   "metadata": {},
   "outputs": [
    {
     "name": "stdout",
     "output_type": "stream",
     "text": [
      "287\n",
      "individual block data found in: ['block-tower-building-undo']\n"
     ]
    }
   ],
   "source": [
    "# block placements\n",
    "query = coll.find({\"$and\":[\n",
    "                        {'datatype': BLOCK},\n",
    "                        {'iterationName': { '$in': iteration_names }},\n",
    "                        ]})\n",
    "df_block = pd.DataFrame(query)\n",
    "print(len(df_block))\n",
    "print('individual block data found in:', list(df_block.trial_type.unique()))"
   ]
  },
  {
   "cell_type": "code",
   "execution_count": 842,
   "id": "632ac535",
   "metadata": {},
   "outputs": [
    {
     "name": "stdout",
     "output_type": "stream",
     "text": [
      "33\n",
      "reset data found in: ['block-tower-building-undo']\n"
     ]
    }
   ],
   "source": [
    "# resets\n",
    "query = coll.find({\"$and\":[\n",
    "                        {'datatype': RESET},\n",
    "                        {'iterationName': { '$in': iteration_names }},\n",
    "                        ]})\n",
    "df_reset = pd.DataFrame(query)\n",
    "print(len(df_reset))\n",
    "if len(df_reset) > 0:\n",
    "    print('reset data found in:', list(df_reset.trial_type.unique()))"
   ]
  },
  {
   "cell_type": "code",
   "execution_count": 843,
   "id": "ff7b00ab",
   "metadata": {},
   "outputs": [
    {
     "name": "stdout",
     "output_type": "stream",
     "text": [
      "42\n",
      "undo data found in: ['block-tower-building-undo']\n"
     ]
    }
   ],
   "source": [
    "# undos\n",
    "query = coll.find({\"$and\":[\n",
    "                        {'datatype': UNDO},\n",
    "                        {'iterationName': { '$in': iteration_names }},\n",
    "                        ]})\n",
    "df_undo = pd.DataFrame(query)\n",
    "print(len(df_undo))\n",
    "if len(df_undo) > 0:\n",
    "    print('undo data found in:', list(df_undo.trial_type.unique()))"
   ]
  },
  {
   "cell_type": "code",
   "execution_count": 844,
   "id": "af77ed61",
   "metadata": {},
   "outputs": [
    {
     "name": "stdout",
     "output_type": "stream",
     "text": [
      "0\n"
     ]
    }
   ],
   "source": [
    "# redos\n",
    "query = coll.find({\"$and\":[\n",
    "                        {'datatype': REDO},\n",
    "                        {'iterationName': { '$in': iteration_names }},\n",
    "                        ]})\n",
    "df_redo = pd.DataFrame(query)\n",
    "print(len(df_redo))\n",
    "if len(df_redo) > 0:\n",
    "    print('redo data found in:', list(df_redo.trial_type.unique()))"
   ]
  },
  {
   "cell_type": "code",
   "execution_count": 845,
   "id": "d29baf07",
   "metadata": {},
   "outputs": [],
   "source": [
    "df_undo_redo = pd.concat([df_undo, df_redo], ignore_index=True)\n",
    "df_construction_procedure = pd.concat([df_block, df_undo, df_redo, df_reset], ignore_index=True)\\\n",
    "                              .sort_values(['gameID','trial_num','relative_time'], ascending=True).reset_index()"
   ]
  },
  {
   "cell_type": "code",
   "execution_count": 846,
   "id": "56addc4a",
   "metadata": {},
   "outputs": [
    {
     "data": {
      "text/plain": [
       "array(['block-tower-building-undo', 'block-tower-viewing'], dtype=object)"
      ]
     },
     "execution_count": 846,
     "metadata": {},
     "output_type": "execute_result"
    }
   ],
   "source": [
    "df_encode.trial_type.unique()"
   ]
  },
  {
   "cell_type": "code",
   "execution_count": 847,
   "id": "ab7178a9",
   "metadata": {},
   "outputs": [
    {
     "data": {
      "text/plain": [
       "array(['block-tower-old-new-img'], dtype=object)"
      ]
     },
     "execution_count": 847,
     "metadata": {},
     "output_type": "execute_result"
    }
   ],
   "source": [
    "df_decode.trial_type.unique()"
   ]
  },
  {
   "cell_type": "code",
   "execution_count": 848,
   "id": "7c24ffde",
   "metadata": {},
   "outputs": [
    {
     "data": {
      "text/plain": [
       "array(['block-tower-building-undo'], dtype=object)"
      ]
     },
     "execution_count": 848,
     "metadata": {},
     "output_type": "execute_result"
    }
   ],
   "source": [
    "df_block.trial_type.unique()"
   ]
  },
  {
   "cell_type": "code",
   "execution_count": 849,
   "id": "dcc628bc",
   "metadata": {},
   "outputs": [
    {
     "data": {
      "text/plain": [
       "array(['block-tower-building-undo'], dtype=object)"
      ]
     },
     "execution_count": 849,
     "metadata": {},
     "output_type": "execute_result"
    }
   ],
   "source": [
    "df_reset.trial_type.unique()"
   ]
  },
  {
   "cell_type": "code",
   "execution_count": 850,
   "id": "21677e6b",
   "metadata": {},
   "outputs": [
    {
     "data": {
      "text/plain": [
       "array(['reset', 'block_placement', 'block_undo_placement'], dtype=object)"
      ]
     },
     "execution_count": 850,
     "metadata": {},
     "output_type": "execute_result"
    }
   ],
   "source": [
    "df_construction_procedure.datatype.unique()"
   ]
  },
  {
   "cell_type": "code",
   "execution_count": 851,
   "id": "8aca8927",
   "metadata": {},
   "outputs": [
    {
     "data": {
      "text/plain": [
       "array(['block-tower-building-undo'], dtype=object)"
      ]
     },
     "execution_count": 851,
     "metadata": {},
     "output_type": "execute_result"
    }
   ],
   "source": [
    "df_construction_procedure.trial_type.unique()"
   ]
  },
  {
   "cell_type": "code",
   "execution_count": 852,
   "id": "111c5fa4",
   "metadata": {},
   "outputs": [
    {
     "data": {
      "text/html": [
       "<div>\n",
       "<style scoped>\n",
       "    .dataframe tbody tr th:only-of-type {\n",
       "        vertical-align: middle;\n",
       "    }\n",
       "\n",
       "    .dataframe tbody tr th {\n",
       "        vertical-align: top;\n",
       "    }\n",
       "\n",
       "    .dataframe thead th {\n",
       "        text-align: right;\n",
       "    }\n",
       "</style>\n",
       "<table border=\"1\" class=\"dataframe\">\n",
       "  <thead>\n",
       "    <tr style=\"text-align: right;\">\n",
       "      <th></th>\n",
       "      <th>gameID</th>\n",
       "      <th>trial_num</th>\n",
       "      <th>relative_time</th>\n",
       "      <th>datatype</th>\n",
       "      <th>trial_type</th>\n",
       "    </tr>\n",
       "  </thead>\n",
       "  <tbody>\n",
       "    <tr>\n",
       "      <th>0</th>\n",
       "      <td>2225-44e783ae-b85d-4333-b0f5-b41e38786391</td>\n",
       "      <td>1</td>\n",
       "      <td>48</td>\n",
       "      <td>reset</td>\n",
       "      <td>block-tower-building-undo</td>\n",
       "    </tr>\n",
       "    <tr>\n",
       "      <th>1</th>\n",
       "      <td>2225-44e783ae-b85d-4333-b0f5-b41e38786391</td>\n",
       "      <td>1</td>\n",
       "      <td>31333</td>\n",
       "      <td>reset</td>\n",
       "      <td>block-tower-building-undo</td>\n",
       "    </tr>\n",
       "    <tr>\n",
       "      <th>2</th>\n",
       "      <td>2225-44e783ae-b85d-4333-b0f5-b41e38786391</td>\n",
       "      <td>1</td>\n",
       "      <td>41834</td>\n",
       "      <td>block_placement</td>\n",
       "      <td>block-tower-building-undo</td>\n",
       "    </tr>\n",
       "    <tr>\n",
       "      <th>3</th>\n",
       "      <td>2225-44e783ae-b85d-4333-b0f5-b41e38786391</td>\n",
       "      <td>1</td>\n",
       "      <td>55269</td>\n",
       "      <td>block_placement</td>\n",
       "      <td>block-tower-building-undo</td>\n",
       "    </tr>\n",
       "    <tr>\n",
       "      <th>4</th>\n",
       "      <td>2225-44e783ae-b85d-4333-b0f5-b41e38786391</td>\n",
       "      <td>1</td>\n",
       "      <td>65402</td>\n",
       "      <td>block_placement</td>\n",
       "      <td>block-tower-building-undo</td>\n",
       "    </tr>\n",
       "    <tr>\n",
       "      <th>...</th>\n",
       "      <td>...</td>\n",
       "      <td>...</td>\n",
       "      <td>...</td>\n",
       "      <td>...</td>\n",
       "      <td>...</td>\n",
       "    </tr>\n",
       "    <tr>\n",
       "      <th>357</th>\n",
       "      <td>9458-19ad828d-8101-4a85-bb7d-682c2d3be804</td>\n",
       "      <td>11</td>\n",
       "      <td>11729</td>\n",
       "      <td>block_placement</td>\n",
       "      <td>block-tower-building-undo</td>\n",
       "    </tr>\n",
       "    <tr>\n",
       "      <th>358</th>\n",
       "      <td>9458-19ad828d-8101-4a85-bb7d-682c2d3be804</td>\n",
       "      <td>11</td>\n",
       "      <td>14366</td>\n",
       "      <td>block_placement</td>\n",
       "      <td>block-tower-building-undo</td>\n",
       "    </tr>\n",
       "    <tr>\n",
       "      <th>359</th>\n",
       "      <td>9458-19ad828d-8101-4a85-bb7d-682c2d3be804</td>\n",
       "      <td>11</td>\n",
       "      <td>16640</td>\n",
       "      <td>block_placement</td>\n",
       "      <td>block-tower-building-undo</td>\n",
       "    </tr>\n",
       "    <tr>\n",
       "      <th>360</th>\n",
       "      <td>9458-19ad828d-8101-4a85-bb7d-682c2d3be804</td>\n",
       "      <td>11</td>\n",
       "      <td>23673</td>\n",
       "      <td>block_placement</td>\n",
       "      <td>block-tower-building-undo</td>\n",
       "    </tr>\n",
       "    <tr>\n",
       "      <th>361</th>\n",
       "      <td>9458-19ad828d-8101-4a85-bb7d-682c2d3be804</td>\n",
       "      <td>11</td>\n",
       "      <td>25499</td>\n",
       "      <td>block_placement</td>\n",
       "      <td>block-tower-building-undo</td>\n",
       "    </tr>\n",
       "  </tbody>\n",
       "</table>\n",
       "<p>362 rows × 5 columns</p>\n",
       "</div>"
      ],
      "text/plain": [
       "                                        gameID  trial_num  relative_time   \n",
       "0    2225-44e783ae-b85d-4333-b0f5-b41e38786391          1             48  \\\n",
       "1    2225-44e783ae-b85d-4333-b0f5-b41e38786391          1          31333   \n",
       "2    2225-44e783ae-b85d-4333-b0f5-b41e38786391          1          41834   \n",
       "3    2225-44e783ae-b85d-4333-b0f5-b41e38786391          1          55269   \n",
       "4    2225-44e783ae-b85d-4333-b0f5-b41e38786391          1          65402   \n",
       "..                                         ...        ...            ...   \n",
       "357  9458-19ad828d-8101-4a85-bb7d-682c2d3be804         11          11729   \n",
       "358  9458-19ad828d-8101-4a85-bb7d-682c2d3be804         11          14366   \n",
       "359  9458-19ad828d-8101-4a85-bb7d-682c2d3be804         11          16640   \n",
       "360  9458-19ad828d-8101-4a85-bb7d-682c2d3be804         11          23673   \n",
       "361  9458-19ad828d-8101-4a85-bb7d-682c2d3be804         11          25499   \n",
       "\n",
       "            datatype                 trial_type  \n",
       "0              reset  block-tower-building-undo  \n",
       "1              reset  block-tower-building-undo  \n",
       "2    block_placement  block-tower-building-undo  \n",
       "3    block_placement  block-tower-building-undo  \n",
       "4    block_placement  block-tower-building-undo  \n",
       "..               ...                        ...  \n",
       "357  block_placement  block-tower-building-undo  \n",
       "358  block_placement  block-tower-building-undo  \n",
       "359  block_placement  block-tower-building-undo  \n",
       "360  block_placement  block-tower-building-undo  \n",
       "361  block_placement  block-tower-building-undo  \n",
       "\n",
       "[362 rows x 5 columns]"
      ]
     },
     "execution_count": 852,
     "metadata": {},
     "output_type": "execute_result"
    }
   ],
   "source": [
    "df_construction_procedure[['gameID','trial_num','relative_time','datatype','trial_type']]"
   ]
  },
  {
   "cell_type": "markdown",
   "id": "fc6d789a",
   "metadata": {},
   "source": [
    "## export data"
   ]
  },
  {
   "cell_type": "code",
   "execution_count": 853,
   "id": "0e66ef14",
   "metadata": {},
   "outputs": [],
   "source": [
    "df_encode.to_csv(experiment_results_dir + '/cogsci24/df_encode_{}.csv'.format(iteration_name))\n",
    "df_decode.to_csv(experiment_results_dir + '/cogsci24/df_decode_{}.csv'.format(iteration_name))\n",
    "df_block.to_csv(experiment_results_dir + '/cogsci24/df_block_{}.csv'.format(iteration_name))\n",
    "df_reset.to_csv(experiment_results_dir + '/cogsci24/df_reset_{}.csv'.format(iteration_name))\n",
    "df_construction_procedure.to_csv(experiment_results_dir + '/cogsci24/df_construction_procedure_{}.csv'.format(iteration_name))\n",
    "if len(df_recalled_towers) > 0:\n",
    "    df_recalled_towers.to_csv(experiment_results_dir + '/cogsci24/df_recalled_towers_{}.csv'.format(iteration_name))"
   ]
  },
  {
   "cell_type": "code",
   "execution_count": 854,
   "id": "1e5d6e18",
   "metadata": {},
   "outputs": [],
   "source": [
    "! open ~/zipping/results/build_components/cogsci24/"
   ]
  },
  {
   "cell_type": "markdown",
   "id": "6be8ccd0",
   "metadata": {},
   "source": [
    "### Exclusion criteria (implement in analysis scripts)"
   ]
  },
  {
   "cell_type": "code",
   "execution_count": 855,
   "id": "5020c1bc",
   "metadata": {},
   "outputs": [],
   "source": [
    "# df_all_trial = pd.concat([df_learn, df_recalled_towers], ignore_index=True)"
   ]
  },
  {
   "cell_type": "code",
   "execution_count": 856,
   "id": "2d90d2bc",
   "metadata": {},
   "outputs": [],
   "source": [
    "# # remove experimenter data\n",
    "# remove_tests = False\n",
    "\n",
    "# if remove_tests:\n",
    "#     df_build = df_build[~df_build.workerID.isna()]\n",
    "#     df_survey = df_survey[~df_survey.workerID.isna()]\n",
    "#     df_learn = df_learn[~df_learn.workerID.isna()]\n",
    "#     df_recall = df_recall[~df_recall.workerID.isna()]"
   ]
  },
  {
   "cell_type": "code",
   "execution_count": 857,
   "id": "9cc5c2f5",
   "metadata": {},
   "outputs": [],
   "source": [
    "# df_learn.groupby(['workerID','gameID']).apply(len)"
   ]
  },
  {
   "cell_type": "code",
   "execution_count": 858,
   "id": "6fbb9560",
   "metadata": {},
   "outputs": [],
   "source": [
    "# # remove incomplete datasets (build recall)\n",
    "# remove_incomplete_datasets = True\n",
    "# n_expected_learn_trials = 18\n",
    "\n",
    "# if remove_incomplete_datasets:\n",
    "#     a = df_learn.groupby('gameID').apply(len) == n_expected_learn_trials\n",
    "#     complete_zipping_set_gameIDs = list(a[a].index)\n",
    "#     df_trials = df_all_trial[df_all_trial.gameID.isin(complete_zipping_set_gameIDs)]\n",
    "#     df_learn = df_learn[df_learn.gameID.isin(complete_zipping_set_gameIDs)]\n",
    "#     df_recalled_towers = df_recalled_towers[df_recalled_towers.gameID.isin(complete_zipping_set_gameIDs)]\n",
    "    \n",
    "#     incomplete_zipping_set_gameIDs = list(a[~a].index)\n",
    "#     print(str(len(incomplete_zipping_set_gameIDs)) + ' ppts removed for incomplete data')\n",
    "#     print(str(len(complete_zipping_set_gameIDs)) + ' ppts left')\n",
    "# else: \n",
    "#     print('No ppts removed')"
   ]
  },
  {
   "cell_type": "code",
   "execution_count": null,
   "id": "903119c5",
   "metadata": {},
   "outputs": [],
   "source": []
  }
 ],
 "metadata": {
  "kernelspec": {
   "display_name": "Python 3 (ipykernel)",
   "language": "python",
   "name": "python3"
  },
  "language_info": {
   "codemirror_mode": {
    "name": "ipython",
    "version": 3
   },
   "file_extension": ".py",
   "mimetype": "text/x-python",
   "name": "python",
   "nbconvert_exporter": "python",
   "pygments_lexer": "ipython3",
   "version": "3.9.16"
  }
 },
 "nbformat": 4,
 "nbformat_minor": 5
}

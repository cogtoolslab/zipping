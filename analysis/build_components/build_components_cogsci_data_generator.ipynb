{
 "cells": [
  {
   "cell_type": "code",
   "execution_count": 865,
   "id": "48a76ce9",
   "metadata": {},
   "outputs": [],
   "source": [
    "import os\n",
    "import sys\n",
    "import urllib, io\n",
    "import pickle\n",
    "\n",
    "import numpy as np\n",
    "import scipy.stats as stats\n",
    "import pandas as pd\n",
    "from sklearn.metrics import euclidean_distances, jaccard_score, pairwise_distances\n",
    "\n",
    "import pymongo as pm\n",
    "from collections import Counter\n",
    "import json\n",
    "import re\n",
    "import ast\n",
    "\n",
    "from PIL import Image, ImageOps, ImageDraw, ImageFont \n",
    "from IPython.core.display import HTML \n",
    "\n",
    "from io import BytesIO\n",
    "import base64\n",
    "import requests\n",
    "\n",
    "import  matplotlib\n",
    "from matplotlib import pylab, mlab, pyplot\n",
    "%matplotlib inline\n",
    "from IPython.core.pylabtools import figsize, getfigs\n",
    "plt = pyplot\n",
    "import matplotlib as mpl\n",
    "mpl.rcParams['pdf.fonttype'] = 42\n",
    "\n",
    "import seaborn as sns\n",
    "sns.set_context('talk')\n",
    "sns.set_style('darkgrid')\n",
    "\n",
    "from IPython.display import clear_output\n",
    "\n",
    "import warnings\n",
    "warnings.filterwarnings(\"ignore\", category=DeprecationWarning)\n",
    "warnings.filterwarnings(\"ignore\", message=\"numpy.dtype size changed\")\n",
    "warnings.filterwarnings(\"ignore\", message=\"numpy.ufunc size changed\")\n",
    "\n",
    "sys.path.append(\"../../stimuli/block_utils/\")\n",
    "import blockworld_utils as utils"
   ]
  },
  {
   "cell_type": "code",
   "execution_count": 866,
   "id": "42cbae1a",
   "metadata": {},
   "outputs": [],
   "source": [
    "experiment_name = 'build_components'\n",
    "\n",
    "## directory & file hierarchy\n",
    "proj_dir = os.path.abspath('../..')\n",
    "datavol_dir = os.path.join(proj_dir,'data')\n",
    "analysis_dir = os.path.abspath(os.path.join(os.getcwd(),'..'))\n",
    "results_dir = os.path.join(proj_dir,'results')\n",
    "\n",
    "# paths specific to this experiment\n",
    "experiment_results_dir = os.path.join(results_dir, experiment_name)\n",
    "plot_dir = os.path.join(experiment_results_dir,'plots')\n",
    "csv_dir = os.path.join(experiment_results_dir,'csv')\n",
    "json_dir = os.path.join(experiment_results_dir,'json')\n",
    "\n",
    "png_dir = os.path.abspath(os.path.join(datavol_dir,'png'))\n",
    "jefan_dir = os.path.join(analysis_dir,'jefan')\n",
    "will_dir = os.path.join(analysis_dir,'will')\n",
    "\n",
    "## add helpers to python path\n",
    "if os.path.join(proj_dir,'stimuli') not in sys.path:\n",
    "    sys.path.append(os.path.join(proj_dir,'stimuli'))\n",
    "    \n",
    "if not os.path.exists(results_dir):\n",
    "    os.makedirs(results_dir)\n",
    "    \n",
    "if not os.path.exists(plot_dir):\n",
    "    os.makedirs(plot_dir)   \n",
    "    \n",
    "if not os.path.exists(csv_dir):\n",
    "    os.makedirs(csv_dir)       "
   ]
  },
  {
   "cell_type": "code",
   "execution_count": 867,
   "id": "82df79fd",
   "metadata": {},
   "outputs": [],
   "source": [
    "# set vars \n",
    "auth = pd.read_csv(os.path.join(proj_dir, 'auth.txt'), header = None) # this auth.txt file contains the password for the sketchloop user\n",
    "pswd = auth.values[0][0]\n",
    "user = 'sketchloop'\n",
    "host = 'cogtoolslab.org' ## cocolab ip address\n",
    "\n",
    "# have to fix this to be able to analyze from local\n",
    "import pymongo as pm\n",
    "conn = pm.MongoClient('mongodb://sketchloop:' + pswd + '@127.0.0.1')\n",
    "db = conn['block_construction']\n",
    "coll = db['build_components']"
   ]
  },
  {
   "cell_type": "code",
   "execution_count": 1120,
   "id": "1a00b2d0",
   "metadata": {},
   "outputs": [],
   "source": [
    "# plugin names ({'datatype': 'trial_end'} & {'trial_type': xxxxxxxx})\n",
    "\n",
    "# encode\n",
    "BUILD_COPY = 'block-tower-building-undo'\n",
    "TOWER_VIEWING = 'block-tower-viewing'\n",
    "MATCH = 'block-tower-match-to-sample'\n",
    "BUILD_WM = 'block-tower-building-undo-nostim'\n",
    "\n",
    "ENCODE_TASKS = [BUILD_COPY, TOWER_VIEWING, MATCH, BUILD_WM]\n",
    "\n",
    "# decode \n",
    "OLD_NEW = 'block-tower-old-new-img'\n",
    "BUILD_RECALL = 'block-tower-building-recall-choose-color'\n",
    "\n",
    "DECODE_TASKS = [OLD_NEW, BUILD_RECALL]\n",
    "\n",
    "# additional data types ({'datatype': xxxxxx})\n",
    "BLOCK = 'block_placement' # check that this is saved from all building plugins (BUILD_COPY, BUILD_WM, BUILD_RECALL)\n",
    "RESET = 'reset' # check that this is saved from all building plugins (BUILD_COPY, BUILD_WM, BUILD_RECALL)\n",
    "UNDO = 'block_undo_placement' # check that this is saved from all building plugins (BUILD_COPY, BUILD_WM, BUILD_RECALL)\n",
    "REDO = 'block_redo_placement' # check that this is saved from all building plugins (BUILD_COPY, BUILD_WM, BUILD_RECALL)"
   ]
  },
  {
   "cell_type": "code",
   "execution_count": 1121,
   "id": "d85d06bf",
   "metadata": {},
   "outputs": [],
   "source": [
    "# iteration names\n",
    "\n",
    "# iteration_name = 'build_components_cogsci_ve_old_new_data_run_through_2'\n",
    "# iteration_name = 'build_components_cogsci_ve_recall_data_run_through'\n",
    "# iteration_name = 'build_components_cogsci_wm_old_new_data_run_through'\n",
    "# iteration_name = 'build_components_cogsci_wm_recall_data_run_through'\n",
    "\n",
    "\n",
    "# iteration_name = \"build_components_cogsci_ve_old_new_prolific_pilot_0\"\n",
    "iteration_name = \"build_components_cogsci_ve_recall_prolific_pilot_0\"\n",
    "# iteration_name = \"build_components_cogsci_wm_old_new_prolific_pilot_0\"\n",
    "# iteration_name = \"build_components_cogsci_wm_recall_prolific_pilot_0\"\n",
    "\n",
    "\n",
    "iteration_names = [iteration_name]"
   ]
  },
  {
   "cell_type": "markdown",
   "id": "7dcfa509",
   "metadata": {},
   "source": [
    "# dataframe plan\n",
    "\n",
    "df_encode: encode phase from all iterations\n",
    "\n",
    "df_encode_ve: all visual exposure trials\n",
    "df_encode_wm: all working memory trials\n",
    "\n",
    "df_recall: recall only \n",
    "df_recog: old-new only\n",
    "\n",
    "\n",
    "We rarely compare between VE and WM.\n",
    "It's more important for us to compare conditions within recog and within recall\n"
   ]
  },
  {
   "cell_type": "code",
   "execution_count": 1122,
   "id": "fcbe340e",
   "metadata": {},
   "outputs": [],
   "source": [
    "# all data\n",
    "query = coll.find({\"$and\":[\n",
    "                        {'iterationName': { '$in': iteration_names }},\n",
    "                        ]})\n",
    "df_all = pd.DataFrame(query)\n",
    "print(len(df_all))"
   ]
  },
  {
   "cell_type": "code",
   "execution_count": 1123,
   "id": "7264509c",
   "metadata": {},
   "outputs": [],
   "source": [
    "df_all.columns"
   ]
  },
  {
   "cell_type": "code",
   "execution_count": 1124,
   "id": "392c1092",
   "metadata": {},
   "outputs": [],
   "source": [
    "df_all.trial_type.unique()"
   ]
  },
  {
   "cell_type": "code",
   "execution_count": 1125,
   "id": "1878694f",
   "metadata": {},
   "outputs": [],
   "source": [
    "# I don't think metadata is saved anywhere.\n",
    "query = coll.find({\"$and\":[\n",
    "                        {'datatype':'metadata'},\n",
    "                        {'iterationName': { '$in': iteration_names }},\n",
    "                        ]})\n",
    "df_meta = pd.DataFrame(query)\n",
    "print(len(df_meta))"
   ]
  },
  {
   "cell_type": "code",
   "execution_count": 1126,
   "id": "4db87550",
   "metadata": {},
   "outputs": [],
   "source": [
    "# exit survey responses\n",
    "query = coll.find({\"$and\":[\n",
    "                        {'iterationName': { '$in': iteration_names }},\n",
    "                        {'trial_type': {'$in': ['survey-text']}}\n",
    "                        ]})\n",
    "df_survey = pd.DataFrame(query)\n",
    "print(len(df_survey))\n",
    "_ = [print(response) for response in df_survey.response]"
   ]
  },
  {
   "cell_type": "markdown",
   "id": "e7dc0b00",
   "metadata": {},
   "source": [
    "# trial end data"
   ]
  },
  {
   "cell_type": "code",
   "execution_count": 1127,
   "id": "dcf6390f",
   "metadata": {},
   "outputs": [],
   "source": [
    "df_trial"
   ]
  },
  {
   "cell_type": "code",
   "execution_count": 1128,
   "id": "abce0440",
   "metadata": {},
   "outputs": [],
   "source": [
    "# trial-end\n",
    "query = coll.find({\"$and\":[\n",
    "                        {'iterationName': { '$in': iteration_names }},\n",
    "                        {'datatype':'trial_end'},\n",
    "                        {'trial_type': {'$nin': ['instructions','preload','external-html','survey-text']}}\n",
    "                        ]})\n",
    "df_trial = pd.DataFrame(query)\n",
    "print(len(df_trial))"
   ]
  },
  {
   "cell_type": "code",
   "execution_count": 1129,
   "id": "09c5b5c1",
   "metadata": {},
   "outputs": [],
   "source": [
    "df_trial.relative_time"
   ]
  },
  {
   "cell_type": "markdown",
   "id": "bcd8dfbb",
   "metadata": {},
   "source": [
    "## encode phase"
   ]
  },
  {
   "cell_type": "code",
   "execution_count": 1130,
   "id": "f6380862",
   "metadata": {},
   "outputs": [],
   "source": [
    "# learning/ exposure trials\n",
    "\n",
    "query = coll.find({\"$and\":[\n",
    "                        {'iterationName': { '$in': iteration_names }},\n",
    "                        {'datatype': 'trial_end'},\n",
    "                        {'trial_type':{ '$in': ENCODE_TASKS }},\n",
    "                        ]})\n",
    "df_encode = pd.DataFrame(query)\n",
    "print(len(df_encode))\n",
    "if len(df_encode) > 0:\n",
    "    print('encode trials found:', list(df_encode.trial_type.unique()))"
   ]
  },
  {
   "cell_type": "code",
   "execution_count": 1131,
   "id": "a16995b8",
   "metadata": {},
   "outputs": [],
   "source": [
    "# in the WM versions, 'block-tower-viewing' trials appear in both conditions as the 'STUDY' part of both tasks"
   ]
  },
  {
   "cell_type": "markdown",
   "id": "73e4464e",
   "metadata": {},
   "source": [
    "## decode phase"
   ]
  },
  {
   "cell_type": "code",
   "execution_count": 1132,
   "id": "adc16567",
   "metadata": {},
   "outputs": [],
   "source": [
    "# old-new judgements\n",
    "query = coll.find({\"$and\":[\n",
    "                        {'iterationName': { '$in': iteration_names }},\n",
    "                        {'datatype': 'trial_end'},\n",
    "                        {'trial_type':{ '$in': DECODE_TASKS }},\n",
    "                        ]})\n",
    "df_decode = pd.DataFrame(query)\n",
    "print(len(df_decode))\n",
    "if len(df_decode) > 0:\n",
    "    print('decode trials found:', list(df_decode.trial_type.unique()))"
   ]
  },
  {
   "cell_type": "code",
   "execution_count": 1133,
   "id": "224c1a83",
   "metadata": {},
   "outputs": [],
   "source": [
    "# recalled towers are saved one per trial, in up to 6 trials\n",
    "query = coll.find({\"$and\":[\n",
    "                        {'iterationName': { '$in': iteration_names }},\n",
    "                        {'datatype': 'trial_end'},\n",
    "                        {'trial_type': BUILD_RECALL},\n",
    "                        ]})\n",
    "df_recalled_towers = pd.DataFrame(query)\n",
    "print(len(df_recalled_towers))"
   ]
  },
  {
   "cell_type": "markdown",
   "id": "f3d823fe",
   "metadata": {},
   "source": [
    "## additional data"
   ]
  },
  {
   "cell_type": "code",
   "execution_count": 1134,
   "id": "2b6b8ce6",
   "metadata": {},
   "outputs": [],
   "source": [
    "# block placements\n",
    "query = coll.find({\"$and\":[\n",
    "                        {'datatype': BLOCK},\n",
    "                        {'iterationName': { '$in': iteration_names }},\n",
    "                        ]})\n",
    "df_block = pd.DataFrame(query)\n",
    "print(len(df_block))\n",
    "print('individual block data found in:', list(df_block.trial_type.unique()))"
   ]
  },
  {
   "cell_type": "code",
   "execution_count": 1135,
   "id": "b3c16d79",
   "metadata": {},
   "outputs": [],
   "source": [
    "# resets\n",
    "query = coll.find({\"$and\":[\n",
    "                        {'datatype': RESET},\n",
    "                        {'iterationName': { '$in': iteration_names }},\n",
    "                        ]})\n",
    "df_reset = pd.DataFrame(query)\n",
    "print(len(df_reset))\n",
    "if len(df_reset) > 0:\n",
    "    print('reset data found in:', list(df_reset.trial_type.unique()))"
   ]
  },
  {
   "cell_type": "code",
   "execution_count": 1136,
   "id": "df9e2fb4",
   "metadata": {},
   "outputs": [],
   "source": [
    "# undos\n",
    "query = coll.find({\"$and\":[\n",
    "                        {'datatype': UNDO},\n",
    "                        {'iterationName': { '$in': iteration_names }},\n",
    "                        ]})\n",
    "df_undo = pd.DataFrame(query)\n",
    "print(len(df_undo))\n",
    "if len(df_undo) > 0:\n",
    "    print('undo data found in:', list(df_undo.trial_type.unique()))"
   ]
  },
  {
   "cell_type": "code",
   "execution_count": 1137,
   "id": "ae7bc825",
   "metadata": {},
   "outputs": [],
   "source": [
    "# redos\n",
    "query = coll.find({\"$and\":[\n",
    "                        {'datatype': REDO},\n",
    "                        {'iterationName': { '$in': iteration_names }},\n",
    "                        ]})\n",
    "df_redo = pd.DataFrame(query)\n",
    "print(len(df_redo))\n",
    "if len(df_redo) > 0:\n",
    "    print('redo data found in:', list(df_redo.trial_type.unique()))"
   ]
  },
  {
   "cell_type": "code",
   "execution_count": 1138,
   "id": "19b77ce7",
   "metadata": {},
   "outputs": [],
   "source": [
    "df_undo_redo = pd.concat([df_undo, df_redo], ignore_index=True)\n",
    "df_construction_procedure = pd.concat([df_block, df_undo, df_redo, df_reset], ignore_index=True)\\\n",
    "                              .sort_values(['gameID','trial_num','relative_time'], ascending=True).reset_index()"
   ]
  },
  {
   "cell_type": "code",
   "execution_count": 1139,
   "id": "5fe9b0b9",
   "metadata": {},
   "outputs": [],
   "source": [
    "df_encode.trial_type.unique()"
   ]
  },
  {
   "cell_type": "code",
   "execution_count": 1140,
   "id": "5b7c941f",
   "metadata": {},
   "outputs": [],
   "source": [
    "df_decode.trial_type.unique()"
   ]
  },
  {
   "cell_type": "code",
   "execution_count": 1141,
   "id": "8af0c635",
   "metadata": {},
   "outputs": [],
   "source": [
    "df_block.trial_type.unique()"
   ]
  },
  {
   "cell_type": "code",
   "execution_count": 1142,
   "id": "398ce952",
   "metadata": {},
   "outputs": [],
   "source": [
    "df_reset.trial_type.unique()"
   ]
  },
  {
   "cell_type": "code",
   "execution_count": 1143,
   "id": "0b495116",
   "metadata": {},
   "outputs": [],
   "source": [
    "df_construction_procedure.datatype.unique()"
   ]
  },
  {
   "cell_type": "code",
   "execution_count": 1144,
   "id": "98950f0e",
   "metadata": {},
   "outputs": [],
   "source": [
    "df_construction_procedure.trial_type.unique()"
   ]
  },
  {
   "cell_type": "code",
   "execution_count": 1145,
   "id": "b9b030d1",
   "metadata": {},
   "outputs": [],
   "source": [
    "df_construction_procedure[['gameID','trial_num','relative_time','datatype','trial_type']]"
   ]
  },
  {
   "cell_type": "markdown",
   "id": "275200b9",
   "metadata": {},
   "source": [
    "## export data"
   ]
  },
  {
   "cell_type": "code",
   "execution_count": 1146,
   "id": "2a6c9e7b",
   "metadata": {},
   "outputs": [],
   "source": [
    "df_encode.to_csv(experiment_results_dir + '/cogsci24/df_encode_{}.csv'.format(iteration_name))\n",
    "df_decode.to_csv(experiment_results_dir + '/cogsci24/df_decode_{}.csv'.format(iteration_name))\n",
    "df_block.to_csv(experiment_results_dir + '/cogsci24/df_block_{}.csv'.format(iteration_name))\n",
    "df_reset.to_csv(experiment_results_dir + '/cogsci24/df_reset_{}.csv'.format(iteration_name))\n",
    "df_construction_procedure.to_csv(experiment_results_dir + '/cogsci24/df_construction_procedure_{}.csv'.format(iteration_name))\n",
    "if len(df_recalled_towers) > 0:\n",
    "    df_recalled_towers.to_csv(experiment_results_dir + '/cogsci24/df_recalled_towers_{}.csv'.format(iteration_name))"
   ]
  },
  {
   "cell_type": "code",
   "execution_count": 1147,
   "id": "0adf4617",
   "metadata": {},
   "outputs": [],
   "source": [
    "! open ~/zipping/results/build_components/cogsci24/"
   ]
  },
  {
   "cell_type": "markdown",
   "id": "6be8ccd0",
   "metadata": {},
   "source": [
    "### Exclusion criteria (implement in analysis scripts)"
   ]
  },
  {
   "cell_type": "code",
   "execution_count": 1148,
   "id": "5020c1bc",
   "metadata": {},
   "outputs": [],
   "source": [
    "# df_all_trial = pd.concat([df_learn, df_recalled_towers], ignore_index=True)"
   ]
  },
  {
   "cell_type": "code",
   "execution_count": 1149,
   "id": "2d90d2bc",
   "metadata": {},
   "outputs": [],
   "source": [
    "# # remove experimenter data\n",
    "# remove_tests = False\n",
    "\n",
    "# if remove_tests:\n",
    "#     df_build = df_build[~df_build.workerID.isna()]\n",
    "#     df_survey = df_survey[~df_survey.workerID.isna()]\n",
    "#     df_learn = df_learn[~df_learn.workerID.isna()]\n",
    "#     df_recall = df_recall[~df_recall.workerID.isna()]"
   ]
  },
  {
   "cell_type": "code",
   "execution_count": 1150,
   "id": "9cc5c2f5",
   "metadata": {},
   "outputs": [],
   "source": [
    "# df_learn.groupby(['workerID','gameID']).apply(len)"
   ]
  },
  {
   "cell_type": "code",
   "execution_count": 1151,
   "id": "6fbb9560",
   "metadata": {},
   "outputs": [],
   "source": [
    "# # remove incomplete datasets (build recall)\n",
    "# remove_incomplete_datasets = True\n",
    "# n_expected_learn_trials = 18\n",
    "\n",
    "# if remove_incomplete_datasets:\n",
    "#     a = df_learn.groupby('gameID').apply(len) == n_expected_learn_trials\n",
    "#     complete_zipping_set_gameIDs = list(a[a].index)\n",
    "#     df_trials = df_all_trial[df_all_trial.gameID.isin(complete_zipping_set_gameIDs)]\n",
    "#     df_learn = df_learn[df_learn.gameID.isin(complete_zipping_set_gameIDs)]\n",
    "#     df_recalled_towers = df_recalled_towers[df_recalled_towers.gameID.isin(complete_zipping_set_gameIDs)]\n",
    "    \n",
    "#     incomplete_zipping_set_gameIDs = list(a[~a].index)\n",
    "#     print(str(len(incomplete_zipping_set_gameIDs)) + ' ppts removed for incomplete data')\n",
    "#     print(str(len(complete_zipping_set_gameIDs)) + ' ppts left')\n",
    "# else: \n",
    "#     print('No ppts removed')"
   ]
  },
  {
   "cell_type": "code",
   "execution_count": null,
   "id": "903119c5",
   "metadata": {},
   "outputs": [],
   "source": []
  }
 ],
 "metadata": {
  "kernelspec": {
   "display_name": "Python 3 (ipykernel)",
   "language": "python",
   "name": "python3"
  },
  "language_info": {
   "codemirror_mode": {
    "name": "ipython",
    "version": 3
   },
   "file_extension": ".py",
   "mimetype": "text/x-python",
   "name": "python",
   "nbconvert_exporter": "python",
   "pygments_lexer": "ipython3",
   "version": "3.9.16"
  }
 },
 "nbformat": 4,
 "nbformat_minor": 5
}

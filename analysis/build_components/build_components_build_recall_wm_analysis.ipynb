{
 "cells": [
  {
   "cell_type": "code",
   "execution_count": 1,
   "id": "dfc8b22f",
   "metadata": {},
   "outputs": [],
   "source": [
    "import os\n",
    "import sys\n",
    "import urllib, io\n",
    "import pickle\n",
    "\n",
    "import random\n",
    "import numpy as np\n",
    "import scipy.stats as stats\n",
    "import pandas as pd\n",
    "from sklearn.metrics import euclidean_distances, jaccard_score, pairwise_distances\n",
    "\n",
    "import pymongo as pm\n",
    "from collections import Counter\n",
    "import json\n",
    "import re\n",
    "import ast\n",
    "\n",
    "from PIL import Image, ImageOps, ImageDraw, ImageFont \n",
    "from IPython.core.display import HTML \n",
    "\n",
    "from io import BytesIO\n",
    "import base64\n",
    "import requests\n",
    "\n",
    "import  matplotlib\n",
    "from matplotlib import pylab, mlab, pyplot\n",
    "%matplotlib inline\n",
    "from IPython.core.pylabtools import figsize, getfigs\n",
    "plt = pyplot\n",
    "import matplotlib as mpl\n",
    "mpl.rcParams['pdf.fonttype'] = 42\n",
    "from matplotlib.colors import ListedColormap\n",
    "\n",
    "import seaborn as sns\n",
    "sns.set_context('talk')\n",
    "sns.set_style('darkgrid')\n",
    "\n",
    "from IPython.display import clear_output\n",
    "\n",
    "import warnings\n",
    "warnings.filterwarnings(\"ignore\", category=DeprecationWarning)\n",
    "warnings.filterwarnings(\"ignore\", message=\"numpy.dtype size changed\")\n",
    "warnings.filterwarnings(\"ignore\", message=\"numpy.ufunc size changed\")\n",
    "\n",
    "sys.path.append(\"../../stimuli/block_utils/\")\n",
    "import blockworld_utils as utils\n",
    "import domino_settings as dominoes\n",
    "import domino_settings_monochrome as mono_dominoes\n",
    "\n",
    "import importlib\n"
   ]
  },
  {
   "cell_type": "code",
   "execution_count": 2,
   "id": "204bcaf9",
   "metadata": {},
   "outputs": [],
   "source": [
    "experiment_name = 'build_recall'\n",
    "\n",
    "## directory & file hierarchy\n",
    "proj_dir = os.path.abspath('../..')\n",
    "datavol_dir = os.path.join(proj_dir,'data')\n",
    "analysis_dir = os.path.abspath(os.path.join(os.getcwd(),'..'))\n",
    "results_dir = os.path.join(proj_dir,'results')\n",
    "\n",
    "# paths specific to this experiment\n",
    "experiment_results_dir = os.path.join(results_dir, experiment_name)\n",
    "plot_dir = os.path.join(experiment_results_dir,'plots')\n",
    "csv_dir = os.path.join(experiment_results_dir,'csv')\n",
    "\n",
    "## add helpers to python path\n",
    "if os.path.join(proj_dir,'stimuli') not in sys.path:\n",
    "    sys.path.append(os.path.join(proj_dir,'stimuli'))\n",
    "    \n",
    "if not os.path.exists(results_dir):\n",
    "    os.makedirs(results_dir)\n",
    "    \n",
    "if not os.path.exists(plot_dir):\n",
    "    os.makedirs(plot_dir)   \n",
    "    \n",
    "if not os.path.exists(csv_dir):\n",
    "    os.makedirs(csv_dir)       "
   ]
  },
  {
   "cell_type": "code",
   "execution_count": 3,
   "id": "cbf39890",
   "metadata": {},
   "outputs": [],
   "source": [
    "# plot setup\n",
    "plt.rcParams[\"figure.figsize\"] = (6,4)"
   ]
  },
  {
   "cell_type": "code",
   "execution_count": 5,
   "id": "b676bf75",
   "metadata": {},
   "outputs": [],
   "source": [
    "\n",
    "# for these, use build_components_build_recall_analysis.ipynb\n",
    "# iteration_name = 'build_components_build_recall_prolific_pilot_12_towers'\n",
    "# iteration_name = 'build_components_build_recall_prolific_pilot_6_towers_2_rep'\n",
    "# iteration_name = 'build_components_build_recall_6_towers_3_rep_color_sona_pilot_0'\n",
    "\n",
    "iteration_name = 'build_components_build_recall_wm_prolific_pilot_0'"
   ]
  },
  {
   "cell_type": "markdown",
   "id": "6b54c9e1",
   "metadata": {},
   "source": [
    "### Load csvs from dataframe generator"
   ]
  },
  {
   "cell_type": "code",
   "execution_count": 6,
   "id": "cf44b9ab",
   "metadata": {},
   "outputs": [
    {
     "data": {
      "text/plain": [
       "'/Users/will/zipping/results/build_recall/df_learn_build_components_build_recall_wm_prolific_pilot_0.csv'"
      ]
     },
     "execution_count": 6,
     "metadata": {},
     "output_type": "execute_result"
    }
   ],
   "source": [
    "experiment_results_dir + '/df_learn_{}.csv'.format(iteration_name)"
   ]
  },
  {
   "cell_type": "code",
   "execution_count": 7,
   "id": "f4db9f6d",
   "metadata": {},
   "outputs": [],
   "source": [
    "df_learn = pd.read_csv(experiment_results_dir + '/df_learn_{}.csv'.format(iteration_name))\n",
    "# df_trial = pd.read_csv(experiment_results_dir + '/df_trial_{}.csv'.format(iteration_name))\n",
    "df_recall_trial = pd.read_csv(experiment_results_dir + '/df_recall_trial_{}.csv'.format(iteration_name))\n",
    "df_recalled_towers = pd.read_csv(experiment_results_dir + '/df_recalled_towers_{}.csv'.format(iteration_name))\n",
    "df_blocks = pd.read_csv(experiment_results_dir + '/df_blocks_{}.csv'.format(iteration_name))"
   ]
  },
  {
   "cell_type": "code",
   "execution_count": 8,
   "id": "9dd376f8",
   "metadata": {},
   "outputs": [],
   "source": [
    "df_recalled_towers = df_recalled_towers.sort_values(['gameID','trial_start_time'])"
   ]
  },
  {
   "cell_type": "code",
   "execution_count": 9,
   "id": "1aee7102",
   "metadata": {},
   "outputs": [],
   "source": [
    "df_recalled_towers_all = df_recalled_towers.copy()\n",
    "df_recalled_towers = df_recalled_towers[df_recalled_towers.endReason != 'give-up'].reset_index(drop=True)"
   ]
  },
  {
   "cell_type": "markdown",
   "id": "5c9e9cb1",
   "metadata": {},
   "source": [
    "## Add useful columns"
   ]
  },
  {
   "cell_type": "code",
   "execution_count": 10,
   "id": "4881f956",
   "metadata": {},
   "outputs": [],
   "source": [
    "### Utils\n",
    "\n",
    "def get_block_map(blocks):\n",
    "    return utils.worldify(ast.literal_eval(blocks)).block_map[2:,0:4]\n",
    "\n",
    "def mean_tower(group):\n",
    "    return np.mean(group['square_map'])"
   ]
  },
  {
   "cell_type": "markdown",
   "id": "c3320212",
   "metadata": {},
   "source": [
    "### stimulus info"
   ]
  },
  {
   "cell_type": "code",
   "execution_count": 11,
   "id": "a5750bd8",
   "metadata": {},
   "outputs": [],
   "source": [
    "# import stim dataframes\n",
    "df_towers = pd.read_csv('../../stimuli/block_utils/ambiguous/ambiguous_composite_towers.csv')"
   ]
  },
  {
   "cell_type": "code",
   "execution_count": 12,
   "id": "e3fc980d",
   "metadata": {},
   "outputs": [],
   "source": [
    "df_towers['tower_id'] = df_towers.tower_id_tall"
   ]
  },
  {
   "cell_type": "code",
   "execution_count": 13,
   "id": "e72f72bf",
   "metadata": {},
   "outputs": [
    {
     "ename": "ValueError",
     "evalue": "malformed node or string: nan",
     "output_type": "error",
     "traceback": [
      "\u001b[0;31m---------------------------------------------------------------------------\u001b[0m",
      "\u001b[0;31mValueError\u001b[0m                                Traceback (most recent call last)",
      "Cell \u001b[0;32mIn[13], line 2\u001b[0m\n\u001b[1;32m      1\u001b[0m df_learn \u001b[38;5;241m=\u001b[39m df_learn\u001b[38;5;241m.\u001b[39mmerge(df_towers[[\u001b[38;5;124m'\u001b[39m\u001b[38;5;124mtower_id\u001b[39m\u001b[38;5;124m'\u001b[39m,\u001b[38;5;124m'\u001b[39m\u001b[38;5;124mstim_wide\u001b[39m\u001b[38;5;124m'\u001b[39m]], how\u001b[38;5;241m=\u001b[39m\u001b[38;5;124m'\u001b[39m\u001b[38;5;124mleft\u001b[39m\u001b[38;5;124m'\u001b[39m, on \u001b[38;5;241m=\u001b[39m \u001b[38;5;124m'\u001b[39m\u001b[38;5;124mtower_id\u001b[39m\u001b[38;5;124m'\u001b[39m)\n\u001b[0;32m----> 2\u001b[0m df_learn[\u001b[38;5;124m'\u001b[39m\u001b[38;5;124msquare_map\u001b[39m\u001b[38;5;124m'\u001b[39m] \u001b[38;5;241m=\u001b[39m \u001b[43mdf_learn\u001b[49m\u001b[43m[\u001b[49m\u001b[38;5;124;43m'\u001b[39;49m\u001b[38;5;124;43mstim_wide\u001b[39;49m\u001b[38;5;124;43m'\u001b[39;49m\u001b[43m]\u001b[49m\u001b[38;5;241;43m.\u001b[39;49m\u001b[43mapply\u001b[49m\u001b[43m(\u001b[49m\u001b[38;5;28;43;01mlambda\u001b[39;49;00m\u001b[43m \u001b[49m\u001b[43mx\u001b[49m\u001b[43m:\u001b[49m\u001b[43m \u001b[49m\u001b[43mget_block_map\u001b[49m\u001b[43m(\u001b[49m\u001b[43mx\u001b[49m\u001b[43m)\u001b[49m\u001b[43m)\u001b[49m\n",
      "File \u001b[0;32m~/opt/miniconda3/lib/python3.9/site-packages/pandas/core/series.py:4631\u001b[0m, in \u001b[0;36mSeries.apply\u001b[0;34m(self, func, convert_dtype, args, **kwargs)\u001b[0m\n\u001b[1;32m   4521\u001b[0m \u001b[38;5;28;01mdef\u001b[39;00m \u001b[38;5;21mapply\u001b[39m(\n\u001b[1;32m   4522\u001b[0m     \u001b[38;5;28mself\u001b[39m,\n\u001b[1;32m   4523\u001b[0m     func: AggFuncType,\n\u001b[0;32m   (...)\u001b[0m\n\u001b[1;32m   4526\u001b[0m     \u001b[38;5;241m*\u001b[39m\u001b[38;5;241m*\u001b[39mkwargs,\n\u001b[1;32m   4527\u001b[0m ) \u001b[38;5;241m-\u001b[39m\u001b[38;5;241m>\u001b[39m DataFrame \u001b[38;5;241m|\u001b[39m Series:\n\u001b[1;32m   4528\u001b[0m \u001b[38;5;250m    \u001b[39m\u001b[38;5;124;03m\"\"\"\u001b[39;00m\n\u001b[1;32m   4529\u001b[0m \u001b[38;5;124;03m    Invoke function on values of Series.\u001b[39;00m\n\u001b[1;32m   4530\u001b[0m \n\u001b[0;32m   (...)\u001b[0m\n\u001b[1;32m   4629\u001b[0m \u001b[38;5;124;03m    dtype: float64\u001b[39;00m\n\u001b[1;32m   4630\u001b[0m \u001b[38;5;124;03m    \"\"\"\u001b[39;00m\n\u001b[0;32m-> 4631\u001b[0m     \u001b[38;5;28;01mreturn\u001b[39;00m \u001b[43mSeriesApply\u001b[49m\u001b[43m(\u001b[49m\u001b[38;5;28;43mself\u001b[39;49m\u001b[43m,\u001b[49m\u001b[43m \u001b[49m\u001b[43mfunc\u001b[49m\u001b[43m,\u001b[49m\u001b[43m \u001b[49m\u001b[43mconvert_dtype\u001b[49m\u001b[43m,\u001b[49m\u001b[43m \u001b[49m\u001b[43margs\u001b[49m\u001b[43m,\u001b[49m\u001b[43m \u001b[49m\u001b[43mkwargs\u001b[49m\u001b[43m)\u001b[49m\u001b[38;5;241;43m.\u001b[39;49m\u001b[43mapply\u001b[49m\u001b[43m(\u001b[49m\u001b[43m)\u001b[49m\n",
      "File \u001b[0;32m~/opt/miniconda3/lib/python3.9/site-packages/pandas/core/apply.py:1025\u001b[0m, in \u001b[0;36mSeriesApply.apply\u001b[0;34m(self)\u001b[0m\n\u001b[1;32m   1022\u001b[0m     \u001b[38;5;28;01mreturn\u001b[39;00m \u001b[38;5;28mself\u001b[39m\u001b[38;5;241m.\u001b[39mapply_str()\n\u001b[1;32m   1024\u001b[0m \u001b[38;5;66;03m# self.f is Callable\u001b[39;00m\n\u001b[0;32m-> 1025\u001b[0m \u001b[38;5;28;01mreturn\u001b[39;00m \u001b[38;5;28;43mself\u001b[39;49m\u001b[38;5;241;43m.\u001b[39;49m\u001b[43mapply_standard\u001b[49m\u001b[43m(\u001b[49m\u001b[43m)\u001b[49m\n",
      "File \u001b[0;32m~/opt/miniconda3/lib/python3.9/site-packages/pandas/core/apply.py:1076\u001b[0m, in \u001b[0;36mSeriesApply.apply_standard\u001b[0;34m(self)\u001b[0m\n\u001b[1;32m   1074\u001b[0m     \u001b[38;5;28;01melse\u001b[39;00m:\n\u001b[1;32m   1075\u001b[0m         values \u001b[38;5;241m=\u001b[39m obj\u001b[38;5;241m.\u001b[39mastype(\u001b[38;5;28mobject\u001b[39m)\u001b[38;5;241m.\u001b[39m_values\n\u001b[0;32m-> 1076\u001b[0m         mapped \u001b[38;5;241m=\u001b[39m \u001b[43mlib\u001b[49m\u001b[38;5;241;43m.\u001b[39;49m\u001b[43mmap_infer\u001b[49m\u001b[43m(\u001b[49m\n\u001b[1;32m   1077\u001b[0m \u001b[43m            \u001b[49m\u001b[43mvalues\u001b[49m\u001b[43m,\u001b[49m\n\u001b[1;32m   1078\u001b[0m \u001b[43m            \u001b[49m\u001b[43mf\u001b[49m\u001b[43m,\u001b[49m\n\u001b[1;32m   1079\u001b[0m \u001b[43m            \u001b[49m\u001b[43mconvert\u001b[49m\u001b[38;5;241;43m=\u001b[39;49m\u001b[38;5;28;43mself\u001b[39;49m\u001b[38;5;241;43m.\u001b[39;49m\u001b[43mconvert_dtype\u001b[49m\u001b[43m,\u001b[49m\n\u001b[1;32m   1080\u001b[0m \u001b[43m        \u001b[49m\u001b[43m)\u001b[49m\n\u001b[1;32m   1082\u001b[0m \u001b[38;5;28;01mif\u001b[39;00m \u001b[38;5;28mlen\u001b[39m(mapped) \u001b[38;5;129;01mand\u001b[39;00m \u001b[38;5;28misinstance\u001b[39m(mapped[\u001b[38;5;241m0\u001b[39m], ABCSeries):\n\u001b[1;32m   1083\u001b[0m     \u001b[38;5;66;03m# GH#43986 Need to do list(mapped) in order to get treated as nested\u001b[39;00m\n\u001b[1;32m   1084\u001b[0m     \u001b[38;5;66;03m#  See also GH#25959 regarding EA support\u001b[39;00m\n\u001b[1;32m   1085\u001b[0m     \u001b[38;5;28;01mreturn\u001b[39;00m obj\u001b[38;5;241m.\u001b[39m_constructor_expanddim(\u001b[38;5;28mlist\u001b[39m(mapped), index\u001b[38;5;241m=\u001b[39mobj\u001b[38;5;241m.\u001b[39mindex)\n",
      "File \u001b[0;32m~/opt/miniconda3/lib/python3.9/site-packages/pandas/_libs/lib.pyx:2834\u001b[0m, in \u001b[0;36mpandas._libs.lib.map_infer\u001b[0;34m()\u001b[0m\n",
      "Cell \u001b[0;32mIn[13], line 2\u001b[0m, in \u001b[0;36m<lambda>\u001b[0;34m(x)\u001b[0m\n\u001b[1;32m      1\u001b[0m df_learn \u001b[38;5;241m=\u001b[39m df_learn\u001b[38;5;241m.\u001b[39mmerge(df_towers[[\u001b[38;5;124m'\u001b[39m\u001b[38;5;124mtower_id\u001b[39m\u001b[38;5;124m'\u001b[39m,\u001b[38;5;124m'\u001b[39m\u001b[38;5;124mstim_wide\u001b[39m\u001b[38;5;124m'\u001b[39m]], how\u001b[38;5;241m=\u001b[39m\u001b[38;5;124m'\u001b[39m\u001b[38;5;124mleft\u001b[39m\u001b[38;5;124m'\u001b[39m, on \u001b[38;5;241m=\u001b[39m \u001b[38;5;124m'\u001b[39m\u001b[38;5;124mtower_id\u001b[39m\u001b[38;5;124m'\u001b[39m)\n\u001b[0;32m----> 2\u001b[0m df_learn[\u001b[38;5;124m'\u001b[39m\u001b[38;5;124msquare_map\u001b[39m\u001b[38;5;124m'\u001b[39m] \u001b[38;5;241m=\u001b[39m df_learn[\u001b[38;5;124m'\u001b[39m\u001b[38;5;124mstim_wide\u001b[39m\u001b[38;5;124m'\u001b[39m]\u001b[38;5;241m.\u001b[39mapply(\u001b[38;5;28;01mlambda\u001b[39;00m x: \u001b[43mget_block_map\u001b[49m\u001b[43m(\u001b[49m\u001b[43mx\u001b[49m\u001b[43m)\u001b[49m)\n",
      "Cell \u001b[0;32mIn[10], line 4\u001b[0m, in \u001b[0;36mget_block_map\u001b[0;34m(blocks)\u001b[0m\n\u001b[1;32m      3\u001b[0m \u001b[38;5;28;01mdef\u001b[39;00m \u001b[38;5;21mget_block_map\u001b[39m(blocks):\n\u001b[0;32m----> 4\u001b[0m     \u001b[38;5;28;01mreturn\u001b[39;00m utils\u001b[38;5;241m.\u001b[39mworldify(\u001b[43mast\u001b[49m\u001b[38;5;241;43m.\u001b[39;49m\u001b[43mliteral_eval\u001b[49m\u001b[43m(\u001b[49m\u001b[43mblocks\u001b[49m\u001b[43m)\u001b[49m)\u001b[38;5;241m.\u001b[39mblock_map[\u001b[38;5;241m2\u001b[39m:,\u001b[38;5;241m0\u001b[39m:\u001b[38;5;241m4\u001b[39m]\n",
      "File \u001b[0;32m~/opt/miniconda3/lib/python3.9/ast.py:105\u001b[0m, in \u001b[0;36mliteral_eval\u001b[0;34m(node_or_string)\u001b[0m\n\u001b[1;32m    103\u001b[0m                 \u001b[38;5;28;01mreturn\u001b[39;00m left \u001b[38;5;241m-\u001b[39m right\n\u001b[1;32m    104\u001b[0m     \u001b[38;5;28;01mreturn\u001b[39;00m _convert_signed_num(node)\n\u001b[0;32m--> 105\u001b[0m \u001b[38;5;28;01mreturn\u001b[39;00m \u001b[43m_convert\u001b[49m\u001b[43m(\u001b[49m\u001b[43mnode_or_string\u001b[49m\u001b[43m)\u001b[49m\n",
      "File \u001b[0;32m~/opt/miniconda3/lib/python3.9/ast.py:104\u001b[0m, in \u001b[0;36mliteral_eval.<locals>._convert\u001b[0;34m(node)\u001b[0m\n\u001b[1;32m    102\u001b[0m         \u001b[38;5;28;01melse\u001b[39;00m:\n\u001b[1;32m    103\u001b[0m             \u001b[38;5;28;01mreturn\u001b[39;00m left \u001b[38;5;241m-\u001b[39m right\n\u001b[0;32m--> 104\u001b[0m \u001b[38;5;28;01mreturn\u001b[39;00m \u001b[43m_convert_signed_num\u001b[49m\u001b[43m(\u001b[49m\u001b[43mnode\u001b[49m\u001b[43m)\u001b[49m\n",
      "File \u001b[0;32m~/opt/miniconda3/lib/python3.9/ast.py:78\u001b[0m, in \u001b[0;36mliteral_eval.<locals>._convert_signed_num\u001b[0;34m(node)\u001b[0m\n\u001b[1;32m     76\u001b[0m     \u001b[38;5;28;01melse\u001b[39;00m:\n\u001b[1;32m     77\u001b[0m         \u001b[38;5;28;01mreturn\u001b[39;00m \u001b[38;5;241m-\u001b[39m operand\n\u001b[0;32m---> 78\u001b[0m \u001b[38;5;28;01mreturn\u001b[39;00m \u001b[43m_convert_num\u001b[49m\u001b[43m(\u001b[49m\u001b[43mnode\u001b[49m\u001b[43m)\u001b[49m\n",
      "File \u001b[0;32m~/opt/miniconda3/lib/python3.9/ast.py:69\u001b[0m, in \u001b[0;36mliteral_eval.<locals>._convert_num\u001b[0;34m(node)\u001b[0m\n\u001b[1;32m     67\u001b[0m \u001b[38;5;28;01mdef\u001b[39;00m \u001b[38;5;21m_convert_num\u001b[39m(node):\n\u001b[1;32m     68\u001b[0m     \u001b[38;5;28;01mif\u001b[39;00m \u001b[38;5;129;01mnot\u001b[39;00m \u001b[38;5;28misinstance\u001b[39m(node, Constant) \u001b[38;5;129;01mor\u001b[39;00m \u001b[38;5;28mtype\u001b[39m(node\u001b[38;5;241m.\u001b[39mvalue) \u001b[38;5;129;01mnot\u001b[39;00m \u001b[38;5;129;01min\u001b[39;00m (\u001b[38;5;28mint\u001b[39m, \u001b[38;5;28mfloat\u001b[39m, \u001b[38;5;28mcomplex\u001b[39m):\n\u001b[0;32m---> 69\u001b[0m         \u001b[43m_raise_malformed_node\u001b[49m\u001b[43m(\u001b[49m\u001b[43mnode\u001b[49m\u001b[43m)\u001b[49m\n\u001b[1;32m     70\u001b[0m     \u001b[38;5;28;01mreturn\u001b[39;00m node\u001b[38;5;241m.\u001b[39mvalue\n",
      "File \u001b[0;32m~/opt/miniconda3/lib/python3.9/ast.py:66\u001b[0m, in \u001b[0;36mliteral_eval.<locals>._raise_malformed_node\u001b[0;34m(node)\u001b[0m\n\u001b[1;32m     65\u001b[0m \u001b[38;5;28;01mdef\u001b[39;00m \u001b[38;5;21m_raise_malformed_node\u001b[39m(node):\n\u001b[0;32m---> 66\u001b[0m     \u001b[38;5;28;01mraise\u001b[39;00m \u001b[38;5;167;01mValueError\u001b[39;00m(\u001b[38;5;124mf\u001b[39m\u001b[38;5;124m'\u001b[39m\u001b[38;5;124mmalformed node or string: \u001b[39m\u001b[38;5;132;01m{\u001b[39;00mnode\u001b[38;5;132;01m!r}\u001b[39;00m\u001b[38;5;124m'\u001b[39m)\n",
      "\u001b[0;31mValueError\u001b[0m: malformed node or string: nan"
     ]
    }
   ],
   "source": [
    "df_learn = df_learn.merge(df_towers[['tower_id','stim_wide']], how='left', on = 'tower_id')\n",
    "df_learn['square_map'] = df_learn['stim_wide'].apply(lambda x: get_block_map(x))"
   ]
  },
  {
   "cell_type": "code",
   "execution_count": null,
   "id": "b50fba3e",
   "metadata": {},
   "outputs": [],
   "source": [
    "df_learn.rep.value_counts()"
   ]
  },
  {
   "cell_type": "code",
   "execution_count": 14,
   "id": "3aae6331",
   "metadata": {},
   "outputs": [],
   "source": [
    "df_learn_rep_1 = df_learn[df_learn.rep==1]"
   ]
  },
  {
   "cell_type": "markdown",
   "id": "f72f0a06",
   "metadata": {},
   "source": [
    "### Timing data"
   ]
  },
  {
   "cell_type": "code",
   "execution_count": 15,
   "id": "6f813f6d",
   "metadata": {
    "scrolled": true
   },
   "outputs": [],
   "source": [
    "# df_build['trial_num'] = df_build.trial_index - 3\n",
    "# df_build['trial_num']\n",
    "\n",
    "# build_start = df_build[df_build.trial_num == 0][['gameID','trial_start_time']]\n",
    "# build_start = build_start.rename(columns = {'trial_start_time': 'build_start_time'})\n",
    "\n",
    "# build_finish = df_build[df_build.trial_num == 15][['gameID','timeAbsolute']]\n",
    "# build_finish = build_finish.rename(columns= {'timeAbsolute':'build_finish_time'})\n",
    "# build_timing = build_start.merge(build_finish, on='gameID')\n",
    "# build_timing['build_duration'] = build_timing['build_finish_time'] - build_timing['build_start_time']\n",
    "# build_timing['build_duration_min'] = build_timing['build_duration'] / (1000 * 60)\n",
    "# build_timing"
   ]
  },
  {
   "cell_type": "markdown",
   "id": "f2258ccc",
   "metadata": {},
   "source": [
    "#### export for stats"
   ]
  },
  {
   "cell_type": "code",
   "execution_count": null,
   "id": "92879627",
   "metadata": {},
   "outputs": [],
   "source": []
  },
  {
   "cell_type": "markdown",
   "id": "1e2bad55",
   "metadata": {},
   "source": [
    "# Analysis "
   ]
  },
  {
   "cell_type": "markdown",
   "id": "c7193dfb",
   "metadata": {},
   "source": [
    "### Analysis setup"
   ]
  },
  {
   "cell_type": "code",
   "execution_count": 15,
   "id": "349789aa",
   "metadata": {},
   "outputs": [],
   "source": [
    "# setup\n",
    "\n",
    "monochrome = True\n",
    "block_settings = mono_dominoes if monochrome else dominoes\n",
    "importlib.reload(block_settings)\n",
    "\n",
    "block_dims = block_settings.block_dims\n",
    "block_colors = block_settings.block_colors\n",
    "world_width = block_settings.world_width\n",
    "world_height = block_settings.world_height\n",
    "world_center = block_settings.world_center\n",
    "black = ['#000000','#000000'] # used to display silhouettes\n",
    "grey = ['#333333','#333333']"
   ]
  },
  {
   "cell_type": "markdown",
   "id": "86d4b394",
   "metadata": {},
   "source": [
    "### plot setup"
   ]
  },
  {
   "cell_type": "code",
   "execution_count": 16,
   "id": "55795457",
   "metadata": {},
   "outputs": [],
   "source": [
    "# sns.set_context('poster')\n",
    "# sns.set(font_scale=1.2)\n",
    "sns.set_style('whitegrid', {'font.family':'sans-serif', 'font.sans-serif':'Avenir'})\n",
    "import poster_plot_settings\n",
    "from poster_plot_settings import palette"
   ]
  },
  {
   "cell_type": "markdown",
   "id": "2b3258a8",
   "metadata": {},
   "source": [
    "## Building analyses"
   ]
  },
  {
   "cell_type": "markdown",
   "id": "39267ec5",
   "metadata": {},
   "source": [
    "### Tower rendering"
   ]
  },
  {
   "cell_type": "code",
   "execution_count": 17,
   "id": "2d1f0071",
   "metadata": {},
   "outputs": [
    {
     "data": {
      "text/plain": [
       "<module 'blockworld_utils' from '/Users/will/zipping/analysis/build_components/../../stimuli/block_utils/blockworld_utils.py'>"
      ]
     },
     "execution_count": 17,
     "metadata": {},
     "output_type": "execute_result"
    }
   ],
   "source": [
    "importlib.reload(utils)"
   ]
  },
  {
   "cell_type": "markdown",
   "id": "49f19ee9",
   "metadata": {},
   "source": [
    "#### Display target towers"
   ]
  },
  {
   "cell_type": "code",
   "execution_count": 18,
   "id": "8b49b48b",
   "metadata": {},
   "outputs": [],
   "source": [
    "def show_tower(url, ax):\n",
    "    response = requests.get(url)\n",
    "    img = Image.open(BytesIO(response.content))\n",
    "#     plt.figure(figsize=(2,1))\n",
    "    ax.imshow(img)\n",
    "    ax.axis('off')\n",
    "    \n",
    "def show_tower_subplot(tower_id,\n",
    "                      ax,\n",
    "              url_stem = \"https://zipping-composites-monochrome-png-rerender.s3.amazonaws.com/tower_4_block_unique_silhouettes_composites_monochrome_png_rerender_{}.png\"):\n",
    "    \n",
    "    response = requests.get(url_stem.format(tower_id))\n",
    "    img = Image.open(BytesIO(response.content))\n",
    "    ax.imshow(img)\n",
    "    ax.axis('off')\n",
    "    ax.set_title(tower_id)"
   ]
  },
  {
   "cell_type": "code",
   "execution_count": 19,
   "id": "67404a5b",
   "metadata": {},
   "outputs": [],
   "source": [
    "tower_ids = df_learn.tower_id.unique()"
   ]
  },
  {
   "cell_type": "code",
   "execution_count": 20,
   "id": "f357acaa",
   "metadata": {
    "scrolled": false
   },
   "outputs": [
    {
     "ename": "UnidentifiedImageError",
     "evalue": "cannot identify image file <_io.BytesIO object at 0x7fd640c2ed10>",
     "output_type": "error",
     "traceback": [
      "\u001b[0;31m---------------------------------------------------------------------------\u001b[0m",
      "\u001b[0;31mUnidentifiedImageError\u001b[0m                    Traceback (most recent call last)",
      "Cell \u001b[0;32mIn[20], line 5\u001b[0m\n\u001b[1;32m      2\u001b[0m fig, axs \u001b[38;5;241m=\u001b[39m plt\u001b[38;5;241m.\u001b[39msubplots(n_row, \u001b[38;5;28mint\u001b[39m(\u001b[38;5;28mlen\u001b[39m(tower_ids)\u001b[38;5;241m/\u001b[39mn_row), figsize\u001b[38;5;241m=\u001b[39m(\u001b[38;5;241m20\u001b[39m,\u001b[38;5;241m6\u001b[39m))\n\u001b[1;32m      4\u001b[0m \u001b[38;5;28;01mfor\u001b[39;00m i, tower \u001b[38;5;129;01min\u001b[39;00m \u001b[38;5;28menumerate\u001b[39m(tower_ids):\n\u001b[0;32m----> 5\u001b[0m     \u001b[43mshow_tower_subplot\u001b[49m\u001b[43m(\u001b[49m\u001b[43mtower\u001b[49m\u001b[43m,\u001b[49m\u001b[43m \u001b[49m\u001b[43maxs\u001b[49m\u001b[43m[\u001b[49m\u001b[38;5;28;43mint\u001b[39;49m\u001b[43m(\u001b[49m\u001b[43mnp\u001b[49m\u001b[38;5;241;43m.\u001b[39;49m\u001b[43mfloor\u001b[49m\u001b[43m(\u001b[49m\u001b[43mi\u001b[49m\u001b[38;5;241;43m/\u001b[39;49m\u001b[43m(\u001b[49m\u001b[38;5;28;43mlen\u001b[39;49m\u001b[43m(\u001b[49m\u001b[43mtower_ids\u001b[49m\u001b[43m)\u001b[49m\u001b[38;5;241;43m/\u001b[39;49m\u001b[43mn_row\u001b[49m\u001b[43m)\u001b[49m\u001b[43m)\u001b[49m\u001b[43m)\u001b[49m\u001b[43m,\u001b[49m\u001b[43m \u001b[49m\u001b[43mi\u001b[49m\u001b[38;5;241;43m%\u001b[39;49m\u001b[43m(\u001b[49m\u001b[38;5;28;43mint\u001b[39;49m\u001b[43m(\u001b[49m\u001b[38;5;28;43mlen\u001b[39;49m\u001b[43m(\u001b[49m\u001b[43mtower_ids\u001b[49m\u001b[43m)\u001b[49m\u001b[38;5;241;43m/\u001b[39;49m\u001b[43mn_row\u001b[49m\u001b[43m)\u001b[49m\u001b[43m)\u001b[49m\u001b[43m]\u001b[49m\u001b[43m)\u001b[49m\n",
      "Cell \u001b[0;32mIn[18], line 13\u001b[0m, in \u001b[0;36mshow_tower_subplot\u001b[0;34m(tower_id, ax, url_stem)\u001b[0m\n\u001b[1;32m      8\u001b[0m \u001b[38;5;28;01mdef\u001b[39;00m \u001b[38;5;21mshow_tower_subplot\u001b[39m(tower_id,\n\u001b[1;32m      9\u001b[0m                       ax,\n\u001b[1;32m     10\u001b[0m               url_stem \u001b[38;5;241m=\u001b[39m \u001b[38;5;124m\"\u001b[39m\u001b[38;5;124mhttps://zipping-composites-monochrome-png-rerender.s3.amazonaws.com/tower_4_block_unique_silhouettes_composites_monochrome_png_rerender_\u001b[39m\u001b[38;5;132;01m{}\u001b[39;00m\u001b[38;5;124m.png\u001b[39m\u001b[38;5;124m\"\u001b[39m):\n\u001b[1;32m     12\u001b[0m     response \u001b[38;5;241m=\u001b[39m requests\u001b[38;5;241m.\u001b[39mget(url_stem\u001b[38;5;241m.\u001b[39mformat(tower_id))\n\u001b[0;32m---> 13\u001b[0m     img \u001b[38;5;241m=\u001b[39m \u001b[43mImage\u001b[49m\u001b[38;5;241;43m.\u001b[39;49m\u001b[43mopen\u001b[49m\u001b[43m(\u001b[49m\u001b[43mBytesIO\u001b[49m\u001b[43m(\u001b[49m\u001b[43mresponse\u001b[49m\u001b[38;5;241;43m.\u001b[39;49m\u001b[43mcontent\u001b[49m\u001b[43m)\u001b[49m\u001b[43m)\u001b[49m\n\u001b[1;32m     14\u001b[0m     ax\u001b[38;5;241m.\u001b[39mimshow(img)\n\u001b[1;32m     15\u001b[0m     ax\u001b[38;5;241m.\u001b[39maxis(\u001b[38;5;124m'\u001b[39m\u001b[38;5;124moff\u001b[39m\u001b[38;5;124m'\u001b[39m)\n",
      "File \u001b[0;32m~/opt/miniconda3/lib/python3.9/site-packages/PIL/Image.py:3283\u001b[0m, in \u001b[0;36mopen\u001b[0;34m(fp, mode, formats)\u001b[0m\n\u001b[1;32m   3281\u001b[0m     warnings\u001b[38;5;241m.\u001b[39mwarn(message)\n\u001b[1;32m   3282\u001b[0m msg \u001b[38;5;241m=\u001b[39m \u001b[38;5;124m\"\u001b[39m\u001b[38;5;124mcannot identify image file \u001b[39m\u001b[38;5;132;01m%r\u001b[39;00m\u001b[38;5;124m\"\u001b[39m \u001b[38;5;241m%\u001b[39m (filename \u001b[38;5;28;01mif\u001b[39;00m filename \u001b[38;5;28;01melse\u001b[39;00m fp)\n\u001b[0;32m-> 3283\u001b[0m \u001b[38;5;28;01mraise\u001b[39;00m UnidentifiedImageError(msg)\n",
      "\u001b[0;31mUnidentifiedImageError\u001b[0m: cannot identify image file <_io.BytesIO object at 0x7fd640c2ed10>"
     ]
    },
    {
     "data": {
      "image/png": "[encoded data removed]",
      "text/plain": [
       "<Figure size 2000x600 with 12 Axes>"
      ]
     },
     "metadata": {},
     "output_type": "display_data"
    }
   ],
   "source": [
    "n_row = 3\n",
    "fig, axs = plt.subplots(n_row, int(len(tower_ids)/n_row), figsize=(20,6))\n",
    "\n",
    "for i, tower in enumerate(tower_ids):\n",
    "    show_tower_subplot(tower, axs[int(np.floor(i/(len(tower_ids)/n_row))), i%(int(len(tower_ids)/n_row))])"
   ]
  },
  {
   "cell_type": "code",
   "execution_count": null,
   "id": "17ca3d3a",
   "metadata": {
    "scrolled": true
   },
   "outputs": [],
   "source": [
    "# _ = [utils.render_zipping_stim_squares(\n",
    "#     utils.worldify(ast.literal_eval(tower)['blocks']).block_map,\n",
    "#     color=block_colors[0]) \\\n",
    "#     for tower in df_learn.stimulus.unique()]"
   ]
  },
  {
   "cell_type": "code",
   "execution_count": null,
   "id": "d3d97553",
   "metadata": {},
   "outputs": [],
   "source": [
    "df_recalled_towers['color'][0]"
   ]
  },
  {
   "cell_type": "markdown",
   "id": "3dc8e8d4",
   "metadata": {},
   "source": [
    "#### Display recalled towers"
   ]
  },
  {
   "cell_type": "code",
   "execution_count": 21,
   "id": "0520d94d",
   "metadata": {},
   "outputs": [],
   "source": [
    "# need to align tower to left\n",
    "df_recalled_towers['blocks'] = df_recalled_towers['blocks'].apply(ast.literal_eval)\n",
    "df_recalled_towers['color'] = df_recalled_towers['color'].apply(ast.literal_eval)\n",
    "df_recalled_towers['colorRGBA'] = df_recalled_towers['color'].apply(lambda xs: [x/255 for x in xs])"
   ]
  },
  {
   "cell_type": "code",
   "execution_count": 22,
   "id": "c29423fe",
   "metadata": {},
   "outputs": [],
   "source": [
    "blocks = df_recalled_towers['blocks'][0]"
   ]
  },
  {
   "cell_type": "code",
   "execution_count": 23,
   "id": "a1f92ce7",
   "metadata": {},
   "outputs": [],
   "source": [
    "def leftmost_x(blocks):\n",
    "    return min([block['x'] for block in blocks])\n",
    "\n",
    "def translate_tower_x(blocks, n):\n",
    "    new_blocks = [{'x': block['x'] + n, 'y': block['y'], 'width': block['width'], 'height': block['height']} for block in blocks]\n",
    "    return new_blocks\n",
    "    \n",
    "\n",
    "def align_tower_left(blocks):\n",
    "    min_x = leftmost_x(blocks)\n",
    "    new_blocks = translate_tower_x(blocks, -min_x)\n",
    "    assert leftmost_x(new_blocks) == 0\n",
    "    return new_blocks"
   ]
  },
  {
   "cell_type": "code",
   "execution_count": 24,
   "id": "a49f37cc",
   "metadata": {},
   "outputs": [],
   "source": [
    "df_recalled_towers['alignedTowerBlocks'] = df_recalled_towers['blocks'].apply(align_tower_left)"
   ]
  },
  {
   "cell_type": "code",
   "execution_count": 25,
   "id": "084192f8",
   "metadata": {},
   "outputs": [],
   "source": [
    "# df_recalled_towers['tower_details'] = df_recalled_towers.towerDetails.apply(ast.literal_eval)\n",
    "# df_recalled_towers['alignedTowerBlocks'] = df_recalled_towers.alignedTowerBlocks.apply(ast.literal_eval)\n",
    "df_learn['stimulus'] = df_learn.stimulus.apply(ast.literal_eval)"
   ]
  },
  {
   "cell_type": "code",
   "execution_count": 26,
   "id": "38dec45a",
   "metadata": {},
   "outputs": [],
   "source": [
    "def render_tower(tower_blocks):\n",
    "    world = utils.worldify(tower_blocks, \n",
    "                       world_width = 10,\n",
    "                       world_height = 12)\n",
    "    block_map = world.block_map\n",
    "    fig = utils.render_tower_squares(block_map,\n",
    "                               scaling_factor = 20,\n",
    "                               line_width=1,\n",
    "                               color=block_colors[0])\n",
    "    return fig\n",
    "    \n",
    "def show_recalled_towers(df, color = False):\n",
    "    \n",
    "    recall_worlds = df['alignedTowerBlocks'].apply(lambda x: utils.worldify(x, \n",
    "                                                                       world_width = 10,\n",
    "                                                                       world_height = 12))\n",
    "    n_towers = len(recall_worlds)\n",
    "#     print(df.iloc[0]['gameID'])\n",
    "    \n",
    "    figsize = (12,1.4)\n",
    "    \n",
    "    fig, axs = plt.subplots(1, 6, figsize = figsize)\n",
    "    \n",
    "    for ax in axs.flatten():\n",
    "        ax.axis('off')\n",
    "    \n",
    "    for i, world in enumerate(recall_worlds):\n",
    "#         utils.tower_subplot(utils.patches_for_world(world.blocks), axs[i])\n",
    "        ax=axs[i]\n",
    "        block_map = world.block_map\n",
    "        \n",
    "        tower_color = block_colors[0]\n",
    "        \n",
    "        if color:\n",
    "            tower_color = tuple(df.iloc[i]['colorRGBA'])\n",
    "        \n",
    "        utils.render_tower_squares(block_map,\n",
    "                                   scaling_factor = 20,\n",
    "                                   line_width=1,\n",
    "                                   fig=fig,\n",
    "                                   ax=ax,\n",
    "                                   color=tower_color)\n",
    "        \n",
    "        \n",
    "condition_colors = {\n",
    "    'build': '#ffd818',\n",
    "    'view': '#c7c6f6'\n",
    "}\n",
    "        \n",
    "def show_target_towers(df, color = False):\n",
    "    \n",
    "#     df.sort_values('condition')\n",
    "    \n",
    "    target_worlds = df['stimulus'].apply(lambda x: utils.worldify(x['blocks'], \n",
    "                                                                       world_width = 10,\n",
    "                                                                       world_height = 12)).iloc[:5]\n",
    "    \n",
    "#     print(df.iloc[0]['gameID'])\n",
    "    \n",
    "    n_towers = len(target_worlds)\n",
    "    \n",
    "    figsize = (12,1.4)\n",
    "    \n",
    "    fig, axs = plt.subplots(1, 6, figsize = figsize)\n",
    "    \n",
    "    for ax in axs.flatten():\n",
    "        ax.axis('off')\n",
    "        \n",
    "    for i, world in enumerate(target_worlds):\n",
    "#         utils.tower_subplot(utils.patches_for_world(world.blocks), axs[i])\n",
    "        ax=axs[i]\n",
    "        block_map = world.block_map\n",
    "        condition = df.iloc[i]['condition']\n",
    "        utils.render_tower_squares(block_map,\n",
    "                                   scaling_factor = 20,\n",
    "                                   line_width=1,\n",
    "                                   fig=fig,\n",
    "                                   ax=ax,\n",
    "                                   color=condition_colors[condition])"
   ]
  },
  {
   "cell_type": "code",
   "execution_count": 27,
   "id": "b8dd04c6",
   "metadata": {},
   "outputs": [
    {
     "data": {
      "text/html": [
       "<div>\n",
       "<style scoped>\n",
       "    .dataframe tbody tr th:only-of-type {\n",
       "        vertical-align: middle;\n",
       "    }\n",
       "\n",
       "    .dataframe tbody tr th {\n",
       "        vertical-align: top;\n",
       "    }\n",
       "\n",
       "    .dataframe thead th {\n",
       "        text-align: right;\n",
       "    }\n",
       "</style>\n",
       "<table border=\"1\" class=\"dataframe\">\n",
       "  <thead>\n",
       "    <tr style=\"text-align: right;\">\n",
       "      <th></th>\n",
       "    </tr>\n",
       "  </thead>\n",
       "  <tbody>\n",
       "  </tbody>\n",
       "</table>\n",
       "</div>"
      ],
      "text/plain": [
       "Empty DataFrame\n",
       "Columns: []\n",
       "Index: []"
      ]
     },
     "execution_count": 27,
     "metadata": {},
     "output_type": "execute_result"
    },
    {
     "data": {
      "image/png": "[encoded data removed]",
      "text/plain": [
       "<Figure size 1200x140 with 6 Axes>"
      ]
     },
     "metadata": {},
     "output_type": "display_data"
    },
    {
     "data": {
      "image/png": "[encoded data removed]",
      "text/plain": [
       "<Figure size 1200x140 with 6 Axes>"
      ]
     },
     "metadata": {},
     "output_type": "display_data"
    },
    {
     "data": {
      "image/png": "[encoded data removed]",
      "text/plain": [
       "<Figure size 1200x140 with 6 Axes>"
      ]
     },
     "metadata": {},
     "output_type": "display_data"
    },
    {
     "data": {
      "image/png": "[encoded data removed]",
      "text/plain": [
       "<Figure size 1200x140 with 6 Axes>"
      ]
     },
     "metadata": {},
     "output_type": "display_data"
    },
    {
     "data": {
      "image/png": "[encoded data removed]",
      "text/plain": [
       "<Figure size 1200x140 with 6 Axes>"
      ]
     },
     "metadata": {},
     "output_type": "display_data"
    },
    {
     "data": {
      "image/png": "[encoded data removed]",
      "text/plain": [
       "<Figure size 1200x140 with 6 Axes>"
      ]
     },
     "metadata": {},
     "output_type": "display_data"
    },
    {
     "data": {
      "image/png": "[encoded data removed]",
      "text/plain": [
       "<Figure size 1200x140 with 6 Axes>"
      ]
     },
     "metadata": {},
     "output_type": "display_data"
    },
    {
     "data": {
      "image/png": "[encoded data removed]",
      "text/plain": [
       "<Figure size 1200x140 with 6 Axes>"
      ]
     },
     "metadata": {},
     "output_type": "display_data"
    },
    {
     "data": {
      "image/png": "[encoded data removed]",
      "text/plain": [
       "<Figure size 1200x140 with 6 Axes>"
      ]
     },
     "metadata": {},
     "output_type": "display_data"
    },
    {
     "data": {
      "image/png": "[encoded data removed]",
      "text/plain": [
       "<Figure size 1200x140 with 6 Axes>"
      ]
     },
     "metadata": {},
     "output_type": "display_data"
    }
   ],
   "source": [
    "# display encode trials\n",
    "df_learn.sort_values(['gameID','trial_start_time']).groupby('gameID').apply(show_target_towers)"
   ]
  },
  {
   "cell_type": "code",
   "execution_count": 28,
   "id": "fe5e1d00",
   "metadata": {
    "scrolled": true
   },
   "outputs": [],
   "source": [
    "# render one\n",
    "# render_tower(df_recalled_towers['tower_details'][1]['blocks'])"
   ]
  },
  {
   "cell_type": "code",
   "execution_count": 29,
   "id": "4dc16367",
   "metadata": {
    "scrolled": true
   },
   "outputs": [],
   "source": [
    "# # render all\n",
    "# _ = [render_tower(tower['blocks']) for tower in df_recalled_towers['tower_details']]"
   ]
  },
  {
   "cell_type": "code",
   "execution_count": 31,
   "id": "c3eb1e16",
   "metadata": {},
   "outputs": [
    {
     "data": {
      "text/html": [
       "<div>\n",
       "<style scoped>\n",
       "    .dataframe tbody tr th:only-of-type {\n",
       "        vertical-align: middle;\n",
       "    }\n",
       "\n",
       "    .dataframe tbody tr th {\n",
       "        vertical-align: top;\n",
       "    }\n",
       "\n",
       "    .dataframe thead th {\n",
       "        text-align: right;\n",
       "    }\n",
       "</style>\n",
       "<table border=\"1\" class=\"dataframe\">\n",
       "  <thead>\n",
       "    <tr style=\"text-align: right;\">\n",
       "      <th></th>\n",
       "    </tr>\n",
       "  </thead>\n",
       "  <tbody>\n",
       "  </tbody>\n",
       "</table>\n",
       "</div>"
      ],
      "text/plain": [
       "Empty DataFrame\n",
       "Columns: []\n",
       "Index: []"
      ]
     },
     "execution_count": 31,
     "metadata": {},
     "output_type": "execute_result"
    },
    {
     "data": {
      "image/png": "[encoded data removed]",
      "text/plain": [
       "<Figure size 1200x140 with 6 Axes>"
      ]
     },
     "metadata": {},
     "output_type": "display_data"
    },
    {
     "data": {
      "image/png": "[encoded data removed]",
      "text/plain": [
       "<Figure size 1200x140 with 6 Axes>"
      ]
     },
     "metadata": {},
     "output_type": "display_data"
    },
    {
     "data": {
      "image/png": "[encoded data removed]",
      "text/plain": [
       "<Figure size 1200x140 with 6 Axes>"
      ]
     },
     "metadata": {},
     "output_type": "display_data"
    },
    {
     "data": {
      "image/png": "[encoded data removed]",
      "text/plain": [
       "<Figure size 1200x140 with 6 Axes>"
      ]
     },
     "metadata": {},
     "output_type": "display_data"
    },
    {
     "data": {
      "image/png": "[encoded data removed]",
      "text/plain": [
       "<Figure size 1200x140 with 6 Axes>"
      ]
     },
     "metadata": {},
     "output_type": "display_data"
    },
    {
     "data": {
      "image/png": "[encoded data removed]",
      "text/plain": [
       "<Figure size 1200x140 with 6 Axes>"
      ]
     },
     "metadata": {},
     "output_type": "display_data"
    },
    {
     "data": {
      "image/png": "[encoded data removed]",
      "text/plain": [
       "<Figure size 1200x140 with 6 Axes>"
      ]
     },
     "metadata": {},
     "output_type": "display_data"
    },
    {
     "data": {
      "image/png": "[encoded data removed]",
      "text/plain": [
       "<Figure size 1200x140 with 6 Axes>"
      ]
     },
     "metadata": {},
     "output_type": "display_data"
    },
    {
     "data": {
      "image/png": "[encoded data removed]",
      "text/plain": [
       "<Figure size 1200x140 with 6 Axes>"
      ]
     },
     "metadata": {},
     "output_type": "display_data"
    },
    {
     "data": {
      "image/png": "[encoded data removed]",
      "text/plain": [
       "<Figure size 1200x140 with 6 Axes>"
      ]
     },
     "metadata": {},
     "output_type": "display_data"
    }
   ],
   "source": [
    "# render everyone's recalled towers\n",
    "df_recalled_towers.groupby('gameID').apply(show_recalled_towers, color = True)"
   ]
  },
  {
   "cell_type": "code",
   "execution_count": 34,
   "id": "63dde787",
   "metadata": {},
   "outputs": [],
   "source": [
    "# df_recalled_towers_unique.groupby('gameID').apply(show_recalled_towers)"
   ]
  },
  {
   "cell_type": "markdown",
   "id": "877677e9",
   "metadata": {},
   "source": [
    "### Quantitatively measure accuracy of reconstructions\n",
    "\n",
    "- Find distance between all reconstructions and targets\n",
    "- Minimize total distance by finding best mapping (likely all reconstructions to some targets)\n",
    "    - this assumes that people make one attempt at each tower\n",
    "    - these scores will be low\n",
    "\n",
    "\n",
    "\n",
    "#### Notes:\n",
    "\n",
    "- We can use alignedTowerBlocks to get the reconstruction aligned to the left\n",
    "- We can use this to find equal towers\n",
    "- But we want to find the BEST alignment\n",
    "- We want to find the *minimum*"
   ]
  },
  {
   "cell_type": "code",
   "execution_count": 35,
   "id": "86ab6c30",
   "metadata": {},
   "outputs": [],
   "source": [
    "# def getPrecision(arr1,arr2):\n",
    "#     prod = np.multiply(arr1,arr2)\n",
    "#     false_pos = np.subtract(arr2,prod)\n",
    "#     numerator = np.sum(prod)\n",
    "#     denominator = np.add(numerator,np.sum(false_pos))\n",
    "#     recall = numerator/denominator\n",
    "#     return recall\n",
    "\n",
    "# def getRecall(arr1,arr2):\n",
    "#     prod = np.multiply(arr1,arr2)\n",
    "#     false_neg = np.subtract(arr1,prod)\n",
    "#     numerator = np.sum(prod)\n",
    "#     denominator = np.add(np.sum(prod),np.sum(false_neg))\n",
    "#     recall = numerator/denominator\n",
    "#     return recall\n",
    "\n",
    "# def getF1Score(targetName, discreteWorld):\n",
    "#     targetMap = targetMaps[targetName]\n",
    "#     arr1 = 1*np.logical_not(np.array(targetMap))\n",
    "#     arr2 = 1*np.logical_not(np.array(discreteWorld))\n",
    "#     recall = getRecall(arr1, arr2)\n",
    "#     precision = getPrecision(arr1, arr2)\n",
    "#     numerator = np.multiply(precision, recall)\n",
    "#     denominator = np.add(precision, recall)\n",
    "#     if (denominator>0):\n",
    "#         quotient = np.divide(numerator, denominator)\n",
    "#         f1Score = np.multiply(2, quotient)\n",
    "#     else:\n",
    "#         f1Score = 0\n",
    "#     return f1Score\n",
    "\n",
    "# def getF1ScoreLambda(row):\n",
    "#     return(getF1Score(row['targetName'], row['discreteWorld']))\n",
    "\n",
    "\n",
    "# def getJaccard(targetName, discreteWorld):\n",
    "#     targetMap = targetMaps[targetName]\n",
    "#     arr1 = 1*np.logical_not(np.array(targetMap))\n",
    "#     arr2 = 1*np.logical_not(np.array(discreteWorld))\n",
    "    \n",
    "#     prod = np.multiply(arr1,arr2)\n",
    "#     true_pos = np.sum(prod)\n",
    "#     false_pos = np.sum(np.subtract(arr2,prod))\n",
    "#     false_neg = np.sum(np.subtract(arr1,prod))\n",
    "\n",
    "#     denomenator = np.add(false_neg,np.add(false_pos,true_pos))\n",
    "#     jaccard = np.divide(true_pos,denomenator)\n",
    "#     return jaccard\n",
    "\n",
    "# def getJaccardLambda(row):\n",
    "#     return(getJaccard(row['targetName'], row['discreteWorld']))"
   ]
  },
  {
   "cell_type": "code",
   "execution_count": null,
   "id": "a688b5e1",
   "metadata": {},
   "outputs": [],
   "source": []
  },
  {
   "cell_type": "markdown",
   "id": "68cbc2c1",
   "metadata": {},
   "source": [
    "## preprocessing"
   ]
  },
  {
   "cell_type": "code",
   "execution_count": 32,
   "id": "7c9c423f",
   "metadata": {},
   "outputs": [],
   "source": [
    "from sklearn.metrics import f1_score"
   ]
  },
  {
   "cell_type": "code",
   "execution_count": 33,
   "id": "9a2d3902",
   "metadata": {},
   "outputs": [],
   "source": [
    "def f1(arr1, arr2):\n",
    "    assert arr1.shape == arr2.shape, \"The input arrays must have the same shape\"\n",
    "    return f1_score(arr1.ravel(), arr2.ravel())\n",
    "\n",
    "def distance(t1, t2, metric=f1_score):\n",
    "    '''\n",
    "    Returns distance between reconstruction and stim.\n",
    "    '''\n",
    "    return distance\n",
    "\n",
    "\n",
    "def all_distances(t1, t2, metric=f1_score):\n",
    "    '''\n",
    "    Returns all distance between reconstruction and stim.\n",
    "    '''\n",
    "    return distances\n",
    "\n",
    "\n",
    "def minimize_distances(t1, t2, metric=f1_score):\n",
    "    '''\n",
    "    Returns minimum distances between reconstruction and stim.\n",
    "    '''\n",
    "    return distance"
   ]
  },
  {
   "cell_type": "code",
   "execution_count": 34,
   "id": "a3711941",
   "metadata": {},
   "outputs": [],
   "source": [
    "def pad_array(arr, n_col, side=\"left\"):\n",
    "    # Number of rows in the array\n",
    "    n_rows = arr.shape[0]\n",
    "\n",
    "    # Create a column of 0s with the same number of rows\n",
    "    zeros_column = np.zeros((n_rows, n_col))\n",
    "\n",
    "    # Add the column of 0s to the right side of the array\n",
    "    if side ==\"left\":\n",
    "        new_arr = np.hstack((zeros_column, arr))\n",
    "    elif side ==\"right\":\n",
    "        new_arr = np.hstack((arr, zeros_column))\n",
    "    else:\n",
    "        raise(Exception)\n",
    "\n",
    "    return new_arr"
   ]
  },
  {
   "cell_type": "code",
   "execution_count": 35,
   "id": "8af1c049",
   "metadata": {},
   "outputs": [],
   "source": [
    "def translate_tower(arr, dx, dy, fill_value = 0):\n",
    "    \"\"\"\n",
    "    Translate a 2D NumPy array along the x and y axes.\n",
    "\n",
    "    Args:\n",
    "        arr (numpy.ndarray): 2D NumPy array.\n",
    "        dx (int): Number of positions to translate along the x-axis.\n",
    "        dy (int): Number of positions to translate along the y-axis.\n",
    "\n",
    "    Returns:\n",
    "        numpy.ndarray: Translated 2D NumPy array.\n",
    "    \"\"\"\n",
    "    rows, cols = arr.shape\n",
    "    translated_arr = np.full((rows, cols), fill_value)\n",
    "\n",
    "    x_start = max(0, dx)\n",
    "    x_end = cols + min(0, dx)\n",
    "    y_start = max(0, dy)\n",
    "    y_end = rows + min(0, dy)\n",
    "\n",
    "    src_x_start = max(0, -dx)\n",
    "    src_x_end = cols + min(0, -dx)\n",
    "    src_y_start = max(0, -dy)\n",
    "    src_y_end = rows + min(0, -dy)\n",
    "\n",
    "    translated_arr[y_start:y_end, x_start:x_end] = arr[src_y_start:src_y_end, src_x_start:src_x_end]\n",
    "\n",
    "    return translated_arr"
   ]
  },
  {
   "cell_type": "code",
   "execution_count": 36,
   "id": "6bf33385",
   "metadata": {},
   "outputs": [],
   "source": [
    "def best_f1_score(target_tower, recalled_tower, scoring_fn = f1, render = False):\n",
    "    '''\n",
    "    Holds target_tower still, and tiles recalled_tower to find the best alignment that maximizes measure.\n",
    "    Args:\n",
    "        target_tower and recalled_tower: two arrays of equal dimensions\n",
    "    \n",
    "    Returns:\n",
    "        maximum f1 score\n",
    "    '''\n",
    "    \n",
    "    assert(np.array_equal(target_tower.shape, recalled_tower.shape))\n",
    "    \n",
    "    max_score = 0\n",
    "    best_transformed = None\n",
    "    overlay_map = None\n",
    "    best_dx, best_dy = None, None\n",
    "    \n",
    "    dy = 0 # only allows dx translation right now\n",
    "    \n",
    "    for dx in range(0, target_tower.shape[0]):\n",
    "        transformed_arr = translate_tower(recalled_tower, dx, dy)\n",
    "        score = scoring_fn(target_tower, transformed_arr)\n",
    "        if score > max_score:\n",
    "                max_score = score\n",
    "                best_transformed = transformed_arr\n",
    "                overlay_map = transformed_arr + target_tower*3\n",
    "                best_dx, best_dy = dx, dy\n",
    "\n",
    "    if render:\n",
    "        fig = plt.figure()\n",
    "        plt.imshow(overlay_map, cmap='inferno')\n",
    "        fig.gca().axis('off')\n",
    "\n",
    "                \n",
    "    return max_score, best_transformed, (best_dx, best_dy)"
   ]
  },
  {
   "cell_type": "markdown",
   "id": "d03a660e",
   "metadata": {},
   "source": [
    "We want to calculate the best possible F1 score for each reconstruction.}\n",
    "\n",
    "Target tower and recalled tower are both two dimensional arrays, aligned to the left.\n",
    "\n",
    "First we center stimuli, then pad the array with zeros to allow for sliding over each other."
   ]
  },
  {
   "cell_type": "markdown",
   "id": "12e99eeb",
   "metadata": {},
   "source": [
    "### recalls"
   ]
  },
  {
   "cell_type": "code",
   "execution_count": 37,
   "id": "535e1104",
   "metadata": {},
   "outputs": [],
   "source": [
    "df_recalled_towers.loc[:,'nTower'] = df_recalled_towers.trial_index-21"
   ]
  },
  {
   "cell_type": "markdown",
   "id": "9d48cd23",
   "metadata": {},
   "source": [
    "#### align/ map towers"
   ]
  },
  {
   "cell_type": "code",
   "execution_count": 38,
   "id": "ab7d911f",
   "metadata": {},
   "outputs": [],
   "source": [
    "# find block map aligned to left\n",
    "df_recalled_towers['alignedRecallMap'] = \\\n",
    "    df_recalled_towers['alignedTowerBlocks'].apply(lambda x: utils.worldify(x, \n",
    "                                                                            world_width = 10,\n",
    "                                                                            world_height = 12).block_map)\n",
    "\n",
    "# make hashable\n",
    "df_recalled_towers['alignedRecallMapHashable'] = df_recalled_towers['alignedRecallMap'].apply\\\n",
    "                                                    (lambda block_map: tuple(tuple(row) for row in block_map))"
   ]
  },
  {
   "cell_type": "code",
   "execution_count": 39,
   "id": "67dcfbe2",
   "metadata": {},
   "outputs": [
    {
     "name": "stdout",
     "output_type": "stream",
     "text": [
      "widest recalled tower is of width 5\n",
      "world for calculating max f1 score must 9 wide\n"
     ]
    }
   ],
   "source": [
    "# find max width of recalled tower\n",
    "def tower_width(block_map):\n",
    "    index = np.argmax(np.where(block_map.sum(0) > 0))\n",
    "    width = index + 1 # a little hacky- but should be fine\n",
    "    return width\n",
    "\n",
    "max_recall_width = df_recalled_towers['alignedRecallMap'].apply(tower_width).max()\n",
    "stim_width = 4\n",
    "\n",
    "print('widest recalled tower is of width ' + str(max_recall_width))\n",
    "print('world for calculating max f1 score must {} wide'.format(str(max_recall_width + stim_width)))\n",
    "\n",
    "right_padding = max(0, max_recall_width-6)"
   ]
  },
  {
   "cell_type": "code",
   "execution_count": 40,
   "id": "360fe67c",
   "metadata": {
    "scrolled": true
   },
   "outputs": [
    {
     "name": "stdout",
     "output_type": "stream",
     "text": [
      "tallest recalled tower is of height 7\n",
      "world for calculating max f1 score must 13 high\n"
     ]
    }
   ],
   "source": [
    "def tower_height(block_map):\n",
    "    index = np.argmax(np.where(block_map.sum(1) > 0))\n",
    "    height = index + 1\n",
    "#     height = index + 1 # a little hacky- but should be fine\n",
    "    return height\n",
    "\n",
    "max_recall_height = df_recalled_towers['alignedRecallMap'].apply(tower_height).max()\n",
    "stim_height = 6\n",
    "\n",
    "print('tallest recalled tower is of height ' + str(max_recall_height))\n",
    "print('world for calculating max f1 score must {} high'.format(str(max_recall_height + stim_height)))"
   ]
  },
  {
   "cell_type": "code",
   "execution_count": 41,
   "id": "8676671b",
   "metadata": {},
   "outputs": [],
   "source": [
    "# remove duplicate towers\n",
    "\n",
    "remove_duplicates = False\n",
    "\n",
    "if remove_duplicates:\n",
    "    # consider towers the same if their corresponding block maps are identical\n",
    "    df_recalled_towers_unique = df_recalled_towers.sort_values(['nTower']).groupby(['gameID', 'alignedRecallMapHashable']).first().reset_index()\n",
    "\n",
    "    print(\"removed {} duplicate towers\".format(len(df_recalled_towers) - len(df_recalled_towers_unique)))"
   ]
  },
  {
   "cell_type": "code",
   "execution_count": 42,
   "id": "004e630c",
   "metadata": {},
   "outputs": [],
   "source": [
    "df_recalled_towers['paddedRecallMap'] = df_recalled_towers['alignedRecallMap'].apply\\\n",
    "                                                (lambda x: pad_array(x, max_recall_width + right_padding, side=\"right\"))\n",
    "\n",
    "# df_recalled_towers_unique['paddedBlockMaps'][0]"
   ]
  },
  {
   "cell_type": "markdown",
   "id": "2ad84215",
   "metadata": {},
   "source": [
    "### stimuli"
   ]
  },
  {
   "cell_type": "markdown",
   "id": "d54dbea7",
   "metadata": {},
   "source": [
    "#### center stimuli"
   ]
  },
  {
   "cell_type": "code",
   "execution_count": 43,
   "id": "e4ce6f19",
   "metadata": {},
   "outputs": [],
   "source": [
    "df_learn.loc[:,'alignedStimulusMap'] = df_learn['stimulus'].apply(lambda x: utils.worldify(x['blocks'], \n",
    "                                                   world_width = 10,\n",
    "                                                   world_height = 12).block_map)"
   ]
  },
  {
   "cell_type": "code",
   "execution_count": 44,
   "id": "d285a74c",
   "metadata": {},
   "outputs": [
    {
     "data": {
      "text/plain": [
       "array([[0, 0, 0, 0, 0, 0, 0, 0, 0, 0],\n",
       "       [0, 0, 0, 0, 0, 0, 0, 0, 0, 0],\n",
       "       [0, 0, 0, 0, 0, 0, 0, 0, 0, 0],\n",
       "       [0, 0, 0, 0, 0, 0, 0, 0, 0, 0],\n",
       "       [0, 0, 0, 0, 0, 0, 0, 0, 0, 0],\n",
       "       [0, 0, 0, 0, 0, 0, 0, 0, 0, 0],\n",
       "       [1, 0, 1, 0, 0, 0, 0, 0, 0, 0],\n",
       "       [1, 0, 1, 0, 0, 0, 0, 0, 0, 0],\n",
       "       [1, 1, 1, 1, 0, 0, 0, 0, 0, 0],\n",
       "       [1, 0, 0, 1, 0, 0, 0, 0, 0, 0],\n",
       "       [1, 0, 0, 1, 0, 0, 0, 0, 0, 0],\n",
       "       [1, 1, 1, 1, 0, 0, 0, 0, 0, 0]])"
      ]
     },
     "execution_count": 44,
     "metadata": {},
     "output_type": "execute_result"
    }
   ],
   "source": [
    "test_stim = df_learn['alignedStimulusMap'][0]\n",
    "test_stim"
   ]
  },
  {
   "cell_type": "code",
   "execution_count": 45,
   "id": "e811f27b",
   "metadata": {},
   "outputs": [],
   "source": [
    "df_learn.loc[:,'alignedStimulusMapHashable'] = df_learn['alignedStimulusMap'].apply\\\n",
    "                                                    (lambda block_map: tuple(tuple(row) for row in block_map))"
   ]
  },
  {
   "cell_type": "markdown",
   "id": "a13d3971",
   "metadata": {},
   "source": [
    "pad with zeros  \n",
    "(ONLY DOING THIS WITH HORIZONTAL NOW)- could do with vertical as well later"
   ]
  },
  {
   "cell_type": "code",
   "execution_count": 46,
   "id": "027b6dc5",
   "metadata": {},
   "outputs": [],
   "source": [
    "# add padding to left (max width of recall)\n",
    "df_learn.loc[:,'paddedStimulusMap'] = df_learn['alignedStimulusMap'].apply(lambda x: pad_array(x, max_recall_width))\n",
    "\n",
    "# add padding to right (gap )\n",
    "df_learn.loc[:,'paddedStimulusMap'] = df_learn['paddedStimulusMap'].apply(lambda x: pad_array(x, right_padding, side=\"right\"))"
   ]
  },
  {
   "cell_type": "code",
   "execution_count": 47,
   "id": "aa7f69b3",
   "metadata": {},
   "outputs": [
    {
     "data": {
      "text/plain": [
       "array([[0., 0., 0., 0., 0., 0., 0., 0., 0., 0., 0., 0., 0., 0., 0.],\n",
       "       [0., 0., 0., 0., 0., 0., 0., 0., 0., 0., 0., 0., 0., 0., 0.],\n",
       "       [0., 0., 0., 0., 0., 0., 0., 0., 0., 0., 0., 0., 0., 0., 0.],\n",
       "       [0., 0., 0., 0., 0., 0., 0., 0., 0., 0., 0., 0., 0., 0., 0.],\n",
       "       [0., 0., 0., 0., 0., 0., 0., 0., 0., 0., 0., 0., 0., 0., 0.],\n",
       "       [0., 0., 0., 0., 0., 0., 0., 0., 0., 0., 0., 0., 0., 0., 0.],\n",
       "       [0., 0., 0., 0., 0., 1., 0., 1., 0., 0., 0., 0., 0., 0., 0.],\n",
       "       [0., 0., 0., 0., 0., 1., 0., 1., 0., 0., 0., 0., 0., 0., 0.],\n",
       "       [0., 0., 0., 0., 0., 1., 1., 1., 1., 0., 0., 0., 0., 0., 0.],\n",
       "       [0., 0., 0., 0., 0., 1., 0., 0., 1., 0., 0., 0., 0., 0., 0.],\n",
       "       [0., 0., 0., 0., 0., 1., 0., 0., 1., 0., 0., 0., 0., 0., 0.],\n",
       "       [0., 0., 0., 0., 0., 1., 1., 1., 1., 0., 0., 0., 0., 0., 0.]])"
      ]
     },
     "execution_count": 47,
     "metadata": {},
     "output_type": "execute_result"
    }
   ],
   "source": [
    "test_target = df_learn['paddedStimulusMap'][0]\n",
    "test_target"
   ]
  },
  {
   "cell_type": "code",
   "execution_count": 48,
   "id": "5b51a056",
   "metadata": {
    "scrolled": true
   },
   "outputs": [
    {
     "data": {
      "text/plain": [
       "array([[0., 0., 0., 0., 0., 0., 0., 0., 0., 0., 0., 0., 0., 0., 0.],\n",
       "       [0., 0., 0., 0., 0., 0., 0., 0., 0., 0., 0., 0., 0., 0., 0.],\n",
       "       [0., 0., 0., 0., 0., 0., 0., 0., 0., 0., 0., 0., 0., 0., 0.],\n",
       "       [0., 0., 0., 0., 0., 0., 0., 0., 0., 0., 0., 0., 0., 0., 0.],\n",
       "       [0., 0., 0., 0., 0., 0., 0., 0., 0., 0., 0., 0., 0., 0., 0.],\n",
       "       [0., 0., 0., 0., 0., 0., 0., 0., 0., 0., 0., 0., 0., 0., 0.],\n",
       "       [0., 1., 1., 0., 0., 0., 0., 0., 0., 0., 0., 0., 0., 0., 0.],\n",
       "       [0., 1., 1., 0., 0., 0., 0., 0., 0., 0., 0., 0., 0., 0., 0.],\n",
       "       [1., 1., 1., 1., 0., 0., 0., 0., 0., 0., 0., 0., 0., 0., 0.],\n",
       "       [1., 1., 0., 1., 0., 0., 0., 0., 0., 0., 0., 0., 0., 0., 0.],\n",
       "       [0., 1., 0., 1., 0., 0., 0., 0., 0., 0., 0., 0., 0., 0., 0.],\n",
       "       [0., 1., 1., 1., 0., 0., 0., 0., 0., 0., 0., 0., 0., 0., 0.]])"
      ]
     },
     "execution_count": 48,
     "metadata": {},
     "output_type": "execute_result"
    }
   ],
   "source": [
    "test_recall = df_recalled_towers['paddedRecallMap'][0]\n",
    "test_recall"
   ]
  },
  {
   "cell_type": "code",
   "execution_count": 49,
   "id": "8b5857d0",
   "metadata": {},
   "outputs": [
    {
     "data": {
      "text/plain": [
       "(0.75,\n",
       " array([[0, 0, 0, 0, 0, 0, 0, 0, 0, 0, 0, 0, 0, 0, 0],\n",
       "        [0, 0, 0, 0, 0, 0, 0, 0, 0, 0, 0, 0, 0, 0, 0],\n",
       "        [0, 0, 0, 0, 0, 0, 0, 0, 0, 0, 0, 0, 0, 0, 0],\n",
       "        [0, 0, 0, 0, 0, 0, 0, 0, 0, 0, 0, 0, 0, 0, 0],\n",
       "        [0, 0, 0, 0, 0, 0, 0, 0, 0, 0, 0, 0, 0, 0, 0],\n",
       "        [0, 0, 0, 0, 0, 0, 0, 0, 0, 0, 0, 0, 0, 0, 0],\n",
       "        [0, 0, 0, 0, 0, 0, 1, 1, 0, 0, 0, 0, 0, 0, 0],\n",
       "        [0, 0, 0, 0, 0, 0, 1, 1, 0, 0, 0, 0, 0, 0, 0],\n",
       "        [0, 0, 0, 0, 0, 1, 1, 1, 1, 0, 0, 0, 0, 0, 0],\n",
       "        [0, 0, 0, 0, 0, 1, 1, 0, 1, 0, 0, 0, 0, 0, 0],\n",
       "        [0, 0, 0, 0, 0, 0, 1, 0, 1, 0, 0, 0, 0, 0, 0],\n",
       "        [0, 0, 0, 0, 0, 0, 1, 1, 1, 0, 0, 0, 0, 0, 0]]),\n",
       " (5, 0))"
      ]
     },
     "execution_count": 49,
     "metadata": {},
     "output_type": "execute_result"
    },
    {
     "data": {
      "image/png": "[encoded data removed]",
      "text/plain": [
       "<Figure size 400x600 with 1 Axes>"
      ]
     },
     "metadata": {},
     "output_type": "display_data"
    }
   ],
   "source": [
    "best_f1_score(test_target, test_recall, render=True)"
   ]
  },
  {
   "cell_type": "markdown",
   "id": "42b54541",
   "metadata": {},
   "source": [
    "## Find reconstructions by color\n",
    "\n",
    "For previous versions of this experiment, we had to infer which tower people were trying to build. Here we can go by color"
   ]
  },
  {
   "cell_type": "code",
   "execution_count": 50,
   "id": "1953cdd5",
   "metadata": {},
   "outputs": [],
   "source": [
    "df_recalled_towers.loc[:,'color_str'] = df_recalled_towers.color.apply(str)\n",
    "df_learn.loc[:,'color_str'] = df_learn.towerColor.apply(str)"
   ]
  },
  {
   "cell_type": "code",
   "execution_count": 62,
   "id": "5b46b6fb",
   "metadata": {},
   "outputs": [],
   "source": [
    "df_learn.loc[:,'stimulus_str'] = df_learn.stimulus.apply(str)"
   ]
  },
  {
   "cell_type": "code",
   "execution_count": 63,
   "id": "05e45ff0",
   "metadata": {},
   "outputs": [],
   "source": [
    "df_learn_last_trial = df_learn.groupby(['gameID','stimulus_str']).last().reset_index()\n",
    "\n",
    "df_color_matched = df_learn_last_trial.merge(df_recalled_towers, \n",
    "                                                   how='left', \n",
    "                                                   on = ['gameID','color_str'], \n",
    "                                                   suffixes=['_learn','_recalled'])"
   ]
  },
  {
   "cell_type": "code",
   "execution_count": 64,
   "id": "00e043ab",
   "metadata": {},
   "outputs": [],
   "source": [
    "#df_color_matched.rename(columns= {'alignedBlockMaps':'target_block_map'})"
   ]
  },
  {
   "cell_type": "code",
   "execution_count": 65,
   "id": "c612aa5c",
   "metadata": {},
   "outputs": [],
   "source": [
    "df_color_matched.loc[:,'f1_score'] = 0\n",
    "\n",
    "df_color_matched.loc[~df_color_matched.paddedRecallMap.isna(), 'f1_score'] = \\\n",
    "    df_color_matched.loc[~df_color_matched.paddedRecallMap.isna()].apply(\\\n",
    "            lambda row: best_f1_score(row['paddedStimulusMap'], row['paddedRecallMap'])[0], \n",
    "            axis=1)"
   ]
  },
  {
   "cell_type": "code",
   "execution_count": 66,
   "id": "a80b30f4",
   "metadata": {},
   "outputs": [
    {
     "data": {
      "text/plain": [
       "Text(0.5, 1.0, 'average f1 score (counting no-submits as 0)')"
      ]
     },
     "execution_count": 66,
     "metadata": {},
     "output_type": "execute_result"
    },
    {
     "data": {
      "image/png": "[encoded data removed]",
      "text/plain": [
       "<Figure size 400x600 with 1 Axes>"
      ]
     },
     "metadata": {},
     "output_type": "display_data"
    }
   ],
   "source": [
    "sns.barplot(df_color_matched,\n",
    "            x = 'condition',\n",
    "            hue='condition',\n",
    "            y = 'f1_score')\n",
    "\n",
    "plt.title('average f1 score (counting no-submits as 0)')"
   ]
  },
  {
   "cell_type": "code",
   "execution_count": 68,
   "id": "90ebee73",
   "metadata": {},
   "outputs": [
    {
     "data": {
      "text/plain": [
       "<matplotlib.legend.Legend at 0x7fd634ab8d60>"
      ]
     },
     "execution_count": 68,
     "metadata": {},
     "output_type": "execute_result"
    },
    {
     "data": {
      "image/png": "[encoded data removed]",
      "text/plain": [
       "<Figure size 600x600 with 1 Axes>"
      ]
     },
     "metadata": {},
     "output_type": "display_data"
    }
   ],
   "source": [
    "# diff between F1 condition,\n",
    "\n",
    "fig = plt.figure(figsize=(6,6))\n",
    "\n",
    "sns.pointplot(data = df_color_matched,\n",
    "                y = \"f1_score\",\n",
    "                x = \"condition\",\n",
    "                hue = \"stimulus_str\",\n",
    "                order=[\"build\",\"view\"])\n",
    "\n",
    "plt.title('F1 between condition, by participant')\n",
    "\n",
    "plt.legend([],[], frameon=False)"
   ]
  },
  {
   "cell_type": "code",
   "execution_count": 69,
   "id": "725cb31c",
   "metadata": {},
   "outputs": [
    {
     "data": {
      "text/plain": [
       "<seaborn.axisgrid.FacetGrid at 0x7fd640cd4ac0>"
      ]
     },
     "execution_count": 69,
     "metadata": {},
     "output_type": "execute_result"
    },
    {
     "data": {
      "image/png": "[encoded data removed]",
      "text/plain": [
       "<Figure size 631x500 with 1 Axes>"
      ]
     },
     "metadata": {},
     "output_type": "display_data"
    }
   ],
   "source": [
    "sns.displot(df_color_matched,\n",
    "            hue = 'condition',\n",
    "            x = 'f1_score',\n",
    "            stat='proportion'\n",
    ")"
   ]
  },
  {
   "cell_type": "code",
   "execution_count": 70,
   "id": "113f5165",
   "metadata": {},
   "outputs": [
    {
     "data": {
      "text/plain": [
       "(array([ 5.,  1.,  0.,  2.,  0.,  1.,  2.,  0.,  0., 31.]),\n",
       " array([0.625 , 0.6625, 0.7   , 0.7375, 0.775 , 0.8125, 0.85  , 0.8875,\n",
       "        0.925 , 0.9625, 1.    ]),\n",
       " <BarContainer object of 10 artists>)"
      ]
     },
     "execution_count": 70,
     "metadata": {},
     "output_type": "execute_result"
    },
    {
     "data": {
      "image/png": "[encoded data removed]",
      "text/plain": [
       "<Figure size 400x600 with 1 Axes>"
      ]
     },
     "metadata": {},
     "output_type": "display_data"
    }
   ],
   "source": [
    "plt.hist(df_color_matched[df_color_matched.f1_score!=0]['f1_score'])"
   ]
  },
  {
   "cell_type": "code",
   "execution_count": 71,
   "id": "5c0077fa",
   "metadata": {},
   "outputs": [
    {
     "data": {
      "text/plain": [
       "Text(0.5, 1.0, 'average f1 score (excluding no-submits)')"
      ]
     },
     "execution_count": 71,
     "metadata": {},
     "output_type": "execute_result"
    },
    {
     "data": {
      "image/png": "[encoded data removed]",
      "text/plain": [
       "<Figure size 400x600 with 1 Axes>"
      ]
     },
     "metadata": {},
     "output_type": "display_data"
    }
   ],
   "source": [
    "sns.barplot(df_color_matched[df_color_matched.f1_score!=0],\n",
    "            x = 'condition',\n",
    "            hue='condition',\n",
    "            y = 'f1_score')\n",
    "plt.title('average f1 score (excluding no-submits)')"
   ]
  },
  {
   "cell_type": "code",
   "execution_count": 72,
   "id": "6a70cba3",
   "metadata": {},
   "outputs": [],
   "source": [
    "# count number matched\n",
    "df_color_matched.loc[:,'was_reconstructed'] = ~df_color_matched.nTower.isna()"
   ]
  },
  {
   "cell_type": "code",
   "execution_count": 74,
   "id": "941b4b07",
   "metadata": {},
   "outputs": [
    {
     "data": {
      "text/plain": [
       "<Axes: xlabel='condition', ylabel='was_reconstructed'>"
      ]
     },
     "execution_count": 74,
     "metadata": {},
     "output_type": "execute_result"
    },
    {
     "data": {
      "image/png": "[encoded data removed]",
      "text/plain": [
       "<Figure size 400x600 with 1 Axes>"
      ]
     },
     "metadata": {},
     "output_type": "display_data"
    }
   ],
   "source": [
    "sns.barplot(df_color_matched,\n",
    "            y = 'was_reconstructed',\n",
    "            hue = 'condition',\n",
    "            x = 'condition')\n"
   ]
  },
  {
   "cell_type": "markdown",
   "id": "b77988ca",
   "metadata": {},
   "source": [
    "So... the ones people remembered, they remembered equally well, but they remembered more view towers?"
   ]
  },
  {
   "cell_type": "markdown",
   "id": "6e3f7bab",
   "metadata": {},
   "source": [
    "## match by 'closest match' instead of color"
   ]
  },
  {
   "cell_type": "markdown",
   "id": "fb0969fb",
   "metadata": {},
   "source": [
    "Calculate f1 score for every (recalled_tower, stimulus) pair"
   ]
  },
  {
   "cell_type": "code",
   "execution_count": null,
   "id": "562cd9bf",
   "metadata": {},
   "outputs": [],
   "source": [
    "def get_score_matrix(targets, recalls, distance_measure=best_f1_score, render = False):\n",
    "    '''\n",
    "    Returns distance matrix between \n",
    "    '''\n",
    "\n",
    "    scores = targets.apply(lambda target: \n",
    "                recalls.apply(lambda recall: \n",
    "                    distance_measure(target['paddedBlockMaps'], recall['paddedBlockMaps'], render=render)[0], # just get score\n",
    "                    axis=1),\n",
    "                axis=1)\n",
    "\n",
    "    return scores"
   ]
  },
  {
   "cell_type": "code",
   "execution_count": null,
   "id": "0a686c97",
   "metadata": {},
   "outputs": [],
   "source": [
    "def get_aligned_reconstructions(targets, recalls, distance_measure=best_f1_score, render = False):\n",
    "    '''\n",
    "    Returns block maps of reconstructions aligned to stims\n",
    "    '''\n",
    "\n",
    "    scores = targets.apply(lambda target: \n",
    "                recalls.apply(lambda recall: \n",
    "                    distance_measure(target['paddedBlockMaps'], recall['paddedBlockMaps'], render=render)[1], # just get score\n",
    "                    axis=1),\n",
    "                axis=1)\n",
    "\n",
    "    return scores"
   ]
  },
  {
   "cell_type": "code",
   "execution_count": null,
   "id": "2b496d10",
   "metadata": {},
   "outputs": [],
   "source": [
    "from scipy.optimize import linear_sum_assignment\n",
    "\n",
    "def maximal_mapping(distance_matrix):\n",
    "    '''\n",
    "    Takes a distance matrix and returns the assignment that maximizes the total score\n",
    "    '''\n",
    "    # returns a list, as long as the amount of columns, with each containing a row index\n",
    "    # i.e. this will find the mapping of columns (recalls) to rows (targets), though not every row need be assigned to a target\n",
    "    row_ind, col_ind = linear_sum_assignment(distance_matrix, maximize=True)\n",
    "#     sorted_matrix = distance_matrix[:, optimal_assignment]\n",
    "    return row_ind, col_ind"
   ]
  },
  {
   "cell_type": "markdown",
   "id": "29dbb433",
   "metadata": {},
   "source": [
    "### test/ visualize for one participant"
   ]
  },
  {
   "cell_type": "code",
   "execution_count": null,
   "id": "73852712",
   "metadata": {},
   "outputs": [],
   "source": [
    "n = 24"
   ]
  },
  {
   "cell_type": "code",
   "execution_count": null,
   "id": "888ba0cd",
   "metadata": {
    "scrolled": false
   },
   "outputs": [],
   "source": [
    "gameIDs = df_learn.gameID.unique()\n",
    "\n",
    "# for each participant\n",
    "for gameID in gameIDs[n:n+1]:\n",
    "    \n",
    "    # find stimuli\n",
    "#     ppt_towers = df_learn[(df_learn.gameID == gameID)].tower_id.unique()\n",
    "    df_ppt_learn = df_learn[(df_learn.gameID == gameID)].groupby('tower_id').first()\n",
    "    \n",
    "    assert(len(df_ppt_learn) == 6)\n",
    "    \n",
    "    # find recalled towers\n",
    "    df_ppt_recall = df_recalled_towers_unique[df_recalled_towers_unique.gameID == gameID].groupby(\"nTower\").first()\n",
    "    \n",
    "    ppt_scores = get_score_matrix(df_ppt_learn, df_ppt_recall, render = False)\n",
    "    ppt_maps = get_aligned_reconstructions(df_ppt_learn, df_ppt_recall)\n",
    "    \n",
    "    # calculate optimal assignment\n",
    "    row_ind, col_ind = maximal_mapping(ppt_scores)\n",
    "    \n",
    "    assignment_dict = dict(zip(df_ppt_recall.index[col_ind], ppt_scores.index[row_ind]))\n",
    "    \n",
    "ppt_scores"
   ]
  },
  {
   "cell_type": "code",
   "execution_count": null,
   "id": "525c33a0",
   "metadata": {},
   "outputs": [],
   "source": [
    "df_learn.query(\"gameID=='{}'\".format(gameIDs[0])).sort_values(['gameID','trial_start_time']).groupby('gameID').apply(show_target_towers)\n",
    "df_recalled_towers.query(\"gameID=='{}'\".format(gameIDs[0])).sort_values('nTower').groupby('gameID').apply(show_recalled_towers)\n",
    "\n"
   ]
  },
  {
   "cell_type": "markdown",
   "id": "9bbd7e03",
   "metadata": {},
   "source": [
    "### Visualize reconstructions"
   ]
  },
  {
   "cell_type": "code",
   "execution_count": null,
   "id": "179dced6",
   "metadata": {},
   "outputs": [],
   "source": [
    "df_recalled_towers_unique['bestMatch'] = 'unassigned'\n",
    "df_recalled_towers_unique['bestMatchF1'] = np.NaN\n",
    "df_recalled_towers_unique['bestMatchCondition'] = 'unassigned'\n",
    "df_recalled_towers_unique['bestMatchAlignment'] = 'unassigned'\n",
    "\n",
    "# df_recalled_towers_unique['bestMatchAlignment'] = df_recalled_towers_unique['bestMatchAlignment'].astype(object)"
   ]
  },
  {
   "cell_type": "code",
   "execution_count": null,
   "id": "dfa34d73",
   "metadata": {},
   "outputs": [],
   "source": [
    "# hack to store arrays as elements\n",
    "class AlignedBlockMap:\n",
    "    def __init__(self, arr):\n",
    "        self.arr = arr"
   ]
  },
  {
   "cell_type": "code",
   "execution_count": null,
   "id": "29bc417e",
   "metadata": {},
   "outputs": [],
   "source": [
    "gameIDs = df_learn.gameID.unique()\n",
    "\n",
    "# for each participant\n",
    "for gameID in gameIDs:\n",
    "    \n",
    "    # find stimuli\n",
    "    df_ppt_learn = df_learn[(df_learn.gameID == gameID)].groupby('tower_id').first()\n",
    "    \n",
    "    assert(len(df_ppt_learn) == 6)\n",
    "    \n",
    "    # find recalled towers\n",
    "    df_ppt_recall = df_recalled_towers_unique[df_recalled_towers_unique.gameID == gameID].groupby(\"nTower\").first()\n",
    "    \n",
    "    if len(df_ppt_recall) > 0:\n",
    "    \n",
    "        ppt_scores = get_score_matrix(df_ppt_learn, df_ppt_recall)\n",
    "        ppt_maps = get_aligned_reconstructions(df_ppt_learn, df_ppt_recall)\n",
    "\n",
    "        # calculate optimal assignment\n",
    "        row_ind, col_ind = maximal_mapping(ppt_scores)\n",
    "\n",
    "        assignment_dict = dict(zip(df_ppt_recall.index[col_ind], ppt_scores.index[row_ind]))\n",
    "\n",
    "        for i, (nTower, towerID) in enumerate(assignment_dict.items()):\n",
    "            df_recalled_towers_unique.loc[(df_recalled_towers_unique.gameID==gameID) & \n",
    "                                      (df_recalled_towers_unique.nTower==int(nTower)),'bestMatch'] = towerID\n",
    "\n",
    "            df_recalled_towers_unique.loc[(df_recalled_towers_unique.gameID==gameID) & \n",
    "                                      (df_recalled_towers_unique.nTower==int(nTower)),'bestMatchF1'] = \\\n",
    "                            ppt_scores.loc[towerID,nTower]\n",
    "\n",
    "            df_recalled_towers_unique.loc[(df_recalled_towers_unique.gameID==gameID) & \n",
    "                                      (df_recalled_towers_unique.nTower==int(nTower)),'bestMatchAlignment'] =\\\n",
    "                            AlignedBlockMap(ppt_maps.loc[towerID, nTower])\n",
    "\n",
    "            df_recalled_towers_unique.loc[(df_recalled_towers_unique.gameID==gameID) & \n",
    "                                      (df_recalled_towers_unique.nTower==int(nTower)),'bestMatchCondition'] = \\\n",
    "                            df_ppt_learn.loc[towerID,'condition']\n"
   ]
  },
  {
   "cell_type": "code",
   "execution_count": null,
   "id": "348bd36e",
   "metadata": {},
   "outputs": [],
   "source": [
    "df_recalled_towers_unique['bestMatchAlignment'] = df_recalled_towers_unique['bestMatchAlignment'].apply(lambda x: x.arr)"
   ]
  },
  {
   "cell_type": "code",
   "execution_count": null,
   "id": "73b737b6",
   "metadata": {},
   "outputs": [],
   "source": [
    "def showDiscreteMap(row, ax, vmax=None, **kwargs):\n",
    "#     world_maps = df.apply(lambda row: row)\n",
    "    n = row.shape[0]\n",
    "    av_map = np.add.reduce(np.array(row))/n\n",
    "#     av_map = np.add.reduce(np.array(row))\n",
    "#     av_map = np.rot90(av_map)/n\n",
    "    if ~(vmax==None):\n",
    "        ax.imshow(av_map, \n",
    "                  vmax= vmax,\n",
    "                **kwargs)\n",
    "    else:\n",
    "        ax.imshow(av_map,\n",
    "                **kwargs)"
   ]
  },
  {
   "cell_type": "code",
   "execution_count": null,
   "id": "9d93e201",
   "metadata": {},
   "outputs": [],
   "source": [
    "stim_maps = df_learn.groupby('tower_id').first().reset_index()[['tower_id','paddedBlockMaps']]"
   ]
  },
  {
   "cell_type": "code",
   "execution_count": null,
   "id": "cf60f071",
   "metadata": {},
   "outputs": [],
   "source": [
    "tower_ids = df_recalled_towers_unique.bestMatch.unique()\n",
    "\n",
    "fig, axs = plt.subplots(nrows=len(tower_ids), ncols=3, figsize=(6, 20))  \n",
    "\n",
    "for (i, tower_id) in enumerate(tower_ids):\n",
    "    axs[i,0].axis('off')\n",
    "    showDiscreteMap(stim_maps[(stim_maps.tower_id == tower_id)]['paddedBlockMaps'], \n",
    "                    axs[i, 0],\n",
    "                    cmap= 'hot',)\n",
    "\n",
    "for (j, condition) in enumerate(['build','view']):\n",
    "    for (i, tower_id) in enumerate(tower_ids):\n",
    "        subset = df_recalled_towers_unique[(df_recalled_towers_unique.bestMatch == tower_id) & \n",
    "                                                  (df_recalled_towers_unique.bestMatchCondition == condition)]['bestMatchAlignment']\n",
    "        axs[i,j+1].axis('off')\n",
    "        axs[i,j+1].set_title(condition + ': ' + str(len(subset)))\n",
    "        showDiscreteMap(subset, \n",
    "                        axs[i, j+1],\n",
    "                        cmap= 'hot',)\n",
    "\n",
    "# plt.savefig('../../results/build_recall/heatmaps.pdf', format='pdf')\n",
    "\n"
   ]
  },
  {
   "cell_type": "code",
   "execution_count": null,
   "id": "c3e33036",
   "metadata": {},
   "outputs": [],
   "source": [
    "cmap = matplotlib.colors.Colormap('hot')\n",
    "#norm = colors.BoundaryNorm(bounds, cmap.N)\n",
    "fig, ax = plt.subplots(figsize=(6, 1))\n",
    "fig.subplots_adjust(bottom=0.5)\n",
    "\n",
    "#cmap = mpl.cm.cool\n",
    "norm = mpl.colors.Normalize(vmin=0, vmax=1)\n",
    "\n",
    "cb1 = mpl.colorbar.ColorbarBase(ax, cmap=cmap,\n",
    "                                norm=norm,\n",
    "                                orientation='horizontal')\n",
    "\n",
    "plt.show()\n",
    "# fig.savefig('color_bar.pdf')"
   ]
  },
  {
   "cell_type": "code",
   "execution_count": null,
   "id": "73ee3321",
   "metadata": {},
   "outputs": [],
   "source": [
    "# overall condition comparison\n",
    "\n",
    "fig, ax = plt.subplots()\n",
    "ax.axis('off')\n",
    "showDiscreteMap(df_recalled_towers_unique[df_recalled_towers_unique.bestMatchCondition == 'build']['bestMatchAlignment'], ax, cmap= 'hot',)\n",
    "\n",
    "\n",
    "fig, ax = plt.subplots()\n",
    "ax.axis('off')\n",
    "showDiscreteMap(df_recalled_towers_unique[df_recalled_towers_unique.bestMatchCondition == 'view']['bestMatchAlignment'], ax, cmap= 'hot',)"
   ]
  },
  {
   "cell_type": "code",
   "execution_count": null,
   "id": "326db3cb",
   "metadata": {},
   "outputs": [],
   "source": [
    "# bestMatchConditionCounts = df_recalled_towers_unique.groupby(['gameID','bestMatchCondition']).count()['experimentName'].reset_index()\n",
    "# bestMatchConditionCounts = bestMatchConditionCounts.rename(columns={'experimentName': 'nMatched'})\n"
   ]
  },
  {
   "cell_type": "code",
   "execution_count": null,
   "id": "17e50e0e",
   "metadata": {},
   "outputs": [],
   "source": [
    "# group the DataFrame by 'gameID' and 'bestMatchCondition', and count the rows\n",
    "grouped = df_recalled_towers_unique.groupby(['gameID','bestMatchCondition']).agg({'experimentName':'count',\n",
    "                                                                                 'bestMatchF1':'mean'})\n",
    "# Get all unique values for each column\n",
    "gameIDs = df_recalled_towers_unique['gameID'].unique()\n",
    "conditions = df_recalled_towers_unique['bestMatchCondition'].unique()\n",
    "\n",
    "# Create a DataFrame with all possible combinations of the unique values\n",
    "all_combinations = pd.MultiIndex.from_product([gameIDs, conditions], names=['gameID', 'bestMatchCondition']).to_frame(index=False)\n",
    "\n",
    "# Merge the DataFrame with all combinations and the grouped DataFrame\n",
    "merged = all_combinations.merge(grouped, on=['gameID', 'bestMatchCondition'], how=\"left\")\n",
    "\n",
    "merged['experimentName'] = merged['experimentName'].fillna(0)\n",
    "merged['bestMatchF1'] = merged['bestMatchF1'].fillna(np.NaN)\n",
    "merged = merged.rename(columns={'experimentName':'nMatched',\n",
    "                       'bestMatchF1':'bestMatchF1Mean'})\n",
    "\n",
    "bestMatchConditionCounts = merged"
   ]
  },
  {
   "cell_type": "code",
   "execution_count": null,
   "id": "ff2b1b5c",
   "metadata": {},
   "outputs": [],
   "source": [
    "# leave out participants who don't have at least one recall tower in each condition. find diff between f1. \n",
    "# Do paired t-test.\n",
    "\n",
    "def built_both(df):\n",
    "    built = df.loc[df.bestMatchCondition == 'build','nMatched'].iloc[0]\n",
    "    viewed = df.loc[df.bestMatchCondition == 'view','nMatched'].iloc[0]\n",
    "    \n",
    "    both = (built > 0) & (viewed > 0)\n",
    "    \n",
    "    return both\n",
    "\n",
    "built_both = bestMatchConditionCounts.groupby(['gameID']).apply(lambda group: built_both(group))\n",
    "\n",
    "bestMatchConditionCounts.loc[:,'built_both'] = bestMatchConditionCounts.gameID.isin(list(built_both[built_both].index))"
   ]
  },
  {
   "cell_type": "code",
   "execution_count": null,
   "id": "3c7207fc",
   "metadata": {},
   "outputs": [],
   "source": [
    "bestMatchConditionCounts"
   ]
  },
  {
   "cell_type": "markdown",
   "id": "f8068aac",
   "metadata": {},
   "source": [
    "### construct dataframe where each stimulus gets all the information about the best matching recall tower"
   ]
  },
  {
   "cell_type": "code",
   "execution_count": null,
   "id": "267f11d3",
   "metadata": {},
   "outputs": [],
   "source": [
    "df_learn_unique = df_learn[df_learn.rep==1].reset_index(drop=True)\n",
    "df_learn_unique_paired = df_learn_unique.merge(df_recalled_towers_unique, \n",
    "                                               how='left', \n",
    "                                               left_on=['gameID','tower_id'], \n",
    "                                               right_on=['gameID','bestMatch']).reset_index(drop=True)\n",
    "                      \n",
    "default_values = {\n",
    "    'C_id': -1,     # default for C_id\n",
    "    'bestMatch': 'no_match',     # default for D_id\n",
    "    'bestMatchF1': 0,\n",
    "    'perfectMatch': False\n",
    "    \n",
    "#     'value2': 'default_value'  # default for value2\n",
    "}\n",
    "\n",
    "df_learn_unique_paired.fillna(value=default_values, inplace=True)\n",
    "\n",
    "for threshold in list(np.arange(0.1,1,0.05)):\n",
    "    df_learn_unique_paired.loc[:, f'matched_meeting_threshold_{threshold:.2f}'] = df_learn_unique_paired['bestMatchF1'] > threshold\n",
    "    \n",
    "df_learn_unique_paired.loc[:, 'matched_to_any'] = df_learn_unique_paired['bestMatchF1'] > 0"
   ]
  },
  {
   "cell_type": "code",
   "execution_count": null,
   "id": "baf0a74b",
   "metadata": {},
   "outputs": [],
   "source": [
    "df_learn_unique_paired.perfectMatch"
   ]
  },
  {
   "cell_type": "code",
   "execution_count": null,
   "id": "1f44d384",
   "metadata": {},
   "outputs": [],
   "source": [
    "# df_learn_unique_paired.to_csv('{}/df_learn_unique_paired.csv'.format(experiment_results_dir))"
   ]
  },
  {
   "cell_type": "markdown",
   "id": "e8ef8315",
   "metadata": {},
   "source": [
    "### Visualize mapping from recalled tower to condition"
   ]
  },
  {
   "cell_type": "code",
   "execution_count": null,
   "id": "4598f165",
   "metadata": {},
   "outputs": [],
   "source": [
    "df_recall_condition = df_recalled_towers_unique[['gameID','nTower', 'bestMatchCondition']]\\\n",
    "                        .sort_values(['gameID','nTower'])\n",
    "df_recall_condition"
   ]
  },
  {
   "cell_type": "code",
   "execution_count": null,
   "id": "c7eef623",
   "metadata": {},
   "outputs": [],
   "source": [
    "df_recall_map = df_recall_condition.pivot(columns='nTower', values='bestMatchCondition',index='gameID')"
   ]
  },
  {
   "cell_type": "code",
   "execution_count": null,
   "id": "1c4519b3",
   "metadata": {},
   "outputs": [],
   "source": [
    "# Define a custom colormap\n",
    "colors = ['white', poster_plot_settings.BLUE, poster_plot_settings.RED]\n",
    "cmap = ListedColormap(colors)"
   ]
  },
  {
   "cell_type": "code",
   "execution_count": null,
   "id": "d15b164f",
   "metadata": {},
   "outputs": [],
   "source": [
    "mapping = {np.NaN: 0.0, \n",
    "           'build': 1.0, \n",
    "           'view': 2.0}\n",
    "\n",
    "df_recall_map_float = np.vectorize(mapping.get)(df_recall_map)\n",
    "\n",
    "fig = plt.figure(figsize=(2,10))\n",
    "plt.imshow(df_recall_map_float, cmap=cmap)\n",
    "fig.gca().axis('off')\n",
    "\n",
    "cbar = plt.colorbar(ticks=range(len(colors)))\n",
    "cbar.ax.set_yticklabels(['None/ repeat', 'build','view'])\n",
    "\n"
   ]
  },
  {
   "cell_type": "code",
   "execution_count": null,
   "id": "6f62716d",
   "metadata": {},
   "outputs": [],
   "source": [
    "# Maybe we shouldn't treat all reconstructions as equal\n",
    "# there seems to be a trimodal distribution, with a natural division at around 0.75\n",
    "plt.hist(df_recalled_towers_unique.bestMatchF1, bins=10)"
   ]
  },
  {
   "cell_type": "code",
   "execution_count": null,
   "id": "7e3f6369",
   "metadata": {},
   "outputs": [],
   "source": [
    "# mark the perfect reconstructions\n",
    "df_recalled_towers_unique.loc[:,'perfectMatch'] = df_recalled_towers_unique.bestMatchF1 == 1.0\n",
    "\n",
    "# mark the good reconstructions\n",
    "df_recalled_towers_unique.loc[:,'goodMatch'] = df_recalled_towers_unique.bestMatchF1 > 0.75"
   ]
  },
  {
   "cell_type": "code",
   "execution_count": null,
   "id": "cc704ef4",
   "metadata": {},
   "outputs": [],
   "source": [
    "df_recalled_towers_unique.to_csv('{}/dfRecalledTowersUnique.csv'.format(experiment_results_dir))"
   ]
  },
  {
   "cell_type": "code",
   "execution_count": null,
   "id": "1030e0ef",
   "metadata": {},
   "outputs": [],
   "source": [
    "bestMatchConditionCounts.to_csv('{}/bestMatchConditionCounts.csv'.format(experiment_results_dir))"
   ]
  },
  {
   "cell_type": "code",
   "execution_count": null,
   "id": "8edcb559",
   "metadata": {},
   "outputs": [],
   "source": [
    "condition_diffs = bestMatchConditionCounts.groupby('gameID').apply(\\\n",
    "                    lambda df: df.loc[df['bestMatchCondition'] == 'build', 'nMatched'].reset_index(drop=True)\\\n",
    "                             - df.loc[df['bestMatchCondition'] == 'view', 'nMatched'].reset_index(drop=True))\n",
    "\n",
    "condition_diffs.value_counts()"
   ]
  },
  {
   "cell_type": "code",
   "execution_count": null,
   "id": "38d3d95e",
   "metadata": {},
   "outputs": [],
   "source": [
    "bestMatchConditionCounts"
   ]
  },
  {
   "cell_type": "code",
   "execution_count": null,
   "id": "f3c98766",
   "metadata": {},
   "outputs": [],
   "source": [
    "# Calculate 95% CI for each group\n",
    "def calculate_ci(data, conf_level=0.95):\n",
    "    mean = np.mean(data)\n",
    "    sem = stats.sem(data)\n",
    "    ci = sem * stats.t.ppf((1 + conf_level) / 2, len(data) - 1)\n",
    "    return ci"
   ]
  },
  {
   "cell_type": "markdown",
   "id": "341a3367",
   "metadata": {},
   "source": [
    "In the next few cells we compare towers that were matched to build condition stimuli with those matched to build stimuli.  \n",
    "\n",
    "We match all of the reconstructions to targets, but can consider a subset of these that meet some threshold F1 score.\n",
    "\n",
    "**One question here is: what is a baseline F1 score that we would expect if they didn't actually remember the tower?**\n",
    "There are a few ways of calculating this. We could randomly place 8 blocks. We could do so in the target region (all towers fit within a 6\\*8 rectangle). We could calculate the average across reconstructions."
   ]
  },
  {
   "cell_type": "markdown",
   "id": "e7e85302",
   "metadata": {},
   "source": [
    "#### Compare number of recalled towers (with options for different accuracy cutoffs) \n",
    "\n",
    "Effect seems to get larger when considering accurate matches only (change `subset`)"
   ]
  },
  {
   "cell_type": "code",
   "execution_count": null,
   "id": "514f24e7",
   "metadata": {},
   "outputs": [],
   "source": [
    "subset = df_recalled_towers_unique # all reconstructions\n",
    "subset = df_recalled_towers_unique[df_recalled_towers_unique.goodMatch] # good\n",
    "subset = df_recalled_towers_unique[df_recalled_towers_unique.perfectMatch] # perfect\n",
    "\n",
    "subset_condition_counts = subset.groupby(['gameID','bestMatchCondition']).size().reset_index(name='count')\n",
    "\n",
    "# Create the multi-level index containing all possible combinations\n",
    "all_gameIDs = subset['gameID'].unique()\n",
    "all_conditions = subset['bestMatchCondition'].unique()\n",
    "multi_index = pd.MultiIndex.from_product([all_gameIDs, all_conditions], names=['gameID', 'bestMatchCondition'])\n",
    "\n",
    "# Reindex and fill missing rows with zero\n",
    "subset_condition_counts.set_index(['gameID', 'bestMatchCondition'], inplace=True)\n",
    "subset_condition_counts = subset_condition_counts.reindex(multi_index).fillna(0).reset_index()\n",
    "\n",
    "subset_condition_counts\n",
    "ci_build =  calculate_ci(subset_condition_counts[subset_condition_counts[\"bestMatchCondition\"] == \"build\"][\"count\"])\n",
    "ci_view =  calculate_ci(subset_condition_counts[subset_condition_counts[\"bestMatchCondition\"] == \"view\"][\"count\"])\n",
    "ci = [ci_build, ci_view]\n",
    "\n",
    "sns.barplot(data = subset_condition_counts,\n",
    "            y = \"count\",\n",
    "            x = \"bestMatchCondition\",\n",
    "            palette = palette,\n",
    "            errorbar=None,\n",
    "            yerr=ci\n",
    "            )\n",
    "\n",
    "for spine in fig.gca().spines.values():\n",
    "    spine.set_linewidth(2)\n",
    "    spine.set_color('black')\n",
    "    spine.set_zorder(1)\n",
    "\n",
    "\n",
    "# plt.title(\"n matched targets\")\n",
    "plt.xlabel('')\n",
    "plt.ylabel(\"# reconstructions matched\")\n",
    "plt.ylim((0,3))\n",
    "# plt.yticks(fontsize=15)\n",
    "# plt.yticks(fontsize=15)\n",
    "\n",
    "# plt.show()\n",
    "\n",
    "\n",
    "# plt.savefig(''../../results/build_recall/plots/build_recall_condition_matches.pdf', bbox_inches='tight')\n"
   ]
  },
  {
   "cell_type": "raw",
   "id": "b699d826",
   "metadata": {},
   "source": [
    "### accuracy comparison across matched conditions"
   ]
  },
  {
   "cell_type": "code",
   "execution_count": null,
   "id": "f044bc79",
   "metadata": {},
   "outputs": [],
   "source": [
    "importlib.reload(poster_plot_settings)"
   ]
  },
  {
   "cell_type": "markdown",
   "id": "7e37fc13",
   "metadata": {},
   "source": [
    "#### Sum of F1 scores across reconstructions (with options for different accuracy cutoffs) \n",
    "Effect seems to get larger when considering accurate matches only"
   ]
  },
  {
   "cell_type": "code",
   "execution_count": null,
   "id": "ec600542",
   "metadata": {},
   "outputs": [],
   "source": [
    "# sums for a subset of reconstructions\n",
    "\n",
    "subset = df_recalled_towers_unique\n",
    "# subset = df_recalled_towers_unique[df_recalled_towers_unique.perfectMatch] # perfect\n",
    "# subset = df_recalled_towers_unique[df_recalled_towers_unique.goodMatch] # good\n",
    "\n",
    "f1_sums_subset = subset.groupby(['gameID','bestMatchCondition'])['bestMatchF1'].sum().reset_index()\n",
    "\n",
    "fig = plt.figure()\n",
    "\n",
    "sns.barplot(data = f1_sums_subset,\n",
    "                y = \"bestMatchF1\",\n",
    "                x = \"bestMatchCondition\",\n",
    "                palette = palette,\n",
    "                errorbar=\"se\",)\n",
    "\n",
    "plt.title(\"Straight sum of F1 for best-matched condition\")\n",
    "\n",
    "for spine in fig.gca().spines.values():\n",
    "    spine.set_linewidth(2)\n",
    "    spine.set_color('black')\n",
    "    spine.set_zorder(1)\n",
    "\n",
    "\n",
    "plt.legend([],[], frameon=False)"
   ]
  },
  {
   "cell_type": "code",
   "execution_count": null,
   "id": "f2f63975",
   "metadata": {},
   "outputs": [],
   "source": [
    "fig = plt.figure()\n",
    "\n",
    "sns.barplot(data = df_recalled_towers_unique,\n",
    "                y = \"bestMatchF1\",\n",
    "                hue = \"bestMatchCondition\",\n",
    "                x = \"nTower\",\n",
    "                errorbar=\"se\",\n",
    "                palette = palette)\n",
    "\n",
    "plt.title(\"F1 by number recall for best-matched condition\")\n",
    "\n",
    "for spine in fig.gca().spines.values():\n",
    "    spine.set_linewidth(2)\n",
    "    spine.set_color('black')\n",
    "    spine.set_zorder(1)\n",
    "\n",
    "\n",
    "plt.legend([],[], frameon=False)"
   ]
  },
  {
   "cell_type": "markdown",
   "id": "39c4317f",
   "metadata": {},
   "source": [
    "#### Mean accuracy across conditions (with options for different accuracy cutoffs) \n",
    "\n",
    "Effect seems to get *smaller* when considering accurate matches only. We'd expect this, as it pushes everything towards F1=1."
   ]
  },
  {
   "cell_type": "code",
   "execution_count": null,
   "id": "4f4d2f2a",
   "metadata": {
    "scrolled": false
   },
   "outputs": [],
   "source": [
    "# mean f1\n",
    "\n",
    "subset = df_recalled_towers_unique # all\n",
    "# subset = df_recalled_towers_unique[df_recalled_towers_unique.goodMatch] # good\n",
    "# subset = df_recalled_towers_unique[df_recalled_towers_unique.perfectMatch] # perfect\n",
    "\n",
    "f1_means_subset = subset.groupby(['gameID','bestMatchCondition'])['bestMatchF1'].mean().reset_index()\n",
    "\n",
    "ci_build =  calculate_ci(f1_means_subset[f1_means_subset[\"bestMatchCondition\"] == \"build\"][\"bestMatchF1\"])\n",
    "ci_view =  calculate_ci(f1_means_subset[f1_means_subset[\"bestMatchCondition\"] == \"view\"][\"bestMatchF1\"])\n",
    "ci = [ci_build, ci_view]\n",
    "\n",
    "fig, ax = plt.subplots(figsize=(4/(3/2),6))\n",
    "\n",
    "sns.barplot(data = f1_means_subset,\n",
    "                y = \"bestMatchF1\",\n",
    "                x = \"bestMatchCondition\",\n",
    "                palette = palette,\n",
    "#                 errorbar=\"se\",\n",
    "                errorbar=None,\n",
    "#                 capsize=0.2, \n",
    "                yerr=ci)\n",
    "\n",
    "# ppt_lines = sns.lineplot(data = f1_means_subset,\n",
    "#                          ax= ax,\n",
    "#                          y = \"bestMatchF1\",\n",
    "#                          x = \"bestMatchCondition\",\n",
    "#                          hue = \"gameID\",\n",
    "#                          palette=[\"#222\"],\n",
    "#                          alpha=0.3,\n",
    "#                          linewidth=1\n",
    "#                         )\n",
    "\n",
    "plt.legend([],[], frameon=False)\n",
    "plt.ylabel(\"accuracy of reconstructions (F1)\")\n",
    "plt.xlabel('')\n",
    "plt.ylim((0,1.05))\n",
    "\n",
    "for spine in fig.gca().spines.values():\n",
    "    spine.set_linewidth(2)\n",
    "    spine.set_color('black')\n",
    "    spine.set_zorder(1)\n",
    "\n",
    "plt.legend([],[], frameon=False)\n",
    "plt.savefig('../../results/build_recall/plots/build_recall_condition_accuracy.pdf', bbox_inches='tight')"
   ]
  },
  {
   "cell_type": "markdown",
   "id": "9c3861d2",
   "metadata": {},
   "source": [
    "## Compare how people built stimuli across matched conditions\n",
    "\n",
    "We've made our best guesses about which stimuli people were trying to build in the recall phase.  \n",
    "Now we can ask whether there was anything different about the building process for each of these categories (build matches and view matches)"
   ]
  },
  {
   "cell_type": "markdown",
   "id": "59296ec3",
   "metadata": {},
   "source": [
    "#### Mean build time across conditions\n",
    "\n",
    "On first appearances, it looks like people built build stimuli slightly faster than view ones.\n",
    "Moreove, this effect seems to get *larger* when we limit our attention to more accurate matches (i.e. the ones we can be more confident were remembered well).\n",
    "\n",
    "This suggests that a part of what we remember when we build an object is the procedure we used to construct it."
   ]
  },
  {
   "cell_type": "code",
   "execution_count": null,
   "id": "309098a1",
   "metadata": {},
   "outputs": [],
   "source": [
    "rt_means = df_recalled_towers_unique.groupby(['gameID','bestMatchCondition'])['time_since_last_submit'].mean().reset_index()"
   ]
  },
  {
   "cell_type": "code",
   "execution_count": null,
   "id": "35c626ba",
   "metadata": {},
   "outputs": [],
   "source": [
    "# here we can look at sets of reconstructions that are increasingly restricted to higher levels of accuracy\n",
    "\n",
    "subset = df_recalled_towers_unique # all\n",
    "# subset = df_recalled_towers_unique[df_recalled_towers_unique.goodMatch] # good\n",
    "# subset = df_recalled_towers_unique[df_recalled_towers_unique.perfectMatch] # perfect\n",
    "\n",
    "\n",
    "rt_means_subset = subset.groupby(['gameID','bestMatchCondition'])['time_since_last_submit'].mean().reset_index()\n",
    "\n",
    "fig = plt.figure()\n",
    "\n",
    "fig = plt.figure()\n",
    "\n",
    "sns.barplot(data = rt_means_subset,\n",
    "                y = \"time_since_last_submit\",\n",
    "                x = \"bestMatchCondition\",\n",
    "                palette = palette,\n",
    "                errorbar=\"se\",)\n",
    "\n",
    "plt.title(\"Mean build time of best-matched condition\")\n",
    "\n",
    "for spine in fig.gca().spines.values():\n",
    "    spine.set_linewidth(2)\n",
    "    spine.set_color('black')\n",
    "    spine.set_zorder(1)\n",
    "\n",
    "plt.ylim((0,80000))\n",
    "\n",
    "plt.legend([],[], frameon=False)"
   ]
  },
  {
   "cell_type": "markdown",
   "id": "a70cc2ee",
   "metadata": {},
   "source": [
    "Here we compare accuracy bins (from very innaccurate reconstructions that we wouldn't necessarily want to consider as remembered, to very accurate and perfect reconstructions).\n",
    "\n",
    "As we consider more and more accurate reconstructions, time to reconstruct build stimuli goes down, and time to build view stimuli goes up.  \n",
    "i.e. it looks like there is an interaction between F1 score and build time."
   ]
  },
  {
   "cell_type": "code",
   "execution_count": null,
   "id": "3c938e0a",
   "metadata": {},
   "outputs": [],
   "source": [
    "# Define bin edges\n",
    "bins = [0, 0.6, 0.7, 0.8, 0.9, 1.1]\n",
    "\n",
    "# Define bin labels\n",
    "labels = ['0-0.6', '0.6-0.7', '0.7-0.8', '0.8-0.9', '0.9-1']\n",
    "\n",
    "# Create bins\n",
    "df_recalled_towers_unique['bestMatchF1Bin'] = pd.cut(df_recalled_towers_unique['bestMatchF1'], bins=bins, labels=labels, right=False)\n"
   ]
  },
  {
   "cell_type": "code",
   "execution_count": null,
   "id": "5df1cdd5",
   "metadata": {},
   "outputs": [],
   "source": [
    "g = sns.catplot(data = df_recalled_towers_unique,\n",
    "                y = \"time_since_last_submit\",\n",
    "                x = \"bestMatchCondition\",\n",
    "                col = \"bestMatchF1Bin\",\n",
    "                kind=\"bar\",\n",
    "                palette = palette,\n",
    "                errorbar=\"se\",\n",
    "                aspect=0.4)\n",
    "\n",
    "plt.title(\"Mean build time of best-matched condition\")\n",
    "\n",
    "g.set_titles(\"F1: {col_name}\")  # This will set only the value of the bestMatchF1Bin for column titles\n",
    "g.set_axis_labels(\"\", \"\")   # This will remove both x and y axis labels. If you want to remove only x-axis label, use (\"\", \"Desired Y-label\")\n",
    "sns.set_context(font_scale=1) \n",
    "\n",
    "for spine in fig.gca().spines.values():\n",
    "    spine.set_linewidth(2)\n",
    "    spine.set_color('black')\n",
    "    spine.set_zorder(1)\n",
    "\n",
    "# plt.ylim((0,80000))\n",
    "\n",
    "plt.legend([],[], frameon=False)"
   ]
  },
  {
   "cell_type": "markdown",
   "id": "50e90305",
   "metadata": {},
   "source": [
    "#### create dataframes for stats NOTE: I THINK THIS ISN'T CURRENTLY USED- delete?"
   ]
  },
  {
   "cell_type": "code",
   "execution_count": null,
   "id": "d3ce10f9",
   "metadata": {},
   "outputs": [],
   "source": [
    "bestMatchConditionCounts"
   ]
  },
  {
   "cell_type": "code",
   "execution_count": null,
   "id": "3a2fd426",
   "metadata": {},
   "outputs": [],
   "source": [
    "bestMatchConditionCountsBuiltBoth = bestMatchConditionCounts[bestMatchConditionCounts.built_both]"
   ]
  },
  {
   "cell_type": "code",
   "execution_count": null,
   "id": "8b71a9e8",
   "metadata": {},
   "outputs": [],
   "source": [
    "f1_diffs = bestMatchConditionCountsBuiltBoth.groupby('gameID').apply(\\\n",
    "                    lambda df: df.loc[df['bestMatchCondition'] == 'build', 'bestMatchF1Mean'].reset_index(drop=True)\\\n",
    "                             - df.loc[df['bestMatchCondition'] == 'view', 'bestMatchF1Mean'].reset_index(drop=True))"
   ]
  },
  {
   "cell_type": "code",
   "execution_count": null,
   "id": "780a5f0a",
   "metadata": {},
   "outputs": [],
   "source": [
    "bestMatchConditionCounts[bestMatchConditionCounts.built_both].groupby(['gameID','bestMatchCondition'])['bestMatchF1Mean']\n"
   ]
  },
  {
   "cell_type": "code",
   "execution_count": null,
   "id": "589a1622",
   "metadata": {},
   "outputs": [],
   "source": [
    "# no need to make df- just use df_recalled_towers_unique.\n",
    "# find average F1 for each participant/ condition. \n",
    "# Do unpaired t-test."
   ]
  },
  {
   "cell_type": "markdown",
   "id": "cb80e1bc",
   "metadata": {},
   "source": [
    "#### Create baseline\n",
    "\n",
    "Create baseline distribution of F1 scores with random mapping from reconstructions to targets"
   ]
  },
  {
   "cell_type": "code",
   "execution_count": null,
   "id": "bb2d8791",
   "metadata": {},
   "outputs": [],
   "source": [
    "import random"
   ]
  },
  {
   "cell_type": "code",
   "execution_count": null,
   "id": "0911f34f",
   "metadata": {},
   "outputs": [],
   "source": [
    "# calculate baseline distribution by shuffling assignments for each participants niter times\n",
    "\n",
    "df_baseline_f1 = pd.DataFrame()\n",
    "\n",
    "iters = 50\n",
    "\n",
    "random.seed(0)\n",
    "\n",
    "gameIDs = df_learn.gameID.unique()\n",
    "\n",
    "ppt_scores_dict = {}\n",
    "assignments_dict = {}\n",
    "\n",
    "# for each participant\n",
    "for gameID in gameIDs:\n",
    "    \n",
    "    # find stimuli\n",
    "    df_ppt_learn = df_learn[(df_learn.gameID == gameID)].groupby('tower_id').first()\n",
    "    \n",
    "    assert(len(df_ppt_learn) == 6)\n",
    "    \n",
    "    # find recalled towers\n",
    "    df_ppt_recall = df_recalled_towers_unique[df_recalled_towers_unique.gameID == gameID].groupby(\"nTower\").first()\n",
    "    \n",
    "    ppt_scores_dict[gameID] = get_score_matrix(df_ppt_learn, df_ppt_recall)\n",
    "#     ppt_maps = get_aligned_reconstructions(df_ppt_learn, df_ppt_recall)\n",
    "    \n",
    "    assignments_dict[gameID] = {}\n",
    "    \n",
    "    for i in range(iters):\n",
    "        \n",
    "#         print(ppt_scores_dict[gameID].shape)\n",
    "        \n",
    "        row_ind = list(range(ppt_scores_dict[gameID].shape[0]))\n",
    "        col_ind = list(range(ppt_scores_dict[gameID].shape[1]))\n",
    "        random.shuffle(col_ind) # randomize assignment\n",
    "        \n",
    "#         print(row_ind, col_ind)\n",
    "\n",
    "        assignments_dict[gameID][i] = {}\n",
    "        assignments_dict[gameID][i]['row_ind'] = row_ind\n",
    "        assignments_dict[gameID][i]['col_ind'] = col_ind\n",
    "        assignments_dict[gameID][i]['assignment'] = dict(zip(np.array(ppt_scores_dict[gameID].columns)[col_ind], ppt_scores_dict[gameID].index[row_ind]))\n",
    "        \n",
    "#         print(assignment)\n",
    "        assignments_dict[gameID][i]['F1s'] = []\n",
    "    \n",
    "        for j, (nTower, towerID) in enumerate(assignments_dict[gameID][i]['assignment'].items()):\n",
    "            \n",
    "#             print(ppt_scores_dict[gameID])\n",
    "            \n",
    "            assignments_dict[gameID][i]['F1s'].append(ppt_scores_dict[gameID].loc[towerID, nTower])\n",
    "        \n",
    "            \n",
    "            df_baseline_f1 = pd.concat([df_baseline_f1, pd.Series({\n",
    "                'gameID' : gameID,\n",
    "                'iter' : i,\n",
    "                'recall_attempt': nTower,\n",
    "                'tower_id': towerID,\n",
    "                'F1': ppt_scores_dict[gameID].loc[towerID, nTower]}).to_frame().T], ignore_index=True)\n",
    "            "
   ]
  },
  {
   "cell_type": "code",
   "execution_count": null,
   "id": "c3b5a10d",
   "metadata": {},
   "outputs": [],
   "source": [
    "df_learn_rep_1 = df_learn[df_learn.rep==1].reset_index(drop=True)"
   ]
  },
  {
   "cell_type": "code",
   "execution_count": null,
   "id": "d2f03277",
   "metadata": {},
   "outputs": [],
   "source": [
    "df_baseline_f1 = df_baseline_f1.merge(df_learn_rep_1[['gameID', 'tower_id','condition']], on = ['gameID', 'tower_id'], how='left')\n",
    "df_baseline_f1"
   ]
  },
  {
   "cell_type": "code",
   "execution_count": null,
   "id": "ae3c0c21",
   "metadata": {},
   "outputs": [],
   "source": [
    "# fig = plt.figure(figsize=(6,6))\n",
    "fig = plt.figure()\n",
    "\n",
    "sns.barplot(data = df_baseline_f1,\n",
    "                y = \"F1\",\n",
    "                x = \"condition\",\n",
    "                palette = palette)\n",
    "\n",
    "plt.title(\"Baseline F1 for randomly paired recall attempts and targets\")\n",
    "\n",
    "for spine in fig.gca().spines.values():\n",
    "    spine.set_linewidth(2)\n",
    "    spine.set_color('black')\n",
    "    spine.set_zorder(1)\n",
    "    \n",
    "plt.ylim((0,1))\n",
    "\n",
    "plt.legend([],[], frameon=False)"
   ]
  },
  {
   "cell_type": "code",
   "execution_count": null,
   "id": "c8a58e73",
   "metadata": {},
   "outputs": [],
   "source": [
    "# each ppt is associated with a range of F1s\n",
    "\n",
    "assignments_dict[gameID][3]['assignment']"
   ]
  },
  {
   "cell_type": "markdown",
   "id": "7762bace",
   "metadata": {},
   "source": [
    "## Build sequences\n",
    "\n",
    "In addition to holistic measures like build time and accuracy, we can also look at the specific actions people take to see how building procedures varied across matched conditions.\n",
    "\n",
    "In particular, we can compare how similar the reconstruction procedure is to:  \n",
    "a) *their own* building procedure for the same tower in the recall phase (if it was a build match)\n",
    "b) the average building procedure for the same tower in the recall phase\n",
    "\n",
    "We can compare (a) and (b) for build matches. This will tell us whether people are build more similarly to how they encode the object than by chance, i.e. whether a part of what they are recalling is their building sequence.  \n",
    "We can compare (b) for build and view matches. This will tell us whether people use more idiosyncratic strategies during recall than encoding/ whether people build differently when recalling vs. copying.\n",
    "\n",
    "Here is one way of calculating distance between procedures.\n",
    "1. map actions i\n",
    "2. take some distance measure between them (e.g. Euclidean)\n",
    "3. take the average\n",
    "\n",
    "##### Notes\n",
    "In a previous project, we found all action-action mappings and take the one that minimizes this distance. However I think that most stimuli can be made in exactly one way i.e. position of blocks is determined, so order is all that matters. This would mean that all sequences end up the same if shuffled.\n",
    "\n",
    "Should we find variance in build procedures for each stimulus to get a sense of how varied they procedures for each one are? Some might be more memorable."
   ]
  },
  {
   "cell_type": "markdown",
   "id": "a04fea93",
   "metadata": {},
   "source": [
    "When someone recalls one of the build stimuli, is the procedure they use more similar to the way *they* built it previously (during \"encoding\") than to a random other participants' procedure when they encoded it?"
   ]
  },
  {
   "cell_type": "markdown",
   "id": "712cb66d",
   "metadata": {},
   "source": [
    "#### Construct dataframe of recall phase build sequences"
   ]
  },
  {
   "cell_type": "code",
   "execution_count": null,
   "id": "53d98731",
   "metadata": {},
   "outputs": [],
   "source": [
    "df_tmp = df_recalled_towers_unique[['gameID','nTower','tower_details','bestMatchCondition','bestMatch','bestMatchF1',]]\\\n",
    ".sort_values(['gameID','nTower'], ascending=[True, True]).reset_index(drop=True)\n",
    "\n",
    "df_tmp.loc[:,'blocks'] = df_tmp['tower_details'].apply(lambda x: x['blocks'])"
   ]
  },
  {
   "cell_type": "code",
   "execution_count": null,
   "id": "f89d6669",
   "metadata": {},
   "outputs": [],
   "source": [
    "# Initialize an empty DataFrame to store the results\n",
    "df_recall_blocks = pd.DataFrame()\n",
    "\n",
    "# Iterate over each row in the original DataFrame\n",
    "for index, row in df_tmp.iterrows():\n",
    "    list_values = row['blocks']\n",
    "    \n",
    "    # Iterate over each element in the list (with its index)\n",
    "    for element_index, element_value in enumerate(list_values):\n",
    "        \n",
    "        # Create a new row that includes the element and its index\n",
    "        new_row = row.copy()\n",
    "        new_row['block'] = element_value\n",
    "        new_row['block_index'] = element_index\n",
    "        new_row['x'] = new_row['block']['x']\n",
    "        new_row['y'] = new_row['block']['y']\n",
    "        new_row['width'] = new_row['block']['width']\n",
    "        new_row['height'] = new_row['block']['height']\n",
    "        \n",
    "        # Append the new row to the results DataFrame\n",
    "        df_recall_blocks = pd.concat([df_recall_blocks, pd.DataFrame([new_row])], ignore_index=True)"
   ]
  },
  {
   "cell_type": "markdown",
   "id": "99865fe5",
   "metadata": {},
   "source": [
    "#### Construct dataframe of learn phase build sequences"
   ]
  },
  {
   "cell_type": "code",
   "execution_count": null,
   "id": "6181946f",
   "metadata": {},
   "outputs": [],
   "source": [
    "df_learn_build = df_learn[df_learn.condition=='build'][['gameID','tower_id','rep','trial_index','blocks']]\\\n",
    "                    .sort_values(['gameID','trial_index'], ascending=[True, True]).reset_index(drop=True)"
   ]
  },
  {
   "cell_type": "code",
   "execution_count": null,
   "id": "541316ea",
   "metadata": {},
   "outputs": [],
   "source": [
    "df_learn_build.loc[:,'blocks'] = df_learn_build['blocks'].apply(ast.literal_eval)"
   ]
  },
  {
   "cell_type": "code",
   "execution_count": null,
   "id": "912a0249",
   "metadata": {},
   "outputs": [],
   "source": [
    "# Initialize an empty DataFrame to store the results\n",
    "df_learn_blocks = pd.DataFrame()\n",
    "\n",
    "# Iterate over each row in the original DataFrame\n",
    "for index, row in df_learn_build.iterrows():\n",
    "    list_values = row['blocks']\n",
    "    \n",
    "    # Iterate over each element in the list (with its index)\n",
    "    for element_index, element_value in enumerate(list_values):\n",
    "        \n",
    "        # Create a new row that includes the element and its index\n",
    "        new_row = row.copy()\n",
    "        new_row['block'] = element_value\n",
    "        new_row['block_index'] = element_index\n",
    "        new_row['x'] = new_row['block']['x']\n",
    "        new_row['y'] = new_row['block']['y']\n",
    "        new_row['width'] = new_row['block']['width']\n",
    "        new_row['height'] = new_row['block']['height']\n",
    "        \n",
    "        # Append the new row to the results DataFrame\n",
    "        df_learn_blocks = pd.concat([df_learn_blocks, pd.DataFrame([new_row])], ignore_index=True)"
   ]
  },
  {
   "cell_type": "code",
   "execution_count": null,
   "id": "06343a25",
   "metadata": {},
   "outputs": [],
   "source": [
    "# simplification for now: just look at the second rep"
   ]
  },
  {
   "cell_type": "code",
   "execution_count": null,
   "id": "3e8ba9f6",
   "metadata": {},
   "outputs": [],
   "source": [
    "df_learn_blocks_r2 = df_learn_blocks[df_learn_blocks.rep > 1].reset_index(drop=True)"
   ]
  },
  {
   "cell_type": "code",
   "execution_count": null,
   "id": "9ce04325",
   "metadata": {},
   "outputs": [],
   "source": [
    "df_learn_blocks_r2"
   ]
  },
  {
   "cell_type": "markdown",
   "id": "9f40b4e4",
   "metadata": {},
   "source": [
    "#### Calculate distances between sequences\n",
    "\n",
    "measure: pair up build matches (recall towers matched with a built stimulus) with the reconstruction.\n",
    "calculate these distances (by gameid, towerid).\n",
    "\n",
    "baseline: pair up build matches (recall towers matched with a built stimulus) with a random other participants' reconstruction (by tower id)."
   ]
  },
  {
   "cell_type": "code",
   "execution_count": null,
   "id": "78afff42",
   "metadata": {},
   "outputs": [],
   "source": [
    "from scipy.spatial import distance\n",
    "\n",
    "def find_learn_sequence(row, df, random_matching_seq=False):\n",
    "    '''\n",
    "    find building sequence in learning df\n",
    "    '''\n",
    "    if not random_matching_seq:\n",
    "        seq = df[(df.tower_id == row.bestMatch) & (df.gameID == row.gameID)].reset_index(drop=True)\n",
    "        if len(seq) != 8:\n",
    "            print(seq)\n",
    "            print(row.bestMatch)\n",
    "            print(row.bestMatch)\n",
    "        return seq\n",
    "    \n",
    "    else:\n",
    "        all_matching_towers = df[(df.tower_id == row.bestMatch) & (df.gameID != row.gameID)].reset_index(drop=True)\n",
    "        all_matching_towers_grouped = all_matching_towers.groupby('gameID')\n",
    "        random_group_key = random.choice(list(all_matching_towers_grouped.groups.keys()))\n",
    "        random_group = all_matching_towers_grouped.get_group(random_group_key)\n",
    "        \n",
    "        return(random_group)\n",
    "\n",
    "def mean_euclidean(seq_a, seq_b):\n",
    "    a = seq_a[['x','y','width','height']]\n",
    "    b = seq_b[['x','y','width','height']]\n",
    "    ds = [distance.euclidean(a.iloc[i,:], \n",
    "                             b.iloc[i,:]) for i in range(len(seq_a))]\n",
    "    d = np.mean(ds)\n",
    "    return d\n",
    "\n",
    "def calculate_scores(seq_a, distance = mean_euclidean, random_matching_seq = False):\n",
    "    '''\n",
    "    Grabs building sequences of matched build stimulus,\n",
    "    then calculates distance between sequences\n",
    "    '''\n",
    "    seq_b = find_learn_sequence(seq_a.iloc[0], df_learn_blocks_r2, random_matching_seq = random_matching_seq)\n",
    "    d = distance(seq_a, seq_b)\n",
    "    return d"
   ]
  },
  {
   "cell_type": "code",
   "execution_count": null,
   "id": "05a18168",
   "metadata": {
    "scrolled": false
   },
   "outputs": [],
   "source": [
    "# calculate actual distances between construction procedures in learning phase (rep 2 of 2)\n",
    "# and recall phase (build matches only)\n",
    "\n",
    "df_build_dists = df_recall_blocks.query('bestMatchCondition == \"build\"')\\\n",
    "                    .groupby(['gameID','nTower','bestMatch'])\\\n",
    "                    .apply(calculate_scores).reset_index().rename(columns={0:'distance'})\n",
    "\n",
    "df_build_dists"
   ]
  },
  {
   "cell_type": "code",
   "execution_count": null,
   "id": "40164d18",
   "metadata": {
    "scrolled": false
   },
   "outputs": [],
   "source": [
    "# example of calculating baseline distance between construction procedure in recall phase (build matches only)\n",
    "# and randomly paired procedure in learning phase (rep 2 of 2) \n",
    "\n",
    "df_build_dists_random = df_recall_blocks.query('bestMatchCondition == \"build\"')\\\n",
    "                    .groupby(['gameID','nTower','bestMatch'])\\\n",
    "                    .apply(lambda x: calculate_scores(x, random_matching_seq = True))\\\n",
    "                    .reset_index().rename(columns={0:'distance'})\n",
    "\n",
    "df_build_dists_random"
   ]
  },
  {
   "cell_type": "code",
   "execution_count": null,
   "id": "ec9f2d1f",
   "metadata": {},
   "outputs": [],
   "source": [
    "# bootstrap a distribution of distances\n",
    "# consider other ways of aggregating (by ppt or tower or ntower?)\n",
    "\n",
    "n_iter = 1000\n",
    "\n",
    "df_build_dists_baseline_means = [] # mean for iteration (across all towers)\n",
    "\n",
    "df_build_dists_baseline_all = pd.DataFrame()\n",
    "\n",
    "for i in range(n_iter):\n",
    "    df_build_dists_baseline = df_recall_blocks.query('bestMatchCondition == \"build\"')\\\n",
    "                    .groupby(['gameID','nTower','bestMatch'])\\\n",
    "                    .apply(lambda x: calculate_scores(x, random_matching_seq = True))\\\n",
    "                    .reset_index().rename(columns={0:'distance'})\n",
    "    \n",
    "    df_build_dists_baseline.loc[:,'iter'] = i\n",
    "    \n",
    "    df_build_dists_baseline_all = pd.concat([df_build_dists_baseline_all, df_build_dists_baseline], ignore_index=True)\n",
    "    \n",
    "    df_build_dists_baseline_means.append(df_build_dists_baseline.distance.mean())"
   ]
  },
  {
   "cell_type": "code",
   "execution_count": null,
   "id": "f5b2678a",
   "metadata": {},
   "outputs": [],
   "source": [
    "df_build_dists_baseline_all"
   ]
  },
  {
   "cell_type": "code",
   "execution_count": null,
   "id": "0b12ed0b",
   "metadata": {
    "scrolled": true
   },
   "outputs": [],
   "source": [
    "sns.displot(df_build_dists_baseline_all, kind='hist', x='distance', row='nTower', bins=15)"
   ]
  },
  {
   "cell_type": "code",
   "execution_count": null,
   "id": "0d0dd08a",
   "metadata": {},
   "outputs": [],
   "source": [
    "np.mean(df_build_dists[df_build_dists.nTower == nTower].distance.mean() < df_build_dists_baseline_all[df_build_dists_baseline_all.nTower == nTower].groupby('iter').distance.mean())"
   ]
  },
  {
   "cell_type": "code",
   "execution_count": null,
   "id": "8b17dd9d",
   "metadata": {},
   "outputs": [],
   "source": [
    "for nTower in range(1,7):\n",
    "    actual = df_build_dists[df_build_dists.nTower == nTower].distance.mean()\n",
    "    baseline = df_build_dists_baseline_all[df_build_dists_baseline_all.nTower == nTower].groupby('iter').distance.mean()"
   ]
  },
  {
   "cell_type": "code",
   "execution_count": null,
   "id": "6a9bafc4",
   "metadata": {},
   "outputs": [],
   "source": [
    "for nTower in range(1,7):\n",
    "    actual = df_build_dists[df_build_dists.nTower == nTower].distance.mean()\n",
    "    baseline = df_build_dists_baseline_all[df_build_dists_baseline_all.nTower == nTower].groupby('iter').distance.mean()\n",
    "    print(np.mean(actual > baseline))"
   ]
  },
  {
   "cell_type": "code",
   "execution_count": null,
   "id": "5de418f0",
   "metadata": {},
   "outputs": [],
   "source": [
    "np.sum(df_build_dists[df_build_dists.nTower == 0+1].distance.mean() < df_build_dists_baseline_all[df_build_dists_baseline_all.nTower == 1].groupby('iter').distance.mean())"
   ]
  },
  {
   "cell_type": "code",
   "execution_count": null,
   "id": "fba9344d",
   "metadata": {},
   "outputs": [],
   "source": [
    "len(df_build_dists_baseline_means)"
   ]
  },
  {
   "cell_type": "code",
   "execution_count": null,
   "id": "37c55ce8",
   "metadata": {},
   "outputs": [],
   "source": [
    "# across all recall towers (1-6)\n",
    "plt.hist(df_build_dists_baseline_means,bins=15)\n",
    "plt.axvline(x=df_build_dists.distance.mean(), color='red', linestyle='--', label='Vertical Line')"
   ]
  },
  {
   "cell_type": "code",
   "execution_count": null,
   "id": "a5bd1cf2",
   "metadata": {},
   "outputs": [],
   "source": [
    "overall_pval = np.sum(df_build_dists_baseline_means < df_build_dists.distance.mean())/n_iter\n",
    "print(\"p = \" + str(overall_pval))"
   ]
  },
  {
   "cell_type": "markdown",
   "id": "a7f6c584",
   "metadata": {},
   "source": [
    "##### By number tower (i.e. first tower recalled to last tower recalled)"
   ]
  },
  {
   "cell_type": "code",
   "execution_count": null,
   "id": "4ce4c0da",
   "metadata": {
    "scrolled": false
   },
   "outputs": [],
   "source": [
    "# Create a sample Seaborn catplot with facets\n",
    "sns.set(style=\"whitegrid\")\n",
    "tips = sns.load_dataset(\"tips\")\n",
    "# g = sns.displot(data=df_build_dists_baseline_all, x=\"distance\", row=\"nTower\", kind=\"hist\", bins=15)\n",
    "\n",
    "mean_distances_by_iter = df_build_dists_baseline_all.groupby([\"iter\",'nTower'])[\"distance\"].mean().reset_index()\n",
    "# Create a displot with the mean distances\n",
    "g = sns.displot(data=mean_distances_by_iter, x=\"distance\", bins=15, row=\"nTower\", kind=\"hist\")\n",
    "\n",
    "# List of x-values for the vertical lines (one for each column)\n",
    "x_values = [1, 2, 3, 4]  # Adjust values as needed\n",
    "\n",
    "# Loop through each facet's axis and add vertical lines\n",
    "for row, ax in enumerate(g.axes.flat):\n",
    "    stat = df_build_dists[df_build_dists.nTower == row+1].distance.mean()\n",
    "    ax.axvline(x=stat, color='red', linestyle='--', label=f'recalled tower {row+1}')\n",
    "    ax.legend()\n",
    "\n",
    "# Show the plot\n",
    "plt.show()"
   ]
  },
  {
   "cell_type": "markdown",
   "id": "00c8339e",
   "metadata": {},
   "source": [
    "#### temporal dynamics\n",
    "\n",
    "How do recalled towers change over time? Participants were permitted to submit up to 6 towers, but submitting 6 does not necessarily mean they remembered them."
   ]
  },
  {
   "cell_type": "code",
   "execution_count": null,
   "id": "f7388a2c",
   "metadata": {},
   "outputs": [],
   "source": [
    "# accuracy drops off over time\n",
    "\n",
    "fig = plt.figure(figsize=(6,6))\n",
    "\n",
    "sns.barplot(data = df_recalled_towers_unique, \n",
    "            y = \"bestMatchF1\", \n",
    "            x = \"nTower\")\n",
    "\n",
    "plt.title('Average F1 score in order recalled')"
   ]
  },
  {
   "cell_type": "code",
   "execution_count": null,
   "id": "49e57b82",
   "metadata": {},
   "outputs": [],
   "source": [
    "# diff between F1 condition, calculated from recalled towers\n",
    "\n",
    "fig = plt.figure(figsize=(6,6))\n",
    "\n",
    "sns.pointplot(data = df_recalled_towers_unique,\n",
    "                y = \"bestMatchF1\",\n",
    "                x = \"bestMatchCondition\",\n",
    "                hue = \"gameID\",\n",
    "                order=[\"build\",\"view\"])\n",
    "\n",
    "plt.title('F1 between condition, by participant')\n",
    "\n",
    "plt.legend([],[], frameon=False)"
   ]
  },
  {
   "cell_type": "markdown",
   "id": "2df18cb3",
   "metadata": {},
   "source": [
    "#### recency bias?"
   ]
  },
  {
   "cell_type": "code",
   "execution_count": null,
   "id": "313a6f8e",
   "metadata": {},
   "outputs": [],
   "source": [
    "df_learn_rep_2 = df_learn[df_learn.rep==2].reset_index(drop=True)\n",
    "df_learn_rep_2.columns"
   ]
  },
  {
   "cell_type": "code",
   "execution_count": null,
   "id": "856d9d5d",
   "metadata": {},
   "outputs": [],
   "source": [
    "df_learn_rep_2.trial_num.unique()"
   ]
  },
  {
   "cell_type": "code",
   "execution_count": null,
   "id": "27d2e1a0",
   "metadata": {},
   "outputs": [],
   "source": [
    "df_learn_rep_2['last_exposure'] = df_learn_rep_2.trial_num - 12"
   ]
  },
  {
   "cell_type": "code",
   "execution_count": null,
   "id": "0fdae446",
   "metadata": {},
   "outputs": [],
   "source": [
    "# look at each reconstruction, see when it was last displayed"
   ]
  },
  {
   "cell_type": "code",
   "execution_count": null,
   "id": "3ef4c1c7",
   "metadata": {},
   "outputs": [],
   "source": [
    "def find_last_exposure(row, df = df_learn_rep_2):\n",
    "    subset = df[(df.gameID==row.gameID) & (df.tower_id==row.bestMatch)]\n",
    "    assert (len(subset)==1)\n",
    "    return subset.iloc[0]['last_exposure'] \n",
    "    "
   ]
  },
  {
   "cell_type": "code",
   "execution_count": null,
   "id": "c049c25b",
   "metadata": {},
   "outputs": [],
   "source": [
    "df_recalled_towers_unique['last_exposure'] = df_recalled_towers_unique.apply(find_last_exposure, axis=1)"
   ]
  },
  {
   "cell_type": "code",
   "execution_count": null,
   "id": "521f4b81",
   "metadata": {},
   "outputs": [],
   "source": [
    "fig = plt.figure(figsize=(6,6))\n",
    "\n",
    "sns.barplot(data = df_recalled_towers_unique, \n",
    "            y = \"bestMatchF1\", \n",
    "            x = \"last_exposure\")\n",
    "\n",
    "plt.title('Accuracy by how long ago stimulus was viewed')"
   ]
  },
  {
   "cell_type": "code",
   "execution_count": null,
   "id": "8c12a51c",
   "metadata": {},
   "outputs": [],
   "source": [
    "fig = plt.figure(figsize=(6,6))\n",
    "\n",
    "sns.barplot(data = df_recalled_towers_unique, \n",
    "            y = \"bestMatchF1\", \n",
    "            x = \"last_exposure\",\n",
    "            hue = \"bestMatchCondition\")\n",
    "\n",
    "plt.title('Accuracy by how long ago stimulus was viewed')"
   ]
  },
  {
   "cell_type": "code",
   "execution_count": null,
   "id": "b5146c8b",
   "metadata": {},
   "outputs": [],
   "source": [
    "df_learn_towers_f1 = \\\n",
    "df_learn_rep_1[df_learn_rep_1.matched_recall]\\\n",
    "    .merge(df_recalled_towers_unique[['gameID','bestMatchF1','bestMatch']], left_on=['gameID','tower_id'], \n",
    "           right_on=['gameID','bestMatch'])\n"
   ]
  },
  {
   "cell_type": "code",
   "execution_count": null,
   "id": "f1206768",
   "metadata": {},
   "outputs": [],
   "source": [
    "# diff between F1 condition,\n",
    "\n",
    "fig = plt.figure(figsize=(6,6))\n",
    "\n",
    "sns.pointplot(data = df_learn_towers_f1,\n",
    "                y = \"bestMatchF1\",\n",
    "                x = \"condition\",\n",
    "                hue = \"gameID\",\n",
    "                order=[\"build\",\"view\"])\n",
    "\n",
    "plt.title('F1 between condition, by participant')\n",
    "\n",
    "plt.legend([],[], frameon=False)"
   ]
  },
  {
   "cell_type": "code",
   "execution_count": null,
   "id": "9964e9e6",
   "metadata": {},
   "outputs": [],
   "source": []
  },
  {
   "cell_type": "code",
   "execution_count": null,
   "id": "28fc86ce",
   "metadata": {},
   "outputs": [],
   "source": [
    "# diff between F1 condition,\n",
    "\n",
    "fig = plt.figure(figsize=(6,6))\n",
    "\n",
    "sns.pointplot(data = df_learn_towers_f1,\n",
    "                y = \"bestMatchF1\",\n",
    "                x = \"condition\",\n",
    "                hue = \"tower_id\",\n",
    "                order=[\"build\",\"view\"])\n",
    "\n",
    "plt.title('F1 between condition, by participant')\n",
    "\n",
    "plt.legend([],[], frameon=False)"
   ]
  },
  {
   "cell_type": "code",
   "execution_count": null,
   "id": "e6647866",
   "metadata": {},
   "outputs": [],
   "source": []
  },
  {
   "cell_type": "code",
   "execution_count": null,
   "id": "b20b69f0",
   "metadata": {},
   "outputs": [],
   "source": [
    "fig = plt.figure(figsize=(6,6))\n",
    "\n",
    "sns.barplot(data = df_recalled_towers_unique,\n",
    "                y = \"bestMatchF1\",\n",
    "                x = \"bestMatchCondition\")\n",
    "\n",
    "plt.legend([],[], frameon=False)"
   ]
  },
  {
   "cell_type": "code",
   "execution_count": null,
   "id": "f3dcec83",
   "metadata": {},
   "outputs": [],
   "source": [
    "fig = plt.figure(figsize=(6,6))\n",
    "\n",
    "sns.displot(data = df_recalled_towers_unique, \n",
    "            x = \"bestMatchF1\", \n",
    "            hue = \"bestMatchCondition\")"
   ]
  },
  {
   "cell_type": "markdown",
   "id": "02f54d4c",
   "metadata": {},
   "source": [
    "#### By stimulus\n",
    "\n",
    "stimuli randomized ie. **not counterbalanced** between groups"
   ]
  },
  {
   "cell_type": "code",
   "execution_count": null,
   "id": "c8a647e4",
   "metadata": {},
   "outputs": [],
   "source": [
    "# stimuli are not particularly balanced between condition(!)\n",
    "fig = plt.figure(figsize=(10,6))\n",
    "sns.countplot(data = df_learn[df_learn.rep==1],\n",
    "            x = 'tower_id',\n",
    "            order = np.sort(df_learn.tower_id.unique()),\n",
    "            hue_order = [\"build\",\"view\"],\n",
    "            hue = 'condition')\n",
    "_ = plt.xticks(rotation = 90)"
   ]
  },
  {
   "cell_type": "code",
   "execution_count": null,
   "id": "e9ffac4b",
   "metadata": {},
   "outputs": [],
   "source": [
    "gameIDs = df_learn.gameID.unique()"
   ]
  },
  {
   "cell_type": "code",
   "execution_count": null,
   "id": "4d023da0",
   "metadata": {},
   "outputs": [],
   "source": [
    "# for each learned stim, count how many times it was matched"
   ]
  },
  {
   "cell_type": "code",
   "execution_count": null,
   "id": "277354e1",
   "metadata": {},
   "outputs": [],
   "source": [
    "df_learn['matched_recall'] = False\n",
    "\n",
    "for gameID in gameIDs:\n",
    "    df_learn_ppt = df_learn.query('gameID == @gameID')\n",
    "    \n",
    "    for (i, row) in df_learn_ppt.iterrows():\n",
    "        stimID = row['tower_id']\n",
    "        df_learn.loc[i,'matched_recall'] = len(df_recalled_towers_unique.query('(gameID == @gameID) & (bestMatch == @stimID)')) > 0\n"
   ]
  },
  {
   "cell_type": "code",
   "execution_count": null,
   "id": "ff729bf9",
   "metadata": {},
   "outputs": [],
   "source": [
    "df_learn_rep_1 = df_learn.sort_values('trial_start_time').groupby(['gameID','tower_id']).first().reset_index()"
   ]
  },
  {
   "cell_type": "code",
   "execution_count": null,
   "id": "f0a9c1b4",
   "metadata": {},
   "outputs": [],
   "source": [
    "df_learn_rep_1.groupby(['tower_id','condition']).count()"
   ]
  },
  {
   "cell_type": "code",
   "execution_count": null,
   "id": "0c7d4b09",
   "metadata": {},
   "outputs": [],
   "source": [
    "fig = plt.figure(figsize=(6,6))\n",
    "\n",
    "sns.barplot(data = df_learn_rep_1, \n",
    "            y = \"matched_recall\",\n",
    "            x = \"tower_id\")\n",
    "\n",
    "plt.xticks(rotation = 90)"
   ]
  },
  {
   "cell_type": "code",
   "execution_count": null,
   "id": "0fa0de9f",
   "metadata": {},
   "outputs": [],
   "source": [
    "fig = plt.figure(figsize=(10,6))\n",
    "\n",
    "sns.barplot(data = df_learn_rep_1, \n",
    "            y = \"matched_recall\",\n",
    "            hue = \"condition\",\n",
    "            hue_order = [\"build\",\"view\"],\n",
    "            x = \"tower_id\",\n",
    "            order = np.sort(df_learn.tower_id.unique()))\n",
    "\n",
    "plt.xticks(rotation = 90)"
   ]
  },
  {
   "cell_type": "code",
   "execution_count": null,
   "id": "834c8033",
   "metadata": {},
   "outputs": [],
   "source": [
    "fig = plt.figure(figsize=(6,6))\n",
    "\n",
    "sns.pointplot(data = df_learn_rep_1, \n",
    "            y = \"matched_recall\",\n",
    "            x = \"condition\",\n",
    "            hue = \"tower_id\",\n",
    "            order=[\"build\",\"view\"])\n",
    "\n",
    "plt.xticks(rotation = 90)\n",
    "plt.legend(bbox_to_anchor=(1,1))"
   ]
  },
  {
   "cell_type": "code",
   "execution_count": null,
   "id": "c20cf9c4",
   "metadata": {},
   "outputs": [],
   "source": [
    "test_stim_gameIDs = list(df_learn_rep_1[df_learn_rep_1.tower_id == 'talls_097_100']['gameID'])"
   ]
  },
  {
   "cell_type": "code",
   "execution_count": null,
   "id": "f6813fb5",
   "metadata": {
    "scrolled": true
   },
   "outputs": [],
   "source": [
    "# render everyone's recalled towers\n",
    "df_recalled_towers_unique[(df_recalled_towers_unique.gameID.isin(test_stim_gameIDs)) & \\\n",
    "                  (df_recalled_towers_unique.bestMatch=='talls_097_100') \\\n",
    "                  ].groupby('gameID').apply(show_recalled_towers)"
   ]
  },
  {
   "cell_type": "code",
   "execution_count": null,
   "id": "f4318ca2",
   "metadata": {},
   "outputs": [],
   "source": [
    "fig = plt.figure(figsize=(6,6))\n",
    "\n",
    "sns.violinplot(data = df_recalled_towers_unique, \n",
    "            y = \"bestMatchF1\", \n",
    "            x = \"bestMatch\",\n",
    "            stat='count')\n",
    "\n",
    "plt.xticks(rotation = 90)\n"
   ]
  },
  {
   "cell_type": "code",
   "execution_count": null,
   "id": "1db42a4e",
   "metadata": {},
   "outputs": [],
   "source": [
    "fig = plt.figure(figsize=(6,6))\n",
    "\n",
    "sns.barplot(data = df_recalled_towers_unique, \n",
    "            y = \"bestMatchF1\", \n",
    "            x = \"bestMatch\",\n",
    "            order=tower_ids)\n",
    "\n",
    "plt.xticks(rotation = 90)\n"
   ]
  },
  {
   "cell_type": "code",
   "execution_count": null,
   "id": "583b4e06",
   "metadata": {},
   "outputs": [],
   "source": [
    "tower_ids"
   ]
  },
  {
   "cell_type": "code",
   "execution_count": null,
   "id": "21b665f0",
   "metadata": {
    "scrolled": false
   },
   "outputs": [],
   "source": [
    "n_row = 2\n",
    "fig, axs = plt.subplots(n_row, int(len(tower_ids)/n_row), figsize=(20,6))\n",
    "\n",
    "for i, tower in enumerate(tower_ids):\n",
    "    show_tower_subplot(tower, axs[int(np.floor(i/(len(tower_ids)/n_row))), i%(int(len(tower_ids)/n_row))])"
   ]
  },
  {
   "cell_type": "code",
   "execution_count": null,
   "id": "b336b82f",
   "metadata": {},
   "outputs": [],
   "source": [
    "f1_stim_avg = df_recalled_towers_unique.groupby(['bestMatch','bestMatchCondition'])['bestMatchF1'].mean().reset_index()\n",
    "f1_stim_avg"
   ]
  },
  {
   "cell_type": "code",
   "execution_count": null,
   "id": "6fb3bb4c",
   "metadata": {},
   "outputs": [],
   "source": [
    "fig = plt.figure(figsize=(6,6))\n",
    "\n",
    "sns.pointplot(data = f1_stim_avg,\n",
    "                y = \"bestMatchF1\",\n",
    "                x = \"bestMatchCondition\",\n",
    "                hue = \"bestMatch\")\n",
    "\n",
    "plt.title('F1 between condition, by stimulus')\n",
    "\n",
    "plt.legend(bbox_to_anchor=(1,1))"
   ]
  },
  {
   "cell_type": "markdown",
   "id": "0eb6896b",
   "metadata": {},
   "source": [
    "# Old"
   ]
  },
  {
   "cell_type": "markdown",
   "id": "637b4ad9",
   "metadata": {},
   "source": [
    "## Building measures"
   ]
  },
  {
   "cell_type": "markdown",
   "id": "9851b927",
   "metadata": {},
   "source": [
    "#### Build time\n",
    "\n",
    "relative_time: time between start and end of building trial. This includes *all* attempts, i.e. time including resets."
   ]
  },
  {
   "cell_type": "code",
   "execution_count": null,
   "id": "8a575d8a",
   "metadata": {},
   "outputs": [],
   "source": [
    "df_build = df_encode[df_encode.trial_type == 'block-tower-building']"
   ]
  },
  {
   "cell_type": "code",
   "execution_count": null,
   "id": "216842bf",
   "metadata": {},
   "outputs": [],
   "source": [
    "build_times = df_build.groupby('gameID')[['relative_time']].mean().reset_index()"
   ]
  },
  {
   "cell_type": "code",
   "execution_count": null,
   "id": "fe993333",
   "metadata": {},
   "outputs": [],
   "source": [
    "plt.figure(figsize =(10,6))\n",
    "\n",
    "sns.barplot(data = df_build,\n",
    "            x = 'gameID',\n",
    "            y = 'relative_time',\n",
    "            )"
   ]
  },
  {
   "cell_type": "code",
   "execution_count": null,
   "id": "dfb6b861",
   "metadata": {},
   "outputs": [],
   "source": [
    "sns.histplot(build_times,\n",
    "            x = 'relative_time',\n",
    "            log_scale=False,\n",
    "            bins=10)"
   ]
  },
  {
   "cell_type": "code",
   "execution_count": null,
   "id": "5a778bc6",
   "metadata": {},
   "outputs": [],
   "source": [
    "build_times.mean()"
   ]
  },
  {
   "cell_type": "markdown",
   "id": "2af23ae8",
   "metadata": {},
   "source": [
    "Average build time is a lot longer than the 15 seconds people have to view the structure. "
   ]
  },
  {
   "cell_type": "markdown",
   "id": "70843562",
   "metadata": {},
   "source": [
    "### Resets"
   ]
  },
  {
   "cell_type": "code",
   "execution_count": null,
   "id": "b3f60270",
   "metadata": {},
   "outputs": [],
   "source": [
    "reset_means = df_build.groupby('gameID')[['n_resets']].mean().reset_index()"
   ]
  },
  {
   "cell_type": "code",
   "execution_count": null,
   "id": "f3b35b2f",
   "metadata": {},
   "outputs": [],
   "source": [
    "# raw trials\n",
    "sns.histplot(df_build,\n",
    "            x = 'n_resets',\n",
    "            log_scale=False,\n",
    "            bins=10)"
   ]
  },
  {
   "cell_type": "code",
   "execution_count": null,
   "id": "1d5a885d",
   "metadata": {},
   "outputs": [],
   "source": [
    "# mean for ppts\n",
    "sns.histplot(reset_means,\n",
    "            x = 'n_resets',\n",
    "            log_scale=False,\n",
    "            bins=10)"
   ]
  },
  {
   "cell_type": "markdown",
   "id": "a3a4c238",
   "metadata": {},
   "source": [
    "## Time measures\n",
    "\n",
    "These plots seem to suggest that the longer you wait between encoding and recall, the worse your memory of that item."
   ]
  },
  {
   "cell_type": "code",
   "execution_count": null,
   "id": "c6600f85",
   "metadata": {},
   "outputs": [],
   "source": [
    "# this dataframe contains recognition trials only from targets (i.e. non-foils)\n",
    "# it is augmented with additional variables from here onwards\n",
    "df_recog_target = df_recog[df_recog.condition != 'foil']"
   ]
  },
  {
   "cell_type": "markdown",
   "id": "a5ffb699",
   "metadata": {},
   "source": [
    "#### Encoding trial number\n",
    "\n",
    "Were the targets that were viewed/ built later remembered better?\n",
    "Looks like that may be the case.\n",
    "Also looks like a slight primacy bias?"
   ]
  },
  {
   "cell_type": "code",
   "execution_count": null,
   "id": "dd6d526f",
   "metadata": {},
   "outputs": [],
   "source": [
    "df_encode['encode_trial_num'] = df_encode.trial_num"
   ]
  },
  {
   "cell_type": "code",
   "execution_count": null,
   "id": "4834cac1",
   "metadata": {},
   "outputs": [],
   "source": [
    "df_recog_target = df_recog_target.merge(df_encode[df_encode.condition != 'foil']\\\n",
    "                                        [['gameID', 'tower_id','encode_trial_num']], \n",
    "                                        on = ['gameID','tower_id'])"
   ]
  },
  {
   "cell_type": "code",
   "execution_count": null,
   "id": "e1a17ac0",
   "metadata": {
    "scrolled": true
   },
   "outputs": [],
   "source": [
    "sns.lineplot(data = df_recog_target,\n",
    "                x = 'encode_trial_num',\n",
    "                y = 'response_correct')\n",
    "plt.axhline(0.5, color = 'r', linestyle = '--',)"
   ]
  },
  {
   "cell_type": "markdown",
   "id": "6f3f36ea",
   "metadata": {},
   "source": [
    "#### Recog trial number\n",
    "\n",
    "Were the targets that were probed earlier remembered better?"
   ]
  },
  {
   "cell_type": "code",
   "execution_count": null,
   "id": "e76efbe0",
   "metadata": {},
   "outputs": [],
   "source": [
    "df_recog['recog_trial_num'] = df_recog.trial_num - 12\n",
    "df_recog_target['recog_trial_num'] = df_recog_target.trial_num - 12"
   ]
  },
  {
   "cell_type": "code",
   "execution_count": null,
   "id": "8bc4847d",
   "metadata": {
    "scrolled": true
   },
   "outputs": [],
   "source": [
    "sns.lineplot(data = df_recog,\n",
    "                x = 'recog_trial_num',\n",
    "                y = 'response_correct')\n",
    "plt.axhline(0.5, color = 'r', linestyle = '--',)"
   ]
  },
  {
   "cell_type": "markdown",
   "id": "67691793",
   "metadata": {},
   "source": [
    "#### Number of trials between encoding and recognition\n",
    "\n",
    "Were the targets with a smaller gap (number of trials) between encoding and recognition better remembered?\n",
    "\n",
    "Eyeballing this graph it does look like the longer between encoding and recognition trials, the worse the performance."
   ]
  },
  {
   "cell_type": "code",
   "execution_count": null,
   "id": "954761fa",
   "metadata": {},
   "outputs": [],
   "source": [
    "def trial_diff(df, col='trial_num'):\n",
    "    return df[col].max() - df[col].min()"
   ]
  },
  {
   "cell_type": "code",
   "execution_count": null,
   "id": "d4fb3778",
   "metadata": {
    "scrolled": false
   },
   "outputs": [],
   "source": [
    "trial_diffs = df_trial[df_trial.condition != 'foil'].groupby(['gameID','tower_id']).apply(trial_diff).reset_index()"
   ]
  },
  {
   "cell_type": "code",
   "execution_count": null,
   "id": "f8f187a9",
   "metadata": {},
   "outputs": [],
   "source": [
    "trial_diffs = trial_diffs.rename(columns = {0: 'trial_diff'})"
   ]
  },
  {
   "cell_type": "code",
   "execution_count": null,
   "id": "a49bc2b4",
   "metadata": {},
   "outputs": [],
   "source": [
    "df_recog_target = df_recog_target.merge(trial_diffs, on=['gameID','tower_id'])"
   ]
  },
  {
   "cell_type": "code",
   "execution_count": null,
   "id": "8c642f62",
   "metadata": {},
   "outputs": [],
   "source": [
    "sns.lineplot(data = df_recog_target,\n",
    "                x = 'trial_diff',\n",
    "                y = 'response_correct')\n",
    "\n",
    "plt.axhline(0.5, color = 'r', linestyle = '--',)"
   ]
  },
  {
   "cell_type": "markdown",
   "id": "35a328a6",
   "metadata": {},
   "source": [
    "#### Duration between encoding and recognition\n",
    "\n",
    "Were the targets with a smaller gap (absolute time) between encoding and recognition better remembered?"
   ]
  },
  {
   "cell_type": "code",
   "execution_count": null,
   "id": "ef31676c",
   "metadata": {
    "scrolled": false
   },
   "outputs": [],
   "source": [
    "trial_time_diffs = df_trial[df_trial.condition != 'foil']\\\n",
    "    .groupby(['gameID','tower_id']).apply(lambda group: trial_diff(group, col='trial_start_time')).reset_index()"
   ]
  },
  {
   "cell_type": "code",
   "execution_count": null,
   "id": "83c21e85",
   "metadata": {},
   "outputs": [],
   "source": [
    "trial_time_diffs = trial_time_diffs.rename(columns = {0: 'trial_time_diff'})"
   ]
  },
  {
   "cell_type": "code",
   "execution_count": null,
   "id": "82101384",
   "metadata": {},
   "outputs": [],
   "source": [
    "df_recog_target = df_recog_target.merge(trial_time_diffs, on=['gameID','tower_id'])"
   ]
  },
  {
   "cell_type": "code",
   "execution_count": null,
   "id": "a870a222",
   "metadata": {},
   "outputs": [],
   "source": [
    "df_recog_target['trial_time_diff_bin'] = pd.cut(df_recog_target.trial_time_diff, 10)"
   ]
  },
  {
   "cell_type": "code",
   "execution_count": null,
   "id": "f73c5508",
   "metadata": {},
   "outputs": [],
   "source": [
    "plt.figure(figsize=(10,6))\n",
    "\n",
    "sns.barplot(data = df_recog_target,\n",
    "                x = 'trial_time_diff_bin',\n",
    "                y = 'response_correct')\n",
    "\n",
    "plt.axhline(0.5, color = 'r', linestyle = '--',)"
   ]
  },
  {
   "cell_type": "code",
   "execution_count": null,
   "id": "7b023e5b",
   "metadata": {},
   "outputs": [],
   "source": [
    "df_recog_target['trial_log_time_diff_bin'] = pd.cut(np.log(df_recog_target.trial_time_diff), 10)"
   ]
  },
  {
   "cell_type": "code",
   "execution_count": null,
   "id": "81c6fe83",
   "metadata": {},
   "outputs": [],
   "source": [
    "plt.figure(figsize=(10,6))\n",
    "\n",
    "sns.barplot(data = df_recog_target,\n",
    "                x = 'trial_log_time_diff_bin',\n",
    "                y = 'response_correct')\n",
    "\n",
    "plt.axhline(0.5, color = 'r', linestyle = '--',)"
   ]
  },
  {
   "cell_type": "markdown",
   "id": "5d0b05b6",
   "metadata": {},
   "source": [
    "### Check for reasonable distribution of temporal differences between conditions"
   ]
  },
  {
   "cell_type": "code",
   "execution_count": null,
   "id": "46d6e620",
   "metadata": {},
   "outputs": [],
   "source": [
    "df_condition_means = df_recog_target.groupby(['gameID','condition']).mean().reset_index()"
   ]
  },
  {
   "cell_type": "code",
   "execution_count": null,
   "id": "1ed15d85",
   "metadata": {},
   "outputs": [],
   "source": [
    "sns.pointplot(data = df_recog_target,\n",
    "            x = 'condition',\n",
    "            y = 'trial_diff',\n",
    "            hue = 'gameID')\n",
    "plt.legend([],[], frameon=False)"
   ]
  },
  {
   "cell_type": "code",
   "execution_count": null,
   "id": "abb29af4",
   "metadata": {},
   "outputs": [],
   "source": [
    "sns.pointplot(data = df_recog_target,\n",
    "            x = 'condition',\n",
    "            y = 'trial_time_diff',\n",
    "            hue = 'gameID')\n",
    "plt.legend([],[], frameon=False)"
   ]
  },
  {
   "cell_type": "code",
   "execution_count": null,
   "id": "c0c11423",
   "metadata": {},
   "outputs": [],
   "source": [
    "def condition_diff(df, cols = ['d_prime']):\n",
    "    '''\n",
    "    Returns difference between build and view conditions for variables in cols\n",
    "    '''\n",
    "#     print(df.condition)\n",
    "    \n",
    "    diffs = df[df.condition=='view'][cols].iloc[0] - df[df.condition=='build'][cols].iloc[0] \n",
    "    \n",
    "    \n",
    "    diffs = diffs.rename({col : col + '_diff' for col in cols})\n",
    "    \n",
    "    return diffs"
   ]
  },
  {
   "cell_type": "code",
   "execution_count": null,
   "id": "be6c679e",
   "metadata": {},
   "outputs": [],
   "source": [
    "# used below as predictor of d' differences\n",
    "condition_time_diffs = df_condition_means.groupby(['gameID']).apply(lambda df: condition_diff(df, cols = ['trial_diff',\n",
    "                                                                                   'recog_trial_num' ,\n",
    "                                                                                   'encode_trial_num',\n",
    "                                                                                   'trial_time_diff']))"
   ]
  },
  {
   "cell_type": "markdown",
   "id": "392171c6",
   "metadata": {},
   "source": [
    "## Properties of stimuli/ kinds of errors"
   ]
  },
  {
   "cell_type": "markdown",
   "id": "6978142e",
   "metadata": {},
   "source": [
    "### Holistic measures of similarity"
   ]
  },
  {
   "cell_type": "code",
   "execution_count": null,
   "id": "0ab00b31",
   "metadata": {},
   "outputs": [],
   "source": [
    "### Measures\n",
    "\n",
    "def jaccard_distance(a, b):\n",
    "    return 1 - jaccard_score(a, b, average = 'micro')\n",
    "\n",
    "def euclidean_distance(a, b):\n",
    "    return math.dist(a.flatten(), b.flatten())\n",
    "\n",
    "def euc_2(a, b):\n",
    "    return np.linalg.norm(a-b)\n",
    "\n",
    "\n",
    "### Calculate variabilities\n",
    "\n",
    "def between_group_var(group_a, group_b, metric = euc_2):\n",
    "    \n",
    "    both_groups = group_a.copy().append(group_b.copy(), ignore_index = True)\n",
    "    \n",
    "    y_bar = mean_tower(both_groups)\n",
    "    \n",
    "    group_a_mean = mean_tower(group_a)\n",
    "    group_b_mean = mean_tower(group_b)\n",
    "    \n",
    "    inside_sum = [(len(group_a) * ((metric(group_a_mean, y_bar))**2)), (len(group_b) * ((metric(group_b_mean, y_bar))**2))]\n",
    "    \n",
    "#     distances = np.array([[jaccard_distance(tower_a, tower_b) for tower_b in group_a['square_map']] for tower_a in group_b['square_map']])\n",
    "    \n",
    "#     squared_distances = np.square(distances)\n",
    "\n",
    "    var = np.sum(inside_sum)\n",
    "    \n",
    "    return var\n",
    "    \n",
    "\n",
    "def within_group_var(group_a, group_b, metric = euc_2):\n",
    "    '''\n",
    "    Calculates variance using errors i.e. distances from the mean,\n",
    "    where mean is literally the pointwise mean the map of blocks\n",
    "    \n",
    "    e.g. mean of these\n",
    "    [[0, 0, 0, 0],      [[0, 0, 0, 0],\n",
    "     [0, 1, 1, 0],       [0, 0, 0, 0],\n",
    "     [0, 1, 1, 0],       [0, 1, 1, 1],\n",
    "     [0, 1, 1, 0]]       [0, 1, 1, 1]] \n",
    "\n",
    "    is:\n",
    "    [[0, 0, 0, 0],\n",
    "     [0,.5,.5, 0],\n",
    "     [0, 1, 1,.5],\n",
    "     [0, 1, 1,.5]]\n",
    "     \n",
    "    This means we can't use jaccard or any other measure of similarity that requires discrete values.\n",
    "    '''\n",
    "    \n",
    "    total_observations = len(group_a) + len(group_b)\n",
    "    \n",
    "    group_vars = []\n",
    "    \n",
    "    for group in [group_a, group_b]:\n",
    "        \n",
    "        group_mean = mean_tower(group)\n",
    "\n",
    "        errors = group['square_map'].apply(lambda tower: metric(tower, group_mean))\n",
    "        \n",
    "        sqrd_errors = np.square(errors)\n",
    "\n",
    "        sum_sqrd_errors = np.sum(sqrd_errors)\n",
    "        \n",
    "        group_var = sum_sqrd_errors/(total_observations - 2) # 2 is number of groups\n",
    "        \n",
    "        group_vars.append(group_var)\n",
    "    \n",
    "    sum_vars = sum(group_vars)\n",
    "    \n",
    "    return sum_vars\n",
    "\n",
    "\n",
    "def get_variabilities(df, metric = euc_2):\n",
    "    \n",
    "    # group contains recall trials from a single ppt\n",
    "    \n",
    "    build_group = df[df.condition == 'build']\n",
    "    view_group  = df[df.condition == 'view']\n",
    "    foil_group  = df[df.condition == 'foil']\n",
    "    \n",
    "    group_variabilities = {\n",
    "        'build_between_group_var' : between_group_var(build_group, foil_group, metric = metric),\n",
    "        'build_within_group_var' : within_group_var(build_group, foil_group, metric = metric),\n",
    "        'view_between_group_var'  : between_group_var(view_group, foil_group, metric = metric),\n",
    "        'view_within_group_var'  : within_group_var(view_group, foil_group, metric = metric),\n",
    "    }\n",
    "    \n",
    "    group_variabilities['build_f_ratio'] = group_variabilities['build_between_group_var'] / group_variabilities['build_within_group_var']\n",
    "    group_variabilities['view_f_ratio'] = group_variabilities['view_between_group_var'] / group_variabilities['view_within_group_var']\n",
    "    \n",
    "    return pd.Series(group_variabilities)"
   ]
  },
  {
   "cell_type": "markdown",
   "id": "0a7b0dbb",
   "metadata": {},
   "source": [
    "#### Euclidean Distance"
   ]
  },
  {
   "cell_type": "code",
   "execution_count": null,
   "id": "03aed68c",
   "metadata": {},
   "outputs": [],
   "source": [
    "df_variabilities = df_recog.groupby(['gameID']).apply(\\\n",
    "                        lambda group : get_variabilities (group, metric = euc_2)).reset_index()     "
   ]
  },
  {
   "cell_type": "code",
   "execution_count": null,
   "id": "781165af",
   "metadata": {},
   "outputs": [],
   "source": [
    "# tidy dataframe\n",
    "build_variabilities = df_variabilities[['build_between_group_var','build_within_group_var','build_f_ratio','gameID']].copy()\n",
    "build_variabilities['condition'] = 'build'\n",
    "view_variabilities = df_variabilities[['view_between_group_var','view_within_group_var','view_f_ratio','gameID']].copy()\n",
    "view_variabilities['condition'] = 'view'\n",
    "\n",
    "build_variabilities = build_variabilities.rename(columns = {'build_between_group_var': 'between_group_var',\n",
    "                                      'build_within_group_var': 'within_group_var',\n",
    "                                      'build_f_ratio': 'f_ratio'})\n",
    "\n",
    "view_variabilities = view_variabilities.rename(columns = {'view_between_group_var': 'between_group_var',\n",
    "                                     'view_within_group_var': 'within_group_var',\n",
    "                                     'view_f_ratio': 'f_ratio'})\n",
    "\n",
    "df_variabilities_tidy = build_variabilities.append(view_variabilities, ignore_index=True)\n",
    "df_variabilities_tidy['measure'] = 'euclidean'\n",
    "df_variabilities_tidy"
   ]
  },
  {
   "cell_type": "markdown",
   "id": "c1fc30a9",
   "metadata": {},
   "source": [
    "### Export condition measures csvs"
   ]
  },
  {
   "cell_type": "code",
   "execution_count": null,
   "id": "39fa148b",
   "metadata": {},
   "outputs": [],
   "source": [
    "condition_measures_expanded = condition_measures.copy().merge(df_variabilities_tidy, on = ['gameID','condition'])"
   ]
  },
  {
   "cell_type": "code",
   "execution_count": null,
   "id": "af648d91",
   "metadata": {},
   "outputs": [],
   "source": [
    "condition_measures_expanded.to_csv('../../results/build_components/csv/df_condition_measures_{}.csv'.format(iteration_name))"
   ]
  },
  {
   "cell_type": "code",
   "execution_count": null,
   "id": "e849abf4",
   "metadata": {},
   "outputs": [],
   "source": [
    "# df_recog.to_csv('../../results/build_components/csv/df_recog_{}.csv'.format(iteration_name))"
   ]
  },
  {
   "cell_type": "code",
   "execution_count": null,
   "id": "155a112d",
   "metadata": {},
   "outputs": [],
   "source": [
    "sns.scatterplot(\n",
    "    data = condition_measures_expanded,\n",
    "    x = 'f_ratio',\n",
    "    y = 'd_prime',\n",
    "    hue = 'condition'\n",
    ")"
   ]
  },
  {
   "cell_type": "markdown",
   "id": "b9293759",
   "metadata": {},
   "source": [
    "#### Jaccard similarity\n",
    "\n",
    "https://scikit-learn.org/stable/modules/generated/sklearn.metrics.jaccard_score.html"
   ]
  },
  {
   "cell_type": "code",
   "execution_count": null,
   "id": "bd80601f",
   "metadata": {},
   "outputs": [],
   "source": [
    "# You cannot calculate the Jaccard score between continuous variables\n",
    "\n",
    "# df_variabilities = df_recog.groupby(['gameID']).apply(\\\n",
    "#                         lambda group : get_variabilities (group, metric = jaccard_distance)).reset_index()                                                      "
   ]
  },
  {
   "cell_type": "markdown",
   "id": "3a4ce74c",
   "metadata": {},
   "source": [
    "### Procedural and part-based measures of similarity\n",
    "\n",
    "Rather than holistic measures of visual similarity leading to errors, perhaps people mistake towers that are built in similar ways for each other.\n",
    "\n",
    "Note that 'visual' vs. 'procedural' might not reflect a natural distinction.\n",
    "'Holistic' vs. 'part based' might be more accurate.\n",
    "\n",
    "But if I can look into procedural measures (i.e. this *would* be built in a similar way to another tower).\n"
   ]
  },
  {
   "cell_type": "code",
   "execution_count": null,
   "id": "0a1e1f75",
   "metadata": {},
   "outputs": [],
   "source": []
  },
  {
   "cell_type": "markdown",
   "id": "76677680",
   "metadata": {},
   "source": [
    "#### More likely to make mistake if built/ viewed chunk?\n",
    "\n",
    "Lots of these towers shared parts (i.e. top or bottom half) with other towers. Are people more likely to false alarm if they have:\n",
    "- viewed a shared part previously\n",
    "- built a shared part previously\n",
    "- built or viewed a shared part previously\n",
    "- built or viewed a shared part more times (i.e. ordinal predictor)"
   ]
  },
  {
   "cell_type": "code",
   "execution_count": null,
   "id": "a6d1381d",
   "metadata": {},
   "outputs": [],
   "source": [
    "# proportion of foil trials that were false alarmed, broken down by part seen previously, part not seen previously\n",
    "\n",
    "\n"
   ]
  },
  {
   "cell_type": "code",
   "execution_count": null,
   "id": "ee661020",
   "metadata": {},
   "outputs": [],
   "source": [
    "proportion of foil trials that were false alarmed, broken down by:\n",
    "- part seen previously in building trial only\n",
    "- part seen previously in view trial only\n",
    "- part seen previously in both view and build\n",
    "- part not seen previously"
   ]
  },
  {
   "cell_type": "markdown",
   "id": "174d560c",
   "metadata": {},
   "source": [
    "#### Starting with just wide parts\n",
    "\n",
    "this asks whether a chunk has been seen before in a specific condition and gives a binary yes or no answer.\n",
    "alternatively, we could *count* the amount of times a chunk has been seen before"
   ]
  },
  {
   "cell_type": "code",
   "execution_count": null,
   "id": "75db12ad",
   "metadata": {},
   "outputs": [],
   "source": [
    "# which parts have been seen before?\n",
    "old_part_bottom = df_encode.groupby(['gameID','condition']).apply(lambda row: list(pd.unique(row['tower_A_wide_id']))).reset_index()\n",
    "old_part_top = df_encode.groupby(['gameID','condition']).apply(lambda row: list(pd.unique(row['tower_B_wide_id']))).reset_index()\n",
    "old_part_either = df_encode.groupby(['gameID','condition']).apply(\\\n",
    "                lambda row: list(pd.unique(row['tower_A_wide_id'].append(row['tower_B_wide_id']))))"
   ]
  },
  {
   "cell_type": "code",
   "execution_count": null,
   "id": "b745a647",
   "metadata": {},
   "outputs": [],
   "source": [
    "old_part_either['0055-d0778fd4-bbbb-4844-83f2-e7205ae10151','build']"
   ]
  },
  {
   "cell_type": "code",
   "execution_count": null,
   "id": "0c5458ac",
   "metadata": {},
   "outputs": [],
   "source": [
    "# binary yes/ no\n",
    "\n",
    "def saw_parts(row, condition = 'either', parts = ['tower_A_wide_id', 'tower_B_wide_id']):\n",
    "    \n",
    "    recog_parts = list(row[parts])\n",
    "#     print(recog_parts)\n",
    "    \n",
    "    if condition == 'either':\n",
    "        seen_parts = old_part_either[row.gameID, 'view'] + old_part_either[row.gameID, 'build']\n",
    "    else:\n",
    "        seen_parts = old_part_either[row.gameID, condition]\n",
    "        \n",
    "#     print(seen_parts)\n",
    "    overlap = len(set(recog_parts).intersection(set(seen_parts)))\n",
    "    \n",
    "    return overlap > 0"
   ]
  },
  {
   "cell_type": "code",
   "execution_count": null,
   "id": "a004b4b7",
   "metadata": {},
   "outputs": [],
   "source": [
    "df_recog['1plus_wide_part_built'] = df_recog.apply(lambda row: saw_parts(row,  condition = 'build', parts = ['tower_A_wide_id', 'tower_B_wide_id']), axis = 1)\n",
    "df_recog['1plus_wide_part_viewed'] = df_recog.apply(lambda row: saw_parts(row,  condition = 'view', parts = ['tower_A_wide_id', 'tower_B_wide_id']), axis = 1)\n",
    "df_recog['1plus_wide_part_built'] = df_recog.apply(lambda row: saw_parts(row,  condition = 'either', parts = ['tower_A_wide_id', 'tower_B_wide_id']), axis = 1)\n",
    "\n",
    "# check that 'either' condition is disjunction of built and viewed\n",
    "assert (df_recog['1plus_wide_part_built'] | df_recog['1plus_wide_part_viewed']).equals(df_recog['1plus_wide_part_built'])"
   ]
  },
  {
   "cell_type": "code",
   "execution_count": null,
   "id": "cfe7d530",
   "metadata": {},
   "outputs": [],
   "source": []
  },
  {
   "cell_type": "code",
   "execution_count": null,
   "id": "278fe338",
   "metadata": {},
   "outputs": [],
   "source": [
    "# careful here: you can view and build only one of the parts (don't just sum these)\n",
    "# (but you can sum them to find number of times that part was built for familiarity)\n",
    "n_parts_viewed = ...\n",
    "n_parts_built = ...\n",
    "\n",
    "n_times_part_seen = 0 # calculated differently! not with unique used above\n",
    "\n"
   ]
  },
  {
   "cell_type": "markdown",
   "id": "dedf0109",
   "metadata": {},
   "source": [
    "## Explore reasons for larger differences in d' between view and build"
   ]
  },
  {
   "cell_type": "code",
   "execution_count": null,
   "id": "9a9362d8",
   "metadata": {},
   "outputs": [],
   "source": [
    "condition_measures_diffs = condition_measures_expanded.groupby('gameID').apply(condition_diff)"
   ]
  },
  {
   "cell_type": "code",
   "execution_count": null,
   "id": "d5dcfd6c",
   "metadata": {},
   "outputs": [],
   "source": [
    "ppt_accuracy = df_recog.groupby('gameID')[['response_correct']].mean().reset_index()"
   ]
  },
  {
   "cell_type": "code",
   "execution_count": null,
   "id": "f7e12a02",
   "metadata": {},
   "outputs": [],
   "source": [
    "condition_measures_diffs = condition_measures_diffs.copy().merge(ppt_accuracy, on='gameID')\\\n",
    "                                                   .merge(build_times, on='gameID')\\\n",
    "                                                   .merge(reset_means, on='gameID')\\\n",
    "                                                   .merge(condition_time_diffs, on = 'gameID')"
   ]
  },
  {
   "cell_type": "code",
   "execution_count": null,
   "id": "1a5bde71",
   "metadata": {},
   "outputs": [],
   "source": [
    "condition_measures_diffs"
   ]
  },
  {
   "cell_type": "markdown",
   "id": "9577dfd0",
   "metadata": {},
   "source": [
    "#### distribution of differences in d' between conditions.\n",
    "Positive difference indicates that d' was greater for view condition"
   ]
  },
  {
   "cell_type": "code",
   "execution_count": null,
   "id": "6b6dd1dc",
   "metadata": {},
   "outputs": [],
   "source": [
    "sns.histplot(condition_measures_diffs.d_prime_diff, bins=15)"
   ]
  },
  {
   "cell_type": "markdown",
   "id": "4b614073",
   "metadata": {},
   "source": [
    "#### Temporal differences"
   ]
  },
  {
   "cell_type": "code",
   "execution_count": null,
   "id": "3b3272ae",
   "metadata": {},
   "outputs": [],
   "source": [
    "# average number of trials between encoding and recognition\n",
    "sns.scatterplot(data = condition_measures_diffs,\n",
    "                x = 'trial_diff_diff',\n",
    "                y = 'd_prime_diff')"
   ]
  },
  {
   "cell_type": "code",
   "execution_count": null,
   "id": "65835281",
   "metadata": {},
   "outputs": [],
   "source": [
    "# average time between encoding and recognition\n",
    "sns.scatterplot(data = condition_measures_diffs,\n",
    "                x = 'trial_time_diff_diff',\n",
    "                y = 'd_prime_diff')"
   ]
  },
  {
   "cell_type": "code",
   "execution_count": null,
   "id": "73579304",
   "metadata": {},
   "outputs": [],
   "source": [
    "# are encoding trials just later for view condition? Nope\n",
    "sns.scatterplot(data = condition_measures_diffs,\n",
    "                x = 'encode_trial_num_diff',\n",
    "                y = 'd_prime_diff')"
   ]
  },
  {
   "cell_type": "code",
   "execution_count": null,
   "id": "da2b99e8",
   "metadata": {},
   "outputs": [],
   "source": [
    "# are recogntion trials just earlier for view condition? Nope\n",
    "sns.scatterplot(data = condition_measures_diffs,\n",
    "                x = 'recog_trial_num_diff',\n",
    "                y = 'd_prime_diff')"
   ]
  },
  {
   "cell_type": "markdown",
   "id": "7f752ecc",
   "metadata": {},
   "source": [
    "#### average build time"
   ]
  },
  {
   "cell_type": "code",
   "execution_count": null,
   "id": "2c20dd61",
   "metadata": {},
   "outputs": [],
   "source": [
    "sns.scatterplot(data = condition_measures_diffs,\n",
    "                x = 'relative_time',\n",
    "                y = 'd_prime_diff')"
   ]
  },
  {
   "cell_type": "markdown",
   "id": "ec1c356f",
   "metadata": {},
   "source": [
    "#### average number of resets"
   ]
  },
  {
   "cell_type": "code",
   "execution_count": null,
   "id": "e28cb768",
   "metadata": {},
   "outputs": [],
   "source": [
    "sns.scatterplot(data = condition_measures_diffs,\n",
    "                x = 'n_resets',\n",
    "                y = 'd_prime_diff')"
   ]
  },
  {
   "cell_type": "markdown",
   "id": "ec17da67",
   "metadata": {},
   "source": [
    "#### average accuracy"
   ]
  },
  {
   "cell_type": "code",
   "execution_count": null,
   "id": "81f963f0",
   "metadata": {},
   "outputs": [],
   "source": [
    "sns.scatterplot(data = condition_measures_diffs,\n",
    "                x = 'response_correct',\n",
    "                y = 'd_prime_diff')"
   ]
  },
  {
   "cell_type": "markdown",
   "id": "fd60eef1",
   "metadata": {},
   "source": [
    "### Other"
   ]
  },
  {
   "cell_type": "markdown",
   "id": "3e697281",
   "metadata": {},
   "source": [
    "### Other"
   ]
  },
  {
   "cell_type": "markdown",
   "id": "bb3dff37",
   "metadata": {},
   "source": [
    "### Other"
   ]
  },
  {
   "cell_type": "code",
   "execution_count": null,
   "id": "dbc321df",
   "metadata": {},
   "outputs": [],
   "source": []
  }
 ],
 "metadata": {
  "kernelspec": {
   "display_name": "Python 3 (ipykernel)",
   "language": "python",
   "name": "python3"
  },
  "language_info": {
   "codemirror_mode": {
    "name": "ipython",
    "version": 3
   },
   "file_extension": ".py",
   "mimetype": "text/x-python",
   "name": "python",
   "nbconvert_exporter": "python",
   "pygments_lexer": "ipython3",
   "version": "3.9.16"
  }
 },
 "nbformat": 4,
 "nbformat_minor": 5
}

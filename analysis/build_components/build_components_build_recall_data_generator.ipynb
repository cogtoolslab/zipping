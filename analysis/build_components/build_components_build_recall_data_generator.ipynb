{
 "cells": [
  {
   "cell_type": "code",
   "execution_count": 1,
   "id": "48a76ce9",
   "metadata": {},
   "outputs": [],
   "source": [
    "import os\n",
    "import sys\n",
    "import urllib, io\n",
    "import pickle\n",
    "\n",
    "import numpy as np\n",
    "import scipy.stats as stats\n",
    "import pandas as pd\n",
    "from sklearn.metrics import euclidean_distances, jaccard_score, pairwise_distances\n",
    "\n",
    "import pymongo as pm\n",
    "from collections import Counter\n",
    "import json\n",
    "import re\n",
    "import ast\n",
    "\n",
    "from PIL import Image, ImageOps, ImageDraw, ImageFont \n",
    "from IPython.core.display import HTML \n",
    "\n",
    "from io import BytesIO\n",
    "import base64\n",
    "import requests\n",
    "\n",
    "import  matplotlib\n",
    "from matplotlib import pylab, mlab, pyplot\n",
    "%matplotlib inline\n",
    "from IPython.core.pylabtools import figsize, getfigs\n",
    "plt = pyplot\n",
    "import matplotlib as mpl\n",
    "mpl.rcParams['pdf.fonttype'] = 42\n",
    "\n",
    "import seaborn as sns\n",
    "sns.set_context('talk')\n",
    "sns.set_style('darkgrid')\n",
    "\n",
    "from IPython.display import clear_output\n",
    "\n",
    "import warnings\n",
    "warnings.filterwarnings(\"ignore\", category=DeprecationWarning)\n",
    "warnings.filterwarnings(\"ignore\", message=\"numpy.dtype size changed\")\n",
    "warnings.filterwarnings(\"ignore\", message=\"numpy.ufunc size changed\")\n",
    "\n",
    "sys.path.append(\"../../stimuli/block_utils/\")\n",
    "import blockworld_utils as utils"
   ]
  },
  {
   "cell_type": "code",
   "execution_count": 6,
   "id": "42cbae1a",
   "metadata": {},
   "outputs": [],
   "source": [
    "experiment_name = 'build_components'\n",
    "\n",
    "## directory & file hierarchy\n",
    "proj_dir = os.path.abspath('../..')\n",
    "datavol_dir = os.path.join(proj_dir,'data')\n",
    "analysis_dir = os.path.abspath(os.path.join(os.getcwd(),'..'))\n",
    "results_dir = os.path.join(proj_dir,'results')\n",
    "\n",
    "# paths specific to this experiment\n",
    "experiment_results_dir = os.path.join(results_dir, experiment_name)\n",
    "plot_dir = os.path.join(experiment_results_dir,'plots')\n",
    "csv_dir = os.path.join(experiment_results_dir,'csv')\n",
    "json_dir = os.path.join(experiment_results_dir,'json')\n",
    "\n",
    "png_dir = os.path.abspath(os.path.join(datavol_dir,'png'))\n",
    "jefan_dir = os.path.join(analysis_dir,'jefan')\n",
    "will_dir = os.path.join(analysis_dir,'will')\n",
    "\n",
    "## add helpers to python path\n",
    "if os.path.join(proj_dir,'stimuli') not in sys.path:\n",
    "    sys.path.append(os.path.join(proj_dir,'stimuli'))\n",
    "    \n",
    "if not os.path.exists(results_dir):\n",
    "    os.makedirs(results_dir)\n",
    "    \n",
    "if not os.path.exists(plot_dir):\n",
    "    os.makedirs(plot_dir)   \n",
    "    \n",
    "if not os.path.exists(csv_dir):\n",
    "    os.makedirs(csv_dir)       "
   ]
  },
  {
   "cell_type": "code",
   "execution_count": 5,
   "id": "6f8ec254",
   "metadata": {},
   "outputs": [],
   "source": [
    "! open ."
   ]
  },
  {
   "cell_type": "code",
   "execution_count": 68,
   "id": "82df79fd",
   "metadata": {},
   "outputs": [],
   "source": [
    "# set vars \n",
    "auth = pd.read_csv(os.path.join(proj_dir, 'auth.txt'), header = None) # this auth.txt file contains the password for the sketchloop user\n",
    "pswd = auth.values[0][0]\n",
    "user = 'sketchloop'\n",
    "host = 'cogtoolslab.org' ## cocolab ip address\n",
    "\n",
    "# have to fix this to be able to analyze from local\n",
    "import pymongo as pm\n",
    "conn = pm.MongoClient('mongodb://sketchloop:' + pswd + '@127.0.0.1')\n",
    "db = conn['block_construction']\n",
    "coll = db['build_components']\n",
    "\n",
    "# which iteration name should we use?\n",
    "# iteration_name = 'build_components_build_recall_prolific_pilot_12_towers'\n",
    "# iteration_name = 'build_components_build_recall_prolific_pilot_6_towers_2_rep'\n",
    "iteration_name = 'build_components_build_recall_6_towers_3_rep_color_sona_pilot_0'\n",
    "iteration_names = [iteration_name]"
   ]
  },
  {
   "cell_type": "code",
   "execution_count": 69,
   "id": "fcbe340e",
   "metadata": {},
   "outputs": [
    {
     "name": "stdout",
     "output_type": "stream",
     "text": [
      "5179\n"
     ]
    }
   ],
   "source": [
    "# all data\n",
    "query = coll.find({\"$and\":[\n",
    "                        {'iterationName': { '$in': iteration_names }},\n",
    "                        ]})\n",
    "df_all = pd.DataFrame(query)\n",
    "print(len(df_all))"
   ]
  },
  {
   "cell_type": "code",
   "execution_count": 70,
   "id": "1878694f",
   "metadata": {},
   "outputs": [
    {
     "name": "stdout",
     "output_type": "stream",
     "text": [
      "1\n"
     ]
    }
   ],
   "source": [
    "# load metadata\n",
    "query = coll.find({\"$and\":[\n",
    "                        {'datatype':'metadata'},\n",
    "                        {'iterationName': { '$in': iteration_names }},\n",
    "                        ]})\n",
    "df_meta = pd.DataFrame(query)\n",
    "print(len(df_meta))"
   ]
  },
  {
   "cell_type": "code",
   "execution_count": 98,
   "id": "030cfc5f",
   "metadata": {},
   "outputs": [
    {
     "data": {
      "text/plain": [
       "array(['external-html', 'instructions', nan, 'block-tower-building-undo',\n",
       "       'block-tower-viewing', 'block-tower-building-recall-choose-color',\n",
       "       'survey-text'], dtype=object)"
      ]
     },
     "execution_count": 98,
     "metadata": {},
     "output_type": "execute_result"
    }
   ],
   "source": [
    "df_all.trial_type.unique()"
   ]
  },
  {
   "cell_type": "code",
   "execution_count": 96,
   "id": "f6380862",
   "metadata": {},
   "outputs": [
    {
     "name": "stdout",
     "output_type": "stream",
     "text": [
      "459\n"
     ]
    }
   ],
   "source": [
    "# learning/ exposure trials\n",
    "learn_conditions = ['block-tower-viewing','block-tower-building-undo']\n",
    "\n",
    "query = coll.find({\"$and\":[\n",
    "                        {'iterationName': { '$in': iteration_names }},\n",
    "                        {'trial_type':{ '$in': learn_conditions }},\n",
    "                        ]})\n",
    "df_learn = pd.DataFrame(query)\n",
    "print(len(df_learn))"
   ]
  },
  {
   "cell_type": "code",
   "execution_count": 72,
   "id": "9f9a0442",
   "metadata": {},
   "outputs": [
    {
     "data": {
      "text/plain": [
       "array(['trial_end', 'reset', 'block_placement', 'block_undo_placement',\n",
       "       'block_redo_placement', 'metadata'], dtype=object)"
      ]
     },
     "execution_count": 72,
     "metadata": {},
     "output_type": "execute_result"
    }
   ],
   "source": [
    "df_all.datatype.unique()"
   ]
  },
  {
   "cell_type": "code",
   "execution_count": 73,
   "id": "2b6b8ce6",
   "metadata": {},
   "outputs": [
    {
     "name": "stdout",
     "output_type": "stream",
     "text": [
      "3385\n"
     ]
    }
   ],
   "source": [
    "# block placements\n",
    "query = coll.find({\"$and\":[\n",
    "                        {'datatype':'block_placement'},\n",
    "                        {'iterationName': { '$in': iteration_names }},\n",
    "                        ]})\n",
    "df_blocks = pd.DataFrame(query)\n",
    "print(len(df_blocks))"
   ]
  },
  {
   "cell_type": "code",
   "execution_count": 74,
   "id": "adc16567",
   "metadata": {},
   "outputs": [
    {
     "name": "stdout",
     "output_type": "stream",
     "text": [
      "0\n"
     ]
    }
   ],
   "source": [
    "# old-new judgements\n",
    "query = coll.find({\"$and\":[\n",
    "                        {'iterationName': { '$in': iteration_names }},\n",
    "                        {'trial_type':'block-tower-build-recall'},\n",
    "                        ]})\n",
    "df_recall_trial = pd.DataFrame(query)\n",
    "print(len(df_recall_trial))"
   ]
  },
  {
   "cell_type": "code",
   "execution_count": 75,
   "id": "578e5b31",
   "metadata": {},
   "outputs": [
    {
     "name": "stdout",
     "output_type": "stream",
     "text": [
      "0\n"
     ]
    }
   ],
   "source": [
    "# recalled towers one by one (in single recall trial)\n",
    "query = coll.find({\"$and\":[\n",
    "                        {'iterationName': { '$in': iteration_names }},\n",
    "                        {'datatype':'recalled_tower'},\n",
    "                        ]})\n",
    "df_recalled_towers = pd.DataFrame(query)\n",
    "print(len(df_recalled_towers))"
   ]
  },
  {
   "cell_type": "code",
   "execution_count": 102,
   "id": "220e2e47",
   "metadata": {},
   "outputs": [
    {
     "name": "stdout",
     "output_type": "stream",
     "text": [
      "103\n"
     ]
    }
   ],
   "source": [
    "# recalled towers one by one (across multiple recall trials i.e. in color experiments onwards)\n",
    "query = coll.find({\"$and\":[\n",
    "                        {'iterationName': { '$in': iteration_names }},\n",
    "                        {'trial_type':'block-tower-building-recall-choose-color'},\n",
    "                        ]})\n",
    "df_recalled_towers = pd.DataFrame(query)\n",
    "print(len(df_recalled_towers))"
   ]
  },
  {
   "cell_type": "code",
   "execution_count": 103,
   "id": "5ec7cebf",
   "metadata": {},
   "outputs": [
    {
     "name": "stdout",
     "output_type": "stream",
     "text": [
      "708\n"
     ]
    }
   ],
   "source": [
    "# old-new judgements\n",
    "query = coll.find({\"$and\":[\n",
    "                        {'iterationName': { '$in': iteration_names }},\n",
    "                        {'datatype':'trial_end'},\n",
    "                        ]})\n",
    "end_trial = pd.DataFrame(query)\n",
    "print(len(end_trial))"
   ]
  },
  {
   "cell_type": "code",
   "execution_count": 104,
   "id": "10590999",
   "metadata": {},
   "outputs": [
    {
     "data": {
      "text/plain": [
       "array(['3269-ed8c1c46-3d39-4c4d-b5c1-cf6a9d21fe2e',\n",
       "       '9486-e944bb1e-eb0b-464c-8400-76bd61747061',\n",
       "       '3208-e1932d71-b8d1-49b1-976c-031e2a6d5f1f',\n",
       "       '2889-a17faf23-63d8-47bd-8b01-0b4b9b9cbfb8',\n",
       "       '7908-6313375c-3e34-44a4-902c-d0d937773554',\n",
       "       '2345-bc2cb202-c208-425c-850b-886d9be49dba',\n",
       "       '2300-da866b24-0464-40d7-9fa3-439b856e72bf',\n",
       "       '0713-0ba42086-482e-41b1-a348-711ec82aaaa5',\n",
       "       '8954-eeb76500-f97a-4063-820e-36a6dc4d8227',\n",
       "       '0480-da64715e-32cc-40ac-a6fc-a8b084cb9088',\n",
       "       '5013-ef70f318-cbe1-42b5-9344-f489a8e0b035',\n",
       "       '6454-25fdffc2-340a-4e05-a0b1-43e361e577fa',\n",
       "       '3979-76823e6d-a203-4c47-84f3-1c9d9ea7374d',\n",
       "       '2020-3d475df8-ad77-432d-8c61-bda8fc6252b2',\n",
       "       '2947-b0884e77-0fda-440c-b2b9-a7c9e4319d97',\n",
       "       '4848-a8d62564-fcdb-4430-aeab-1de1239f0783',\n",
       "       '7499-cc804fd1-e2db-4f5e-8868-fa4e5443dba1',\n",
       "       '5017-d59e05a1-9fdf-4e6a-92ed-834e733b84d6',\n",
       "       '0314-d1979bb3-7329-4b79-9e6d-a2df3515f3c0',\n",
       "       '9146-b728401f-ac43-4897-9bba-bf217d5a468d',\n",
       "       '3582-b649a603-ae01-4429-9b31-f8a2ec0be291',\n",
       "       '7393-c4ee5eff-ab33-4c9e-b9a0-f1cc33351548',\n",
       "       '7707-7434570b-837d-4386-879f-7c64ac9363fc',\n",
       "       '1074-d962375a-5468-4a19-b967-0e61cee16d3b',\n",
       "       '1138-d874d613-17ae-42f4-b3fe-e081f39b30de'], dtype=object)"
      ]
     },
     "execution_count": 104,
     "metadata": {},
     "output_type": "execute_result"
    }
   ],
   "source": [
    "end_trial[end_trial['trial_type'] == 'block-tower-building-recall-choose-color'].gameID.unique()"
   ]
  },
  {
   "cell_type": "code",
   "execution_count": 105,
   "id": "54c8ae36",
   "metadata": {},
   "outputs": [
    {
     "data": {
      "text/plain": [
       "22      673700\n",
       "23      680844\n",
       "50      631068\n",
       "74      618776\n",
       "75      684956\n",
       "        ...   \n",
       "679    1001749\n",
       "680    1006323\n",
       "704     792008\n",
       "705     895396\n",
       "706     899101\n",
       "Name: time_elapsed, Length: 103, dtype: int64"
      ]
     },
     "execution_count": 105,
     "metadata": {},
     "output_type": "execute_result"
    }
   ],
   "source": [
    "end_trial[end_trial['trial_type'] == 'block-tower-building-recall-choose-color'].time_elapsed"
   ]
  },
  {
   "cell_type": "code",
   "execution_count": 106,
   "id": "a397a6e1",
   "metadata": {},
   "outputs": [
    {
     "data": {
      "text/plain": [
       "Index(['_id', 'rt', 'url', 'trial_type', 'trial_index', 'time_elapsed',\n",
       "       'internal_node_id', 'experimentName', 'iterationName', 'workerID',\n",
       "       'gameID', 'studyLocation', 'datatype', 'view_history', 'timeAbsolute',\n",
       "       'timeRelative', 'blocks', 'discreteWorld', 'eventType', 'endReason',\n",
       "       'block_str', 'tower_id', 'tower_A_tall_id', 'tower_A_wide_id',\n",
       "       'tower_B_tall_id', 'tower_B_wide_id', 'tower_id_tall', 'composite_id',\n",
       "       'trial_start_time', 'relative_time', 'stimulus', 'rep', 'condition',\n",
       "       'n_resets', 'trial_num', 'trial_finish_time', 'response', 'color'],\n",
       "      dtype='object')"
      ]
     },
     "execution_count": 106,
     "metadata": {},
     "output_type": "execute_result"
    }
   ],
   "source": [
    "end_trial[end_trial['trial_type'] == 'block-tower-building-recall-choose-color'].columns"
   ]
  },
  {
   "cell_type": "code",
   "execution_count": 107,
   "id": "f908b78a",
   "metadata": {},
   "outputs": [
    {
     "data": {
      "text/plain": [
       "[{'technical': 'no', 'confused': 'no', 'comments': 'no'},\n",
       " {'technical': '', 'confused': '', 'comments': ''},\n",
       " {'technical': 'no', 'confused': 'no', 'comments': 'no'},\n",
       " {'technical': '', 'confused': '', 'comments': ''},\n",
       " {'technical': 'No', 'confused': 'No', 'comments': 'No'},\n",
       " {'technical': 'No',\n",
       "  'confused': 'I had assumed I was only supposed to memorize the towers in the \"look\" section, so I didn\\'t pay as much attention to the ones I built',\n",
       "  'comments': \"If my build times are exceptionally fast (most likely they are not), it might be because I'm very into puzzle games, and had just played one related to spatial reasoning last night\"},\n",
       " {'technical': '', 'confused': '', 'comments': ''},\n",
       " {'technical': 'No', 'confused': '', 'comments': ''},\n",
       " {'technical': '', 'confused': '', 'comments': ''},\n",
       " {'technical': '', 'confused': '', 'comments': ''},\n",
       " {'technical': '', 'confused': '', 'comments': ''},\n",
       " {'technical': 'my computer was lagging a bit once i got to the building blocks portion',\n",
       "  'confused': 'no',\n",
       "  'comments': 'this was hard lol'},\n",
       " {'technical': 'no', 'confused': 'no', 'comments': 'no'},\n",
       " {'technical': 'No',\n",
       "  'confused': 'I was confused at the beginning because I thought you could place blocks in space above the ground to leave empty space ',\n",
       "  'comments': 'No'},\n",
       " {'technical': 'no',\n",
       "  'confused': \"I think I thought I was supposed to be remembering the 'look' towers and not all the towers.\",\n",
       "  'comments': ''},\n",
       " {'technical': '', 'confused': '', 'comments': ''},\n",
       " {'technical': 'n/a', 'confused': 'n/a', 'comments': 'n/a'},\n",
       " {'technical': '', 'confused': '', 'comments': ''},\n",
       " {'technical': 'no', 'confused': 'no', 'comments': 'no'},\n",
       " {'technical': 'No',\n",
       "  'confused': 'no',\n",
       "  'comments': 'It would be better if the participant could place any of the block out of order. '},\n",
       " {'technical': 'yes', 'confused': 'no', 'comments': 'nope'},\n",
       " {'technical': 'no',\n",
       "  'confused': 'trying to remember the blocks was harder than i expected',\n",
       "  'comments': ':)'},\n",
       " {'technical': 'no', 'confused': 'no', 'comments': 'no'},\n",
       " {'technical': 'no', 'confused': 'no', 'comments': 'no'},\n",
       " {'technical': 'no', 'confused': 'no', 'comments': 'no'}]"
      ]
     },
     "execution_count": 107,
     "metadata": {},
     "output_type": "execute_result"
    }
   ],
   "source": [
    "# look at survey responses\n",
    "list(df_all[df_all.trial_type == 'survey-text']['response'])"
   ]
  },
  {
   "cell_type": "markdown",
   "id": "6be8ccd0",
   "metadata": {},
   "source": [
    "### Exclusion criteria"
   ]
  },
  {
   "cell_type": "code",
   "execution_count": 91,
   "id": "5020c1bc",
   "metadata": {},
   "outputs": [],
   "source": [
    "df_all_trial = pd.concat([df_learn, df_recall_trial], ignore_index=True)"
   ]
  },
  {
   "cell_type": "code",
   "execution_count": 92,
   "id": "2d90d2bc",
   "metadata": {},
   "outputs": [],
   "source": [
    "# remove experimenter data\n",
    "remove_tests = False\n",
    "\n",
    "if remove_tests:\n",
    "    df_build = df_build[~df_build.workerID.isna()]\n",
    "    df_survey = df_survey[~df_survey.workerID.isna()]\n",
    "    df_learn = df_learn[~df_learn.workerID.isna()]\n",
    "    df_recall = df_recall[~df_recall.workerID.isna()]"
   ]
  },
  {
   "cell_type": "code",
   "execution_count": 93,
   "id": "6fbb9560",
   "metadata": {},
   "outputs": [
    {
     "name": "stdout",
     "output_type": "stream",
     "text": [
      "0 ppts removed for incomplete data\n",
      "0 ppts left\n"
     ]
    }
   ],
   "source": [
    "# remove incomplete datasets (build recall)\n",
    "remove_incomplete_datasets = True\n",
    "n_expected_trials = 13\n",
    "\n",
    "if remove_incomplete_datasets:\n",
    "    a = df_all_trial.groupby('gameID').apply(len) == n_expected_trials\n",
    "    complete_zipping_set_gameIDs = list(a[a].index)\n",
    "    df_trials = df_all_trial[df_all_trial.gameID.isin(complete_zipping_set_gameIDs)]\n",
    "    df_learn = df_learn[df_learn.gameID.isin(complete_zipping_set_gameIDs)]\n",
    "    df_recalled_towers = df_recalled_towers[df_recalled_towers.gameID.isin(complete_zipping_set_gameIDs)]\n",
    "    \n",
    "    incomplete_zipping_set_gameIDs = list(a[~a].index)\n",
    "    print(str(len(incomplete_zipping_set_gameIDs)) + ' ppts removed for incomplete data')\n",
    "    print(str(len(complete_zipping_set_gameIDs)) + ' ppts left')\n",
    "else: \n",
    "    print('No ppts removed')"
   ]
  },
  {
   "cell_type": "code",
   "execution_count": 41,
   "id": "5dfdf9c6",
   "metadata": {},
   "outputs": [
    {
     "data": {
      "text/plain": [
       "workerID\n",
       "5739549114f69e00067becd8    12\n",
       "5780d9a1900cc80001d2d1c2    13\n",
       "57dd3b0e91b7fc0001493db9    13\n",
       "587bfa12f89eee0001b31187     5\n",
       "588a59813e1f290001aa78c1    13\n",
       "5980f157413c230001291b22    13\n",
       "59c9cc4846f7210001906928    13\n",
       "5a638e5c31b87a0001c6ed7e    13\n",
       "5b13da851e55760001ba009a     2\n",
       "5b1ba337c9d3cb00011030ca    13\n",
       "5b1efc25bdf4e1000163af46    13\n",
       "5b2a72f7c293b90001732b89    13\n",
       "5b47e287bc06c90001f8b67d     1\n",
       "5b98f31b9e2ffe0001c23910    13\n",
       "5bc07659b8d38c0001de0516    14\n",
       "5c096cc8b57e9500015a18c2    13\n",
       "5c37ecbfbef9a20001e3b0d9    13\n",
       "5c72aec2aa7a7700018f25c8    14\n",
       "5c7eb988ac63960015004d03    13\n",
       "5d49bae2428aab001910c21f    13\n",
       "5d91e1e72a66dc00195db7dd    13\n",
       "5e5f684cd6bfcc29d1e5da67    13\n",
       "5e722d54811ec3046b5defbd     1\n",
       "5e9838342f9c6001611f9b50    14\n",
       "5ea16cb48366db01843ff38b    13\n",
       "5eca536f9aa4f658d641a7d9    13\n",
       "5ed2543942283e0366dadbdc    13\n",
       "5ee683596f9b570626faa11c    13\n",
       "5eeaff91fd89901efebf84b4    13\n",
       "5eee761287fdd331fc618449    13\n",
       "5f3013e31c8a690aacb02c31    13\n",
       "5f4412624052727181839e3a    13\n",
       "5f75d01a857e4e27a575f7ca    13\n",
       "603562fdba8e8db8fa33b1f1    13\n",
       "60461bfeeac81b04cf62f7a6    13\n",
       "606b9a381ba4c85dd950fbf7    13\n",
       "60dd1c25668cc31eb13642ed    13\n",
       "60fcbc0b079e2cfc50954745    13\n",
       "6105bec69dde271194d2d5d6    13\n",
       "611cf78346c5e728a66f1ebe    13\n",
       "611ecf1c48f5f4a9004cecbc    13\n",
       "6169e4749965d33744b7c4ff    13\n",
       "62c8391cd913ab9b5317d5f9     2\n",
       "62d18a8949920240954954c4    13\n",
       "62fbf0a70bb3960cd2e5fbc9    13\n",
       "6329c510ea44255e948f8492    13\n",
       "634688391e61c68f25ca1f82    13\n",
       "636550e1d1dbd252d2749aea    13\n",
       "63cffdbf780f8b199748645b    13\n",
       "63d419bfcbf7d56de633f50d    13\n",
       "63e51bec3af1cc5baf0c726a    13\n",
       "63ea93e9cb65d8d275bdcf82    13\n",
       "63ee51b476d41d4a2323587a    14\n",
       "63f7801f494a8b49c7bb360f    13\n",
       "640cbae3e88be609f5011050    13\n",
       "64401708880c30ec28b9aef4    13\n",
       "dtype: int64"
      ]
     },
     "execution_count": 41,
     "metadata": {},
     "output_type": "execute_result"
    }
   ],
   "source": [
    "df_all_trial.groupby('workerID').apply(len)"
   ]
  },
  {
   "cell_type": "markdown",
   "id": "8795589b",
   "metadata": {},
   "source": [
    "#### Flag potentially weird behaviors\n",
    "\n",
    "Flag:\n",
    "- < 50% accuracy?\n",
    "- button bashing on recall trials?\n",
    "- fast rts on recall trials?"
   ]
  },
  {
   "cell_type": "code",
   "execution_count": 45,
   "id": "551661d9",
   "metadata": {},
   "outputs": [],
   "source": [
    "df_trial = pd.concat([df_learn,df_recall_trial], ignore_index=True)"
   ]
  },
  {
   "cell_type": "markdown",
   "id": "ef6790a7",
   "metadata": {},
   "source": [
    "### preprocessing to fix data saving bugs"
   ]
  },
  {
   "cell_type": "code",
   "execution_count": 46,
   "id": "819c5cd3",
   "metadata": {},
   "outputs": [
    {
     "name": "stderr",
     "output_type": "stream",
     "text": [
      "/var/folders/4y/_czpmr7d3gb8b80x7wh36g1c0000gn/T/ipykernel_5209/156383829.py:1: SettingWithCopyWarning: \n",
      "A value is trying to be set on a copy of a slice from a DataFrame.\n",
      "Try using .loc[row_indexer,col_indexer] = value instead\n",
      "\n",
      "See the caveats in the documentation: https://pandas.pydata.org/pandas-docs/stable/user_guide/indexing.html#returning-a-view-versus-a-copy\n",
      "  df_learn.trial_num = df_learn.trial_index - 2\n"
     ]
    }
   ],
   "source": [
    "df_learn.trial_num = df_learn.trial_index - 2"
   ]
  },
  {
   "cell_type": "code",
   "execution_count": 47,
   "id": "cdeecc7a",
   "metadata": {},
   "outputs": [],
   "source": [
    "rep_1_idxs = range(0,7)\n",
    "rep_2_idxs = range(7,14)"
   ]
  },
  {
   "cell_type": "code",
   "execution_count": 48,
   "id": "bb7a89ae",
   "metadata": {},
   "outputs": [],
   "source": [
    "df_learn.loc[(df_learn.trial_num.isin(rep_1_idxs)),'rep'] = 1\n",
    "df_learn.loc[(df_learn.trial_num.isin(rep_2_idxs)),'rep'] = 2"
   ]
  },
  {
   "cell_type": "markdown",
   "id": "5292084c",
   "metadata": {},
   "source": [
    "### Save data to csv"
   ]
  },
  {
   "cell_type": "code",
   "execution_count": 52,
   "id": "8ef8cf57",
   "metadata": {},
   "outputs": [],
   "source": [
    "df_learn.to_csv(experiment_results_dir + '/df_learn_{}.csv'.format(iteration_name))\n",
    "# df_trial.to_csv(experiment_results_dir + '/df_trial_{}.csv'.format(iteration_name))\n",
    "df_recall_trial.to_csv(experiment_results_dir + '/df_recall_trial_{}.csv'.format(iteration_name))\n",
    "df_recalled_towers.to_csv(experiment_results_dir + '/df_recalled_towers_{}.csv'.format(iteration_name))\n",
    "df_blocks.to_csv(experiment_results_dir + '/df_blocks_{}.csv'.format(iteration_name))"
   ]
  },
  {
   "cell_type": "code",
   "execution_count": 53,
   "id": "5cc883de",
   "metadata": {},
   "outputs": [
    {
     "data": {
      "text/html": [
       "<div>\n",
       "<style scoped>\n",
       "    .dataframe tbody tr th:only-of-type {\n",
       "        vertical-align: middle;\n",
       "    }\n",
       "\n",
       "    .dataframe tbody tr th {\n",
       "        vertical-align: top;\n",
       "    }\n",
       "\n",
       "    .dataframe thead th {\n",
       "        text-align: right;\n",
       "    }\n",
       "</style>\n",
       "<table border=\"1\" class=\"dataframe\">\n",
       "  <thead>\n",
       "    <tr style=\"text-align: right;\">\n",
       "      <th></th>\n",
       "      <th>Unnamed: 0</th>\n",
       "      <th>_id</th>\n",
       "      <th>trial_start_time</th>\n",
       "      <th>trial_finish_time</th>\n",
       "      <th>condition</th>\n",
       "      <th>stimulus</th>\n",
       "      <th>response</th>\n",
       "      <th>trial_num</th>\n",
       "      <th>block_str</th>\n",
       "      <th>tower_id</th>\n",
       "      <th>...</th>\n",
       "      <th>eventType</th>\n",
       "      <th>endReason</th>\n",
       "      <th>relative_time</th>\n",
       "      <th>rep</th>\n",
       "      <th>n_resets</th>\n",
       "      <th>absolute_time</th>\n",
       "      <th>total_recall_time</th>\n",
       "      <th>submitted_towers</th>\n",
       "      <th>concatenated_towers</th>\n",
       "      <th>n_towers</th>\n",
       "    </tr>\n",
       "  </thead>\n",
       "  <tbody>\n",
       "    <tr>\n",
       "      <th>0</th>\n",
       "      <td>0</td>\n",
       "      <td>64274b0ee158fd5aa12435c5</td>\n",
       "      <td>1.680297e+12</td>\n",
       "      <td>1.680297e+12</td>\n",
       "      <td>view</td>\n",
       "      <td>{'blocks': [{'x': 0, 'y': 0, 'height': 1, 'wid...</td>\n",
       "      <td>NaN</td>\n",
       "      <td>1</td>\n",
       "      <td>0000000000000000101000001010000011110000100100...</td>\n",
       "      <td>talls_114_111</td>\n",
       "      <td>...</td>\n",
       "      <td>NaN</td>\n",
       "      <td>NaN</td>\n",
       "      <td>NaN</td>\n",
       "      <td>NaN</td>\n",
       "      <td>NaN</td>\n",
       "      <td>NaN</td>\n",
       "      <td>NaN</td>\n",
       "      <td>NaN</td>\n",
       "      <td>NaN</td>\n",
       "      <td>NaN</td>\n",
       "    </tr>\n",
       "    <tr>\n",
       "      <th>1</th>\n",
       "      <td>1</td>\n",
       "      <td>64274b4ee158fd5aa12435d2</td>\n",
       "      <td>1.680297e+12</td>\n",
       "      <td>NaN</td>\n",
       "      <td>build</td>\n",
       "      <td>{'blocks': [{'x': 0, 'y': 0, 'height': 1, 'wid...</td>\n",
       "      <td>NaN</td>\n",
       "      <td>2</td>\n",
       "      <td>0000000000000000010100000101000011110000011000...</td>\n",
       "      <td>talls_097_100</td>\n",
       "      <td>...</td>\n",
       "      <td>trial_end</td>\n",
       "      <td>perfect-reconstruction-translation</td>\n",
       "      <td>59538.0</td>\n",
       "      <td>1.0</td>\n",
       "      <td>1.0</td>\n",
       "      <td>NaN</td>\n",
       "      <td>NaN</td>\n",
       "      <td>NaN</td>\n",
       "      <td>NaN</td>\n",
       "      <td>NaN</td>\n",
       "    </tr>\n",
       "    <tr>\n",
       "      <th>2</th>\n",
       "      <td>2</td>\n",
       "      <td>64274b5ee158fd5aa12435d3</td>\n",
       "      <td>1.680297e+12</td>\n",
       "      <td>1.680297e+12</td>\n",
       "      <td>view</td>\n",
       "      <td>{'blocks': [{'x': 1, 'y': 0, 'height': 2, 'wid...</td>\n",
       "      <td>NaN</td>\n",
       "      <td>3</td>\n",
       "      <td>0000000000000000110100000101000001110000111100...</td>\n",
       "      <td>talls_121_101</td>\n",
       "      <td>...</td>\n",
       "      <td>NaN</td>\n",
       "      <td>NaN</td>\n",
       "      <td>NaN</td>\n",
       "      <td>NaN</td>\n",
       "      <td>NaN</td>\n",
       "      <td>NaN</td>\n",
       "      <td>NaN</td>\n",
       "      <td>NaN</td>\n",
       "      <td>NaN</td>\n",
       "      <td>NaN</td>\n",
       "    </tr>\n",
       "    <tr>\n",
       "      <th>3</th>\n",
       "      <td>3</td>\n",
       "      <td>64274b6fe158fd5aa12435d4</td>\n",
       "      <td>1.680297e+12</td>\n",
       "      <td>1.680297e+12</td>\n",
       "      <td>view</td>\n",
       "      <td>{'blocks': [{'x': 0, 'y': 0, 'height': 2, 'wid...</td>\n",
       "      <td>NaN</td>\n",
       "      <td>4</td>\n",
       "      <td>0000000000000000011100000110000011100000111100...</td>\n",
       "      <td>talls_102_126</td>\n",
       "      <td>...</td>\n",
       "      <td>NaN</td>\n",
       "      <td>NaN</td>\n",
       "      <td>NaN</td>\n",
       "      <td>NaN</td>\n",
       "      <td>NaN</td>\n",
       "      <td>NaN</td>\n",
       "      <td>NaN</td>\n",
       "      <td>NaN</td>\n",
       "      <td>NaN</td>\n",
       "      <td>NaN</td>\n",
       "    </tr>\n",
       "    <tr>\n",
       "      <th>4</th>\n",
       "      <td>4</td>\n",
       "      <td>64274b96e158fd5aa12435e8</td>\n",
       "      <td>1.680297e+12</td>\n",
       "      <td>NaN</td>\n",
       "      <td>build</td>\n",
       "      <td>{'blocks': [{'x': 0, 'y': 0, 'height': 1, 'wid...</td>\n",
       "      <td>NaN</td>\n",
       "      <td>5</td>\n",
       "      <td>0000000000000000111000000110000001110000011000...</td>\n",
       "      <td>talls_118_114</td>\n",
       "      <td>...</td>\n",
       "      <td>trial_end</td>\n",
       "      <td>perfect-reconstruction-translation</td>\n",
       "      <td>34840.0</td>\n",
       "      <td>1.0</td>\n",
       "      <td>0.0</td>\n",
       "      <td>NaN</td>\n",
       "      <td>NaN</td>\n",
       "      <td>NaN</td>\n",
       "      <td>NaN</td>\n",
       "      <td>NaN</td>\n",
       "    </tr>\n",
       "    <tr>\n",
       "      <th>...</th>\n",
       "      <td>...</td>\n",
       "      <td>...</td>\n",
       "      <td>...</td>\n",
       "      <td>...</td>\n",
       "      <td>...</td>\n",
       "      <td>...</td>\n",
       "      <td>...</td>\n",
       "      <td>...</td>\n",
       "      <td>...</td>\n",
       "      <td>...</td>\n",
       "      <td>...</td>\n",
       "      <td>...</td>\n",
       "      <td>...</td>\n",
       "      <td>...</td>\n",
       "      <td>...</td>\n",
       "      <td>...</td>\n",
       "      <td>...</td>\n",
       "      <td>...</td>\n",
       "      <td>...</td>\n",
       "      <td>...</td>\n",
       "      <td>...</td>\n",
       "    </tr>\n",
       "    <tr>\n",
       "      <th>645</th>\n",
       "      <td>645</td>\n",
       "      <td>6446e103da7c3649c9c2a376</td>\n",
       "      <td>1.682366e+12</td>\n",
       "      <td>NaN</td>\n",
       "      <td>NaN</td>\n",
       "      <td>NaN</td>\n",
       "      <td>NaN</td>\n",
       "      <td>13</td>\n",
       "      <td>NaN</td>\n",
       "      <td>NaN</td>\n",
       "      <td>...</td>\n",
       "      <td>NaN</td>\n",
       "      <td>NaN</td>\n",
       "      <td>NaN</td>\n",
       "      <td>NaN</td>\n",
       "      <td>1.0</td>\n",
       "      <td>1.682367e+12</td>\n",
       "      <td>492318.0</td>\n",
       "      <td>[{'towerDetails': {'blocks': [{'x': 4, 'y': 0,...</td>\n",
       "      <td>[{'height': 2, 'width': 1, 'x': 0, 'y': 0}, {'...</td>\n",
       "      <td>6.0</td>\n",
       "    </tr>\n",
       "    <tr>\n",
       "      <th>646</th>\n",
       "      <td>646</td>\n",
       "      <td>6446e20fda7c3649c9c2a419</td>\n",
       "      <td>1.682367e+12</td>\n",
       "      <td>NaN</td>\n",
       "      <td>NaN</td>\n",
       "      <td>NaN</td>\n",
       "      <td>NaN</td>\n",
       "      <td>61</td>\n",
       "      <td>NaN</td>\n",
       "      <td>NaN</td>\n",
       "      <td>...</td>\n",
       "      <td>NaN</td>\n",
       "      <td>NaN</td>\n",
       "      <td>NaN</td>\n",
       "      <td>NaN</td>\n",
       "      <td>1.0</td>\n",
       "      <td>1.682367e+12</td>\n",
       "      <td>283988.0</td>\n",
       "      <td>[{'towerDetails': {'blocks': [{'x': 3, 'y': 0,...</td>\n",
       "      <td>[{'height': 1, 'width': 2, 'x': 0, 'y': 0}, {'...</td>\n",
       "      <td>4.0</td>\n",
       "    </tr>\n",
       "    <tr>\n",
       "      <th>647</th>\n",
       "      <td>647</td>\n",
       "      <td>6446e36bda7c3649c9c2a47a</td>\n",
       "      <td>1.682367e+12</td>\n",
       "      <td>NaN</td>\n",
       "      <td>NaN</td>\n",
       "      <td>NaN</td>\n",
       "      <td>NaN</td>\n",
       "      <td>13</td>\n",
       "      <td>NaN</td>\n",
       "      <td>NaN</td>\n",
       "      <td>...</td>\n",
       "      <td>NaN</td>\n",
       "      <td>NaN</td>\n",
       "      <td>NaN</td>\n",
       "      <td>NaN</td>\n",
       "      <td>1.0</td>\n",
       "      <td>1.682367e+12</td>\n",
       "      <td>733328.0</td>\n",
       "      <td>[{'towerDetails': {'blocks': [{'x': 4, 'y': 0,...</td>\n",
       "      <td>[{'height': 2, 'width': 1, 'x': 1, 'y': 0}, {'...</td>\n",
       "      <td>6.0</td>\n",
       "    </tr>\n",
       "    <tr>\n",
       "      <th>648</th>\n",
       "      <td>648</td>\n",
       "      <td>6446e395da7c3649c9c2a485</td>\n",
       "      <td>1.682367e+12</td>\n",
       "      <td>NaN</td>\n",
       "      <td>NaN</td>\n",
       "      <td>NaN</td>\n",
       "      <td>NaN</td>\n",
       "      <td>13</td>\n",
       "      <td>NaN</td>\n",
       "      <td>NaN</td>\n",
       "      <td>...</td>\n",
       "      <td>NaN</td>\n",
       "      <td>NaN</td>\n",
       "      <td>NaN</td>\n",
       "      <td>NaN</td>\n",
       "      <td>0.0</td>\n",
       "      <td>1.682367e+12</td>\n",
       "      <td>135673.0</td>\n",
       "      <td>[{'towerDetails': {'blocks': [{'x': 4, 'y': 0,...</td>\n",
       "      <td>[{'height': 2, 'width': 1, 'x': 1, 'y': 0}, {'...</td>\n",
       "      <td>4.0</td>\n",
       "    </tr>\n",
       "    <tr>\n",
       "      <th>649</th>\n",
       "      <td>649</td>\n",
       "      <td>6446eb8cda7c3649c9c2a535</td>\n",
       "      <td>1.682369e+12</td>\n",
       "      <td>NaN</td>\n",
       "      <td>NaN</td>\n",
       "      <td>NaN</td>\n",
       "      <td>NaN</td>\n",
       "      <td>13</td>\n",
       "      <td>NaN</td>\n",
       "      <td>NaN</td>\n",
       "      <td>...</td>\n",
       "      <td>NaN</td>\n",
       "      <td>NaN</td>\n",
       "      <td>NaN</td>\n",
       "      <td>NaN</td>\n",
       "      <td>3.0</td>\n",
       "      <td>1.682369e+12</td>\n",
       "      <td>170796.0</td>\n",
       "      <td>[{'towerDetails': {'blocks': [{'x': 6, 'y': 0,...</td>\n",
       "      <td>[{'height': 2, 'width': 1, 'x': 4, 'y': 0}, {'...</td>\n",
       "      <td>6.0</td>\n",
       "    </tr>\n",
       "  </tbody>\n",
       "</table>\n",
       "<p>650 rows × 40 columns</p>\n",
       "</div>"
      ],
      "text/plain": [
       "     Unnamed: 0                       _id  trial_start_time   \n",
       "0             0  64274b0ee158fd5aa12435c5      1.680297e+12  \\\n",
       "1             1  64274b4ee158fd5aa12435d2      1.680297e+12   \n",
       "2             2  64274b5ee158fd5aa12435d3      1.680297e+12   \n",
       "3             3  64274b6fe158fd5aa12435d4      1.680297e+12   \n",
       "4             4  64274b96e158fd5aa12435e8      1.680297e+12   \n",
       "..          ...                       ...               ...   \n",
       "645         645  6446e103da7c3649c9c2a376      1.682366e+12   \n",
       "646         646  6446e20fda7c3649c9c2a419      1.682367e+12   \n",
       "647         647  6446e36bda7c3649c9c2a47a      1.682367e+12   \n",
       "648         648  6446e395da7c3649c9c2a485      1.682367e+12   \n",
       "649         649  6446eb8cda7c3649c9c2a535      1.682369e+12   \n",
       "\n",
       "     trial_finish_time condition   \n",
       "0         1.680297e+12      view  \\\n",
       "1                  NaN     build   \n",
       "2         1.680297e+12      view   \n",
       "3         1.680297e+12      view   \n",
       "4                  NaN     build   \n",
       "..                 ...       ...   \n",
       "645                NaN       NaN   \n",
       "646                NaN       NaN   \n",
       "647                NaN       NaN   \n",
       "648                NaN       NaN   \n",
       "649                NaN       NaN   \n",
       "\n",
       "                                              stimulus  response  trial_num   \n",
       "0    {'blocks': [{'x': 0, 'y': 0, 'height': 1, 'wid...       NaN          1  \\\n",
       "1    {'blocks': [{'x': 0, 'y': 0, 'height': 1, 'wid...       NaN          2   \n",
       "2    {'blocks': [{'x': 1, 'y': 0, 'height': 2, 'wid...       NaN          3   \n",
       "3    {'blocks': [{'x': 0, 'y': 0, 'height': 2, 'wid...       NaN          4   \n",
       "4    {'blocks': [{'x': 0, 'y': 0, 'height': 1, 'wid...       NaN          5   \n",
       "..                                                 ...       ...        ...   \n",
       "645                                                NaN       NaN         13   \n",
       "646                                                NaN       NaN         61   \n",
       "647                                                NaN       NaN         13   \n",
       "648                                                NaN       NaN         13   \n",
       "649                                                NaN       NaN         13   \n",
       "\n",
       "                                             block_str       tower_id  ...   \n",
       "0    0000000000000000101000001010000011110000100100...  talls_114_111  ...  \\\n",
       "1    0000000000000000010100000101000011110000011000...  talls_097_100  ...   \n",
       "2    0000000000000000110100000101000001110000111100...  talls_121_101  ...   \n",
       "3    0000000000000000011100000110000011100000111100...  talls_102_126  ...   \n",
       "4    0000000000000000111000000110000001110000011000...  talls_118_114  ...   \n",
       "..                                                 ...            ...  ...   \n",
       "645                                                NaN            NaN  ...   \n",
       "646                                                NaN            NaN  ...   \n",
       "647                                                NaN            NaN  ...   \n",
       "648                                                NaN            NaN  ...   \n",
       "649                                                NaN            NaN  ...   \n",
       "\n",
       "     eventType                           endReason relative_time  rep   \n",
       "0          NaN                                 NaN           NaN  NaN  \\\n",
       "1    trial_end  perfect-reconstruction-translation       59538.0  1.0   \n",
       "2          NaN                                 NaN           NaN  NaN   \n",
       "3          NaN                                 NaN           NaN  NaN   \n",
       "4    trial_end  perfect-reconstruction-translation       34840.0  1.0   \n",
       "..         ...                                 ...           ...  ...   \n",
       "645        NaN                                 NaN           NaN  NaN   \n",
       "646        NaN                                 NaN           NaN  NaN   \n",
       "647        NaN                                 NaN           NaN  NaN   \n",
       "648        NaN                                 NaN           NaN  NaN   \n",
       "649        NaN                                 NaN           NaN  NaN   \n",
       "\n",
       "    n_resets absolute_time total_recall_time   \n",
       "0        NaN           NaN               NaN  \\\n",
       "1        1.0           NaN               NaN   \n",
       "2        NaN           NaN               NaN   \n",
       "3        NaN           NaN               NaN   \n",
       "4        0.0           NaN               NaN   \n",
       "..       ...           ...               ...   \n",
       "645      1.0  1.682367e+12          492318.0   \n",
       "646      1.0  1.682367e+12          283988.0   \n",
       "647      1.0  1.682367e+12          733328.0   \n",
       "648      0.0  1.682367e+12          135673.0   \n",
       "649      3.0  1.682369e+12          170796.0   \n",
       "\n",
       "                                      submitted_towers   \n",
       "0                                                  NaN  \\\n",
       "1                                                  NaN   \n",
       "2                                                  NaN   \n",
       "3                                                  NaN   \n",
       "4                                                  NaN   \n",
       "..                                                 ...   \n",
       "645  [{'towerDetails': {'blocks': [{'x': 4, 'y': 0,...   \n",
       "646  [{'towerDetails': {'blocks': [{'x': 3, 'y': 0,...   \n",
       "647  [{'towerDetails': {'blocks': [{'x': 4, 'y': 0,...   \n",
       "648  [{'towerDetails': {'blocks': [{'x': 4, 'y': 0,...   \n",
       "649  [{'towerDetails': {'blocks': [{'x': 6, 'y': 0,...   \n",
       "\n",
       "                                   concatenated_towers n_towers  \n",
       "0                                                  NaN      NaN  \n",
       "1                                                  NaN      NaN  \n",
       "2                                                  NaN      NaN  \n",
       "3                                                  NaN      NaN  \n",
       "4                                                  NaN      NaN  \n",
       "..                                                 ...      ...  \n",
       "645  [{'height': 2, 'width': 1, 'x': 0, 'y': 0}, {'...      6.0  \n",
       "646  [{'height': 1, 'width': 2, 'x': 0, 'y': 0}, {'...      4.0  \n",
       "647  [{'height': 2, 'width': 1, 'x': 1, 'y': 0}, {'...      6.0  \n",
       "648  [{'height': 2, 'width': 1, 'x': 1, 'y': 0}, {'...      4.0  \n",
       "649  [{'height': 2, 'width': 1, 'x': 4, 'y': 0}, {'...      6.0  \n",
       "\n",
       "[650 rows x 40 columns]"
      ]
     },
     "execution_count": 53,
     "metadata": {},
     "output_type": "execute_result"
    }
   ],
   "source": [
    "df_trial = pd.read_csv(experiment_results_dir + '/df_trial_{}.csv'.format(iteration_name))\n",
    "df_trial"
   ]
  },
  {
   "cell_type": "code",
   "execution_count": null,
   "id": "903119c5",
   "metadata": {},
   "outputs": [],
   "source": []
  }
 ],
 "metadata": {
  "kernelspec": {
   "display_name": "Python 3 (ipykernel)",
   "language": "python",
   "name": "python3"
  },
  "language_info": {
   "codemirror_mode": {
    "name": "ipython",
    "version": 3
   },
   "file_extension": ".py",
   "mimetype": "text/x-python",
   "name": "python",
   "nbconvert_exporter": "python",
   "pygments_lexer": "ipython3",
   "version": "3.9.16"
  }
 },
 "nbformat": 4,
 "nbformat_minor": 5
}
